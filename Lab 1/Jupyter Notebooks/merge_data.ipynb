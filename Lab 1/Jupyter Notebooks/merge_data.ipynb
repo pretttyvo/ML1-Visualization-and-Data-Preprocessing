{
 "cells": [
  {
   "cell_type": "markdown",
   "metadata": {},
   "source": [
    "Merge Murder Accountability Project (MAP) FBI Return A text files"
   ]
  },
  {
   "cell_type": "code",
   "execution_count": 1,
   "metadata": {},
   "outputs": [],
   "source": [
    "import pandas as pd\n",
    "import struct\n",
    "import sys\n",
    "import glob\n",
    "import numpy as np"
   ]
  },
  {
   "cell_type": "markdown",
   "metadata": {},
   "source": [
    "Step 1: Parse data from fixed-width files\n",
    "The code in this step is largely adopted from Donald Braman's Return A conversion scripts — specifically schemagenerating.py and fwf2psv.py.\n",
    "\n",
    "Convert the FBI's textual representation of numbers into integers. The schema for the fixed-width files is available in the Ret A Rec Descrip.pdf."
   ]
  },
  {
   "cell_type": "code",
   "execution_count": 2,
   "metadata": {},
   "outputs": [],
   "source": [
    "file_header_widths = [\n",
    "    1, 2, 7, 2, 1, 2, 5, 2, 1, 7, 1,\n",
    "    6, 4, 2, 1, 9, 3, 3, 9, 3, 3, 9,\n",
    "    3, 3, 9, 9, 9, 1, 1, 1, 1, 24, 6,\n",
    "    30, 30, 30, 30, 5, 1, 29\n",
    "]\n",
    "\n",
    "monthly_header_widths = [\n",
    "    2, 6, 1, 1, 1, 1, 1, 1, 1, 1, 1\n",
    "] \n",
    "\n",
    "cards_0123_widths = [\n",
    "    5, 5, 5, 5, 5, 5, 5, 5, 5, 5, 5,\n",
    "    5, 5, 5, 5, 5, 5, 5, 5, 5, 5, 5,\n",
    "    5, 5, 5, 5, 5, 5\n",
    "] \n",
    "\n",
    "card_4_widths = [\n",
    "    3, 3, 7\n",
    "]"
   ]
  },
  {
   "cell_type": "code",
   "execution_count": 3,
   "metadata": {},
   "outputs": [],
   "source": [
    "mw =  monthly_header_widths + cards_0123_widths * 4 + card_4_widths\n",
    "field_widths = file_header_widths + mw * 12"
   ]
  },
  {
   "cell_type": "code",
   "execution_count": 4,
   "metadata": {},
   "outputs": [],
   "source": [
    "assert sum(field_widths) == 7385"
   ]
  },
  {
   "cell_type": "code",
   "execution_count": 5,
   "metadata": {},
   "outputs": [],
   "source": [
    "file_header_names = [\n",
    "    \"id\", \"state\", \"agency_ori_7\", \"ori_group\", \"division\", \n",
    "    \"year\", \"sequence\", \"juv_age\", \"core_ci\", \"covered_by\", \"covered_by_group\", \n",
    "    \"last_update\", \"field_office\", \"num_months\", \"agency_count\",\n",
    "    \"pop1\", \"county1\", \"msa1\", \n",
    "    \"pop2\", \"county2\", \"msa2\", \n",
    "    \"pop3\", \"county3\", \"msa3\",\n",
    "    \"county1_pop\", \"county2_pop\", \"county3_pop\", \n",
    "    \"pop_source\", \n",
    "    \"follow_up\", \"special_mail_group\", \"special_mail_addr\",\n",
    "    \"agency_name\", \"agency_state\", \n",
    "    \"address1\", \"address2\", \"address3\", \"address4\", \"zip\",\n",
    "    \"old_pop_group\",\n",
    "    \"unused_header\"\n",
    "]\n",
    "\n",
    "monthly_header_names = [\n",
    "    \"month_in\", \"date_last_update\", \n",
    "    \"card_0_type\", \"card_1_type\", \"card_2_type\", \"card_3_type\", \"card_4_type\", \n",
    "    \"card_0_pt\", \"card_1_pt\", \"card_2_pt\", \"card_3_pt\"\n",
    "]\n",
    "\n",
    "crime_card_prefixes = [\n",
    "    \"unfounded_\",\n",
    "    \"actual_\",\n",
    "    \"cleared_\",\n",
    "    \"cleared_u18_\"\n",
    "]\n",
    "\n",
    "cards_0123_names = [\n",
    "    \"murder\",\n",
    "    \"manslaughter\",\n",
    "    \"rape_total\", \"rape_by_force\",  \"rape_attempt\",\n",
    "    \"robbery_total\", \"robbery_gun\", \"robbery_knife\", \"robbery_othweap\",  \"robbery_strong_arm\",\n",
    "    \"assault_total\", \"assault_gun\", \"assault_knife\", \"assault_othweap\", \"assault_hands\", \"assault_simple\", \n",
    "    \"burglary_total\", \"burglary_forcible_entry\", \"burglary_no_forcible_entry\", \"burglary_attempt\",\n",
    "    \"larceny\", \"motor_vehicle_theft\", \"auto_theft\", \"truck_bus_theft\", \"other_vehicle_theft\", \n",
    "    \"total_all_fields\", \"larceny_under_50_dollars\", \"unused\"\n",
    "]"
   ]
  },
  {
   "cell_type": "code",
   "execution_count": 6,
   "metadata": {},
   "outputs": [],
   "source": [
    "cards = [\n",
    "    prefix + offense\n",
    "        for prefix in crime_card_prefixes\n",
    "              for offense in cards_0123_names\n",
    "]\n",
    "\n",
    "card_4_names = [\n",
    "    \"officers_killed_felony\",\n",
    "    \"officers_killed_accident\",\n",
    "    \"officers_assaulted\"\n",
    "]\n",
    "\n",
    "card_names = monthly_header_names + cards + card_4_names\n",
    "\n",
    "month_prefixes = [\n",
    "    \"jan_\", \"feb_\", \"mar_\", \"apr_\", \"may_\", \"jun_\",\n",
    "    \"jul_\", \"aug_\", \"sep_\", \"oct_\", \"nov_\", \"dec_\"\n",
    "]\n",
    "\n",
    "twelve_cards = [\n",
    "    month + cn\n",
    "        for month in month_prefixes\n",
    "            for cn in card_names\n",
    "]\n",
    "\n",
    "field_names = file_header_names + twelve_cards"
   ]
  },
  {
   "cell_type": "code",
   "execution_count": 7,
   "metadata": {},
   "outputs": [],
   "source": [
    "assert len(field_names) == len(field_widths)"
   ]
  },
  {
   "cell_type": "code",
   "execution_count": 8,
   "metadata": {},
   "outputs": [
    {
     "data": {
      "text/plain": [
       "175"
      ]
     },
     "execution_count": 8,
     "metadata": {},
     "output_type": "execute_result"
    }
   ],
   "source": [
    "cols_trimmed = [ c for c in field_names if (\n",
    "    c in [ \"year\", \"agency_ori_7\", \"agency_name\", \"ori_group\", \"pop1\", \"pop2\", \"pop3\" ]\n",
    "    or ((\n",
    "        \"_cleared_\" in c\n",
    "        or \"_actual_\" in c\n",
    "    ) and (\"murder\" in c or \"assault\" in c) and (\"18\" not in c))\n",
    ") ]\n",
    "\n",
    "len(cols_trimmed)"
   ]
  },
  {
   "cell_type": "code",
   "execution_count": 9,
   "metadata": {},
   "outputs": [
    {
     "data": {
      "text/plain": [
       "['agency_ori_7', 'ori_group', 'year']"
      ]
     },
     "execution_count": 9,
     "metadata": {},
     "output_type": "execute_result"
    }
   ],
   "source": [
    "cols_trimmed[:3]"
   ]
  },
  {
   "cell_type": "code",
   "execution_count": 10,
   "metadata": {},
   "outputs": [
    {
     "data": {
      "text/plain": [
       "[2, 3, 5]"
      ]
     },
     "execution_count": 10,
     "metadata": {},
     "output_type": "execute_result"
    }
   ],
   "source": [
    "trimmed_indexes = [ field_names.index(c) for c in cols_trimmed ]\n",
    "trimmed_indexes[:3]"
   ]
  },
  {
   "cell_type": "code",
   "execution_count": 11,
   "metadata": {},
   "outputs": [],
   "source": [
    "# Make sure records are in correct order\n",
    "assert (\n",
    "    pd.Series(trimmed_indexes) - pd.Series(trimmed_indexes).shift(1)\n",
    ").loc[lambda x: x < 0].pipe(len) == 0"
   ]
  },
  {
   "cell_type": "code",
   "execution_count": 12,
   "metadata": {},
   "outputs": [],
   "source": [
    "def build_parser():\n",
    "    total_width = sum(field_widths)\n",
    "    fmtstring = \" \".join(\"{}s\".format(fw) for fw in field_widths)\n",
    "    fieldstruct = struct.Struct(fmtstring)\n",
    "    parse_bytes = fieldstruct.unpack_from\n",
    "        \n",
    "    def parse_line(line):\n",
    "        line = line.strip().replace(b\"\\x00\", b\"\")\n",
    "        line = line + b\" \" * (total_width - len(line))\n",
    "        return [ x.strip().decode(\"latin-1\") for i, x in enumerate(parse_bytes(line))\n",
    "            if i in trimmed_indexes ]\n",
    "\n",
    "    return parse_line\n",
    "\n",
    "parser = build_parser()"
   ]
  },
  {
   "cell_type": "code",
   "execution_count": 13,
   "metadata": {},
   "outputs": [],
   "source": [
    "def convert_year(year_str):\n",
    "    year_int = int(year_str)\n",
    "    if year_int < 60: return 2000 + year_int\n",
    "    else: return 1900 + year_int"
   ]
  },
  {
   "cell_type": "code",
   "execution_count": 14,
   "metadata": {},
   "outputs": [],
   "source": [
    "NEGATIVE_SYMBOLS = \"}JKLMNOPQR\""
   ]
  },
  {
   "cell_type": "code",
   "execution_count": 15,
   "metadata": {},
   "outputs": [],
   "source": [
    "def parse_reta_num_string(num_string):\n",
    "    try: return int(num_string)\n",
    "    except:\n",
    "        base = (-10 * int(num_string[:-1]))\n",
    "        return base - NEGATIVE_SYMBOLS.index(num_string[-1])"
   ]
  },
  {
   "cell_type": "code",
   "execution_count": 16,
   "metadata": {},
   "outputs": [
    {
     "data": {
      "text/plain": [
       "-11"
      ]
     },
     "execution_count": 16,
     "metadata": {},
     "output_type": "execute_result"
    }
   ],
   "source": [
    "parse_reta_num_string(\"00001J\")"
   ]
  },
  {
   "cell_type": "code",
   "execution_count": 17,
   "metadata": {},
   "outputs": [],
   "source": [
    "def parse_file(path):\n",
    "    sys.stderr.write(f\"Parsing {path}\\n\")\n",
    "    sys.stderr.flush()\n",
    "    df = (\n",
    "        pd.DataFrame(\n",
    "            list(map(parser, open(path, \"rb\"))),\n",
    "            columns = cols_trimmed\n",
    "        )\n",
    "        .replace(\"\", np.nan)\n",
    "        .dropna(subset = [ \"agency_ori_7\", \"year\" ])\n",
    "    )\n",
    "    df[\"year\"] = df[\"year\"].apply(convert_year)\n",
    "    \n",
    "    for col in df.columns:\n",
    "        if \"pop\" in col[:3]:\n",
    "            df[col] = df[col].astype(int)\n",
    "        elif \"_actual_\" in col or \"_cleared_\" in col:\n",
    "            df[col] = df[col].apply(parse_reta_num_string).astype(int)\n",
    "        else:\n",
    "            pass\n",
    "        \n",
    "    return df"
   ]
  },
  {
   "cell_type": "code",
   "execution_count": 18,
   "metadata": {},
   "outputs": [
    {
     "name": "stderr",
     "output_type": "stream",
     "text": [
      "Parsing ../Data/text_files/RETA1960.TXT\n",
      "Parsing ../Data/text_files/RETA1961.TXT\n",
      "Parsing ../Data/text_files/RETA1962.TXT\n",
      "Parsing ../Data/text_files/RETA1963.TXT\n",
      "Parsing ../Data/text_files/RETA1964.TXT\n",
      "Parsing ../Data/text_files/RETA1965.TXT\n",
      "Parsing ../Data/text_files/RETA1966.TXT\n",
      "Parsing ../Data/text_files/RETA1967.TXT\n",
      "Parsing ../Data/text_files/RETA1968.TXT\n",
      "Parsing ../Data/text_files/RETA1969.TXT\n",
      "Parsing ../Data/text_files/RETA1970.TXT\n",
      "Parsing ../Data/text_files/RETA1971.TXT\n",
      "Parsing ../Data/text_files/RETA1972.TXT\n",
      "Parsing ../Data/text_files/RETA1973.TXT\n",
      "Parsing ../Data/text_files/RETA1974.TXT\n",
      "Parsing ../Data/text_files/RETA1975.TXT\n",
      "Parsing ../Data/text_files/RETA1976.TXT\n",
      "Parsing ../Data/text_files/RETA1977.TXT\n",
      "Parsing ../Data/text_files/RETA1978.TXT\n",
      "Parsing ../Data/text_files/RETA1979.TXT\n",
      "Parsing ../Data/text_files/RETA1980.TXT\n",
      "Parsing ../Data/text_files/RETA1981.TXT\n",
      "Parsing ../Data/text_files/RETA1982.TXT\n",
      "Parsing ../Data/text_files/RETA1983.TXT\n",
      "Parsing ../Data/text_files/RETA1984.TXT\n",
      "Parsing ../Data/text_files/RETA1985.TXT\n",
      "Parsing ../Data/text_files/RETA1986.TXT\n",
      "Parsing ../Data/text_files/RETA1987.TXT\n",
      "Parsing ../Data/text_files/RETA1988.TXT\n",
      "Parsing ../Data/text_files/RETA1989.TXT\n",
      "Parsing ../Data/text_files/RETA1990.TXT\n",
      "Parsing ../Data/text_files/RETA1991.TXT\n",
      "Parsing ../Data/text_files/RETA1992.TXT\n",
      "Parsing ../Data/text_files/RETA1993.TXT\n",
      "Parsing ../Data/text_files/RETA1994.TXT\n",
      "Parsing ../Data/text_files/RETA1995.TXT\n",
      "Parsing ../Data/text_files/RETA1996.TXT\n",
      "Parsing ../Data/text_files/RETA1997.TXT\n",
      "Parsing ../Data/text_files/RETA1998.TXT\n",
      "Parsing ../Data/text_files/RETA1999.TXT\n",
      "Parsing ../Data/text_files/RETA2000.TXT\n",
      "Parsing ../Data/text_files/RETA2001.TXT\n",
      "Parsing ../Data/text_files/RETA2002.TXT\n",
      "Parsing ../Data/text_files/RETA2003.TXT\n",
      "Parsing ../Data/text_files/RETA2004.TXT\n",
      "Parsing ../Data/text_files/RETA2005.TXT\n",
      "Parsing ../Data/text_files/RETA2006.TXT\n",
      "Parsing ../Data/text_files/RETA2007.TXT\n",
      "Parsing ../Data/text_files/RETA2008.TXT\n",
      "Parsing ../Data/text_files/RETA2009.TXT\n",
      "Parsing ../Data/text_files/RETA2010.TXT\n",
      "Parsing ../Data/text_files/RETA2011.TXT\n",
      "Parsing ../Data/text_files/RETA2012.TXT\n",
      "Parsing ../Data/text_files/RETA2013.TXT\n",
      "Parsing ../Data/text_files/RETA2014.TXT\n",
      "Parsing ../Data/text_files/RETA2015.TXT\n",
      "Parsing ../Data/text_files/RETA2016.TXT\n",
      "Parsing ../Data/text_files/RETA2017.TXT\n"
     ]
    }
   ],
   "source": [
    "parsed = pd.DataFrame()\n",
    "for reta in range(1960,2018):\n",
    "    strReta = str(reta)\n",
    "    path = '../Data/text_files/RETA'+ strReta +'.TXT'\n",
    "    parsed = pd.concat([ parsed, parse_file(path) ])"
   ]
  },
  {
   "cell_type": "code",
   "execution_count": 19,
   "metadata": {},
   "outputs": [
    {
     "data": {
      "text/html": [
       "<div>\n",
       "<style scoped>\n",
       "    .dataframe tbody tr th:only-of-type {\n",
       "        vertical-align: middle;\n",
       "    }\n",
       "\n",
       "    .dataframe tbody tr th {\n",
       "        vertical-align: top;\n",
       "    }\n",
       "\n",
       "    .dataframe thead th {\n",
       "        text-align: right;\n",
       "    }\n",
       "</style>\n",
       "<table border=\"1\" class=\"dataframe\">\n",
       "  <thead>\n",
       "    <tr style=\"text-align: right;\">\n",
       "      <th></th>\n",
       "      <th>agency_ori_7</th>\n",
       "      <th>ori_group</th>\n",
       "      <th>year</th>\n",
       "      <th>pop1</th>\n",
       "      <th>pop2</th>\n",
       "      <th>pop3</th>\n",
       "      <th>agency_name</th>\n",
       "      <th>jan_actual_murder</th>\n",
       "      <th>jan_actual_assault_total</th>\n",
       "      <th>jan_actual_assault_gun</th>\n",
       "      <th>...</th>\n",
       "      <th>dec_actual_assault_othweap</th>\n",
       "      <th>dec_actual_assault_hands</th>\n",
       "      <th>dec_actual_assault_simple</th>\n",
       "      <th>dec_cleared_murder</th>\n",
       "      <th>dec_cleared_assault_total</th>\n",
       "      <th>dec_cleared_assault_gun</th>\n",
       "      <th>dec_cleared_assault_knife</th>\n",
       "      <th>dec_cleared_assault_othweap</th>\n",
       "      <th>dec_cleared_assault_hands</th>\n",
       "      <th>dec_cleared_assault_simple</th>\n",
       "    </tr>\n",
       "  </thead>\n",
       "  <tbody>\n",
       "    <tr>\n",
       "      <th>0</th>\n",
       "      <td>AL00100</td>\n",
       "      <td>9A</td>\n",
       "      <td>1960</td>\n",
       "      <td>165354</td>\n",
       "      <td>0</td>\n",
       "      <td>0</td>\n",
       "      <td>JEFFERSON</td>\n",
       "      <td>0</td>\n",
       "      <td>7</td>\n",
       "      <td>0</td>\n",
       "      <td>...</td>\n",
       "      <td>0</td>\n",
       "      <td>0</td>\n",
       "      <td>0</td>\n",
       "      <td>0</td>\n",
       "      <td>0</td>\n",
       "      <td>0</td>\n",
       "      <td>0</td>\n",
       "      <td>0</td>\n",
       "      <td>0</td>\n",
       "      <td>0</td>\n",
       "    </tr>\n",
       "    <tr>\n",
       "      <th>1</th>\n",
       "      <td>AL00101</td>\n",
       "      <td>4</td>\n",
       "      <td>1960</td>\n",
       "      <td>33054</td>\n",
       "      <td>0</td>\n",
       "      <td>0</td>\n",
       "      <td>BESSEMER</td>\n",
       "      <td>0</td>\n",
       "      <td>6</td>\n",
       "      <td>0</td>\n",
       "      <td>...</td>\n",
       "      <td>0</td>\n",
       "      <td>0</td>\n",
       "      <td>0</td>\n",
       "      <td>0</td>\n",
       "      <td>0</td>\n",
       "      <td>0</td>\n",
       "      <td>0</td>\n",
       "      <td>0</td>\n",
       "      <td>0</td>\n",
       "      <td>0</td>\n",
       "    </tr>\n",
       "    <tr>\n",
       "      <th>2</th>\n",
       "      <td>AL00102</td>\n",
       "      <td>1C</td>\n",
       "      <td>1960</td>\n",
       "      <td>340887</td>\n",
       "      <td>0</td>\n",
       "      <td>0</td>\n",
       "      <td>BIRMINGHAM</td>\n",
       "      <td>2</td>\n",
       "      <td>82</td>\n",
       "      <td>0</td>\n",
       "      <td>...</td>\n",
       "      <td>0</td>\n",
       "      <td>0</td>\n",
       "      <td>0</td>\n",
       "      <td>0</td>\n",
       "      <td>0</td>\n",
       "      <td>0</td>\n",
       "      <td>0</td>\n",
       "      <td>0</td>\n",
       "      <td>0</td>\n",
       "      <td>0</td>\n",
       "    </tr>\n",
       "    <tr>\n",
       "      <th>3</th>\n",
       "      <td>AL00103</td>\n",
       "      <td>5</td>\n",
       "      <td>1960</td>\n",
       "      <td>12680</td>\n",
       "      <td>0</td>\n",
       "      <td>0</td>\n",
       "      <td>MOUNTAIN BROOK</td>\n",
       "      <td>0</td>\n",
       "      <td>0</td>\n",
       "      <td>0</td>\n",
       "      <td>...</td>\n",
       "      <td>0</td>\n",
       "      <td>0</td>\n",
       "      <td>0</td>\n",
       "      <td>0</td>\n",
       "      <td>0</td>\n",
       "      <td>0</td>\n",
       "      <td>0</td>\n",
       "      <td>0</td>\n",
       "      <td>0</td>\n",
       "      <td>0</td>\n",
       "    </tr>\n",
       "    <tr>\n",
       "      <th>4</th>\n",
       "      <td>AL00104</td>\n",
       "      <td>5</td>\n",
       "      <td>1960</td>\n",
       "      <td>15816</td>\n",
       "      <td>0</td>\n",
       "      <td>0</td>\n",
       "      <td>FAIRFIELD</td>\n",
       "      <td>0</td>\n",
       "      <td>4</td>\n",
       "      <td>0</td>\n",
       "      <td>...</td>\n",
       "      <td>0</td>\n",
       "      <td>0</td>\n",
       "      <td>0</td>\n",
       "      <td>0</td>\n",
       "      <td>0</td>\n",
       "      <td>0</td>\n",
       "      <td>0</td>\n",
       "      <td>0</td>\n",
       "      <td>0</td>\n",
       "      <td>0</td>\n",
       "    </tr>\n",
       "  </tbody>\n",
       "</table>\n",
       "<p>5 rows × 175 columns</p>\n",
       "</div>"
      ],
      "text/plain": [
       "  agency_ori_7 ori_group  year    pop1  pop2  pop3     agency_name  \\\n",
       "0      AL00100        9A  1960  165354     0     0       JEFFERSON   \n",
       "1      AL00101         4  1960   33054     0     0        BESSEMER   \n",
       "2      AL00102        1C  1960  340887     0     0      BIRMINGHAM   \n",
       "3      AL00103         5  1960   12680     0     0  MOUNTAIN BROOK   \n",
       "4      AL00104         5  1960   15816     0     0       FAIRFIELD   \n",
       "\n",
       "   jan_actual_murder  jan_actual_assault_total  jan_actual_assault_gun  ...  \\\n",
       "0                  0                         7                       0  ...   \n",
       "1                  0                         6                       0  ...   \n",
       "2                  2                        82                       0  ...   \n",
       "3                  0                         0                       0  ...   \n",
       "4                  0                         4                       0  ...   \n",
       "\n",
       "   dec_actual_assault_othweap  dec_actual_assault_hands  \\\n",
       "0                           0                         0   \n",
       "1                           0                         0   \n",
       "2                           0                         0   \n",
       "3                           0                         0   \n",
       "4                           0                         0   \n",
       "\n",
       "   dec_actual_assault_simple  dec_cleared_murder  dec_cleared_assault_total  \\\n",
       "0                          0                   0                          0   \n",
       "1                          0                   0                          0   \n",
       "2                          0                   0                          0   \n",
       "3                          0                   0                          0   \n",
       "4                          0                   0                          0   \n",
       "\n",
       "   dec_cleared_assault_gun  dec_cleared_assault_knife  \\\n",
       "0                        0                          0   \n",
       "1                        0                          0   \n",
       "2                        0                          0   \n",
       "3                        0                          0   \n",
       "4                        0                          0   \n",
       "\n",
       "   dec_cleared_assault_othweap  dec_cleared_assault_hands  \\\n",
       "0                            0                          0   \n",
       "1                            0                          0   \n",
       "2                            0                          0   \n",
       "3                            0                          0   \n",
       "4                            0                          0   \n",
       "\n",
       "   dec_cleared_assault_simple  \n",
       "0                           0  \n",
       "1                           0  \n",
       "2                           0  \n",
       "3                           0  \n",
       "4                           0  \n",
       "\n",
       "[5 rows x 175 columns]"
      ]
     },
     "execution_count": 19,
     "metadata": {},
     "output_type": "execute_result"
    }
   ],
   "source": [
    "parsed.head()"
   ]
  },
  {
   "cell_type": "markdown",
   "metadata": {},
   "source": [
    "Step 2: Fix apparent ORI errors\n",
    "\n",
    "In this step, we fix a few rows where an agency's ORI code appears to be mislabeled, based on duplicate entries for the same ORI."
   ]
  },
  {
   "cell_type": "code",
   "execution_count": 20,
   "metadata": {},
   "outputs": [],
   "source": [
    "def fix_errors(df):\n",
    "\n",
    "    df.loc[(\n",
    "        (df[\"agency_ori_7\"] == \"VA02101\") &\n",
    "        (df[\"year\"].isin([ 1967, 1970 ])) &\n",
    "        (df[\"ori_group\"] == \"9D\")\n",
    "    ), \"agency_ori_7\"] = \"VA021SP\"\n",
    "\n",
    "    df.loc[(\n",
    "        (df[\"agency_ori_7\"] == \"SC02901\") &\n",
    "        (df[\"year\"] == 1972) &\n",
    "        (df[\"ori_group\"] == \"9A\")\n",
    "    ), \"agency_ori_7\"] = \"VA02901\"\n",
    "\n",
    "    return df"
   ]
  },
  {
   "cell_type": "code",
   "execution_count": 21,
   "metadata": {},
   "outputs": [],
   "source": [
    "parsed = fix_errors(parsed)"
   ]
  },
  {
   "cell_type": "code",
   "execution_count": 22,
   "metadata": {},
   "outputs": [
    {
     "data": {
      "text/plain": [
       "32"
      ]
     },
     "execution_count": 22,
     "metadata": {},
     "output_type": "execute_result"
    }
   ],
   "source": [
    "parsed.duplicated(subset = [ \"year\", \"agency_ori_7\" ]).sum()"
   ]
  },
  {
   "cell_type": "markdown",
   "metadata": {},
   "source": [
    "Step 3: Extract and save agency-year metadata"
   ]
  },
  {
   "cell_type": "code",
   "execution_count": 23,
   "metadata": {},
   "outputs": [],
   "source": [
    "agency_metadata = (\n",
    "    parsed\n",
    "    [[\n",
    "        \"year\",\n",
    "        \"agency_ori_7\",\n",
    "        \"agency_name\",\n",
    "        \"ori_group\",\n",
    "        \"pop1\",\n",
    "        \"pop2\",\n",
    "        \"pop3\"\n",
    "    ]]\n",
    "    .drop_duplicates()\n",
    "    .astype({\n",
    "        \"pop1\": int,\n",
    "        \"pop2\": int,\n",
    "        \"pop3\": int\n",
    "    })\n",
    ")"
   ]
  },
  {
   "cell_type": "code",
   "execution_count": 24,
   "metadata": {},
   "outputs": [
    {
     "data": {
      "text/html": [
       "<div>\n",
       "<style scoped>\n",
       "    .dataframe tbody tr th:only-of-type {\n",
       "        vertical-align: middle;\n",
       "    }\n",
       "\n",
       "    .dataframe tbody tr th {\n",
       "        vertical-align: top;\n",
       "    }\n",
       "\n",
       "    .dataframe thead th {\n",
       "        text-align: right;\n",
       "    }\n",
       "</style>\n",
       "<table border=\"1\" class=\"dataframe\">\n",
       "  <thead>\n",
       "    <tr style=\"text-align: right;\">\n",
       "      <th></th>\n",
       "      <th>year</th>\n",
       "      <th>agency_ori_7</th>\n",
       "      <th>agency_name</th>\n",
       "      <th>ori_group</th>\n",
       "      <th>pop1</th>\n",
       "      <th>pop2</th>\n",
       "      <th>pop3</th>\n",
       "    </tr>\n",
       "  </thead>\n",
       "  <tbody>\n",
       "    <tr>\n",
       "      <th>0</th>\n",
       "      <td>1960</td>\n",
       "      <td>AL00100</td>\n",
       "      <td>JEFFERSON</td>\n",
       "      <td>9A</td>\n",
       "      <td>165354</td>\n",
       "      <td>0</td>\n",
       "      <td>0</td>\n",
       "    </tr>\n",
       "    <tr>\n",
       "      <th>1</th>\n",
       "      <td>1960</td>\n",
       "      <td>AL00101</td>\n",
       "      <td>BESSEMER</td>\n",
       "      <td>4</td>\n",
       "      <td>33054</td>\n",
       "      <td>0</td>\n",
       "      <td>0</td>\n",
       "    </tr>\n",
       "    <tr>\n",
       "      <th>2</th>\n",
       "      <td>1960</td>\n",
       "      <td>AL00102</td>\n",
       "      <td>BIRMINGHAM</td>\n",
       "      <td>1C</td>\n",
       "      <td>340887</td>\n",
       "      <td>0</td>\n",
       "      <td>0</td>\n",
       "    </tr>\n",
       "    <tr>\n",
       "      <th>3</th>\n",
       "      <td>1960</td>\n",
       "      <td>AL00103</td>\n",
       "      <td>MOUNTAIN BROOK</td>\n",
       "      <td>5</td>\n",
       "      <td>12680</td>\n",
       "      <td>0</td>\n",
       "      <td>0</td>\n",
       "    </tr>\n",
       "    <tr>\n",
       "      <th>4</th>\n",
       "      <td>1960</td>\n",
       "      <td>AL00104</td>\n",
       "      <td>FAIRFIELD</td>\n",
       "      <td>5</td>\n",
       "      <td>15816</td>\n",
       "      <td>0</td>\n",
       "      <td>0</td>\n",
       "    </tr>\n",
       "  </tbody>\n",
       "</table>\n",
       "</div>"
      ],
      "text/plain": [
       "   year agency_ori_7     agency_name ori_group    pop1  pop2  pop3\n",
       "0  1960      AL00100       JEFFERSON        9A  165354     0     0\n",
       "1  1960      AL00101        BESSEMER         4   33054     0     0\n",
       "2  1960      AL00102      BIRMINGHAM        1C  340887     0     0\n",
       "3  1960      AL00103  MOUNTAIN BROOK         5   12680     0     0\n",
       "4  1960      AL00104       FAIRFIELD         5   15816     0     0"
      ]
     },
     "execution_count": 24,
     "metadata": {},
     "output_type": "execute_result"
    }
   ],
   "source": [
    "agency_metadata.head()"
   ]
  },
  {
   "cell_type": "code",
   "execution_count": 25,
   "metadata": {},
   "outputs": [],
   "source": [
    "(\n",
    "    agency_metadata\n",
    "    .to_csv(\n",
    "        \"reta-agency-metadata.csv\",\n",
    "        index = False\n",
    "    )\n",
    ")"
   ]
  },
  {
   "cell_type": "code",
   "execution_count": null,
   "metadata": {},
   "outputs": [],
   "source": [
    "parsed.to_csv(\"reta-all.csv\",index = False)"
   ]
  },
  {
   "cell_type": "markdown",
   "metadata": {},
   "source": [
    "Step 4: Summarize into annual counts\n",
    "\n",
    "Note: In this step, we convert the \"wide\" structure of the data into an easier-to-analyze structure."
   ]
  },
  {
   "cell_type": "code",
   "execution_count": 28,
   "metadata": {},
   "outputs": [
    {
     "ename": "MemoryError",
     "evalue": "Unable to allocate 2.40 GiB for an array with shape (2, 161364168) and data type object",
     "output_type": "error",
     "traceback": [
      "\u001b[1;31m---------------------------------------------------------------------------\u001b[0m",
      "\u001b[1;31mMemoryError\u001b[0m                               Traceback (most recent call last)",
      "\u001b[1;32m<ipython-input-28-0b8bca0a4388>\u001b[0m in \u001b[0;36m<module>\u001b[1;34m\u001b[0m\n\u001b[0;32m      1\u001b[0m tidy_counts = (\n\u001b[1;32m----> 2\u001b[1;33m     \u001b[0mparsed\u001b[0m\u001b[1;33m\u001b[0m\u001b[1;33m\u001b[0m\u001b[0m\n\u001b[0m\u001b[0;32m      3\u001b[0m     .melt(\n\u001b[0;32m      4\u001b[0m         \u001b[0mid_vars\u001b[0m \u001b[1;33m=\u001b[0m \u001b[1;33m[\u001b[0m \u001b[1;34m\"agency_ori_7\"\u001b[0m\u001b[1;33m,\u001b[0m \u001b[1;34m\"year\"\u001b[0m \u001b[1;33m]\u001b[0m\u001b[1;33m,\u001b[0m\u001b[1;33m\u001b[0m\u001b[1;33m\u001b[0m\u001b[0m\n\u001b[0;32m      5\u001b[0m         value_vars = [ c for c in parsed.columns\n",
      "\u001b[1;32mc:\\ProgramData\\Anaconda3\\envs\\MSDS7331\\lib\\site-packages\\pandas\\core\\frame.py\u001b[0m in \u001b[0;36mmelt\u001b[1;34m(self, id_vars, value_vars, var_name, value_name, col_level, ignore_index)\u001b[0m\n\u001b[0;32m   7153\u001b[0m     ) -> \"DataFrame\":\n\u001b[0;32m   7154\u001b[0m \u001b[1;33m\u001b[0m\u001b[0m\n\u001b[1;32m-> 7155\u001b[1;33m         return melt(\n\u001b[0m\u001b[0;32m   7156\u001b[0m             \u001b[0mself\u001b[0m\u001b[1;33m,\u001b[0m\u001b[1;33m\u001b[0m\u001b[1;33m\u001b[0m\u001b[0m\n\u001b[0;32m   7157\u001b[0m             \u001b[0mid_vars\u001b[0m\u001b[1;33m=\u001b[0m\u001b[0mid_vars\u001b[0m\u001b[1;33m,\u001b[0m\u001b[1;33m\u001b[0m\u001b[1;33m\u001b[0m\u001b[0m\n",
      "\u001b[1;32mc:\\ProgramData\\Anaconda3\\envs\\MSDS7331\\lib\\site-packages\\pandas\\core\\reshape\\melt.py\u001b[0m in \u001b[0;36mmelt\u001b[1;34m(frame, id_vars, value_vars, var_name, value_name, col_level, ignore_index)\u001b[0m\n\u001b[0;32m    134\u001b[0m         \u001b[0mmdata\u001b[0m\u001b[1;33m[\u001b[0m\u001b[0mcol\u001b[0m\u001b[1;33m]\u001b[0m \u001b[1;33m=\u001b[0m \u001b[0mnp\u001b[0m\u001b[1;33m.\u001b[0m\u001b[0masanyarray\u001b[0m\u001b[1;33m(\u001b[0m\u001b[0mframe\u001b[0m\u001b[1;33m.\u001b[0m\u001b[0mcolumns\u001b[0m\u001b[1;33m.\u001b[0m\u001b[0m_get_level_values\u001b[0m\u001b[1;33m(\u001b[0m\u001b[0mi\u001b[0m\u001b[1;33m)\u001b[0m\u001b[1;33m)\u001b[0m\u001b[1;33m.\u001b[0m\u001b[0mrepeat\u001b[0m\u001b[1;33m(\u001b[0m\u001b[0mN\u001b[0m\u001b[1;33m)\u001b[0m\u001b[1;33m\u001b[0m\u001b[1;33m\u001b[0m\u001b[0m\n\u001b[0;32m    135\u001b[0m \u001b[1;33m\u001b[0m\u001b[0m\n\u001b[1;32m--> 136\u001b[1;33m     \u001b[0mresult\u001b[0m \u001b[1;33m=\u001b[0m \u001b[0mframe\u001b[0m\u001b[1;33m.\u001b[0m\u001b[0m_constructor\u001b[0m\u001b[1;33m(\u001b[0m\u001b[0mmdata\u001b[0m\u001b[1;33m,\u001b[0m \u001b[0mcolumns\u001b[0m\u001b[1;33m=\u001b[0m\u001b[0mmcolumns\u001b[0m\u001b[1;33m)\u001b[0m\u001b[1;33m\u001b[0m\u001b[1;33m\u001b[0m\u001b[0m\n\u001b[0m\u001b[0;32m    137\u001b[0m \u001b[1;33m\u001b[0m\u001b[0m\n\u001b[0;32m    138\u001b[0m     \u001b[1;32mif\u001b[0m \u001b[1;32mnot\u001b[0m \u001b[0mignore_index\u001b[0m\u001b[1;33m:\u001b[0m\u001b[1;33m\u001b[0m\u001b[1;33m\u001b[0m\u001b[0m\n",
      "\u001b[1;32mc:\\ProgramData\\Anaconda3\\envs\\MSDS7331\\lib\\site-packages\\pandas\\core\\frame.py\u001b[0m in \u001b[0;36m__init__\u001b[1;34m(self, data, index, columns, dtype, copy)\u001b[0m\n\u001b[0;32m    465\u001b[0m \u001b[1;33m\u001b[0m\u001b[0m\n\u001b[0;32m    466\u001b[0m         \u001b[1;32melif\u001b[0m \u001b[0misinstance\u001b[0m\u001b[1;33m(\u001b[0m\u001b[0mdata\u001b[0m\u001b[1;33m,\u001b[0m \u001b[0mdict\u001b[0m\u001b[1;33m)\u001b[0m\u001b[1;33m:\u001b[0m\u001b[1;33m\u001b[0m\u001b[1;33m\u001b[0m\u001b[0m\n\u001b[1;32m--> 467\u001b[1;33m             \u001b[0mmgr\u001b[0m \u001b[1;33m=\u001b[0m \u001b[0minit_dict\u001b[0m\u001b[1;33m(\u001b[0m\u001b[0mdata\u001b[0m\u001b[1;33m,\u001b[0m \u001b[0mindex\u001b[0m\u001b[1;33m,\u001b[0m \u001b[0mcolumns\u001b[0m\u001b[1;33m,\u001b[0m \u001b[0mdtype\u001b[0m\u001b[1;33m=\u001b[0m\u001b[0mdtype\u001b[0m\u001b[1;33m)\u001b[0m\u001b[1;33m\u001b[0m\u001b[1;33m\u001b[0m\u001b[0m\n\u001b[0m\u001b[0;32m    468\u001b[0m         \u001b[1;32melif\u001b[0m \u001b[0misinstance\u001b[0m\u001b[1;33m(\u001b[0m\u001b[0mdata\u001b[0m\u001b[1;33m,\u001b[0m \u001b[0mma\u001b[0m\u001b[1;33m.\u001b[0m\u001b[0mMaskedArray\u001b[0m\u001b[1;33m)\u001b[0m\u001b[1;33m:\u001b[0m\u001b[1;33m\u001b[0m\u001b[1;33m\u001b[0m\u001b[0m\n\u001b[0;32m    469\u001b[0m             \u001b[1;32mimport\u001b[0m \u001b[0mnumpy\u001b[0m\u001b[1;33m.\u001b[0m\u001b[0mma\u001b[0m\u001b[1;33m.\u001b[0m\u001b[0mmrecords\u001b[0m \u001b[1;32mas\u001b[0m \u001b[0mmrecords\u001b[0m\u001b[1;33m\u001b[0m\u001b[1;33m\u001b[0m\u001b[0m\n",
      "\u001b[1;32mc:\\ProgramData\\Anaconda3\\envs\\MSDS7331\\lib\\site-packages\\pandas\\core\\internals\\construction.py\u001b[0m in \u001b[0;36minit_dict\u001b[1;34m(data, index, columns, dtype)\u001b[0m\n\u001b[0;32m    281\u001b[0m             \u001b[0marr\u001b[0m \u001b[1;32mif\u001b[0m \u001b[1;32mnot\u001b[0m \u001b[0mis_datetime64tz_dtype\u001b[0m\u001b[1;33m(\u001b[0m\u001b[0marr\u001b[0m\u001b[1;33m)\u001b[0m \u001b[1;32melse\u001b[0m \u001b[0marr\u001b[0m\u001b[1;33m.\u001b[0m\u001b[0mcopy\u001b[0m\u001b[1;33m(\u001b[0m\u001b[1;33m)\u001b[0m \u001b[1;32mfor\u001b[0m \u001b[0marr\u001b[0m \u001b[1;32min\u001b[0m \u001b[0marrays\u001b[0m\u001b[1;33m\u001b[0m\u001b[1;33m\u001b[0m\u001b[0m\n\u001b[0;32m    282\u001b[0m         ]\n\u001b[1;32m--> 283\u001b[1;33m     \u001b[1;32mreturn\u001b[0m \u001b[0marrays_to_mgr\u001b[0m\u001b[1;33m(\u001b[0m\u001b[0marrays\u001b[0m\u001b[1;33m,\u001b[0m \u001b[0mdata_names\u001b[0m\u001b[1;33m,\u001b[0m \u001b[0mindex\u001b[0m\u001b[1;33m,\u001b[0m \u001b[0mcolumns\u001b[0m\u001b[1;33m,\u001b[0m \u001b[0mdtype\u001b[0m\u001b[1;33m=\u001b[0m\u001b[0mdtype\u001b[0m\u001b[1;33m)\u001b[0m\u001b[1;33m\u001b[0m\u001b[1;33m\u001b[0m\u001b[0m\n\u001b[0m\u001b[0;32m    284\u001b[0m \u001b[1;33m\u001b[0m\u001b[0m\n\u001b[0;32m    285\u001b[0m \u001b[1;33m\u001b[0m\u001b[0m\n",
      "\u001b[1;32mc:\\ProgramData\\Anaconda3\\envs\\MSDS7331\\lib\\site-packages\\pandas\\core\\internals\\construction.py\u001b[0m in \u001b[0;36marrays_to_mgr\u001b[1;34m(arrays, arr_names, index, columns, dtype, verify_integrity)\u001b[0m\n\u001b[0;32m     91\u001b[0m     \u001b[0maxes\u001b[0m \u001b[1;33m=\u001b[0m \u001b[1;33m[\u001b[0m\u001b[0mcolumns\u001b[0m\u001b[1;33m,\u001b[0m \u001b[0mindex\u001b[0m\u001b[1;33m]\u001b[0m\u001b[1;33m\u001b[0m\u001b[1;33m\u001b[0m\u001b[0m\n\u001b[0;32m     92\u001b[0m \u001b[1;33m\u001b[0m\u001b[0m\n\u001b[1;32m---> 93\u001b[1;33m     \u001b[1;32mreturn\u001b[0m \u001b[0mcreate_block_manager_from_arrays\u001b[0m\u001b[1;33m(\u001b[0m\u001b[0marrays\u001b[0m\u001b[1;33m,\u001b[0m \u001b[0marr_names\u001b[0m\u001b[1;33m,\u001b[0m \u001b[0maxes\u001b[0m\u001b[1;33m)\u001b[0m\u001b[1;33m\u001b[0m\u001b[1;33m\u001b[0m\u001b[0m\n\u001b[0m\u001b[0;32m     94\u001b[0m \u001b[1;33m\u001b[0m\u001b[0m\n\u001b[0;32m     95\u001b[0m \u001b[1;33m\u001b[0m\u001b[0m\n",
      "\u001b[1;32mc:\\ProgramData\\Anaconda3\\envs\\MSDS7331\\lib\\site-packages\\pandas\\core\\internals\\managers.py\u001b[0m in \u001b[0;36mcreate_block_manager_from_arrays\u001b[1;34m(arrays, names, axes)\u001b[0m\n\u001b[0;32m   1648\u001b[0m \u001b[1;33m\u001b[0m\u001b[0m\n\u001b[0;32m   1649\u001b[0m     \u001b[1;32mtry\u001b[0m\u001b[1;33m:\u001b[0m\u001b[1;33m\u001b[0m\u001b[1;33m\u001b[0m\u001b[0m\n\u001b[1;32m-> 1650\u001b[1;33m         \u001b[0mblocks\u001b[0m \u001b[1;33m=\u001b[0m \u001b[0mform_blocks\u001b[0m\u001b[1;33m(\u001b[0m\u001b[0marrays\u001b[0m\u001b[1;33m,\u001b[0m \u001b[0mnames\u001b[0m\u001b[1;33m,\u001b[0m \u001b[0maxes\u001b[0m\u001b[1;33m)\u001b[0m\u001b[1;33m\u001b[0m\u001b[1;33m\u001b[0m\u001b[0m\n\u001b[0m\u001b[0;32m   1651\u001b[0m         \u001b[0mmgr\u001b[0m \u001b[1;33m=\u001b[0m \u001b[0mBlockManager\u001b[0m\u001b[1;33m(\u001b[0m\u001b[0mblocks\u001b[0m\u001b[1;33m,\u001b[0m \u001b[0maxes\u001b[0m\u001b[1;33m)\u001b[0m\u001b[1;33m\u001b[0m\u001b[1;33m\u001b[0m\u001b[0m\n\u001b[0;32m   1652\u001b[0m         \u001b[0mmgr\u001b[0m\u001b[1;33m.\u001b[0m\u001b[0m_consolidate_inplace\u001b[0m\u001b[1;33m(\u001b[0m\u001b[1;33m)\u001b[0m\u001b[1;33m\u001b[0m\u001b[1;33m\u001b[0m\u001b[0m\n",
      "\u001b[1;32mc:\\ProgramData\\Anaconda3\\envs\\MSDS7331\\lib\\site-packages\\pandas\\core\\internals\\managers.py\u001b[0m in \u001b[0;36mform_blocks\u001b[1;34m(arrays, names, axes)\u001b[0m\n\u001b[0;32m   1737\u001b[0m \u001b[1;33m\u001b[0m\u001b[0m\n\u001b[0;32m   1738\u001b[0m     \u001b[1;32mif\u001b[0m \u001b[0mlen\u001b[0m\u001b[1;33m(\u001b[0m\u001b[0mitems_dict\u001b[0m\u001b[1;33m[\u001b[0m\u001b[1;34m\"ObjectBlock\"\u001b[0m\u001b[1;33m]\u001b[0m\u001b[1;33m)\u001b[0m \u001b[1;33m>\u001b[0m \u001b[1;36m0\u001b[0m\u001b[1;33m:\u001b[0m\u001b[1;33m\u001b[0m\u001b[1;33m\u001b[0m\u001b[0m\n\u001b[1;32m-> 1739\u001b[1;33m         \u001b[0mobject_blocks\u001b[0m \u001b[1;33m=\u001b[0m \u001b[0m_simple_blockify\u001b[0m\u001b[1;33m(\u001b[0m\u001b[0mitems_dict\u001b[0m\u001b[1;33m[\u001b[0m\u001b[1;34m\"ObjectBlock\"\u001b[0m\u001b[1;33m]\u001b[0m\u001b[1;33m,\u001b[0m \u001b[0mnp\u001b[0m\u001b[1;33m.\u001b[0m\u001b[0mobject_\u001b[0m\u001b[1;33m)\u001b[0m\u001b[1;33m\u001b[0m\u001b[1;33m\u001b[0m\u001b[0m\n\u001b[0m\u001b[0;32m   1740\u001b[0m         \u001b[0mblocks\u001b[0m\u001b[1;33m.\u001b[0m\u001b[0mextend\u001b[0m\u001b[1;33m(\u001b[0m\u001b[0mobject_blocks\u001b[0m\u001b[1;33m)\u001b[0m\u001b[1;33m\u001b[0m\u001b[1;33m\u001b[0m\u001b[0m\n\u001b[0;32m   1741\u001b[0m \u001b[1;33m\u001b[0m\u001b[0m\n",
      "\u001b[1;32mc:\\ProgramData\\Anaconda3\\envs\\MSDS7331\\lib\\site-packages\\pandas\\core\\internals\\managers.py\u001b[0m in \u001b[0;36m_simple_blockify\u001b[1;34m(tuples, dtype)\u001b[0m\n\u001b[0;32m   1782\u001b[0m     \u001b[1;32mnot\u001b[0m \u001b[1;32mNone\u001b[0m\u001b[1;33m,\u001b[0m \u001b[0mcoerce\u001b[0m \u001b[0mto\u001b[0m \u001b[0mthis\u001b[0m \u001b[0mdtype\u001b[0m\u001b[1;33m\u001b[0m\u001b[1;33m\u001b[0m\u001b[0m\n\u001b[0;32m   1783\u001b[0m     \"\"\"\n\u001b[1;32m-> 1784\u001b[1;33m     \u001b[0mvalues\u001b[0m\u001b[1;33m,\u001b[0m \u001b[0mplacement\u001b[0m \u001b[1;33m=\u001b[0m \u001b[0m_stack_arrays\u001b[0m\u001b[1;33m(\u001b[0m\u001b[0mtuples\u001b[0m\u001b[1;33m,\u001b[0m \u001b[0mdtype\u001b[0m\u001b[1;33m)\u001b[0m\u001b[1;33m\u001b[0m\u001b[1;33m\u001b[0m\u001b[0m\n\u001b[0m\u001b[0;32m   1785\u001b[0m \u001b[1;33m\u001b[0m\u001b[0m\n\u001b[0;32m   1786\u001b[0m     \u001b[1;31m# TODO: CHECK DTYPE?\u001b[0m\u001b[1;33m\u001b[0m\u001b[1;33m\u001b[0m\u001b[1;33m\u001b[0m\u001b[0m\n",
      "\u001b[1;32mc:\\ProgramData\\Anaconda3\\envs\\MSDS7331\\lib\\site-packages\\pandas\\core\\internals\\managers.py\u001b[0m in \u001b[0;36m_stack_arrays\u001b[1;34m(tuples, dtype)\u001b[0m\n\u001b[0;32m   1828\u001b[0m     \u001b[0mshape\u001b[0m \u001b[1;33m=\u001b[0m \u001b[1;33m(\u001b[0m\u001b[0mlen\u001b[0m\u001b[1;33m(\u001b[0m\u001b[0marrays\u001b[0m\u001b[1;33m)\u001b[0m\u001b[1;33m,\u001b[0m\u001b[1;33m)\u001b[0m \u001b[1;33m+\u001b[0m \u001b[0m_shape_compat\u001b[0m\u001b[1;33m(\u001b[0m\u001b[0mfirst\u001b[0m\u001b[1;33m)\u001b[0m\u001b[1;33m\u001b[0m\u001b[1;33m\u001b[0m\u001b[0m\n\u001b[0;32m   1829\u001b[0m \u001b[1;33m\u001b[0m\u001b[0m\n\u001b[1;32m-> 1830\u001b[1;33m     \u001b[0mstacked\u001b[0m \u001b[1;33m=\u001b[0m \u001b[0mnp\u001b[0m\u001b[1;33m.\u001b[0m\u001b[0mempty\u001b[0m\u001b[1;33m(\u001b[0m\u001b[0mshape\u001b[0m\u001b[1;33m,\u001b[0m \u001b[0mdtype\u001b[0m\u001b[1;33m=\u001b[0m\u001b[0mdtype\u001b[0m\u001b[1;33m)\u001b[0m\u001b[1;33m\u001b[0m\u001b[1;33m\u001b[0m\u001b[0m\n\u001b[0m\u001b[0;32m   1831\u001b[0m     \u001b[1;32mfor\u001b[0m \u001b[0mi\u001b[0m\u001b[1;33m,\u001b[0m \u001b[0marr\u001b[0m \u001b[1;32min\u001b[0m \u001b[0menumerate\u001b[0m\u001b[1;33m(\u001b[0m\u001b[0marrays\u001b[0m\u001b[1;33m)\u001b[0m\u001b[1;33m:\u001b[0m\u001b[1;33m\u001b[0m\u001b[1;33m\u001b[0m\u001b[0m\n\u001b[0;32m   1832\u001b[0m         \u001b[0mstacked\u001b[0m\u001b[1;33m[\u001b[0m\u001b[0mi\u001b[0m\u001b[1;33m]\u001b[0m \u001b[1;33m=\u001b[0m \u001b[0m_asarray_compat\u001b[0m\u001b[1;33m(\u001b[0m\u001b[0marr\u001b[0m\u001b[1;33m)\u001b[0m\u001b[1;33m\u001b[0m\u001b[1;33m\u001b[0m\u001b[0m\n",
      "\u001b[1;31mMemoryError\u001b[0m: Unable to allocate 2.40 GiB for an array with shape (2, 161364168) and data type object"
     ]
    }
   ],
   "source": [
    "tidy_counts = (\n",
    "    parsed\n",
    "    .melt(\n",
    "        id_vars = [ \"agency_ori_7\", \"year\" ],\n",
    "        value_vars = [ c for c in parsed.columns\n",
    "            if c.count(\"_\") > 0 and c.split(\"_\")[1] in [ \"actual\", \"cleared\" ] ]\n",
    "    )\n",
    "\n",
    "    .assign(\n",
    "        offense = lambda x: x[\"variable\"].apply(lambda s: s.split(\"_\", 2)[-1]),\n",
    "        \n",
    "        count_type = lambda x: x[\"variable\"].apply(lambda s: s.split(\"_\", 2)[-2]),\n",
    "    )\n",
    "\n",
    ")"
   ]
  },
  {
   "cell_type": "code",
   "execution_count": null,
   "metadata": {},
   "outputs": [],
   "source": [
    "tidy_counts.head()"
   ]
  },
  {
   "cell_type": "code",
   "execution_count": null,
   "metadata": {},
   "outputs": [],
   "source": [
    "tidy_counts[\"count_type\"].value_counts().sort_index()"
   ]
  },
  {
   "cell_type": "code",
   "execution_count": null,
   "metadata": {},
   "outputs": [],
   "source": [
    "tidy_counts[\"offense\"].value_counts().sort_index()"
   ]
  },
  {
   "cell_type": "code",
   "execution_count": null,
   "metadata": {},
   "outputs": [],
   "source": [
    "# Overview of negative numbers in the data\n",
    "(\n",
    "    tidy_counts\n",
    "    .loc[lambda df: df[\"value\"] < 0]\n",
    "    [\"value\"]\n",
    "    .value_counts()\n",
    "    .sort_index(ascending = False)\n",
    ")\n",
    "annual_counts = (\n",
    "    tidy_counts\n",
    "    .groupby([\n",
    "        \"agency_ori_7\",\n",
    "        \"year\",\n",
    "        \"offense\",\n",
    "        \"count_type\"\n",
    "    ])\n",
    "    [\"value\"]\n",
    "    .sum()\n",
    "    .unstack()\n",
    "    .reset_index()\n",
    ")"
   ]
  },
  {
   "cell_type": "code",
   "execution_count": null,
   "metadata": {},
   "outputs": [],
   "source": [
    "annual_counts.head()"
   ]
  },
  {
   "cell_type": "markdown",
   "metadata": {},
   "source": [
    "Step 5: Save counts for subsequent analysis"
   ]
  },
  {
   "cell_type": "code",
   "execution_count": null,
   "metadata": {},
   "outputs": [],
   "source": [
    "(\n",
    "    annual_counts\n",
    "    .to_csv(\n",
    "        \"reta-annual-counts.csv\",\n",
    "        index = False\n",
    "    )\n",
    ")"
   ]
  },
  {
   "cell_type": "code",
   "execution_count": null,
   "metadata": {},
   "outputs": [],
   "source": [
    "Step 6: Save entire dataframe into a single file"
   ]
  },
  {
   "cell_type": "code",
   "execution_count": null,
   "metadata": {},
   "outputs": [],
   "source": [
    "parsed.to_csv(\"reta-all.csv\",index = False)"
   ]
  }
 ],
 "metadata": {
  "celltoolbar": "Raw Cell Format",
  "kernelspec": {
   "display_name": "Python 3",
   "language": "python",
   "name": "python3"
  },
  "language_info": {
   "codemirror_mode": {
    "name": "ipython",
    "version": 3
   },
   "file_extension": ".py",
   "mimetype": "text/x-python",
   "name": "python",
   "nbconvert_exporter": "python",
   "pygments_lexer": "ipython3",
   "version": "3.8.5"
  }
 },
 "nbformat": 4,
 "nbformat_minor": 4
}
