{
 "cells": [
  {
   "cell_type": "markdown",
   "metadata": {},
   "source": [
    "# Data Visualization and Processing\n",
    "---\n",
    "By: Kris Ghimire, Thad Schwebke, Walter Lai, and Jamie Vo\n",
    "<img src=\"Images/broken-1391025_1280.JPG\" alt=\"Crime\" style=\"width: 80%;\"/>\n",
    "Photo Cred.: Photo by kat wilcox from Pexels"
   ]
  },
  {
   "cell_type": "code",
   "execution_count": 1,
   "metadata": {},
   "outputs": [],
   "source": [
    "# Load in libraries\n",
    "import pandas as pd\n",
    "import numpy as np\n",
    "import os\n",
    "\n",
    "import warnings\n",
    "warnings.filterwarnings('ignore')"
   ]
  },
  {
   "cell_type": "markdown",
   "metadata": {},
   "source": [
    "### Business Understanding (10 pts)\n",
    "---\n",
    "\n",
    "#### Purpose of the dataset.\n",
    "[Homocide Data](https://www.kaggle.com/murderaccountability/homicide-reports)\n",
    "\n",
    "(i.e., why was this data collected in\n",
    "the first place?). \n",
    "\n",
    "The Murder Accountability Project is a nonprofit organization that discovers discrepancies between the reported homicides between medical examiners and the FBI voluntary crime report. The database is considered to be one of the most exhaustive record collection of homicides that is currently avaiable for the US. Additional information about the organization can be found at [Murder Accountability Project](http://www.murderdata.org/).\n",
    "\n",
    "The dataset dates back to 1967 and includes demographic information such as gender, age, and ethnicity. A more in depth description of the attributes may be found in the [Data Description](#Data_Description) section."
   ]
  },
  {
   "cell_type": "code",
   "execution_count": 20,
   "metadata": {},
   "outputs": [],
   "source": [
    "# read in the data\n",
    "df = pd.read_csv('../Data/database.csv')"
   ]
  },
  {
   "cell_type": "code",
   "execution_count": 3,
   "metadata": {},
   "outputs": [
    {
     "name": "stdout",
     "output_type": "stream",
     "text": [
      "No. of Records: 638454 \n",
      "No. of Attributes: 24\n"
     ]
    }
   ],
   "source": [
    "# print the number of records and columns\n",
    "records = len(df)\n",
    "attributes = df.columns\n",
    "\n",
    "print(f'No. of Records: {records} \\nNo. of Attributes: {len(attributes)}')"
   ]
  },
  {
   "cell_type": "markdown",
   "metadata": {},
   "source": [
    "#### Define and measure the dataset outcomes.\n",
    "That is, why is this data important and how do you know if you have mined\n",
    "useful knowledge from the dataset? "
   ]
  },
  {
   "cell_type": "code",
   "execution_count": null,
   "metadata": {},
   "outputs": [],
   "source": []
  },
  {
   "cell_type": "markdown",
   "metadata": {},
   "source": [
    "#### Model Statistics\n",
    "How would you measure the effectiveness of a\n",
    "good prediction algorithm? Be specific."
   ]
  },
  {
   "cell_type": "code",
   "execution_count": null,
   "metadata": {},
   "outputs": [],
   "source": []
  },
  {
   "cell_type": "markdown",
   "metadata": {},
   "source": [
    "### Data Understanding (80 pts total)\n",
    "---\n",
    "<a id=\"Data_Description\"></a>\n",
    "#### [10 points]  Data Description:\n",
    "Describe the meaning and type of data (scale, values, etc.) for each\n",
    "attribute in the data file.\n",
    "\n",
    "Categorical/Binary Variables:\n",
    "\n",
    "Agency Code has 12003 unique codes.  It represents the code of the agency reporting the homicide.\n",
    "\n",
    "Agency Name has 9216 unique names.  The top 3 agency names are New York (6.017%), Los Angeles (4.54%) and Chicago (3.34%).\n",
    "\n",
    "Agency Type describes the type of police agency that reported the homicide with 7 distinct agency types.  The majority of Agency Types that report homicides is Municipal Police which is 77.2219% and Sheriff with 16.4964%.\n",
    "\n",
    "City describes the city where the homicide occurred.  Homicides were reported from 1782 distinct cities.\n",
    "\n",
    "State describes the state where the homicide occurred.  Homicides were reported from 51 states.\n",
    "\n",
    "Month describes the month the homicide occurred.\n",
    "\n",
    "Crime Type describes whether the homicide was a 'Murder or Manslaughter' (98.5%) or 'Manslaughter By Negligence'.\n",
    "\n",
    "Crime Solved explains whether the homicide was solved,'Yes'(70.19%), or not solved,'No'.\n",
    "\n",
    "Victim Sex had values of 'Male','Female' and 'Unknown'.  'Unknown' Sexes comprise 0.1541%.\n",
    "\n",
    "Victim Race has 5 values: White,Black,Asian/Pacific Islander,Unknown,Native American/Alaska Native.  Most of the victims are \n",
    "White 49.7173% or Black 46.9727%.  There are 1.0457% Unknown Races of victims.\n",
    "\n",
    "Victim Ethnicity had values: 'Unknown' which comprised 57.68% of dataset, 'Not Hispanic' and 'Hispanic'.  Unknown Ethnicities of victim were over half of the reported homicides!\n",
    "\n",
    "Perpetrator Sex had values: 'Male','Female','Unknown'.  Unknown Perpetrator Sexes were 29.8166% of the dataset.\n",
    "\n",
    "Perpetrator Race had values: White(34.2%),Black(33.6%),Asian/Pacific Islander,Unknown (30.7%),Native American/Alaska Native.  \n",
    "\n",
    "Perpetrator Ethnicity was composed of 70% Unknown, 23% Not Hispanic, 7.34% Hispanic.\n",
    "\n",
    "Relationship most likely describes the victim's relationship to the perpetrator.  See cell below for evidence of this.  It had 28 distinct values: 42.7616% Unknown, 19.7370% Acquaintance, 15.1292% Stranger and some of the other relationships were: Wife, Friend.  The idea to use the Victim and Perpetrator's Sex to determine the meaning of the Relationship variable was taken from R notebook:\n",
    "kaggle.com/khsamaha/who-killed-who-homicide-reports-1980-2014\n",
    "\n",
    "Weapons describe what weapon was used and there were 16 discinct weapons with 5.1988% Unknown.\n",
    "\n",
    "Record Source describes whether the record came from FBI (96.5844%) or FOIA (3.4156%) \n",
    "\n",
    "Numeric Variables:\n",
    "\n",
    "Record ID is the identifier for each reported homicide.\n",
    "\n",
    "The Year the homicide occurred ranges from earliest of 1980 to latest of 2014.\n",
    "\n",
    "Victim Count indicates number of victims in the homicide report ranging from 0 to 10.\n",
    "\n",
    "Perpetrator Count ranges from 0 to 10 indicating the number of perpetrators involved in the homicide.\n",
    "\n",
    "Incident ?\n",
    "\n",
    "Victim Age ranged from 0 to 998.  42 years is the 75% percentile.  There are likely some data entry errors for victim age.\n"
   ]
  },
  {
   "cell_type": "code",
   "execution_count": 43,
   "metadata": {},
   "outputs": [
    {
     "data": {
      "text/plain": [
       "[NY03030    0.060170\n",
       " CA01942    0.037063\n",
       " ILCPD00    0.033410\n",
       " MI82349    0.026949\n",
       " TXHPD00    0.020175\n",
       "              ...   \n",
       " WY00801    0.000002\n",
       " ME01000    0.000002\n",
       " WA01404    0.000002\n",
       " MO03603    0.000002\n",
       " OH07815    0.000002\n",
       " Name: Agency Code, Length: 12003, dtype: float64,\n",
       " New York                            0.060170\n",
       " Los Angeles                         0.045433\n",
       " Chicago                             0.033410\n",
       " Detroit                             0.026949\n",
       " Houston                             0.020434\n",
       "                                       ...   \n",
       " Valley Township                     0.000002\n",
       " Canfield                            0.000002\n",
       " Fairbury                            0.000002\n",
       " University of Tennessee: Memphis    0.000002\n",
       " Duke University                     0.000002\n",
       " Name: Agency Name, Length: 9216, dtype: float64,\n",
       " Municipal Police    0.772219\n",
       " Sheriff             0.164964\n",
       " County Police       0.035544\n",
       " State Police        0.022296\n",
       " Special Police      0.004525\n",
       " Regional Police     0.000368\n",
       " Tribal Police       0.000085\n",
       " Name: Agency Type, dtype: float64,\n",
       " Los Angeles          0.069717\n",
       " New York             0.060194\n",
       " Cook                 0.035058\n",
       " Wayne                0.031175\n",
       " Harris               0.025579\n",
       "                        ...   \n",
       " Lake of the Woods    0.000002\n",
       " Treasure             0.000002\n",
       " Yukon-Koyukuk        0.000002\n",
       " Gosper               0.000002\n",
       " Towner               0.000002\n",
       " Name: City, Length: 1782, dtype: float64,\n",
       " California              0.156288\n",
       " Texas                   0.097258\n",
       " New York                0.077168\n",
       " Florida                 0.058209\n",
       " Michigan                0.044558\n",
       " Illinois                0.040521\n",
       " Pennsylvania            0.037960\n",
       " Georgia                 0.033030\n",
       " North Carolina          0.031937\n",
       " Louisiana               0.030745\n",
       " Ohio                    0.030007\n",
       " Maryland                0.027116\n",
       " Virginia                0.024309\n",
       " Tennessee               0.023385\n",
       " Missouri                0.023231\n",
       " New Jersey              0.022135\n",
       " Arizona                 0.020160\n",
       " South Carolina          0.018322\n",
       " Indiana                 0.017954\n",
       " Alabama                 0.017818\n",
       " Oklahoma                0.013797\n",
       " Washington              0.012241\n",
       " District of Columbia    0.011144\n",
       " Arkansas                0.010881\n",
       " Colorado                0.010327\n",
       " Kentucky                0.010265\n",
       " Mississippi             0.010253\n",
       " Wisconsin               0.009697\n",
       " Massachusetts           0.009454\n",
       " Nevada                  0.008698\n",
       " Connecticut             0.007669\n",
       " New Mexico              0.006691\n",
       " Oregon                  0.006605\n",
       " Minnesota               0.006226\n",
       " Kansas                  0.004832\n",
       " West Virginia           0.004794\n",
       " Utah                    0.003184\n",
       " Iowa                    0.002739\n",
       " Alaska                  0.002533\n",
       " Hawaii                  0.002096\n",
       " Nebraska                0.002085\n",
       " Rhodes Island           0.001897\n",
       " Delaware                0.001847\n",
       " Idaho                   0.001801\n",
       " Maine                   0.001361\n",
       " New Hampshire           0.001026\n",
       " Wyoming                 0.000987\n",
       " Montana                 0.000941\n",
       " South Dakota            0.000692\n",
       " Vermont                 0.000645\n",
       " North Dakota            0.000482\n",
       " Name: State, dtype: float64,\n",
       " July         0.091935\n",
       " August       0.090957\n",
       " December     0.086438\n",
       " September    0.084763\n",
       " June         0.084050\n",
       " October      0.084031\n",
       " May          0.083630\n",
       " January      0.082900\n",
       " March        0.080576\n",
       " April        0.080208\n",
       " November     0.078339\n",
       " February     0.072173\n",
       " Name: Month, dtype: float64,\n",
       " Murder or Manslaughter        0.985722\n",
       " Manslaughter by Negligence    0.014278\n",
       " Name: Crime Type, dtype: float64,\n",
       " Yes    0.701964\n",
       " No     0.298036\n",
       " Name: Crime Solved, dtype: float64,\n",
       " Male       0.773940\n",
       " Female     0.224519\n",
       " Unknown    0.001541\n",
       " Name: Victim Sex, dtype: float64,\n",
       " White                            0.497173\n",
       " Black                            0.469727\n",
       " Asian/Pacific Islander           0.015491\n",
       " Unknown                          0.010457\n",
       " Native American/Alaska Native    0.007153\n",
       " Name: Victim Race, dtype: float64,\n",
       " Unknown         0.576867\n",
       " Not Hispanic    0.309339\n",
       " Hispanic        0.113794\n",
       " Name: Victim Ethnicity, dtype: float64,\n",
       " Male       0.625794\n",
       " Unknown    0.298166\n",
       " Female     0.076040\n",
       " Name: Perpetrator Sex, dtype: float64,\n",
       " White                            0.341830\n",
       " Black                            0.335993\n",
       " Unknown                          0.307065\n",
       " Asian/Pacific Islander           0.009470\n",
       " Native American/Alaska Native    0.005642\n",
       " Name: Perpetrator Race, dtype: float64,\n",
       " Unknown         0.699205\n",
       " Not Hispanic    0.227381\n",
       " Hispanic        0.073415\n",
       " Name: Perpetrator Ethnicity, dtype: float64,\n",
       " Unknown                 0.427616\n",
       " Acquaintance            0.197380\n",
       " Stranger                0.151292\n",
       " Wife                    0.036317\n",
       " Friend                  0.034372\n",
       " Girlfriend              0.025789\n",
       " Son                     0.015512\n",
       " Family                  0.014935\n",
       " Husband                 0.013788\n",
       " Daughter                0.011808\n",
       " Boyfriend               0.011437\n",
       " Neighbor                0.009858\n",
       " Brother                 0.008636\n",
       " Father                  0.006831\n",
       " Mother                  0.006654\n",
       " In-Law                  0.005697\n",
       " Common-Law Wife         0.003880\n",
       " Ex-Wife                 0.003090\n",
       " Common-Law Husband      0.003061\n",
       " Boyfriend/Girlfriend    0.002166\n",
       " Stepfather              0.002130\n",
       " Sister                  0.002024\n",
       " Stepson                 0.001833\n",
       " Stepdaughter            0.001181\n",
       " Ex-Husband              0.000985\n",
       " Employer                0.000797\n",
       " Employee                0.000601\n",
       " Stepmother              0.000330\n",
       " Name: Relationship, dtype: float64,\n",
       " Handgun          0.497270\n",
       " Knife            0.148737\n",
       " Blunt Object     0.105469\n",
       " Firearm          0.073584\n",
       " Unknown          0.051988\n",
       " Shotgun          0.048119\n",
       " Rifle            0.036568\n",
       " Strangulation    0.012703\n",
       " Fire             0.009669\n",
       " Suffocation      0.006215\n",
       " Gun              0.003455\n",
       " Drugs            0.002487\n",
       " Drowning         0.001886\n",
       " Explosives       0.000841\n",
       " Poison           0.000711\n",
       " Fall             0.000298\n",
       " Name: Weapon, dtype: float64,\n",
       " FBI     0.965844\n",
       " FOIA    0.034156\n",
       " Name: Record Source, dtype: float64]"
      ]
     },
     "execution_count": 43,
     "metadata": {},
     "output_type": "execute_result"
    }
   ],
   "source": [
    "categorical_vars=['Agency Code','Agency Name','Agency Type','City','State','Month','Crime Type','Crime Solved','Victim Sex',\n",
    "                 'Victim Race','Victim Ethnicity','Perpetrator Sex','Perpetrator Race','Perpetrator Ethnicity','Relationship',\n",
    "                 'Weapon','Record Source']\n",
    "factor_values=list(map(lambda col_name,df=df:df[col_name].value_counts()/len(df), categorical_vars))\n",
    "factor_values\n"
   ]
  },
  {
   "cell_type": "code",
   "execution_count": 63,
   "metadata": {},
   "outputs": [
    {
     "name": "stdout",
     "output_type": "stream",
     "text": [
      "Number of Females/Males Victims/Perpetrators who had a Relationship Value of Wife:\n",
      "Perpetrator Sex  Victim Sex\n",
      "Female           Female           38\n",
      "                 Male             45\n",
      "                 Unknown           2\n",
      "Male             Female        22488\n",
      "                 Male            568\n",
      "                 Unknown           2\n",
      "Unknown          Female           41\n",
      "                 Male              3\n",
      "Name: Record ID, dtype: int64\n",
      "Number of Females/Males Victims/Perpetrators who had a Relationship Value of Husband:\n",
      "Perpetrator Sex  Victim Sex\n",
      "Female           Female          29\n",
      "                 Male          8585\n",
      "Male             Female          68\n",
      "                 Male            96\n",
      "Unknown          Male            25\n",
      "Name: Record ID, dtype: int64\n",
      "When a Female is killed the Relationship value is more likely set to Wife.  When a Male is killed the Relationship is more liekly Husband\n",
      "Therefore Relationship variable most likely indicates victim relationship relative to perpetrator. \n"
     ]
    }
   ],
   "source": [
    "#The idea to use perpetrator and victim sex to determine the meaning of the Relationship variable was taken from \n",
    "#kaggle.com/khsamaha/who-killed-who-homicide-reports-1980-2014\n",
    "print('Number of Females/Males Victims/Perpetrators who had a Relationship Value of Wife:')\n",
    "print(df[df['Relationship']=='Wife'].groupby(['Perpetrator Sex','Victim Sex'])['Record ID'].count())\n",
    "print('Number of Females/Males Victims/Perpetrators who had a Relationship Value of Husband:')\n",
    "print(df[df['Relationship']=='Husband'].groupby(['Perpetrator Sex','Victim Sex'])['Record ID'].count())\n",
    "print('When a Female is killed the Relationship value is more likely set to Wife.  When a Male is killed the Relationship is more liekly Husband')\n",
    "print('Therefore Relationship variable most likely indicates victim relationship relative to perpetrator. ')"
   ]
  },
  {
   "cell_type": "code",
   "execution_count": 64,
   "metadata": {},
   "outputs": [
    {
     "name": "stdout",
     "output_type": "stream",
     "text": [
      "<class 'pandas.core.frame.DataFrame'>\n",
      "RangeIndex: 638454 entries, 0 to 638453\n",
      "Data columns (total 24 columns):\n",
      " #   Column                 Non-Null Count   Dtype \n",
      "---  ------                 --------------   ----- \n",
      " 0   Record ID              638454 non-null  int64 \n",
      " 1   Agency Code            638454 non-null  object\n",
      " 2   Agency Name            638454 non-null  object\n",
      " 3   Agency Type            638454 non-null  object\n",
      " 4   City                   638454 non-null  object\n",
      " 5   State                  638454 non-null  object\n",
      " 6   Year                   638454 non-null  int64 \n",
      " 7   Month                  638454 non-null  object\n",
      " 8   Incident               638454 non-null  int64 \n",
      " 9   Crime Type             638454 non-null  object\n",
      " 10  Crime Solved           638454 non-null  object\n",
      " 11  Victim Sex             638454 non-null  object\n",
      " 12  Victim Age             638454 non-null  int64 \n",
      " 13  Victim Race            638454 non-null  object\n",
      " 14  Victim Ethnicity       638454 non-null  object\n",
      " 15  Perpetrator Sex        638454 non-null  object\n",
      " 16  Perpetrator Age        638454 non-null  object\n",
      " 17  Perpetrator Race       638454 non-null  object\n",
      " 18  Perpetrator Ethnicity  638454 non-null  object\n",
      " 19  Relationship           638454 non-null  object\n",
      " 20  Weapon                 638454 non-null  object\n",
      " 21  Victim Count           638454 non-null  int64 \n",
      " 22  Perpetrator Count      638454 non-null  int64 \n",
      " 23  Record Source          638454 non-null  object\n",
      "dtypes: int64(6), object(18)\n",
      "memory usage: 116.9+ MB\n"
     ]
    }
   ],
   "source": [
    "df.info()"
   ]
  },
  {
   "cell_type": "code",
   "execution_count": 70,
   "metadata": {
    "scrolled": true
   },
   "outputs": [
    {
     "data": {
      "text/plain": [
       "[('Year', 1980, 2014),\n",
       " ('Incident', 0, 999),\n",
       " ('Victim Age', 0, 998),\n",
       " ('Victim Count', 0, 10),\n",
       " ('Perpetrator Count', 0, 10)]"
      ]
     },
     "execution_count": 70,
     "metadata": {},
     "output_type": "execute_result"
    }
   ],
   "source": [
    "numeric_vars=['Year','Incident','Victim Age','Victim Count','Perpetrator Count']\n",
    "range_dict={}\n",
    "\n",
    "mins_maxes=list(map(lambda col_name,df=df:(col_name,df[col_name].min(),df[col_name].max()),numeric_vars))\n",
    "mins_maxes"
   ]
  },
  {
   "cell_type": "markdown",
   "metadata": {},
   "source": [
    "#### [15 points] Verify data quality: \n",
    "Explain any missing values, duplicate data, and outliers.\n",
    "Are those mistakes? How do you deal with these problems? Be specific."
   ]
  },
  {
   "cell_type": "code",
   "execution_count": 4,
   "metadata": {},
   "outputs": [],
   "source": [
    "def checkDuplicate (len_instances):\n",
    "    '''check if give list contains any duplicates'''\n",
    "    if len_instances == set_intances:\n",
    "        return False\n",
    "    else:\n",
    "        return True"
   ]
  },
  {
   "cell_type": "code",
   "execution_count": 5,
   "metadata": {},
   "outputs": [],
   "source": [
    "set_intances=len(set(df['Record ID']))\n",
    "len_instances = len(df['Record ID'])"
   ]
  },
  {
   "cell_type": "code",
   "execution_count": 6,
   "metadata": {},
   "outputs": [
    {
     "name": "stdout",
     "output_type": "stream",
     "text": [
      "NO, duplicate instances are not present\n"
     ]
    }
   ],
   "source": [
    "dup_result = checkDuplicate (len_instances)\n",
    "if dup_result:\n",
    "    print('YES,duplicate instances present')\n",
    "else:\n",
    "    print('NO, duplicate instances are not present')"
   ]
  },
  {
   "cell_type": "code",
   "execution_count": 7,
   "metadata": {},
   "outputs": [
    {
     "data": {
      "text/plain": [
       "998"
      ]
     },
     "execution_count": 7,
     "metadata": {},
     "output_type": "execute_result"
    }
   ],
   "source": [
    "#which age values are wrong?\n",
    "error_age = df[df['Victim Age']>100]['Victim Age'].value_counts().index.values[0]\n",
    "error_age"
   ]
  },
  {
   "cell_type": "code",
   "execution_count": 3,
   "metadata": {},
   "outputs": [
    {
     "data": {
      "text/plain": [
       "Record ID                 int64\n",
       "Agency Code              object\n",
       "Agency Name              object\n",
       "Agency Type              object\n",
       "City                     object\n",
       "State                    object\n",
       "Year                      int64\n",
       "Month                    object\n",
       "Incident                  int64\n",
       "Crime Type               object\n",
       "Crime Solved             object\n",
       "Victim Sex               object\n",
       "Victim Age                int64\n",
       "Victim Race              object\n",
       "Victim Ethnicity         object\n",
       "Perpetrator Sex          object\n",
       "Perpetrator Age          object\n",
       "Perpetrator Race         object\n",
       "Perpetrator Ethnicity    object\n",
       "Relationship             object\n",
       "Weapon                   object\n",
       "Victim Count              int64\n",
       "Perpetrator Count         int64\n",
       "Record Source            object\n",
       "dtype: object"
      ]
     },
     "execution_count": 3,
     "metadata": {},
     "output_type": "execute_result"
    }
   ],
   "source": [
    "#Perp Age is an Object, make it an int\n",
    "df.dtypes\n"
   ]
  },
  {
   "cell_type": "code",
   "execution_count": 21,
   "metadata": {},
   "outputs": [
    {
     "data": {
      "text/plain": [
       "Record ID                 int64\n",
       "Agency Code              object\n",
       "Agency Name              object\n",
       "Agency Type              object\n",
       "City                     object\n",
       "State                    object\n",
       "Year                      int64\n",
       "Month                    object\n",
       "Incident                  int64\n",
       "Crime Type               object\n",
       "Crime Solved             object\n",
       "Victim Sex               object\n",
       "Victim Age                int64\n",
       "Victim Race              object\n",
       "Victim Ethnicity         object\n",
       "Perpetrator Sex          object\n",
       "Perpetrator Age           int64\n",
       "Perpetrator Race         object\n",
       "Perpetrator Ethnicity    object\n",
       "Relationship             object\n",
       "Weapon                   object\n",
       "Victim Count              int64\n",
       "Perpetrator Count         int64\n",
       "Record Source            object\n",
       "dtype: object"
      ]
     },
     "execution_count": 21,
     "metadata": {},
     "output_type": "execute_result"
    }
   ],
   "source": [
    "#turn an empty string to 0 and then convert all to numeric\n",
    "df.loc[df['Perpetrator Age']==' ','Perpetrator Age']=0\n",
    "df['Perpetrator Age']=pd.to_numeric(df['Perpetrator Age'])\n",
    "df.dtypes"
   ]
  },
  {
   "cell_type": "code",
   "execution_count": 5,
   "metadata": {},
   "outputs": [
    {
     "data": {
      "text/plain": [
       "(99, 0)"
      ]
     },
     "execution_count": 5,
     "metadata": {},
     "output_type": "execute_result"
    }
   ],
   "source": [
    "df['Perpetrator Age'].max(),df['Perpetrator Age'].min()"
   ]
  },
  {
   "cell_type": "code",
   "execution_count": 9,
   "metadata": {
    "scrolled": true
   },
   "outputs": [
    {
     "data": {
      "text/plain": [
       "0     216328\n",
       "20     21625\n",
       "19     20250\n",
       "21     18983\n",
       "18     18834\n",
       "       ...  \n",
       "95         9\n",
       "98         7\n",
       "96         7\n",
       "2          6\n",
       "97         3\n",
       "Name: Perpetrator Age, Length: 100, dtype: int64"
      ]
     },
     "execution_count": 9,
     "metadata": {},
     "output_type": "execute_result"
    },
    {
     "data": {
      "image/png": "[encoded data removed]",
      "text/plain": [
       "<Figure size 432x288 with 1 Axes>"
      ]
     },
     "metadata": {
      "needs_background": "light"
     },
     "output_type": "display_data"
    }
   ],
   "source": [
    "import seaborn as sns\n",
    "sns.distplot(df['Perpetrator Age'])\n",
    "df['Perpetrator Age'].value_counts()\n",
    "\n",
    "\n",
    "#impute median for the 0 perpetrator ages "
   ]
  },
  {
   "cell_type": "code",
   "execution_count": 6,
   "metadata": {},
   "outputs": [
    {
     "data": {
      "text/plain": [
       "27.0"
      ]
     },
     "execution_count": 6,
     "metadata": {},
     "output_type": "execute_result"
    }
   ],
   "source": [
    "\n",
    "# how to say this consicely?\n",
    "median_perp_age = df[ df['Perpetrator Age'] != 0 ].loc[:,'Perpetrator Age'].median()\n",
    "median_perp_age"
   ]
  },
  {
   "cell_type": "code",
   "execution_count": 7,
   "metadata": {},
   "outputs": [
    {
     "data": {
      "text/plain": [
       "14136"
      ]
     },
     "execution_count": 7,
     "metadata": {},
     "output_type": "execute_result"
    }
   ],
   "source": [
    "#before imputation we had this many perp ages with median age\n",
    "num_median = df['Perpetrator Age'].value_counts()[median_perp_age]\n",
    "num_median"
   ]
  },
  {
   "cell_type": "code",
   "execution_count": 22,
   "metadata": {},
   "outputs": [
    {
     "data": {
      "text/plain": [
       "216328"
      ]
     },
     "execution_count": 22,
     "metadata": {},
     "output_type": "execute_result"
    }
   ],
   "source": [
    "#before imputation we had this many perp ages of 0\n",
    "zero_indices=df[df['Perpetrator Age']==0.0].index\n",
    "\n",
    "#https://stackoverflow.com/questions/53482760/filter-data-frame-based-on-index-value-in-python/53482813\n",
    "num_zeroes = df[df.index.isin(zero_indices)].loc[:,'Perpetrator Age'].count()\n",
    "num_zeroes"
   ]
  },
  {
   "cell_type": "code",
   "execution_count": 9,
   "metadata": {},
   "outputs": [
    {
     "data": {
      "text/plain": [
       "230464"
      ]
     },
     "execution_count": 9,
     "metadata": {},
     "output_type": "execute_result"
    }
   ],
   "source": [
    "#after imputation we should get this many values in the median perp age count\n",
    "num_zeroes + num_median"
   ]
  },
  {
   "cell_type": "code",
   "execution_count": 23,
   "metadata": {},
   "outputs": [
    {
     "data": {
      "text/plain": [
       "230464"
      ]
     },
     "execution_count": 23,
     "metadata": {},
     "output_type": "execute_result"
    }
   ],
   "source": [
    "#after imputation the number of perp ages at median age should be equal to number of zeroes and previous number median age\n",
    "df.loc[df.index.isin(zero_indices),'Perpetrator Age']=median_perp_age\n",
    "df['Perpetrator Age'].value_counts()[median_perp_age]"
   ]
  },
  {
   "cell_type": "code",
   "execution_count": 18,
   "metadata": {},
   "outputs": [
    {
     "data": {
      "text/plain": [
       "True"
      ]
     },
     "execution_count": 18,
     "metadata": {},
     "output_type": "execute_result"
    }
   ],
   "source": [
    "# check that the zeroes were all added to the median value count\n",
    "(num_median + num_zeroes) == 230464 "
   ]
  },
  {
   "cell_type": "code",
   "execution_count": 24,
   "metadata": {},
   "outputs": [
    {
     "data": {
      "text/plain": [
       "<matplotlib.axes._subplots.AxesSubplot at 0x21ec56bfb48>"
      ]
     },
     "execution_count": 24,
     "metadata": {},
     "output_type": "execute_result"
    },
    {
     "data": {
      "image/png": "[encoded data removed]",
      "text/plain": [
       "<Figure size 432x288 with 1 Axes>"
      ]
     },
     "metadata": {
      "needs_background": "light"
     },
     "output_type": "display_data"
    }
   ],
   "source": [
    "import seaborn as sns\n",
    "sns.distplot(df['Victim Age'])"
   ]
  },
  {
   "cell_type": "code",
   "execution_count": 13,
   "metadata": {},
   "outputs": [
    {
     "data": {
      "text/plain": [
       "<matplotlib.axes._subplots.AxesSubplot at 0x21ed72c4748>"
      ]
     },
     "execution_count": 13,
     "metadata": {},
     "output_type": "execute_result"
    },
    {
     "data": {
      "image/png": "[encoded data removed]",
      "text/plain": [
       "<Figure size 432x288 with 1 Axes>"
      ]
     },
     "metadata": {
      "needs_background": "light"
     },
     "output_type": "display_data"
    }
   ],
   "source": [
    "sns.distplot(df.loc[df['Victim Age']>100,'Victim Age'])"
   ]
  },
  {
   "cell_type": "code",
   "execution_count": 25,
   "metadata": {},
   "outputs": [
    {
     "data": {
      "text/plain": [
       "974"
      ]
     },
     "execution_count": 25,
     "metadata": {},
     "output_type": "execute_result"
    }
   ],
   "source": [
    "#before median imputation How many homicides had a victim of age 998?\n",
    "df['Victim Age'].value_counts()[998]"
   ]
  },
  {
   "cell_type": "code",
   "execution_count": 28,
   "metadata": {},
   "outputs": [
    {
     "data": {
      "text/plain": [
       "18966"
      ]
     },
     "execution_count": 28,
     "metadata": {},
     "output_type": "execute_result"
    }
   ],
   "source": [
    "#before median imputation How many homicides had a victim of median age?\n",
    "median_vic_age=df['Victim Age'].median()\n",
    "df['Victim Age'].value_counts()[median_vic_age]"
   ]
  },
  {
   "cell_type": "code",
   "execution_count": 29,
   "metadata": {},
   "outputs": [
    {
     "data": {
      "text/plain": [
       "19940"
      ]
     },
     "execution_count": 29,
     "metadata": {},
     "output_type": "execute_result"
    }
   ],
   "source": [
    "#after imputation we should have the 974 homicides in the median victim age category\n",
    "df.loc[df['Victim Age']==998,'Victim Age']=median_vic_age\n",
    "df['Victim Age'].value_counts()[median_vic_age]"
   ]
  },
  {
   "cell_type": "code",
   "execution_count": 30,
   "metadata": {},
   "outputs": [
    {
     "data": {
      "text/plain": [
       "<matplotlib.axes._subplots.AxesSubplot at 0x21ed636eb88>"
      ]
     },
     "execution_count": 30,
     "metadata": {},
     "output_type": "execute_result"
    },
    {
     "data": {
      "image/png": "[encoded data removed]",
      "text/plain": [
       "<Figure size 432x288 with 1 Axes>"
      ]
     },
     "metadata": {
      "needs_background": "light"
     },
     "output_type": "display_data"
    }
   ],
   "source": [
    "sns.distplot(df['Victim Age'])"
   ]
  },
  {
   "cell_type": "markdown",
   "metadata": {},
   "source": [
    "#### [10 points] Statistics:\n",
    "Give simple, appropriate statistics (range, mode, mean, median, variance,\n",
    "counts, etc.) for the most important attributes and describe what they mean or if you\n",
    "found something interesting. Note: You can also use data from other sources for\n",
    "comparison. Explain the significance of the statistics run and why they are meaningful."
   ]
  },
  {
   "cell_type": "code",
   "execution_count": 11,
   "metadata": {},
   "outputs": [
    {
     "data": {
      "text/html": [
       "<div>\n",
       "<style scoped>\n",
       "    .dataframe tbody tr th:only-of-type {\n",
       "        vertical-align: middle;\n",
       "    }\n",
       "\n",
       "    .dataframe tbody tr th {\n",
       "        vertical-align: top;\n",
       "    }\n",
       "\n",
       "    .dataframe thead th {\n",
       "        text-align: right;\n",
       "    }\n",
       "</style>\n",
       "<table border=\"1\" class=\"dataframe\">\n",
       "  <thead>\n",
       "    <tr style=\"text-align: right;\">\n",
       "      <th></th>\n",
       "      <th>Record ID</th>\n",
       "      <th>Year</th>\n",
       "      <th>Incident</th>\n",
       "      <th>Victim Age</th>\n",
       "      <th>Victim Count</th>\n",
       "      <th>Perpetrator Count</th>\n",
       "    </tr>\n",
       "  </thead>\n",
       "  <tbody>\n",
       "    <tr>\n",
       "      <th>count</th>\n",
       "      <td>638454.00000</td>\n",
       "      <td>638454.000000</td>\n",
       "      <td>638454.000000</td>\n",
       "      <td>638454.000000</td>\n",
       "      <td>638454.000000</td>\n",
       "      <td>638454.000000</td>\n",
       "    </tr>\n",
       "    <tr>\n",
       "      <th>mean</th>\n",
       "      <td>319227.50000</td>\n",
       "      <td>1995.801102</td>\n",
       "      <td>22.967924</td>\n",
       "      <td>35.033512</td>\n",
       "      <td>0.123334</td>\n",
       "      <td>0.185224</td>\n",
       "    </tr>\n",
       "    <tr>\n",
       "      <th>std</th>\n",
       "      <td>184305.93872</td>\n",
       "      <td>9.927693</td>\n",
       "      <td>92.149821</td>\n",
       "      <td>41.628306</td>\n",
       "      <td>0.537733</td>\n",
       "      <td>0.585496</td>\n",
       "    </tr>\n",
       "    <tr>\n",
       "      <th>min</th>\n",
       "      <td>1.00000</td>\n",
       "      <td>1980.000000</td>\n",
       "      <td>0.000000</td>\n",
       "      <td>0.000000</td>\n",
       "      <td>0.000000</td>\n",
       "      <td>0.000000</td>\n",
       "    </tr>\n",
       "    <tr>\n",
       "      <th>25%</th>\n",
       "      <td>159614.25000</td>\n",
       "      <td>1987.000000</td>\n",
       "      <td>1.000000</td>\n",
       "      <td>22.000000</td>\n",
       "      <td>0.000000</td>\n",
       "      <td>0.000000</td>\n",
       "    </tr>\n",
       "    <tr>\n",
       "      <th>50%</th>\n",
       "      <td>319227.50000</td>\n",
       "      <td>1995.000000</td>\n",
       "      <td>2.000000</td>\n",
       "      <td>30.000000</td>\n",
       "      <td>0.000000</td>\n",
       "      <td>0.000000</td>\n",
       "    </tr>\n",
       "    <tr>\n",
       "      <th>75%</th>\n",
       "      <td>478840.75000</td>\n",
       "      <td>2004.000000</td>\n",
       "      <td>10.000000</td>\n",
       "      <td>42.000000</td>\n",
       "      <td>0.000000</td>\n",
       "      <td>0.000000</td>\n",
       "    </tr>\n",
       "    <tr>\n",
       "      <th>max</th>\n",
       "      <td>638454.00000</td>\n",
       "      <td>2014.000000</td>\n",
       "      <td>999.000000</td>\n",
       "      <td>998.000000</td>\n",
       "      <td>10.000000</td>\n",
       "      <td>10.000000</td>\n",
       "    </tr>\n",
       "  </tbody>\n",
       "</table>\n",
       "</div>"
      ],
      "text/plain": [
       "          Record ID           Year       Incident     Victim Age  \\\n",
       "count  638454.00000  638454.000000  638454.000000  638454.000000   \n",
       "mean   319227.50000    1995.801102      22.967924      35.033512   \n",
       "std    184305.93872       9.927693      92.149821      41.628306   \n",
       "min         1.00000    1980.000000       0.000000       0.000000   \n",
       "25%    159614.25000    1987.000000       1.000000      22.000000   \n",
       "50%    319227.50000    1995.000000       2.000000      30.000000   \n",
       "75%    478840.75000    2004.000000      10.000000      42.000000   \n",
       "max    638454.00000    2014.000000     999.000000     998.000000   \n",
       "\n",
       "        Victim Count  Perpetrator Count  \n",
       "count  638454.000000      638454.000000  \n",
       "mean        0.123334           0.185224  \n",
       "std         0.537733           0.585496  \n",
       "min         0.000000           0.000000  \n",
       "25%         0.000000           0.000000  \n",
       "50%         0.000000           0.000000  \n",
       "75%         0.000000           0.000000  \n",
       "max        10.000000          10.000000  "
      ]
     },
     "execution_count": 11,
     "metadata": {},
     "output_type": "execute_result"
    }
   ],
   "source": [
    "\n",
    "df.describe()\n"
   ]
  },
  {
   "cell_type": "markdown",
   "metadata": {},
   "source": [
    "#### [15 points] Visualization\n",
    "Visualize the most important attributes appropriately (at least 5 attributes).\n",
    "Important: Provide an interpretation for each chart. Explain for each attribute why the\n",
    "chosen visualization is appropriate."
   ]
  },
  {
   "cell_type": "code",
   "execution_count": 31,
   "metadata": {},
   "outputs": [
    {
     "data": {
      "text/plain": [
       "White                            0.341830\n",
       "Black                            0.335993\n",
       "Unknown                          0.307065\n",
       "Asian/Pacific Islander           0.009470\n",
       "Native American/Alaska Native    0.005642\n",
       "Name: Perpetrator Race, dtype: float64"
      ]
     },
     "execution_count": 31,
     "metadata": {},
     "output_type": "execute_result"
    }
   ],
   "source": []
  },
  {
   "cell_type": "markdown",
   "metadata": {},
   "source": [
    "#### [15 points] EDA\n",
    "Explore relationships between attributes: Look at the attributes via scatter\n",
    "plots, correlation, cross-tabulation, group-wise averages, etc. as appropriate. Explain\n",
    "any interesting relationships."
   ]
  },
  {
   "cell_type": "code",
   "execution_count": 32,
   "metadata": {},
   "outputs": [
    {
     "data": {
      "text/plain": [
       "White                            0.341830\n",
       "Black                            0.335993\n",
       "Unknown                          0.307065\n",
       "Asian/Pacific Islander           0.009470\n",
       "Native American/Alaska Native    0.005642\n",
       "Name: Perpetrator Race, dtype: float64"
      ]
     },
     "execution_count": 32,
     "metadata": {},
     "output_type": "execute_result"
    }
   ],
   "source": [
    "variable='Perpetrator Race'\n",
    "column=df[variable]\n",
    "column_counts=column.value_counts()/len(df)\n",
    "column_counts"
   ]
  },
  {
   "cell_type": "code",
   "execution_count": 35,
   "metadata": {},
   "outputs": [
    {
     "data": {
      "text/plain": [
       "White      0.341830\n",
       "Black      0.335993\n",
       "Unknown    0.307065\n",
       "Other      0.015112\n",
       "Name: Perpetrator Race, dtype: float64"
      ]
     },
     "execution_count": 35,
     "metadata": {},
     "output_type": "execute_result"
    }
   ],
   "source": [
    "#https://learn.datacamp.com/courses/feature-engineering-for-machine-learning-in-python\n",
    "#Robert O'Callaghan created this code\n",
    "\n",
    "frequency_threshold = 0.01\n",
    "\n",
    "\n",
    "\n",
    "\n",
    "\n",
    "# Create a mask for only categories that occur less than 10 times\n",
    "mask = column.isin(column_counts[column_counts < frequency_threshold].index)\n",
    "\n",
    "# Label all other categories as Other\n",
    "column[mask] = 'Other'\n",
    "\n",
    "df2=df\n",
    "\n",
    "df2[variable] = column\n",
    "\n",
    "df2[variable].value_counts()/len(df2)"
   ]
  },
  {
   "cell_type": "code",
   "execution_count": 38,
   "metadata": {},
   "outputs": [
    {
     "data": {
      "text/plain": [
       "White                            0.497173\n",
       "Black                            0.469727\n",
       "Asian/Pacific Islander           0.015491\n",
       "Unknown                          0.010457\n",
       "Native American/Alaska Native    0.007153\n",
       "Name: Victim Race, dtype: float64"
      ]
     },
     "execution_count": 38,
     "metadata": {},
     "output_type": "execute_result"
    }
   ],
   "source": [
    "variable='Victim Race'\n",
    "column=df[variable]\n",
    "column_counts=column.value_counts()/len(df)\n",
    "column_counts"
   ]
  },
  {
   "cell_type": "code",
   "execution_count": 39,
   "metadata": {},
   "outputs": [
    {
     "data": {
      "text/plain": [
       "White    0.497173\n",
       "Black    0.469727\n",
       "Other    0.033100\n",
       "Name: Victim Race, dtype: float64"
      ]
     },
     "execution_count": 39,
     "metadata": {},
     "output_type": "execute_result"
    }
   ],
   "source": [
    "#https://learn.datacamp.com/courses/feature-engineering-for-machine-learning-in-python\n",
    "#Robert O'Callaghan created this code\n",
    "\n",
    "frequency_threshold = 0.02\n",
    "\n",
    "\n",
    "\n",
    "\n",
    "\n",
    "# Create a mask for only categories that occur less than 10 times\n",
    "mask = column.isin(column_counts[column_counts < frequency_threshold].index)\n",
    "\n",
    "# Label all other categories as Other\n",
    "column[mask] = 'Other'\n",
    "\n",
    "df2=df\n",
    "\n",
    "df2[variable] = column\n",
    "\n",
    "df2[variable].value_counts()/len(df2)"
   ]
  },
  {
   "cell_type": "code",
   "execution_count": 45,
   "metadata": {},
   "outputs": [
    {
     "data": {
      "text/html": [
       "<div>\n",
       "<style scoped>\n",
       "    .dataframe tbody tr th:only-of-type {\n",
       "        vertical-align: middle;\n",
       "    }\n",
       "\n",
       "    .dataframe tbody tr th {\n",
       "        vertical-align: top;\n",
       "    }\n",
       "\n",
       "    .dataframe thead th {\n",
       "        text-align: right;\n",
       "    }\n",
       "</style>\n",
       "<table border=\"1\" class=\"dataframe\">\n",
       "  <thead>\n",
       "    <tr style=\"text-align: right;\">\n",
       "      <th>Victim Race</th>\n",
       "      <th>Black</th>\n",
       "      <th>Other</th>\n",
       "      <th>White</th>\n",
       "    </tr>\n",
       "    <tr>\n",
       "      <th>Perpetrator Race</th>\n",
       "      <th></th>\n",
       "      <th></th>\n",
       "      <th></th>\n",
       "    </tr>\n",
       "  </thead>\n",
       "  <tbody>\n",
       "    <tr>\n",
       "      <th>Black</th>\n",
       "      <td>179258</td>\n",
       "      <td>2623</td>\n",
       "      <td>32635</td>\n",
       "    </tr>\n",
       "    <tr>\n",
       "      <th>Other</th>\n",
       "      <td>752</td>\n",
       "      <td>6014</td>\n",
       "      <td>2882</td>\n",
       "    </tr>\n",
       "    <tr>\n",
       "      <th>Unknown</th>\n",
       "      <td>102885</td>\n",
       "      <td>8436</td>\n",
       "      <td>84726</td>\n",
       "    </tr>\n",
       "    <tr>\n",
       "      <th>White</th>\n",
       "      <td>17004</td>\n",
       "      <td>4060</td>\n",
       "      <td>197179</td>\n",
       "    </tr>\n",
       "  </tbody>\n",
       "</table>\n",
       "</div>"
      ],
      "text/plain": [
       "Victim Race        Black  Other   White\n",
       "Perpetrator Race                       \n",
       "Black             179258   2623   32635\n",
       "Other                752   6014    2882\n",
       "Unknown           102885   8436   84726\n",
       "White              17004   4060  197179"
      ]
     },
     "execution_count": 45,
     "metadata": {},
     "output_type": "execute_result"
    }
   ],
   "source": [
    "#what Race & Sex of Perpetrator and Race & Sex Of Victim is most common?\n",
    "race_crosstab = df2.pivot_table(index='Perpetrator Race', columns='Victim Race',values='Record ID',aggfunc='count')\n",
    "race_crosstab"
   ]
  },
  {
   "cell_type": "code",
   "execution_count": 42,
   "metadata": {},
   "outputs": [
    {
     "data": {
      "text/plain": [
       "<matplotlib.axes._subplots.AxesSubplot at 0x21ed72bc188>"
      ]
     },
     "execution_count": 42,
     "metadata": {},
     "output_type": "execute_result"
    },
    {
     "data": {
      "image/png": "[encoded data removed]",
      "text/plain": [
       "<Figure size 432x288 with 2 Axes>"
      ]
     },
     "metadata": {
      "needs_background": "light"
     },
     "output_type": "display_data"
    }
   ],
   "source": [
    "sns.heatmap(race_crosstab)"
   ]
  },
  {
   "cell_type": "code",
   "execution_count": 48,
   "metadata": {},
   "outputs": [
    {
     "data": {
      "text/plain": [
       "<seaborn.axisgrid.FacetGrid at 0x21ec5af8b88>"
      ]
     },
     "execution_count": 48,
     "metadata": {},
     "output_type": "execute_result"
    },
    {
     "data": {
      "image/png": "[encoded data removed]",
      "text/plain": [
       "<Figure size 360x360 with 1 Axes>"
      ]
     },
     "metadata": {
      "needs_background": "light"
     },
     "output_type": "display_data"
    }
   ],
   "source": [
    "sns.catplot(x='Perpetrator Sex',kind='count',data=df)"
   ]
  },
  {
   "cell_type": "code",
   "execution_count": 50,
   "metadata": {},
   "outputs": [
    {
     "data": {
      "text/plain": [
       "<seaborn.axisgrid.FacetGrid at 0x21ec5c91b08>"
      ]
     },
     "execution_count": 50,
     "metadata": {},
     "output_type": "execute_result"
    },
    {
     "data": {
      "image/png": "[encoded data removed]",
      "text/plain": [
       "<Figure size 360x360 with 1 Axes>"
      ]
     },
     "metadata": {
      "needs_background": "light"
     },
     "output_type": "display_data"
    }
   ],
   "source": [
    "sns.catplot(x='Victim Sex',kind='count',data=df)"
   ]
  },
  {
   "cell_type": "code",
   "execution_count": 51,
   "metadata": {},
   "outputs": [
    {
     "data": {
      "text/html": [
       "<div>\n",
       "<style scoped>\n",
       "    .dataframe tbody tr th:only-of-type {\n",
       "        vertical-align: middle;\n",
       "    }\n",
       "\n",
       "    .dataframe tbody tr th {\n",
       "        vertical-align: top;\n",
       "    }\n",
       "\n",
       "    .dataframe thead tr th {\n",
       "        text-align: left;\n",
       "    }\n",
       "\n",
       "    .dataframe thead tr:last-of-type th {\n",
       "        text-align: right;\n",
       "    }\n",
       "</style>\n",
       "<table border=\"1\" class=\"dataframe\">\n",
       "  <thead>\n",
       "    <tr>\n",
       "      <th></th>\n",
       "      <th>Victim Sex</th>\n",
       "      <th colspan=\"3\" halign=\"left\">Female</th>\n",
       "      <th colspan=\"3\" halign=\"left\">Male</th>\n",
       "      <th colspan=\"3\" halign=\"left\">Unknown</th>\n",
       "    </tr>\n",
       "    <tr>\n",
       "      <th></th>\n",
       "      <th>Victim Race</th>\n",
       "      <th>Black</th>\n",
       "      <th>Other</th>\n",
       "      <th>White</th>\n",
       "      <th>Black</th>\n",
       "      <th>Other</th>\n",
       "      <th>White</th>\n",
       "      <th>Black</th>\n",
       "      <th>Other</th>\n",
       "      <th>White</th>\n",
       "    </tr>\n",
       "    <tr>\n",
       "      <th>Perpetrator Sex</th>\n",
       "      <th>Perpetrator Race</th>\n",
       "      <th></th>\n",
       "      <th></th>\n",
       "      <th></th>\n",
       "      <th></th>\n",
       "      <th></th>\n",
       "      <th></th>\n",
       "      <th></th>\n",
       "      <th></th>\n",
       "      <th></th>\n",
       "    </tr>\n",
       "  </thead>\n",
       "  <tbody>\n",
       "    <tr>\n",
       "      <th rowspan=\"4\" valign=\"top\">Female</th>\n",
       "      <th>Black</th>\n",
       "      <td>4674.0</td>\n",
       "      <td>38.0</td>\n",
       "      <td>366.0</td>\n",
       "      <td>18369.0</td>\n",
       "      <td>78.0</td>\n",
       "      <td>1097.0</td>\n",
       "      <td>9.0</td>\n",
       "      <td>17.0</td>\n",
       "      <td>NaN</td>\n",
       "    </tr>\n",
       "    <tr>\n",
       "      <th>Other</th>\n",
       "      <td>11.0</td>\n",
       "      <td>261.0</td>\n",
       "      <td>72.0</td>\n",
       "      <td>70.0</td>\n",
       "      <td>480.0</td>\n",
       "      <td>261.0</td>\n",
       "      <td>NaN</td>\n",
       "      <td>NaN</td>\n",
       "      <td>NaN</td>\n",
       "    </tr>\n",
       "    <tr>\n",
       "      <th>Unknown</th>\n",
       "      <td>16.0</td>\n",
       "      <td>37.0</td>\n",
       "      <td>46.0</td>\n",
       "      <td>124.0</td>\n",
       "      <td>64.0</td>\n",
       "      <td>115.0</td>\n",
       "      <td>NaN</td>\n",
       "      <td>1.0</td>\n",
       "      <td>NaN</td>\n",
       "    </tr>\n",
       "    <tr>\n",
       "      <th>White</th>\n",
       "      <td>221.0</td>\n",
       "      <td>81.0</td>\n",
       "      <td>5046.0</td>\n",
       "      <td>1137.0</td>\n",
       "      <td>219.0</td>\n",
       "      <td>15615.0</td>\n",
       "      <td>1.0</td>\n",
       "      <td>18.0</td>\n",
       "      <td>4.0</td>\n",
       "    </tr>\n",
       "    <tr>\n",
       "      <th rowspan=\"4\" valign=\"top\">Male</th>\n",
       "      <th>Black</th>\n",
       "      <td>31012.0</td>\n",
       "      <td>546.0</td>\n",
       "      <td>7507.0</td>\n",
       "      <td>125088.0</td>\n",
       "      <td>1830.0</td>\n",
       "      <td>23629.0</td>\n",
       "      <td>10.0</td>\n",
       "      <td>109.0</td>\n",
       "      <td>5.0</td>\n",
       "    </tr>\n",
       "    <tr>\n",
       "      <th>Other</th>\n",
       "      <td>68.0</td>\n",
       "      <td>1815.0</td>\n",
       "      <td>630.0</td>\n",
       "      <td>590.0</td>\n",
       "      <td>3456.0</td>\n",
       "      <td>1907.0</td>\n",
       "      <td>NaN</td>\n",
       "      <td>NaN</td>\n",
       "      <td>NaN</td>\n",
       "    </tr>\n",
       "    <tr>\n",
       "      <th>Unknown</th>\n",
       "      <td>249.0</td>\n",
       "      <td>360.0</td>\n",
       "      <td>484.0</td>\n",
       "      <td>1444.0</td>\n",
       "      <td>1051.0</td>\n",
       "      <td>1905.0</td>\n",
       "      <td>NaN</td>\n",
       "      <td>9.0</td>\n",
       "      <td>NaN</td>\n",
       "    </tr>\n",
       "    <tr>\n",
       "      <th>White</th>\n",
       "      <td>1658.0</td>\n",
       "      <td>999.0</td>\n",
       "      <td>54053.0</td>\n",
       "      <td>13979.0</td>\n",
       "      <td>2612.0</td>\n",
       "      <td>122388.0</td>\n",
       "      <td>NaN</td>\n",
       "      <td>130.0</td>\n",
       "      <td>18.0</td>\n",
       "    </tr>\n",
       "    <tr>\n",
       "      <th rowspan=\"4\" valign=\"top\">Unknown</th>\n",
       "      <th>Black</th>\n",
       "      <td>18.0</td>\n",
       "      <td>NaN</td>\n",
       "      <td>9.0</td>\n",
       "      <td>78.0</td>\n",
       "      <td>5.0</td>\n",
       "      <td>20.0</td>\n",
       "      <td>NaN</td>\n",
       "      <td>NaN</td>\n",
       "      <td>2.0</td>\n",
       "    </tr>\n",
       "    <tr>\n",
       "      <th>Other</th>\n",
       "      <td>4.0</td>\n",
       "      <td>1.0</td>\n",
       "      <td>1.0</td>\n",
       "      <td>9.0</td>\n",
       "      <td>1.0</td>\n",
       "      <td>10.0</td>\n",
       "      <td>NaN</td>\n",
       "      <td>NaN</td>\n",
       "      <td>1.0</td>\n",
       "    </tr>\n",
       "    <tr>\n",
       "      <th>Unknown</th>\n",
       "      <td>14151.0</td>\n",
       "      <td>1385.0</td>\n",
       "      <td>17514.0</td>\n",
       "      <td>86880.0</td>\n",
       "      <td>4925.0</td>\n",
       "      <td>64637.0</td>\n",
       "      <td>21.0</td>\n",
       "      <td>604.0</td>\n",
       "      <td>25.0</td>\n",
       "    </tr>\n",
       "    <tr>\n",
       "      <th>White</th>\n",
       "      <td>1.0</td>\n",
       "      <td>NaN</td>\n",
       "      <td>11.0</td>\n",
       "      <td>7.0</td>\n",
       "      <td>1.0</td>\n",
       "      <td>44.0</td>\n",
       "      <td>NaN</td>\n",
       "      <td>NaN</td>\n",
       "      <td>NaN</td>\n",
       "    </tr>\n",
       "  </tbody>\n",
       "</table>\n",
       "</div>"
      ],
      "text/plain": [
       "Victim Sex                         Female                       Male          \\\n",
       "Victim Race                         Black   Other    White     Black   Other   \n",
       "Perpetrator Sex Perpetrator Race                                               \n",
       "Female          Black              4674.0    38.0    366.0   18369.0    78.0   \n",
       "                Other                11.0   261.0     72.0      70.0   480.0   \n",
       "                Unknown              16.0    37.0     46.0     124.0    64.0   \n",
       "                White               221.0    81.0   5046.0    1137.0   219.0   \n",
       "Male            Black             31012.0   546.0   7507.0  125088.0  1830.0   \n",
       "                Other                68.0  1815.0    630.0     590.0  3456.0   \n",
       "                Unknown             249.0   360.0    484.0    1444.0  1051.0   \n",
       "                White              1658.0   999.0  54053.0   13979.0  2612.0   \n",
       "Unknown         Black                18.0     NaN      9.0      78.0     5.0   \n",
       "                Other                 4.0     1.0      1.0       9.0     1.0   \n",
       "                Unknown           14151.0  1385.0  17514.0   86880.0  4925.0   \n",
       "                White                 1.0     NaN     11.0       7.0     1.0   \n",
       "\n",
       "Victim Sex                                 Unknown               \n",
       "Victim Race                          White   Black  Other White  \n",
       "Perpetrator Sex Perpetrator Race                                 \n",
       "Female          Black               1097.0     9.0   17.0   NaN  \n",
       "                Other                261.0     NaN    NaN   NaN  \n",
       "                Unknown              115.0     NaN    1.0   NaN  \n",
       "                White              15615.0     1.0   18.0   4.0  \n",
       "Male            Black              23629.0    10.0  109.0   5.0  \n",
       "                Other               1907.0     NaN    NaN   NaN  \n",
       "                Unknown             1905.0     NaN    9.0   NaN  \n",
       "                White             122388.0     NaN  130.0  18.0  \n",
       "Unknown         Black                 20.0     NaN    NaN   2.0  \n",
       "                Other                 10.0     NaN    NaN   1.0  \n",
       "                Unknown            64637.0    21.0  604.0  25.0  \n",
       "                White                 44.0     NaN    NaN   NaN  "
      ]
     },
     "execution_count": 51,
     "metadata": {},
     "output_type": "execute_result"
    }
   ],
   "source": [
    "#how likely for a white man to kill black woman?\n",
    "race_sex_crosstab = df2.pivot_table(index=['Perpetrator Sex','Perpetrator Race'], \n",
    "                                columns=['Victim Sex','Victim Race'],values='Record ID',aggfunc='count')\n",
    "race_sex_crosstab"
   ]
  },
  {
   "cell_type": "code",
   "execution_count": 54,
   "metadata": {},
   "outputs": [
    {
     "data": {
      "text/plain": [
       "<matplotlib.axes._subplots.AxesSubplot at 0x21ec5d43648>"
      ]
     },
     "execution_count": 54,
     "metadata": {},
     "output_type": "execute_result"
    },
    {
     "data": {
      "image/png": "[encoded data removed]",
      "text/plain": [
       "<Figure size 432x288 with 2 Axes>"
      ]
     },
     "metadata": {
      "needs_background": "light"
     },
     "output_type": "display_data"
    }
   ],
   "source": [
    "#https://stackoverflow.com/questions/42712304/seaborn-heatmap-subplots-keep-axis-ratio-consistent\n",
    "sns.heatmap(race_sex_crosstab)"
   ]
  },
  {
   "cell_type": "code",
   "execution_count": 60,
   "metadata": {},
   "outputs": [
    {
     "data": {
      "text/plain": [
       "<seaborn.axisgrid.FacetGrid at 0x21ed7587d08>"
      ]
     },
     "execution_count": 60,
     "metadata": {},
     "output_type": "execute_result"
    },
    {
     "data": {
      "image/png": "[encoded data removed]",
      "text/plain": [
       "<Figure size 1146.88x360 with 3 Axes>"
      ]
     },
     "metadata": {
      "needs_background": "light"
     },
     "output_type": "display_data"
    }
   ],
   "source": [
    "sns.catplot(kind='count',x='Perpetrator Race',data=df, hue='Victim Race', col='Victim Sex')"
   ]
  },
  {
   "cell_type": "code",
   "execution_count": null,
   "metadata": {},
   "outputs": [],
   "source": []
  },
  {
   "cell_type": "markdown",
   "metadata": {},
   "source": [
    "#### [10 points] Discoveries\n",
    "Identify and explain interesting relationships between features and the class\n",
    "you are trying to predict (i.e., relationships with variables and the target classification)."
   ]
  },
  {
   "cell_type": "code",
   "execution_count": null,
   "metadata": {},
   "outputs": [],
   "source": []
  },
  {
   "cell_type": "markdown",
   "metadata": {},
   "source": [
    "#### [5 points] New Feature Creation\n",
    "Are there other features that could be added to the data or created from\n",
    "existing features? Which ones?"
   ]
  },
  {
   "cell_type": "code",
   "execution_count": null,
   "metadata": {},
   "outputs": [],
   "source": []
  },
  {
   "cell_type": "markdown",
   "metadata": {},
   "source": [
    "#### Exceptional Work (10 points total)\n",
    "• You have free reign to provide additional analyses.\n",
    "• One idea: implement dimensionality reduction, then visualize and interpret the results."
   ]
  },
  {
   "cell_type": "code",
   "execution_count": null,
   "metadata": {},
   "outputs": [],
   "source": []
  }
 ],
 "metadata": {
  "kernelspec": {
   "display_name": "ML7331",
   "language": "python",
   "name": "ml7331"
  },
  "language_info": {
   "codemirror_mode": {
    "name": "ipython",
    "version": 3
   },
   "file_extension": ".py",
   "mimetype": "text/x-python",
   "name": "python",
   "nbconvert_exporter": "python",
   "pygments_lexer": "ipython3",
   "version": "3.7.7"
  }
 },
 "nbformat": 4,
 "nbformat_minor": 2
}
