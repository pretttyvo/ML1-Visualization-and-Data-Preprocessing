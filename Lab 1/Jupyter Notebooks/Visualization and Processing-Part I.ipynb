{
 "cells": [
  {
   "cell_type": "markdown",
   "metadata": {},
   "source": [
    "# Data Visualization and Processing\n",
    "---\n",
    "By: Kris Ghimire, Thad Schwebke, Walter Lai, and Jamie Vo\n",
    "<img src=\"Images/broken-1391025_1280.JPG\" alt=\"Crime\" style=\"width: 80%;\"/>\n",
    "Photo Cred.: Photo by kat wilcox from Pexels"
   ]
  },
  {
   "cell_type": "code",
   "execution_count": 106,
   "metadata": {},
   "outputs": [
    {
     "data": {
      "text/html": [
       "<script>\n",
       "code_show=true; \n",
       "function code_toggle() {\n",
       " if (code_show){\n",
       " $('div.input').hide();\n",
       " } else {\n",
       " $('div.input').show();\n",
       " }\n",
       " code_show = !code_show\n",
       "} \n",
       "$( document ).ready(code_toggle);\n",
       "</script>\n",
       "<form action=\"javascript:code_toggle()\"><input type=\"submit\" value=\"Click here to toggle on/off the raw code.\"></form>"
      ],
      "text/plain": [
       "<IPython.core.display.HTML object>"
      ]
     },
     "execution_count": 106,
     "metadata": {},
     "output_type": "execute_result"
    }
   ],
   "source": [
    "import pandas as pd\n",
    "import numpy as np\n",
    "import os\n",
    "\n",
    "# hide warnings\n",
    "import warnings\n",
    "warnings.filterwarnings('ignore')\n",
    "\n",
    "# visualizations libraries\n",
    "import seaborn as sns\n",
    "import plotly \n",
    "import matplotlib.pyplot as plt\n",
    "import plotly.express as px\n",
    "import plotly.graph_objects as go\n",
    "#from geopy.geocoders import Nominatim\n",
    "%matplotlib inline\n",
    "\n",
    "# Machine Learning \n",
    "from sklearn.model_selection import train_test_split\n",
    "from sklearn.preprocessing import StandardScaler\n",
    "from sklearn.linear_model import LogisticRegression\n",
    "import random\n",
    "\n",
    "from IPython.display import HTML\n",
    "\n",
    "HTML('''<script>\n",
    "code_show=true; \n",
    "function code_toggle() {\n",
    " if (code_show){\n",
    " $('div.input').hide();\n",
    " } else {\n",
    " $('div.input').show();\n",
    " }\n",
    " code_show = !code_show\n",
    "} \n",
    "$( document ).ready(code_toggle);\n",
    "</script>\n",
    "<form action=\"javascript:code_toggle()\"><input type=\"submit\" value=\"Click here to toggle on/off the raw code.\"></form>''')"
   ]
  },
  {
   "cell_type": "code",
   "execution_count": 105,
   "metadata": {},
   "outputs": [
    {
     "name": "stdout",
     "output_type": "stream",
     "text": [
      "Collecting package metadata (current_repodata.json): ...working... done\n",
      "Note: you may need to restart the kernel to use updated packages.\n"
     ]
    },
    {
     "name": "stderr",
     "output_type": "stream",
     "text": [
      "\n",
      "PackagesNotFoundError: The following packages are not available from current channels:\n",
      "\n",
      "  - geopy\n",
      "\n",
      "Current channels:\n",
      "\n",
      "  - https://repo.anaconda.com/pkgs/main/win-64\n",
      "  - https://repo.anaconda.com/pkgs/main/noarch\n",
      "  - https://repo.anaconda.com/pkgs/r/win-64\n",
      "  - https://repo.anaconda.com/pkgs/r/noarch\n",
      "  - https://repo.anaconda.com/pkgs/msys2/win-64\n",
      "  - https://repo.anaconda.com/pkgs/msys2/noarch\n",
      "\n",
      "To search for alternate channels that may provide the conda package you're\n",
      "looking for, navigate to\n",
      "\n",
      "    https://anaconda.org\n",
      "\n",
      "and use the search bar at the top of the page.\n",
      "\n",
      "\n"
     ]
    },
    {
     "name": "stdout",
     "output_type": "stream",
     "text": [
      "\n",
      "Solving environment: ...working... failed with initial frozen solve. Retrying with flexible solve.\n",
      "Collecting package metadata (repodata.json): ...working... done\n",
      "Solving environment: ...working... failed with initial frozen solve. Retrying with flexible solve.\n"
     ]
    }
   ],
   "source": [
    "%conda install geopy"
   ]
  },
  {
   "cell_type": "markdown",
   "metadata": {},
   "source": [
    "### Business Understanding (10 pts)\n",
    "---\n",
    "\n",
    "#### Purpose of the dataset.\n",
    "[Homocide Data](https://www.kaggle.com/murderaccountability/homicide-reports)\n",
    "\n",
    "(i.e., why was this data collected in\n",
    "the first place?). \n",
    "\n",
    "The Murder Accountability Project is a nonprofit organization that discovers discrepancies between the reported homicides between medical examiners and the FBI voluntary crime report. The database is considered to be one of the most exhaustive record collection of homicides that is currently avaiable for the US. Additional information about the organization can be found at [Murder Accountability Project](http://www.murderdata.org/).\n",
    "\n",
    "The dataset dates back to 1967 and includes demographic information such as gender, age, and ethnicity. A more in depth description of the attributes may be found in the [Data Description](#Data_Description) section."
   ]
  },
  {
   "cell_type": "code",
   "execution_count": 3,
   "metadata": {},
   "outputs": [],
   "source": [
    "# read in the data\n",
    "df = pd.read_csv('../Data/database.csv')"
   ]
  },
  {
   "cell_type": "code",
   "execution_count": 4,
   "metadata": {},
   "outputs": [
    {
     "name": "stdout",
     "output_type": "stream",
     "text": [
      "No. of Records: 638454 \n",
      "No. of Attributes: 24\n"
     ]
    }
   ],
   "source": [
    "# print the number of records and columns\n",
    "records = len(df)\n",
    "attributes = df.columns\n",
    "\n",
    "print(f'No. of Records: {records} \\nNo. of Attributes: {len(attributes)}')"
   ]
  },
  {
   "cell_type": "markdown",
   "metadata": {},
   "source": [
    "#### Define and measure the dataset outcomes.\n",
    "That is, why is this data important and how do you know if you have mined\n",
    "useful knowledge from the dataset? "
   ]
  },
  {
   "cell_type": "code",
   "execution_count": null,
   "metadata": {},
   "outputs": [],
   "source": []
  },
  {
   "cell_type": "markdown",
   "metadata": {},
   "source": [
    "#### Model Statistics\n",
    "How would you measure the effectiveness of a\n",
    "good prediction algorithm? Be specific."
   ]
  },
  {
   "cell_type": "code",
   "execution_count": null,
   "metadata": {},
   "outputs": [],
   "source": []
  },
  {
   "cell_type": "markdown",
   "metadata": {},
   "source": [
    "### Data Understanding (80 pts total)\n",
    "---\n",
    "<a id=\"Data_Description\"></a>\n",
    "#### [10 points]  Data Description:\n",
    "Describe the meaning and type of data (scale, values, etc.) for each\n",
    "attribute in the data file."
   ]
  },
  {
   "cell_type": "code",
   "execution_count": null,
   "metadata": {},
   "outputs": [],
   "source": []
  },
  {
   "cell_type": "markdown",
   "metadata": {},
   "source": [
    "#### [15 points] Verify data quality: \n",
    "Explain any missing values, duplicate data, and outliers.\n",
    "Are those mistakes? How do you deal with these problems? Be specific."
   ]
  },
  {
   "cell_type": "code",
   "execution_count": 6,
   "metadata": {},
   "outputs": [
    {
     "name": "stdout",
     "output_type": "stream",
     "text": [
      "YES,duplicate instances present\n"
     ]
    }
   ],
   "source": [
    "# check if there are any duplicate in dataset\n",
    "# create function that checks duplicate\n",
    "# take parameter name p_Agency Code\n",
    "# if duplicate return true else return false\n",
    "def checkDuplicate (len_instances):\n",
    "    '''check if give list contains any duplicates'''\n",
    "    if len_instances == set_intances:\n",
    "        return False\n",
    "    else:\n",
    "        return True\n",
    "    \n",
    "# How many dublicate instances are present in dataset?\n",
    "len_instances = len(df['Agency Code'])\n",
    "set_intances=len(set(df['Agency Code']))\n",
    "# lets check if duplicate instances are present\n",
    "dup_result = checkDuplicate (len_instances)\n",
    "if dup_result:\n",
    "    print('YES,duplicate instances present')\n",
    "else:\n",
    "    print('NO, duplicate instances are present')"
   ]
  },
  {
   "cell_type": "code",
   "execution_count": 7,
   "metadata": {},
   "outputs": [
    {
     "name": "stdout",
     "output_type": "stream",
     "text": [
      "Total number of duplicate instances in dataset are: 626451\n"
     ]
    }
   ],
   "source": [
    "\n",
    "dif = len_instances-set_intances\n",
    "print('Total number of duplicate instances in dataset are:',dif)"
   ]
  },
  {
   "cell_type": "code",
   "execution_count": 8,
   "metadata": {},
   "outputs": [
    {
     "data": {
      "text/plain": [
       "(0, 998)"
      ]
     },
     "execution_count": 8,
     "metadata": {},
     "output_type": "execute_result"
    }
   ],
   "source": [
    "df['Victim Age'].min(),df['Victim Age'].max()"
   ]
  },
  {
   "cell_type": "code",
   "execution_count": 14,
   "metadata": {},
   "outputs": [
    {
     "data": {
      "text/plain": [
       "Record ID                0\n",
       "Agency Code              0\n",
       "Agency Name              0\n",
       "Agency Type              0\n",
       "City                     0\n",
       "State                    0\n",
       "Year                     0\n",
       "Month                    0\n",
       "Incident                 0\n",
       "Crime Type               0\n",
       "Crime Solved             0\n",
       "Victim Sex               0\n",
       "Victim Age               0\n",
       "Victim Race              0\n",
       "Victim Ethnicity         0\n",
       "Perpetrator Sex          0\n",
       "Perpetrator Age          1\n",
       "Perpetrator Race         0\n",
       "Perpetrator Ethnicity    0\n",
       "Relationship             0\n",
       "Weapon                   0\n",
       "Victim Count             0\n",
       "Perpetrator Count        0\n",
       "Record Source            0\n",
       "dtype: int64"
      ]
     },
     "execution_count": 14,
     "metadata": {},
     "output_type": "execute_result"
    }
   ],
   "source": [
    "df.replace(to_replace=' ',value=-1,inplace=True)\n",
    "# convert object variable 'Perpetratrator age' into int\n",
    "df['Perpetrator Age']=pd.to_numeric(df['Perpetrator Age'])\n",
    "# replace all the empty value ' ' with -1 \n",
    "# replace all the -1  values with nan \n",
    "df = df.replace(to_replace=-1,value=np.nan)\n",
    "df.isnull().values.any()  \n",
    "df.isnull().sum() "
   ]
  },
  {
   "cell_type": "code",
   "execution_count": 15,
   "metadata": {},
   "outputs": [
    {
     "data": {
      "text/plain": [
       "(99.0, 0.0)"
      ]
     },
     "execution_count": 15,
     "metadata": {},
     "output_type": "execute_result"
    }
   ],
   "source": [
    "df['Perpetrator Age'].max(),df['Perpetrator Age'].min()  "
   ]
  },
  {
   "cell_type": "code",
   "execution_count": null,
   "metadata": {},
   "outputs": [],
   "source": []
  },
  {
   "cell_type": "code",
   "execution_count": 18,
   "metadata": {},
   "outputs": [
    {
     "name": "stdout",
     "output_type": "stream",
     "text": [
      "Max age of Perpetrator: 99.0\n",
      "Min age of Perpetrator: 0.0\n"
     ]
    }
   ],
   "source": [
    "\n",
    " #what is the min and max age of Perpetrator?\n",
    "print('Max age of Perpetrator:',df['Perpetrator Age'].max())\n",
    "print('Min age of Perpetrator:',df['Perpetrator Age'].min())"
   ]
  },
  {
   "cell_type": "code",
   "execution_count": 20,
   "metadata": {},
   "outputs": [
    {
     "data": {
      "text/plain": [
       "Record ID            319227.5\n",
       "Year                   1995.0\n",
       "Incident                  2.0\n",
       "Victim Age               30.0\n",
       "Perpetrator Age          21.0\n",
       "Victim Count              0.0\n",
       "Perpetrator Count         0.0\n",
       "dtype: float64"
      ]
     },
     "execution_count": 20,
     "metadata": {},
     "output_type": "execute_result"
    }
   ],
   "source": [
    "df.median()\n"
   ]
  },
  {
   "cell_type": "code",
   "execution_count": 21,
   "metadata": {},
   "outputs": [
    {
     "data": {
      "text/html": [
       "<div>\n",
       "<style scoped>\n",
       "    .dataframe tbody tr th:only-of-type {\n",
       "        vertical-align: middle;\n",
       "    }\n",
       "\n",
       "    .dataframe tbody tr th {\n",
       "        vertical-align: top;\n",
       "    }\n",
       "\n",
       "    .dataframe thead th {\n",
       "        text-align: right;\n",
       "    }\n",
       "</style>\n",
       "<table border=\"1\" class=\"dataframe\">\n",
       "  <thead>\n",
       "    <tr style=\"text-align: right;\">\n",
       "      <th></th>\n",
       "      <th>Record ID</th>\n",
       "      <th>Agency Code</th>\n",
       "      <th>Agency Name</th>\n",
       "      <th>Agency Type</th>\n",
       "      <th>City</th>\n",
       "      <th>State</th>\n",
       "      <th>Year</th>\n",
       "      <th>Month</th>\n",
       "      <th>Incident</th>\n",
       "      <th>Crime Type</th>\n",
       "      <th>...</th>\n",
       "      <th>Victim Ethnicity</th>\n",
       "      <th>Perpetrator Sex</th>\n",
       "      <th>Perpetrator Age</th>\n",
       "      <th>Perpetrator Race</th>\n",
       "      <th>Perpetrator Ethnicity</th>\n",
       "      <th>Relationship</th>\n",
       "      <th>Weapon</th>\n",
       "      <th>Victim Count</th>\n",
       "      <th>Perpetrator Count</th>\n",
       "      <th>Record Source</th>\n",
       "    </tr>\n",
       "  </thead>\n",
       "  <tbody>\n",
       "    <tr>\n",
       "      <th>634666</th>\n",
       "      <td>634667</td>\n",
       "      <td>OK07205</td>\n",
       "      <td>Tulsa</td>\n",
       "      <td>Municipal Police</td>\n",
       "      <td>Tulsa</td>\n",
       "      <td>Oklahoma</td>\n",
       "      <td>2014</td>\n",
       "      <td>June</td>\n",
       "      <td>104</td>\n",
       "      <td>Murder or Manslaughter</td>\n",
       "      <td>...</td>\n",
       "      <td>Not Hispanic</td>\n",
       "      <td>Unknown</td>\n",
       "      <td>NaN</td>\n",
       "      <td>Unknown</td>\n",
       "      <td>Unknown</td>\n",
       "      <td>Unknown</td>\n",
       "      <td>Handgun</td>\n",
       "      <td>0</td>\n",
       "      <td>0</td>\n",
       "      <td>FBI</td>\n",
       "    </tr>\n",
       "  </tbody>\n",
       "</table>\n",
       "<p>1 rows × 24 columns</p>\n",
       "</div>"
      ],
      "text/plain": [
       "        Record ID Agency Code Agency Name       Agency Type   City     State  \\\n",
       "634666     634667     OK07205       Tulsa  Municipal Police  Tulsa  Oklahoma   \n",
       "\n",
       "        Year Month  Incident              Crime Type  ... Victim Ethnicity  \\\n",
       "634666  2014  June       104  Murder or Manslaughter  ...     Not Hispanic   \n",
       "\n",
       "       Perpetrator Sex  Perpetrator Age Perpetrator Race  \\\n",
       "634666         Unknown              NaN          Unknown   \n",
       "\n",
       "       Perpetrator Ethnicity Relationship   Weapon Victim Count  \\\n",
       "634666               Unknown      Unknown  Handgun            0   \n",
       "\n",
       "       Perpetrator Count Record Source  \n",
       "634666                 0           FBI  \n",
       "\n",
       "[1 rows x 24 columns]"
      ]
     },
     "execution_count": 21,
     "metadata": {},
     "output_type": "execute_result"
    }
   ],
   "source": [
    "# check which col has any nan values \n",
    "df.loc[df.isna().any(axis=1)] "
   ]
  },
  {
   "cell_type": "code",
   "execution_count": 37,
   "metadata": {},
   "outputs": [
    {
     "data": {
      "text/plain": [
       "Record ID                 int64\n",
       "Agency Code              object\n",
       "Agency Name              object\n",
       "Agency Type              object\n",
       "City                     object\n",
       "State                    object\n",
       "Year                      int64\n",
       "Month                    object\n",
       "Incident                  int64\n",
       "Crime Type               object\n",
       "Crime Solved             object\n",
       "Victim Sex               object\n",
       "Victim Age                int64\n",
       "Victim Race              object\n",
       "Victim Ethnicity         object\n",
       "Perpetrator Sex          object\n",
       "Perpetrator Age           int64\n",
       "Perpetrator Race         object\n",
       "Perpetrator Ethnicity    object\n",
       "Relationship             object\n",
       "Weapon                   object\n",
       "Victim Count              int64\n",
       "Perpetrator Count         int64\n",
       "Record Source            object\n",
       "dtype: object"
      ]
     },
     "execution_count": 37,
     "metadata": {},
     "output_type": "execute_result"
    }
   ],
   "source": [
    "#impute median for perp age\n",
    "df.loc[df['Perpetrator Age'].isna(),'Perpetrator Age']=df['Perpetrator Age'].median()\n",
    "df['Perpetrator Age']=df['Perpetrator Age'].apply(lambda x:int(x))\n",
    "df.dtypes"
   ]
  },
  {
   "cell_type": "code",
   "execution_count": 31,
   "metadata": {},
   "outputs": [
    {
     "data": {
      "text/plain": [
       "Record ID                0\n",
       "Agency Code              0\n",
       "Agency Name              0\n",
       "Agency Type              0\n",
       "City                     0\n",
       "State                    0\n",
       "Year                     0\n",
       "Month                    0\n",
       "Incident                 0\n",
       "Crime Type               0\n",
       "Crime Solved             0\n",
       "Victim Sex               0\n",
       "Victim Age               0\n",
       "Victim Race              0\n",
       "Victim Ethnicity         0\n",
       "Perpetrator Sex          0\n",
       "Perpetrator Age          0\n",
       "Perpetrator Race         0\n",
       "Perpetrator Ethnicity    0\n",
       "Relationship             0\n",
       "Weapon                   0\n",
       "Victim Count             0\n",
       "Perpetrator Count        0\n",
       "Record Source            0\n",
       "dtype: int64"
      ]
     },
     "execution_count": 31,
     "metadata": {},
     "output_type": "execute_result"
    }
   ],
   "source": [
    "df.isnull().sum() "
   ]
  },
  {
   "cell_type": "code",
   "execution_count": 38,
   "metadata": {},
   "outputs": [
    {
     "name": "stdout",
     "output_type": "stream",
     "text": [
      "Total number victims= 78743\n"
     ]
    },
    {
     "data": {
      "text/plain": [
       "(10255, 24)"
      ]
     },
     "execution_count": 38,
     "metadata": {},
     "output_type": "execute_result"
    }
   ],
   "source": [
    "print('Total number victims=',df_imputed['Victim Count'].sum() )\n",
    "#Age of Victim indicates the age or age range of an individual (person) \n",
    "#victim in an incident when the crime occurred.\n",
    "#Valid Data Values\n",
    "#1 – 98= Years Old\n",
    "#0 = Unknown\n",
    "# above 98 invalid data value\n",
    "# Victim age > 100 ???\n",
    "df_imputed[df_imputed['Victim Age'] > 98 ].shape "
   ]
  },
  {
   "cell_type": "code",
   "execution_count": 39,
   "metadata": {},
   "outputs": [
    {
     "data": {
      "text/plain": [
       "(90, 24)"
      ]
     },
     "execution_count": 39,
     "metadata": {},
     "output_type": "execute_result"
    }
   ],
   "source": [
    "df_imputed[df_imputed['Perpetrator Age']>98].shape "
   ]
  },
  {
   "cell_type": "code",
   "execution_count": 40,
   "metadata": {},
   "outputs": [
    {
     "data": {
      "text/plain": [
       "(90, 24)"
      ]
     },
     "execution_count": 40,
     "metadata": {},
     "output_type": "execute_result"
    }
   ],
   "source": [
    "df_imputed[df_imputed['Perpetrator Age']>98].shape \n",
    "# Total number of instances with Perpetrator Age greater than 98 are:90 "
   ]
  },
  {
   "cell_type": "code",
   "execution_count": 41,
   "metadata": {},
   "outputs": [
    {
     "data": {
      "text/plain": [
       "(216327, 24)"
      ]
     },
     "execution_count": 41,
     "metadata": {},
     "output_type": "execute_result"
    }
   ],
   "source": [
    "# find all the perpetrator with age zero \n",
    "df_imputed[df_imputed['Perpetrator Age']==0].shape\n",
    "# Total number of instances with Perpetrator Age equal to 0 are: 216327\n"
   ]
  },
  {
   "cell_type": "code",
   "execution_count": null,
   "metadata": {},
   "outputs": [],
   "source": [
    "import seaborn as sns\n",
    "sns.distplot(df['Perpetrator Age'])"
   ]
  },
  {
   "cell_type": "code",
   "execution_count": null,
   "metadata": {},
   "outputs": [],
   "source": [
    "df['Perpetrator Age'].count() "
   ]
  },
  {
   "cell_type": "code",
   "execution_count": 42,
   "metadata": {},
   "outputs": [
    {
     "name": "stdout",
     "output_type": "stream",
     "text": [
      "Maximum number of incident was: 999\n",
      "Min number of incident was: 0\n"
     ]
    },
    {
     "data": {
      "text/plain": [
       "33.882942232329974"
      ]
     },
     "execution_count": 42,
     "metadata": {},
     "output_type": "execute_result"
    }
   ],
   "source": [
    "print('Maximum number of incident was:',df_imputed['Incident'].max())\n",
    "print('Min number of incident was:',df_imputed['Incident'].min()) \n",
    "216327 /df['Perpetrator Age'].count() *100 "
   ]
  },
  {
   "cell_type": "code",
   "execution_count": 43,
   "metadata": {},
   "outputs": [
    {
     "data": {
      "text/plain": [
       "27.0"
      ]
     },
     "execution_count": 43,
     "metadata": {},
     "output_type": "execute_result"
    }
   ],
   "source": [
    "# how to say this consicely?\n",
    "median_perp_age = df[ df['Perpetrator Age'] != 0 ].loc[:,'Perpetrator Age'].median()\n",
    "median_perp_age"
   ]
  },
  {
   "cell_type": "code",
   "execution_count": 44,
   "metadata": {},
   "outputs": [
    {
     "data": {
      "text/plain": [
       "14136"
      ]
     },
     "execution_count": 44,
     "metadata": {},
     "output_type": "execute_result"
    }
   ],
   "source": [
    "#before imputation we had this many perp ages with median age\n",
    "num_median = df['Perpetrator Age'].value_counts()[median_perp_age]\n",
    "num_median"
   ]
  },
  {
   "cell_type": "code",
   "execution_count": 45,
   "metadata": {},
   "outputs": [
    {
     "data": {
      "text/plain": [
       "216327"
      ]
     },
     "execution_count": 45,
     "metadata": {},
     "output_type": "execute_result"
    }
   ],
   "source": [
    "#before imputation we had this many perp ages of 0\n",
    "zero_indices=df[df['Perpetrator Age']==0.0].index\n",
    "\n",
    "#https://stackoverflow.com/questions/53482760/filter-data-frame-based-on-index-value-in-python/53482813\n",
    "num_zeroes = df[df.index.isin(zero_indices)].loc[:,'Perpetrator Age'].count()\n",
    "num_zeroes"
   ]
  },
  {
   "cell_type": "code",
   "execution_count": 46,
   "metadata": {},
   "outputs": [
    {
     "data": {
      "text/plain": [
       "230463"
      ]
     },
     "execution_count": 46,
     "metadata": {},
     "output_type": "execute_result"
    }
   ],
   "source": [
    "#after imputation we should get this many values in the median perp age count\n",
    "num_zeroes + num_median"
   ]
  },
  {
   "cell_type": "code",
   "execution_count": 47,
   "metadata": {},
   "outputs": [
    {
     "data": {
      "text/plain": [
       "230463"
      ]
     },
     "execution_count": 47,
     "metadata": {},
     "output_type": "execute_result"
    }
   ],
   "source": [
    "#after imputation the number of perp ages at median age should be equal to number of zeroes and previous number median age\n",
    "df.loc[df.index.isin(zero_indices),'Perpetrator Age']=median_perp_age\n",
    "df['Perpetrator Age'].value_counts()[median_perp_age]"
   ]
  },
  {
   "cell_type": "code",
   "execution_count": 49,
   "metadata": {},
   "outputs": [
    {
     "data": {
      "text/plain": [
       "True"
      ]
     },
     "execution_count": 49,
     "metadata": {},
     "output_type": "execute_result"
    }
   ],
   "source": [
    "# check that the zeroes were all added to the median value count\n",
    "(num_median + num_zeroes) == df['Perpetrator Age'].value_counts()[median_perp_age]"
   ]
  },
  {
   "cell_type": "code",
   "execution_count": null,
   "metadata": {},
   "outputs": [],
   "source": [
    "#0s are gone\n",
    "sns.distplot(df['Perpetrator Age'])"
   ]
  },
  {
   "cell_type": "code",
   "execution_count": 50,
   "metadata": {},
   "outputs": [
    {
     "data": {
      "text/plain": [
       "974"
      ]
     },
     "execution_count": 50,
     "metadata": {},
     "output_type": "execute_result"
    }
   ],
   "source": [
    "#before median imputation How many homicides had a victim of age 998?\n",
    "df['Victim Age'].value_counts()[998]"
   ]
  },
  {
   "cell_type": "code",
   "execution_count": 51,
   "metadata": {},
   "outputs": [
    {
     "data": {
      "text/plain": [
       "18966"
      ]
     },
     "execution_count": 51,
     "metadata": {},
     "output_type": "execute_result"
    }
   ],
   "source": [
    "#before median imputation How many homicides had a victim of median age?\n",
    "median_vic_age=df['Victim Age'].median()\n",
    "df['Victim Age'].value_counts()[median_vic_age]"
   ]
  },
  {
   "cell_type": "code",
   "execution_count": 52,
   "metadata": {},
   "outputs": [
    {
     "data": {
      "text/plain": [
       "19940"
      ]
     },
     "execution_count": 52,
     "metadata": {},
     "output_type": "execute_result"
    }
   ],
   "source": [
    "#after imputation we should have  974 MORE homicides in the median victim age category\n",
    "df.loc[df['Victim Age']==998,'Victim Age']=median_vic_age\n",
    "df['Victim Age'].value_counts()[median_vic_age]"
   ]
  },
  {
   "cell_type": "code",
   "execution_count": 96,
   "metadata": {},
   "outputs": [
    {
     "ename": "SyntaxError",
     "evalue": "invalid syntax (<ipython-input-96-7be3578f8192>, line 2)",
     "output_type": "error",
     "traceback": [
      "\u001b[1;36m  File \u001b[1;32m\"<ipython-input-96-7be3578f8192>\"\u001b[1;36m, line \u001b[1;32m2\u001b[0m\n\u001b[1;33m    Give simple, appropriate statistics (range, mode, mean, median, variance,\u001b[0m\n\u001b[1;37m              ^\u001b[0m\n\u001b[1;31mSyntaxError\u001b[0m\u001b[1;31m:\u001b[0m invalid syntax\n"
     ]
    }
   ],
   "source": [
    "#statistics section\n",
    "ct = pd.crosstab(df['Victim Race'],\n",
    "                 df['Victim Sex'],\n",
    "                margins=True,\n",
    "                margins_name='Total')\n",
    "ct"
   ]
  },
  {
   "cell_type": "code",
   "execution_count": 61,
   "metadata": {},
   "outputs": [
    {
     "data": {
      "text/html": [
       "<div>\n",
       "<style scoped>\n",
       "    .dataframe tbody tr th:only-of-type {\n",
       "        vertical-align: middle;\n",
       "    }\n",
       "\n",
       "    .dataframe tbody tr th {\n",
       "        vertical-align: top;\n",
       "    }\n",
       "\n",
       "    .dataframe thead th {\n",
       "        text-align: right;\n",
       "    }\n",
       "</style>\n",
       "<table border=\"1\" class=\"dataframe\">\n",
       "  <thead>\n",
       "    <tr style=\"text-align: right;\">\n",
       "      <th></th>\n",
       "      <th>Agency Code</th>\n",
       "      <th>Agency Name</th>\n",
       "      <th>Agency Type</th>\n",
       "      <th>City</th>\n",
       "      <th>State</th>\n",
       "      <th>Month</th>\n",
       "      <th>Crime Type</th>\n",
       "      <th>Crime Solved</th>\n",
       "      <th>Victim Sex</th>\n",
       "      <th>Victim Race</th>\n",
       "      <th>Victim Ethnicity</th>\n",
       "      <th>Perpetrator Sex</th>\n",
       "      <th>Perpetrator Race</th>\n",
       "      <th>Perpetrator Ethnicity</th>\n",
       "      <th>Relationship</th>\n",
       "      <th>Weapon</th>\n",
       "      <th>Record Source</th>\n",
       "    </tr>\n",
       "  </thead>\n",
       "  <tbody>\n",
       "    <tr>\n",
       "      <th>count</th>\n",
       "      <td>638454</td>\n",
       "      <td>638454</td>\n",
       "      <td>638454</td>\n",
       "      <td>638454</td>\n",
       "      <td>638454</td>\n",
       "      <td>638454</td>\n",
       "      <td>638454</td>\n",
       "      <td>638454</td>\n",
       "      <td>638454</td>\n",
       "      <td>638454</td>\n",
       "      <td>638454</td>\n",
       "      <td>638454</td>\n",
       "      <td>638454</td>\n",
       "      <td>638454</td>\n",
       "      <td>638454</td>\n",
       "      <td>638454</td>\n",
       "      <td>638454</td>\n",
       "    </tr>\n",
       "    <tr>\n",
       "      <th>unique</th>\n",
       "      <td>12003</td>\n",
       "      <td>9216</td>\n",
       "      <td>7</td>\n",
       "      <td>1782</td>\n",
       "      <td>51</td>\n",
       "      <td>12</td>\n",
       "      <td>2</td>\n",
       "      <td>2</td>\n",
       "      <td>3</td>\n",
       "      <td>5</td>\n",
       "      <td>3</td>\n",
       "      <td>3</td>\n",
       "      <td>5</td>\n",
       "      <td>3</td>\n",
       "      <td>28</td>\n",
       "      <td>16</td>\n",
       "      <td>2</td>\n",
       "    </tr>\n",
       "    <tr>\n",
       "      <th>top</th>\n",
       "      <td>NY03030</td>\n",
       "      <td>New York</td>\n",
       "      <td>Municipal Police</td>\n",
       "      <td>Los Angeles</td>\n",
       "      <td>California</td>\n",
       "      <td>July</td>\n",
       "      <td>Murder or Manslaughter</td>\n",
       "      <td>Yes</td>\n",
       "      <td>Male</td>\n",
       "      <td>White</td>\n",
       "      <td>Unknown</td>\n",
       "      <td>Male</td>\n",
       "      <td>White</td>\n",
       "      <td>Unknown</td>\n",
       "      <td>Unknown</td>\n",
       "      <td>Handgun</td>\n",
       "      <td>FBI</td>\n",
       "    </tr>\n",
       "    <tr>\n",
       "      <th>freq</th>\n",
       "      <td>38416</td>\n",
       "      <td>38416</td>\n",
       "      <td>493026</td>\n",
       "      <td>44511</td>\n",
       "      <td>99783</td>\n",
       "      <td>58696</td>\n",
       "      <td>629338</td>\n",
       "      <td>448172</td>\n",
       "      <td>494125</td>\n",
       "      <td>317422</td>\n",
       "      <td>368303</td>\n",
       "      <td>399541</td>\n",
       "      <td>218243</td>\n",
       "      <td>446410</td>\n",
       "      <td>273013</td>\n",
       "      <td>317484</td>\n",
       "      <td>616647</td>\n",
       "    </tr>\n",
       "  </tbody>\n",
       "</table>\n",
       "</div>"
      ],
      "text/plain": [
       "       Agency Code Agency Name       Agency Type         City       State  \\\n",
       "count       638454      638454            638454       638454      638454   \n",
       "unique       12003        9216                 7         1782          51   \n",
       "top        NY03030    New York  Municipal Police  Los Angeles  California   \n",
       "freq         38416       38416            493026        44511       99783   \n",
       "\n",
       "         Month              Crime Type Crime Solved Victim Sex Victim Race  \\\n",
       "count   638454                  638454       638454     638454      638454   \n",
       "unique      12                       2            2          3           5   \n",
       "top       July  Murder or Manslaughter          Yes       Male       White   \n",
       "freq     58696                  629338       448172     494125      317422   \n",
       "\n",
       "       Victim Ethnicity Perpetrator Sex Perpetrator Race  \\\n",
       "count            638454          638454           638454   \n",
       "unique                3               3                5   \n",
       "top             Unknown            Male            White   \n",
       "freq             368303          399541           218243   \n",
       "\n",
       "       Perpetrator Ethnicity Relationship   Weapon Record Source  \n",
       "count                 638454       638454   638454        638454  \n",
       "unique                     3           28       16             2  \n",
       "top                  Unknown      Unknown  Handgun           FBI  \n",
       "freq                  446410       273013   317484        616647  "
      ]
     },
     "execution_count": 61,
     "metadata": {},
     "output_type": "execute_result"
    }
   ],
   "source": [
    "df_categorical = df.select_dtypes(include='object')\n",
    "df_categorical.describe()"
   ]
  },
  {
   "cell_type": "code",
   "execution_count": 62,
   "metadata": {},
   "outputs": [
    {
     "data": {
      "text/html": [
       "<div>\n",
       "<style scoped>\n",
       "    .dataframe tbody tr th:only-of-type {\n",
       "        vertical-align: middle;\n",
       "    }\n",
       "\n",
       "    .dataframe tbody tr th {\n",
       "        vertical-align: top;\n",
       "    }\n",
       "\n",
       "    .dataframe thead th {\n",
       "        text-align: right;\n",
       "    }\n",
       "</style>\n",
       "<table border=\"1\" class=\"dataframe\">\n",
       "  <thead>\n",
       "    <tr style=\"text-align: right;\">\n",
       "      <th></th>\n",
       "      <th>Attribute</th>\n",
       "      <th>Levels</th>\n",
       "      <th>Levels_Count</th>\n",
       "      <th>Unknown_Count</th>\n",
       "    </tr>\n",
       "  </thead>\n",
       "  <tbody>\n",
       "    <tr>\n",
       "      <th>13</th>\n",
       "      <td>Perpetrator Ethnicity</td>\n",
       "      <td>[Unknown, Not Hispanic, Hispanic]</td>\n",
       "      <td>3</td>\n",
       "      <td>446410</td>\n",
       "    </tr>\n",
       "    <tr>\n",
       "      <th>10</th>\n",
       "      <td>Victim Ethnicity</td>\n",
       "      <td>[Unknown, Not Hispanic, Hispanic]</td>\n",
       "      <td>3</td>\n",
       "      <td>368303</td>\n",
       "    </tr>\n",
       "    <tr>\n",
       "      <th>14</th>\n",
       "      <td>Relationship</td>\n",
       "      <td>[Acquaintance, Unknown, Wife, Stranger, Girlfr...</td>\n",
       "      <td>28</td>\n",
       "      <td>273013</td>\n",
       "    </tr>\n",
       "    <tr>\n",
       "      <th>12</th>\n",
       "      <td>Perpetrator Race</td>\n",
       "      <td>[Native American/Alaska Native, White, Unknown...</td>\n",
       "      <td>5</td>\n",
       "      <td>196047</td>\n",
       "    </tr>\n",
       "    <tr>\n",
       "      <th>11</th>\n",
       "      <td>Perpetrator Sex</td>\n",
       "      <td>[Male, Unknown, Female]</td>\n",
       "      <td>3</td>\n",
       "      <td>190365</td>\n",
       "    </tr>\n",
       "    <tr>\n",
       "      <th>15</th>\n",
       "      <td>Weapon</td>\n",
       "      <td>[Blunt Object, Strangulation, Unknown, Rifle, ...</td>\n",
       "      <td>16</td>\n",
       "      <td>33192</td>\n",
       "    </tr>\n",
       "    <tr>\n",
       "      <th>9</th>\n",
       "      <td>Victim Race</td>\n",
       "      <td>[Native American/Alaska Native, White, Black, ...</td>\n",
       "      <td>5</td>\n",
       "      <td>6676</td>\n",
       "    </tr>\n",
       "    <tr>\n",
       "      <th>8</th>\n",
       "      <td>Victim Sex</td>\n",
       "      <td>[Male, Female, Unknown]</td>\n",
       "      <td>3</td>\n",
       "      <td>984</td>\n",
       "    </tr>\n",
       "    <tr>\n",
       "      <th>1</th>\n",
       "      <td>Agency Name</td>\n",
       "      <td>[Anchorage, Juneau, Nome, Bethel, North Slope ...</td>\n",
       "      <td>9216</td>\n",
       "      <td>47</td>\n",
       "    </tr>\n",
       "    <tr>\n",
       "      <th>0</th>\n",
       "      <td>Agency Code</td>\n",
       "      <td>[AK00101, AK00103, AK00106, AK00113, AK00118, ...</td>\n",
       "      <td>12003</td>\n",
       "      <td>0</td>\n",
       "    </tr>\n",
       "    <tr>\n",
       "      <th>7</th>\n",
       "      <td>Crime Solved</td>\n",
       "      <td>[Yes, No]</td>\n",
       "      <td>2</td>\n",
       "      <td>0</td>\n",
       "    </tr>\n",
       "    <tr>\n",
       "      <th>6</th>\n",
       "      <td>Crime Type</td>\n",
       "      <td>[Murder or Manslaughter, Manslaughter by Negli...</td>\n",
       "      <td>2</td>\n",
       "      <td>0</td>\n",
       "    </tr>\n",
       "    <tr>\n",
       "      <th>5</th>\n",
       "      <td>Month</td>\n",
       "      <td>[January, March, April, May, June, July, Augus...</td>\n",
       "      <td>12</td>\n",
       "      <td>0</td>\n",
       "    </tr>\n",
       "    <tr>\n",
       "      <th>4</th>\n",
       "      <td>State</td>\n",
       "      <td>[Alaska, Alabama, Arkansas, Arizona, Californi...</td>\n",
       "      <td>51</td>\n",
       "      <td>0</td>\n",
       "    </tr>\n",
       "    <tr>\n",
       "      <th>3</th>\n",
       "      <td>City</td>\n",
       "      <td>[Anchorage, Juneau, Nome, Bethel, North Slope,...</td>\n",
       "      <td>1782</td>\n",
       "      <td>0</td>\n",
       "    </tr>\n",
       "    <tr>\n",
       "      <th>2</th>\n",
       "      <td>Agency Type</td>\n",
       "      <td>[Municipal Police, County Police, State Police...</td>\n",
       "      <td>7</td>\n",
       "      <td>0</td>\n",
       "    </tr>\n",
       "    <tr>\n",
       "      <th>16</th>\n",
       "      <td>Record Source</td>\n",
       "      <td>[FBI, FOIA]</td>\n",
       "      <td>2</td>\n",
       "      <td>0</td>\n",
       "    </tr>\n",
       "  </tbody>\n",
       "</table>\n",
       "</div>"
      ],
      "text/plain": [
       "                Attribute                                             Levels  \\\n",
       "13  Perpetrator Ethnicity                  [Unknown, Not Hispanic, Hispanic]   \n",
       "10       Victim Ethnicity                  [Unknown, Not Hispanic, Hispanic]   \n",
       "14           Relationship  [Acquaintance, Unknown, Wife, Stranger, Girlfr...   \n",
       "12       Perpetrator Race  [Native American/Alaska Native, White, Unknown...   \n",
       "11        Perpetrator Sex                            [Male, Unknown, Female]   \n",
       "15                 Weapon  [Blunt Object, Strangulation, Unknown, Rifle, ...   \n",
       "9             Victim Race  [Native American/Alaska Native, White, Black, ...   \n",
       "8              Victim Sex                            [Male, Female, Unknown]   \n",
       "1             Agency Name  [Anchorage, Juneau, Nome, Bethel, North Slope ...   \n",
       "0             Agency Code  [AK00101, AK00103, AK00106, AK00113, AK00118, ...   \n",
       "7            Crime Solved                                          [Yes, No]   \n",
       "6              Crime Type  [Murder or Manslaughter, Manslaughter by Negli...   \n",
       "5                   Month  [January, March, April, May, June, July, Augus...   \n",
       "4                   State  [Alaska, Alabama, Arkansas, Arizona, Californi...   \n",
       "3                    City  [Anchorage, Juneau, Nome, Bethel, North Slope,...   \n",
       "2             Agency Type  [Municipal Police, County Police, State Police...   \n",
       "16          Record Source                                        [FBI, FOIA]   \n",
       "\n",
       "   Levels_Count Unknown_Count  \n",
       "13            3        446410  \n",
       "10            3        368303  \n",
       "14           28        273013  \n",
       "12            5        196047  \n",
       "11            3        190365  \n",
       "15           16         33192  \n",
       "9             5          6676  \n",
       "8             3           984  \n",
       "1          9216            47  \n",
       "0         12003             0  \n",
       "7             2             0  \n",
       "6             2             0  \n",
       "5            12             0  \n",
       "4            51             0  \n",
       "3          1782             0  \n",
       "2             7             0  \n",
       "16            2             0  "
      ]
     },
     "execution_count": 62,
     "metadata": {},
     "output_type": "execute_result"
    }
   ],
   "source": [
    "# get all levels per categorical attribute\n",
    "df_categorical_levels = pd.DataFrame()\n",
    "df_categorical_levels['Attribute'] = df_categorical.columns\n",
    "df_categorical_levels['Levels'] = ''\n",
    "df_categorical_levels['Levels_Count'] = ''\n",
    "df_categorical_levels['Unknown_Count'] = ''\n",
    "\n",
    "# populate the dataframe with categorical levels and count of each category\n",
    "for i, row in df_categorical_levels.iterrows():\n",
    "    attribute = row['Attribute']\n",
    "    df_categorical_levels.at[i,'Levels'] = df[attribute].unique()\n",
    "    df_categorical_levels.at[i,'Levels_Count'] = len(df[attribute].unique())\n",
    "    try:\n",
    "        df_categorical_levels.at[i,'Unknown_Count'] = df.groupby(attribute).count().loc['Unknown'][0]\n",
    "    except: \n",
    "        df_categorical_levels.at[i,'Unknown_Count'] = 0\n",
    "df_categorical_levels.sort_values(by='Unknown_Count', ascending = False)"
   ]
  },
  {
   "cell_type": "code",
   "execution_count": 63,
   "metadata": {},
   "outputs": [
    {
     "data": {
      "text/html": [
       "<div>\n",
       "<style scoped>\n",
       "    .dataframe tbody tr th:only-of-type {\n",
       "        vertical-align: middle;\n",
       "    }\n",
       "\n",
       "    .dataframe tbody tr th {\n",
       "        vertical-align: top;\n",
       "    }\n",
       "\n",
       "    .dataframe thead th {\n",
       "        text-align: right;\n",
       "    }\n",
       "</style>\n",
       "<table border=\"1\" class=\"dataframe\">\n",
       "  <thead>\n",
       "    <tr style=\"text-align: right;\">\n",
       "      <th></th>\n",
       "      <th>Record ID</th>\n",
       "      <th>Year</th>\n",
       "      <th>Incident</th>\n",
       "      <th>Victim Age</th>\n",
       "      <th>Perpetrator Age</th>\n",
       "      <th>Victim Count</th>\n",
       "      <th>Perpetrator Count</th>\n",
       "    </tr>\n",
       "  </thead>\n",
       "  <tbody>\n",
       "    <tr>\n",
       "      <th>count</th>\n",
       "      <td>638454.00000</td>\n",
       "      <td>638454.000000</td>\n",
       "      <td>638454.000000</td>\n",
       "      <td>638454.00000</td>\n",
       "      <td>638454.000000</td>\n",
       "      <td>638454.000000</td>\n",
       "      <td>638454.000000</td>\n",
       "    </tr>\n",
       "    <tr>\n",
       "      <th>mean</th>\n",
       "      <td>319227.50000</td>\n",
       "      <td>1995.801102</td>\n",
       "      <td>22.967924</td>\n",
       "      <td>33.55677</td>\n",
       "      <td>29.471093</td>\n",
       "      <td>0.123334</td>\n",
       "      <td>0.185224</td>\n",
       "    </tr>\n",
       "    <tr>\n",
       "      <th>std</th>\n",
       "      <td>184305.93872</td>\n",
       "      <td>9.927693</td>\n",
       "      <td>92.149821</td>\n",
       "      <td>17.77956</td>\n",
       "      <td>10.555174</td>\n",
       "      <td>0.537733</td>\n",
       "      <td>0.585496</td>\n",
       "    </tr>\n",
       "    <tr>\n",
       "      <th>min</th>\n",
       "      <td>1.00000</td>\n",
       "      <td>1980.000000</td>\n",
       "      <td>0.000000</td>\n",
       "      <td>0.00000</td>\n",
       "      <td>1.000000</td>\n",
       "      <td>0.000000</td>\n",
       "      <td>0.000000</td>\n",
       "    </tr>\n",
       "    <tr>\n",
       "      <th>25%</th>\n",
       "      <td>159614.25000</td>\n",
       "      <td>1987.000000</td>\n",
       "      <td>1.000000</td>\n",
       "      <td>22.00000</td>\n",
       "      <td>24.000000</td>\n",
       "      <td>0.000000</td>\n",
       "      <td>0.000000</td>\n",
       "    </tr>\n",
       "    <tr>\n",
       "      <th>50%</th>\n",
       "      <td>319227.50000</td>\n",
       "      <td>1995.000000</td>\n",
       "      <td>2.000000</td>\n",
       "      <td>30.00000</td>\n",
       "      <td>27.000000</td>\n",
       "      <td>0.000000</td>\n",
       "      <td>0.000000</td>\n",
       "    </tr>\n",
       "    <tr>\n",
       "      <th>75%</th>\n",
       "      <td>478840.75000</td>\n",
       "      <td>2004.000000</td>\n",
       "      <td>10.000000</td>\n",
       "      <td>41.00000</td>\n",
       "      <td>31.000000</td>\n",
       "      <td>0.000000</td>\n",
       "      <td>0.000000</td>\n",
       "    </tr>\n",
       "    <tr>\n",
       "      <th>max</th>\n",
       "      <td>638454.00000</td>\n",
       "      <td>2014.000000</td>\n",
       "      <td>999.000000</td>\n",
       "      <td>99.00000</td>\n",
       "      <td>99.000000</td>\n",
       "      <td>10.000000</td>\n",
       "      <td>10.000000</td>\n",
       "    </tr>\n",
       "  </tbody>\n",
       "</table>\n",
       "</div>"
      ],
      "text/plain": [
       "          Record ID           Year       Incident    Victim Age  \\\n",
       "count  638454.00000  638454.000000  638454.000000  638454.00000   \n",
       "mean   319227.50000    1995.801102      22.967924      33.55677   \n",
       "std    184305.93872       9.927693      92.149821      17.77956   \n",
       "min         1.00000    1980.000000       0.000000       0.00000   \n",
       "25%    159614.25000    1987.000000       1.000000      22.00000   \n",
       "50%    319227.50000    1995.000000       2.000000      30.00000   \n",
       "75%    478840.75000    2004.000000      10.000000      41.00000   \n",
       "max    638454.00000    2014.000000     999.000000      99.00000   \n",
       "\n",
       "       Perpetrator Age   Victim Count  Perpetrator Count  \n",
       "count    638454.000000  638454.000000      638454.000000  \n",
       "mean         29.471093       0.123334           0.185224  \n",
       "std          10.555174       0.537733           0.585496  \n",
       "min           1.000000       0.000000           0.000000  \n",
       "25%          24.000000       0.000000           0.000000  \n",
       "50%          27.000000       0.000000           0.000000  \n",
       "75%          31.000000       0.000000           0.000000  \n",
       "max          99.000000      10.000000          10.000000  "
      ]
     },
     "execution_count": 63,
     "metadata": {},
     "output_type": "execute_result"
    }
   ],
   "source": [
    "# basic statistics for continuous variables\n",
    "df.describe()"
   ]
  },
  {
   "cell_type": "code",
   "execution_count": 64,
   "metadata": {},
   "outputs": [
    {
     "data": {
      "text/html": [
       "<div>\n",
       "<style scoped>\n",
       "    .dataframe tbody tr th:only-of-type {\n",
       "        vertical-align: middle;\n",
       "    }\n",
       "\n",
       "    .dataframe tbody tr th {\n",
       "        vertical-align: top;\n",
       "    }\n",
       "\n",
       "    .dataframe thead th {\n",
       "        text-align: right;\n",
       "    }\n",
       "</style>\n",
       "<table border=\"1\" class=\"dataframe\">\n",
       "  <thead>\n",
       "    <tr style=\"text-align: right;\">\n",
       "      <th></th>\n",
       "      <th>Record ID</th>\n",
       "      <th>Agency Code</th>\n",
       "      <th>Agency Name</th>\n",
       "      <th>Agency Type</th>\n",
       "      <th>City</th>\n",
       "      <th>State</th>\n",
       "      <th>Year</th>\n",
       "      <th>Month</th>\n",
       "      <th>Incident</th>\n",
       "      <th>Crime Type</th>\n",
       "      <th>...</th>\n",
       "      <th>Victim Ethnicity</th>\n",
       "      <th>Perpetrator Sex</th>\n",
       "      <th>Perpetrator Age</th>\n",
       "      <th>Perpetrator Race</th>\n",
       "      <th>Perpetrator Ethnicity</th>\n",
       "      <th>Relationship</th>\n",
       "      <th>Weapon</th>\n",
       "      <th>Victim Count</th>\n",
       "      <th>Perpetrator Count</th>\n",
       "      <th>Record Source</th>\n",
       "    </tr>\n",
       "    <tr>\n",
       "      <th>Victim Age</th>\n",
       "      <th></th>\n",
       "      <th></th>\n",
       "      <th></th>\n",
       "      <th></th>\n",
       "      <th></th>\n",
       "      <th></th>\n",
       "      <th></th>\n",
       "      <th></th>\n",
       "      <th></th>\n",
       "      <th></th>\n",
       "      <th></th>\n",
       "      <th></th>\n",
       "      <th></th>\n",
       "      <th></th>\n",
       "      <th></th>\n",
       "      <th></th>\n",
       "      <th></th>\n",
       "      <th></th>\n",
       "      <th></th>\n",
       "      <th></th>\n",
       "      <th></th>\n",
       "    </tr>\n",
       "  </thead>\n",
       "  <tbody>\n",
       "    <tr>\n",
       "      <th>0.0</th>\n",
       "      <td>8444</td>\n",
       "      <td>8444</td>\n",
       "      <td>8444</td>\n",
       "      <td>8444</td>\n",
       "      <td>8444</td>\n",
       "      <td>8444</td>\n",
       "      <td>8444</td>\n",
       "      <td>8444</td>\n",
       "      <td>8444</td>\n",
       "      <td>8444</td>\n",
       "      <td>...</td>\n",
       "      <td>8444</td>\n",
       "      <td>8444</td>\n",
       "      <td>8444</td>\n",
       "      <td>8444</td>\n",
       "      <td>8444</td>\n",
       "      <td>8444</td>\n",
       "      <td>8444</td>\n",
       "      <td>8444</td>\n",
       "      <td>8444</td>\n",
       "      <td>8444</td>\n",
       "    </tr>\n",
       "    <tr>\n",
       "      <th>1.0</th>\n",
       "      <td>5525</td>\n",
       "      <td>5525</td>\n",
       "      <td>5525</td>\n",
       "      <td>5525</td>\n",
       "      <td>5525</td>\n",
       "      <td>5525</td>\n",
       "      <td>5525</td>\n",
       "      <td>5525</td>\n",
       "      <td>5525</td>\n",
       "      <td>5525</td>\n",
       "      <td>...</td>\n",
       "      <td>5525</td>\n",
       "      <td>5525</td>\n",
       "      <td>5525</td>\n",
       "      <td>5525</td>\n",
       "      <td>5525</td>\n",
       "      <td>5525</td>\n",
       "      <td>5525</td>\n",
       "      <td>5525</td>\n",
       "      <td>5525</td>\n",
       "      <td>5525</td>\n",
       "    </tr>\n",
       "    <tr>\n",
       "      <th>2.0</th>\n",
       "      <td>3805</td>\n",
       "      <td>3805</td>\n",
       "      <td>3805</td>\n",
       "      <td>3805</td>\n",
       "      <td>3805</td>\n",
       "      <td>3805</td>\n",
       "      <td>3805</td>\n",
       "      <td>3805</td>\n",
       "      <td>3805</td>\n",
       "      <td>3805</td>\n",
       "      <td>...</td>\n",
       "      <td>3805</td>\n",
       "      <td>3805</td>\n",
       "      <td>3805</td>\n",
       "      <td>3805</td>\n",
       "      <td>3805</td>\n",
       "      <td>3805</td>\n",
       "      <td>3805</td>\n",
       "      <td>3805</td>\n",
       "      <td>3805</td>\n",
       "      <td>3805</td>\n",
       "    </tr>\n",
       "    <tr>\n",
       "      <th>3.0</th>\n",
       "      <td>2378</td>\n",
       "      <td>2378</td>\n",
       "      <td>2378</td>\n",
       "      <td>2378</td>\n",
       "      <td>2378</td>\n",
       "      <td>2378</td>\n",
       "      <td>2378</td>\n",
       "      <td>2378</td>\n",
       "      <td>2378</td>\n",
       "      <td>2378</td>\n",
       "      <td>...</td>\n",
       "      <td>2378</td>\n",
       "      <td>2378</td>\n",
       "      <td>2378</td>\n",
       "      <td>2378</td>\n",
       "      <td>2378</td>\n",
       "      <td>2378</td>\n",
       "      <td>2378</td>\n",
       "      <td>2378</td>\n",
       "      <td>2378</td>\n",
       "      <td>2378</td>\n",
       "    </tr>\n",
       "    <tr>\n",
       "      <th>4.0</th>\n",
       "      <td>1659</td>\n",
       "      <td>1659</td>\n",
       "      <td>1659</td>\n",
       "      <td>1659</td>\n",
       "      <td>1659</td>\n",
       "      <td>1659</td>\n",
       "      <td>1659</td>\n",
       "      <td>1659</td>\n",
       "      <td>1659</td>\n",
       "      <td>1659</td>\n",
       "      <td>...</td>\n",
       "      <td>1659</td>\n",
       "      <td>1659</td>\n",
       "      <td>1659</td>\n",
       "      <td>1659</td>\n",
       "      <td>1659</td>\n",
       "      <td>1659</td>\n",
       "      <td>1659</td>\n",
       "      <td>1659</td>\n",
       "      <td>1659</td>\n",
       "      <td>1659</td>\n",
       "    </tr>\n",
       "    <tr>\n",
       "      <th>...</th>\n",
       "      <td>...</td>\n",
       "      <td>...</td>\n",
       "      <td>...</td>\n",
       "      <td>...</td>\n",
       "      <td>...</td>\n",
       "      <td>...</td>\n",
       "      <td>...</td>\n",
       "      <td>...</td>\n",
       "      <td>...</td>\n",
       "      <td>...</td>\n",
       "      <td>...</td>\n",
       "      <td>...</td>\n",
       "      <td>...</td>\n",
       "      <td>...</td>\n",
       "      <td>...</td>\n",
       "      <td>...</td>\n",
       "      <td>...</td>\n",
       "      <td>...</td>\n",
       "      <td>...</td>\n",
       "      <td>...</td>\n",
       "      <td>...</td>\n",
       "    </tr>\n",
       "    <tr>\n",
       "      <th>95.0</th>\n",
       "      <td>82</td>\n",
       "      <td>82</td>\n",
       "      <td>82</td>\n",
       "      <td>82</td>\n",
       "      <td>82</td>\n",
       "      <td>82</td>\n",
       "      <td>82</td>\n",
       "      <td>82</td>\n",
       "      <td>82</td>\n",
       "      <td>82</td>\n",
       "      <td>...</td>\n",
       "      <td>82</td>\n",
       "      <td>82</td>\n",
       "      <td>82</td>\n",
       "      <td>82</td>\n",
       "      <td>82</td>\n",
       "      <td>82</td>\n",
       "      <td>82</td>\n",
       "      <td>82</td>\n",
       "      <td>82</td>\n",
       "      <td>82</td>\n",
       "    </tr>\n",
       "    <tr>\n",
       "      <th>96.0</th>\n",
       "      <td>37</td>\n",
       "      <td>37</td>\n",
       "      <td>37</td>\n",
       "      <td>37</td>\n",
       "      <td>37</td>\n",
       "      <td>37</td>\n",
       "      <td>37</td>\n",
       "      <td>37</td>\n",
       "      <td>37</td>\n",
       "      <td>37</td>\n",
       "      <td>...</td>\n",
       "      <td>37</td>\n",
       "      <td>37</td>\n",
       "      <td>37</td>\n",
       "      <td>37</td>\n",
       "      <td>37</td>\n",
       "      <td>37</td>\n",
       "      <td>37</td>\n",
       "      <td>37</td>\n",
       "      <td>37</td>\n",
       "      <td>37</td>\n",
       "    </tr>\n",
       "    <tr>\n",
       "      <th>97.0</th>\n",
       "      <td>39</td>\n",
       "      <td>39</td>\n",
       "      <td>39</td>\n",
       "      <td>39</td>\n",
       "      <td>39</td>\n",
       "      <td>39</td>\n",
       "      <td>39</td>\n",
       "      <td>39</td>\n",
       "      <td>39</td>\n",
       "      <td>39</td>\n",
       "      <td>...</td>\n",
       "      <td>39</td>\n",
       "      <td>39</td>\n",
       "      <td>39</td>\n",
       "      <td>39</td>\n",
       "      <td>39</td>\n",
       "      <td>39</td>\n",
       "      <td>39</td>\n",
       "      <td>39</td>\n",
       "      <td>39</td>\n",
       "      <td>39</td>\n",
       "    </tr>\n",
       "    <tr>\n",
       "      <th>98.0</th>\n",
       "      <td>33</td>\n",
       "      <td>33</td>\n",
       "      <td>33</td>\n",
       "      <td>33</td>\n",
       "      <td>33</td>\n",
       "      <td>33</td>\n",
       "      <td>33</td>\n",
       "      <td>33</td>\n",
       "      <td>33</td>\n",
       "      <td>33</td>\n",
       "      <td>...</td>\n",
       "      <td>33</td>\n",
       "      <td>33</td>\n",
       "      <td>33</td>\n",
       "      <td>33</td>\n",
       "      <td>33</td>\n",
       "      <td>33</td>\n",
       "      <td>33</td>\n",
       "      <td>33</td>\n",
       "      <td>33</td>\n",
       "      <td>33</td>\n",
       "    </tr>\n",
       "    <tr>\n",
       "      <th>99.0</th>\n",
       "      <td>9281</td>\n",
       "      <td>9281</td>\n",
       "      <td>9281</td>\n",
       "      <td>9281</td>\n",
       "      <td>9281</td>\n",
       "      <td>9281</td>\n",
       "      <td>9281</td>\n",
       "      <td>9281</td>\n",
       "      <td>9281</td>\n",
       "      <td>9281</td>\n",
       "      <td>...</td>\n",
       "      <td>9281</td>\n",
       "      <td>9281</td>\n",
       "      <td>9281</td>\n",
       "      <td>9281</td>\n",
       "      <td>9281</td>\n",
       "      <td>9281</td>\n",
       "      <td>9281</td>\n",
       "      <td>9281</td>\n",
       "      <td>9281</td>\n",
       "      <td>9281</td>\n",
       "    </tr>\n",
       "  </tbody>\n",
       "</table>\n",
       "<p>100 rows × 23 columns</p>\n",
       "</div>"
      ],
      "text/plain": [
       "            Record ID  Agency Code  Agency Name  Agency Type  City  State  \\\n",
       "Victim Age                                                                  \n",
       "0.0              8444         8444         8444         8444  8444   8444   \n",
       "1.0              5525         5525         5525         5525  5525   5525   \n",
       "2.0              3805         3805         3805         3805  3805   3805   \n",
       "3.0              2378         2378         2378         2378  2378   2378   \n",
       "4.0              1659         1659         1659         1659  1659   1659   \n",
       "...               ...          ...          ...          ...   ...    ...   \n",
       "95.0               82           82           82           82    82     82   \n",
       "96.0               37           37           37           37    37     37   \n",
       "97.0               39           39           39           39    39     39   \n",
       "98.0               33           33           33           33    33     33   \n",
       "99.0             9281         9281         9281         9281  9281   9281   \n",
       "\n",
       "            Year  Month  Incident  Crime Type  ...  Victim Ethnicity  \\\n",
       "Victim Age                                     ...                     \n",
       "0.0         8444   8444      8444        8444  ...              8444   \n",
       "1.0         5525   5525      5525        5525  ...              5525   \n",
       "2.0         3805   3805      3805        3805  ...              3805   \n",
       "3.0         2378   2378      2378        2378  ...              2378   \n",
       "4.0         1659   1659      1659        1659  ...              1659   \n",
       "...          ...    ...       ...         ...  ...               ...   \n",
       "95.0          82     82        82          82  ...                82   \n",
       "96.0          37     37        37          37  ...                37   \n",
       "97.0          39     39        39          39  ...                39   \n",
       "98.0          33     33        33          33  ...                33   \n",
       "99.0        9281   9281      9281        9281  ...              9281   \n",
       "\n",
       "            Perpetrator Sex  Perpetrator Age  Perpetrator Race  \\\n",
       "Victim Age                                                       \n",
       "0.0                    8444             8444              8444   \n",
       "1.0                    5525             5525              5525   \n",
       "2.0                    3805             3805              3805   \n",
       "3.0                    2378             2378              2378   \n",
       "4.0                    1659             1659              1659   \n",
       "...                     ...              ...               ...   \n",
       "95.0                     82               82                82   \n",
       "96.0                     37               37                37   \n",
       "97.0                     39               39                39   \n",
       "98.0                     33               33                33   \n",
       "99.0                   9281             9281              9281   \n",
       "\n",
       "            Perpetrator Ethnicity  Relationship  Weapon  Victim Count  \\\n",
       "Victim Age                                                              \n",
       "0.0                          8444          8444    8444          8444   \n",
       "1.0                          5525          5525    5525          5525   \n",
       "2.0                          3805          3805    3805          3805   \n",
       "3.0                          2378          2378    2378          2378   \n",
       "4.0                          1659          1659    1659          1659   \n",
       "...                           ...           ...     ...           ...   \n",
       "95.0                           82            82      82            82   \n",
       "96.0                           37            37      37            37   \n",
       "97.0                           39            39      39            39   \n",
       "98.0                           33            33      33            33   \n",
       "99.0                         9281          9281    9281          9281   \n",
       "\n",
       "            Perpetrator Count  Record Source  \n",
       "Victim Age                                    \n",
       "0.0                      8444           8444  \n",
       "1.0                      5525           5525  \n",
       "2.0                      3805           3805  \n",
       "3.0                      2378           2378  \n",
       "4.0                      1659           1659  \n",
       "...                       ...            ...  \n",
       "95.0                       82             82  \n",
       "96.0                       37             37  \n",
       "97.0                       39             39  \n",
       "98.0                       33             33  \n",
       "99.0                     9281           9281  \n",
       "\n",
       "[100 rows x 23 columns]"
      ]
     },
     "execution_count": 64,
     "metadata": {},
     "output_type": "execute_result"
    }
   ],
   "source": [
    "df.groupby('Victim Age').count()"
   ]
  },
  {
   "cell_type": "markdown",
   "metadata": {},
   "source": [
    "#### [15 points] Visualization\n",
    "Visualize the most important attributes appropriately (at least 5 attributes).\n",
    "Important: Provide an interpretation for each chart. Explain for each attribute why the\n",
    "chosen visualization is appropriate."
   ]
  },
  {
   "cell_type": "code",
   "execution_count": 67,
   "metadata": {},
   "outputs": [
    {
     "data": {
      "image/png": "[encoded data removed]",
      "text/plain": [
       "<Figure size 864x432 with 1 Axes>"
      ]
     },
     "metadata": {
      "needs_background": "light"
     },
     "output_type": "display_data"
    }
   ],
   "source": [
    "import matplotlib.pyplot as plt\n",
    "df2 = df.groupby(by=['Year'])['Victim Count','Perpetrator Count','Incident'].sum().reset_index()\n",
    "vp=df2\n",
    "plt.figure(figsize=(12,6))\n",
    "plt.plot(vp.Year,vp['Perpetrator Count'],color='#3498DB',label='Perpetrator')\n",
    "plt.plot(vp.Year,vp['Victim Count'],color='#CB4335',label='Victim')\n",
    "#plt.plot(vp.year,vp['Incident'],color='green',label='Incident')\n",
    "plt.title('US had the worst crime rate in 1995',size=18)\n",
    "plt.legend()\n",
    "plt.xlabel('Year',size=14)\n",
    "plt.ylabel('Sum of victim and Perpetrator',size=14)\n",
    "plt.show() "
   ]
  },
  {
   "cell_type": "code",
   "execution_count": 97,
   "metadata": {},
   "outputs": [
    {
     "name": "stderr",
     "output_type": "stream",
     "text": [
      "No handles with labels found to put in legend.\n"
     ]
    },
    {
     "data": {
      "image/png": "[encoded data removed]",
      "text/plain": [
       "<Figure size 864x432 with 1 Axes>"
      ]
     },
     "metadata": {},
     "output_type": "display_data"
    }
   ],
   "source": [
    "# swap y with Count of Record iD\n",
    "sns.set(style='whitegrid')\n",
    "sns.catplot(x='Victim Race',\n",
    "            y='Incident',\n",
    "            kind='bar',\n",
    "            height=6, # makes the height 6 units high\n",
    "            aspect=2, # height should be 2 times width\n",
    "            data=df,\n",
    "            \n",
    "            legend=False, # remove default legend\n",
    "           palette=['#432371',\"#FAAE7B\",'red'])\n",
    "plt.xlabel('Victim Race',size=14)\n",
    "plt.ylabel('Total Number of Incidents',size=14)\n",
    "plt.title('On average black inidividual of unknown race experience \\n the highest incident of crime ',size=18)\n",
    "plt.legend(loc='upper left')\n",
    "plt.show() "
   ]
  },
  {
   "cell_type": "code",
   "execution_count": 70,
   "metadata": {},
   "outputs": [
    {
     "data": {
      "text/html": [
       "<div>\n",
       "<style scoped>\n",
       "    .dataframe tbody tr th:only-of-type {\n",
       "        vertical-align: middle;\n",
       "    }\n",
       "\n",
       "    .dataframe tbody tr th {\n",
       "        vertical-align: top;\n",
       "    }\n",
       "\n",
       "    .dataframe thead th {\n",
       "        text-align: right;\n",
       "    }\n",
       "</style>\n",
       "<table border=\"1\" class=\"dataframe\">\n",
       "  <thead>\n",
       "    <tr style=\"text-align: right;\">\n",
       "      <th>Victim Sex</th>\n",
       "      <th>Female</th>\n",
       "      <th>Male</th>\n",
       "      <th>Unknown</th>\n",
       "      <th>Total</th>\n",
       "    </tr>\n",
       "    <tr>\n",
       "      <th>Victim Race</th>\n",
       "      <th></th>\n",
       "      <th></th>\n",
       "      <th></th>\n",
       "      <th></th>\n",
       "    </tr>\n",
       "  </thead>\n",
       "  <tbody>\n",
       "    <tr>\n",
       "      <th>Asian/Pacific Islander</th>\n",
       "      <td>2953</td>\n",
       "      <td>6935</td>\n",
       "      <td>2</td>\n",
       "      <td>9890</td>\n",
       "    </tr>\n",
       "    <tr>\n",
       "      <th>Black</th>\n",
       "      <td>52083</td>\n",
       "      <td>247775</td>\n",
       "      <td>41</td>\n",
       "      <td>299899</td>\n",
       "    </tr>\n",
       "    <tr>\n",
       "      <th>Native American/Alaska Native</th>\n",
       "      <td>1218</td>\n",
       "      <td>3348</td>\n",
       "      <td>1</td>\n",
       "      <td>4567</td>\n",
       "    </tr>\n",
       "    <tr>\n",
       "      <th>Unknown</th>\n",
       "      <td>1352</td>\n",
       "      <td>4439</td>\n",
       "      <td>885</td>\n",
       "      <td>6676</td>\n",
       "    </tr>\n",
       "    <tr>\n",
       "      <th>White</th>\n",
       "      <td>85739</td>\n",
       "      <td>231628</td>\n",
       "      <td>55</td>\n",
       "      <td>317422</td>\n",
       "    </tr>\n",
       "    <tr>\n",
       "      <th>Total</th>\n",
       "      <td>143345</td>\n",
       "      <td>494125</td>\n",
       "      <td>984</td>\n",
       "      <td>638454</td>\n",
       "    </tr>\n",
       "  </tbody>\n",
       "</table>\n",
       "</div>"
      ],
      "text/plain": [
       "Victim Sex                     Female    Male  Unknown   Total\n",
       "Victim Race                                                   \n",
       "Asian/Pacific Islander           2953    6935        2    9890\n",
       "Black                           52083  247775       41  299899\n",
       "Native American/Alaska Native    1218    3348        1    4567\n",
       "Unknown                          1352    4439      885    6676\n",
       "White                           85739  231628       55  317422\n",
       "Total                          143345  494125      984  638454"
      ]
     },
     "execution_count": 70,
     "metadata": {},
     "output_type": "execute_result"
    }
   ],
   "source": []
  },
  {
   "cell_type": "code",
   "execution_count": 71,
   "metadata": {},
   "outputs": [
    {
     "data": {
      "text/html": [
       "<div>\n",
       "<style scoped>\n",
       "    .dataframe tbody tr th:only-of-type {\n",
       "        vertical-align: middle;\n",
       "    }\n",
       "\n",
       "    .dataframe tbody tr th {\n",
       "        vertical-align: top;\n",
       "    }\n",
       "\n",
       "    .dataframe thead th {\n",
       "        text-align: right;\n",
       "    }\n",
       "</style>\n",
       "<table border=\"1\" class=\"dataframe\">\n",
       "  <thead>\n",
       "    <tr style=\"text-align: right;\">\n",
       "      <th>Victim Sex</th>\n",
       "      <th>Female</th>\n",
       "      <th>Male</th>\n",
       "      <th>Unknown</th>\n",
       "      <th>Total</th>\n",
       "    </tr>\n",
       "    <tr>\n",
       "      <th>Victim Race</th>\n",
       "      <th></th>\n",
       "      <th></th>\n",
       "      <th></th>\n",
       "      <th></th>\n",
       "    </tr>\n",
       "  </thead>\n",
       "  <tbody>\n",
       "    <tr>\n",
       "      <th>Asian/Pacific Islander</th>\n",
       "      <td>2.060065</td>\n",
       "      <td>1.403491</td>\n",
       "      <td>0.203252</td>\n",
       "      <td>1.549054</td>\n",
       "    </tr>\n",
       "    <tr>\n",
       "      <th>Black</th>\n",
       "      <td>36.334019</td>\n",
       "      <td>50.144194</td>\n",
       "      <td>4.166667</td>\n",
       "      <td>46.972687</td>\n",
       "    </tr>\n",
       "    <tr>\n",
       "      <th>Native American/Alaska Native</th>\n",
       "      <td>0.849698</td>\n",
       "      <td>0.677561</td>\n",
       "      <td>0.101626</td>\n",
       "      <td>0.715322</td>\n",
       "    </tr>\n",
       "    <tr>\n",
       "      <th>Unknown</th>\n",
       "      <td>0.943179</td>\n",
       "      <td>0.898356</td>\n",
       "      <td>89.939024</td>\n",
       "      <td>1.045651</td>\n",
       "    </tr>\n",
       "    <tr>\n",
       "      <th>White</th>\n",
       "      <td>59.813038</td>\n",
       "      <td>46.876398</td>\n",
       "      <td>5.589431</td>\n",
       "      <td>49.717286</td>\n",
       "    </tr>\n",
       "  </tbody>\n",
       "</table>\n",
       "</div>"
      ],
      "text/plain": [
       "Victim Sex                        Female       Male    Unknown      Total\n",
       "Victim Race                                                              \n",
       "Asian/Pacific Islander          2.060065   1.403491   0.203252   1.549054\n",
       "Black                          36.334019  50.144194   4.166667  46.972687\n",
       "Native American/Alaska Native   0.849698   0.677561   0.101626   0.715322\n",
       "Unknown                         0.943179   0.898356  89.939024   1.045651\n",
       "White                          59.813038  46.876398   5.589431  49.717286"
      ]
     },
     "execution_count": 71,
     "metadata": {},
     "output_type": "execute_result"
    }
   ],
   "source": [
    "\n",
    "ct2 = pd.crosstab(df['Victim Race'],\n",
    "                 df['Victim Sex'],\n",
    "                margins=True,\n",
    "                margins_name='Total',\n",
    "                normalize='columns')*100 # to percentage \n",
    "ct2"
   ]
  },
  {
   "cell_type": "code",
   "execution_count": null,
   "metadata": {},
   "outputs": [],
   "source": []
  },
  {
   "cell_type": "code",
   "execution_count": 72,
   "metadata": {},
   "outputs": [
    {
     "data": {
      "text/html": [
       "<div>\n",
       "<style scoped>\n",
       "    .dataframe tbody tr th:only-of-type {\n",
       "        vertical-align: middle;\n",
       "    }\n",
       "\n",
       "    .dataframe tbody tr th {\n",
       "        vertical-align: top;\n",
       "    }\n",
       "\n",
       "    .dataframe thead tr th {\n",
       "        text-align: left;\n",
       "    }\n",
       "\n",
       "    .dataframe thead tr:last-of-type th {\n",
       "        text-align: right;\n",
       "    }\n",
       "</style>\n",
       "<table border=\"1\" class=\"dataframe\">\n",
       "  <thead>\n",
       "    <tr>\n",
       "      <th>Victim Sex</th>\n",
       "      <th colspan=\"5\" halign=\"left\">Female</th>\n",
       "      <th colspan=\"5\" halign=\"left\">Male</th>\n",
       "      <th colspan=\"5\" halign=\"left\">Unknown</th>\n",
       "      <th>Total</th>\n",
       "    </tr>\n",
       "    <tr>\n",
       "      <th>Victim Race</th>\n",
       "      <th>Asian/Pacific Islander</th>\n",
       "      <th>Black</th>\n",
       "      <th>Native American/Alaska Native</th>\n",
       "      <th>Unknown</th>\n",
       "      <th>White</th>\n",
       "      <th>Asian/Pacific Islander</th>\n",
       "      <th>Black</th>\n",
       "      <th>Native American/Alaska Native</th>\n",
       "      <th>Unknown</th>\n",
       "      <th>White</th>\n",
       "      <th>Asian/Pacific Islander</th>\n",
       "      <th>Black</th>\n",
       "      <th>Native American/Alaska Native</th>\n",
       "      <th>Unknown</th>\n",
       "      <th>White</th>\n",
       "      <th></th>\n",
       "    </tr>\n",
       "    <tr>\n",
       "      <th>Crime Type</th>\n",
       "      <th></th>\n",
       "      <th></th>\n",
       "      <th></th>\n",
       "      <th></th>\n",
       "      <th></th>\n",
       "      <th></th>\n",
       "      <th></th>\n",
       "      <th></th>\n",
       "      <th></th>\n",
       "      <th></th>\n",
       "      <th></th>\n",
       "      <th></th>\n",
       "      <th></th>\n",
       "      <th></th>\n",
       "      <th></th>\n",
       "      <th></th>\n",
       "    </tr>\n",
       "  </thead>\n",
       "  <tbody>\n",
       "    <tr>\n",
       "      <th>Manslaughter by Negligence</th>\n",
       "      <td>40</td>\n",
       "      <td>610</td>\n",
       "      <td>40</td>\n",
       "      <td>10</td>\n",
       "      <td>1548</td>\n",
       "      <td>74</td>\n",
       "      <td>2056</td>\n",
       "      <td>103</td>\n",
       "      <td>26</td>\n",
       "      <td>4598</td>\n",
       "      <td>0</td>\n",
       "      <td>0</td>\n",
       "      <td>0</td>\n",
       "      <td>10</td>\n",
       "      <td>1</td>\n",
       "      <td>9116</td>\n",
       "    </tr>\n",
       "    <tr>\n",
       "      <th>Murder or Manslaughter</th>\n",
       "      <td>2913</td>\n",
       "      <td>51473</td>\n",
       "      <td>1178</td>\n",
       "      <td>1342</td>\n",
       "      <td>84191</td>\n",
       "      <td>6861</td>\n",
       "      <td>245719</td>\n",
       "      <td>3245</td>\n",
       "      <td>4413</td>\n",
       "      <td>227030</td>\n",
       "      <td>2</td>\n",
       "      <td>41</td>\n",
       "      <td>1</td>\n",
       "      <td>875</td>\n",
       "      <td>54</td>\n",
       "      <td>629338</td>\n",
       "    </tr>\n",
       "    <tr>\n",
       "      <th>Total</th>\n",
       "      <td>2953</td>\n",
       "      <td>52083</td>\n",
       "      <td>1218</td>\n",
       "      <td>1352</td>\n",
       "      <td>85739</td>\n",
       "      <td>6935</td>\n",
       "      <td>247775</td>\n",
       "      <td>3348</td>\n",
       "      <td>4439</td>\n",
       "      <td>231628</td>\n",
       "      <td>2</td>\n",
       "      <td>41</td>\n",
       "      <td>1</td>\n",
       "      <td>885</td>\n",
       "      <td>55</td>\n",
       "      <td>638454</td>\n",
       "    </tr>\n",
       "  </tbody>\n",
       "</table>\n",
       "</div>"
      ],
      "text/plain": [
       "Victim Sex                                 Female         \\\n",
       "Victim Race                Asian/Pacific Islander  Black   \n",
       "Crime Type                                                 \n",
       "Manslaughter by Negligence                     40    610   \n",
       "Murder or Manslaughter                       2913  51473   \n",
       "Total                                        2953  52083   \n",
       "\n",
       "Victim Sex                                                               \\\n",
       "Victim Race                Native American/Alaska Native Unknown  White   \n",
       "Crime Type                                                                \n",
       "Manslaughter by Negligence                            40      10   1548   \n",
       "Murder or Manslaughter                              1178    1342  84191   \n",
       "Total                                               1218    1352  85739   \n",
       "\n",
       "Victim Sex                                   Male          \\\n",
       "Victim Race                Asian/Pacific Islander   Black   \n",
       "Crime Type                                                  \n",
       "Manslaughter by Negligence                     74    2056   \n",
       "Murder or Manslaughter                       6861  245719   \n",
       "Total                                        6935  247775   \n",
       "\n",
       "Victim Sex                                                                \\\n",
       "Victim Race                Native American/Alaska Native Unknown   White   \n",
       "Crime Type                                                                 \n",
       "Manslaughter by Negligence                           103      26    4598   \n",
       "Murder or Manslaughter                              3245    4413  227030   \n",
       "Total                                               3348    4439  231628   \n",
       "\n",
       "Victim Sex                                Unknown        \\\n",
       "Victim Race                Asian/Pacific Islander Black   \n",
       "Crime Type                                                \n",
       "Manslaughter by Negligence                      0     0   \n",
       "Murder or Manslaughter                          2    41   \n",
       "Total                                           2    41   \n",
       "\n",
       "Victim Sex                                                               Total  \n",
       "Victim Race                Native American/Alaska Native Unknown White          \n",
       "Crime Type                                                                      \n",
       "Manslaughter by Negligence                             0      10     1    9116  \n",
       "Murder or Manslaughter                                 1     875    54  629338  \n",
       "Total                                                  1     885    55  638454  "
      ]
     },
     "execution_count": 72,
     "metadata": {},
     "output_type": "execute_result"
    }
   ],
   "source": [
    "ct3 = pd.crosstab(df['Crime Type'],[df['Victim Sex'],df['Victim Race']],\n",
    "                 margins=True,\n",
    "                  margins_name='Total'\n",
    "                 )\n",
    "ct3"
   ]
  },
  {
   "cell_type": "code",
   "execution_count": 73,
   "metadata": {},
   "outputs": [
    {
     "data": {
      "image/png": "[encoded data removed]",
      "text/plain": [
       "<Figure size 720x432 with 1 Axes>"
      ]
     },
     "metadata": {},
     "output_type": "display_data"
    }
   ],
   "source": [
    "plt.figure(figsize=(10,6))\n",
    "sns.countplot(data=df,\n",
    "              x='Victim Race',\n",
    "              #y='Crime Type',\n",
    "              hue='Crime Type',\n",
    "              palette=['#432371',\"#FAAE7B\"] \n",
    "             )\n",
    "plt.xlabel('Victim Race',size=14)\n",
    "plt.ylabel('Total Count',size=14)\n",
    "plt.title('Majority of white individual were victim of \\n Murder or Manslaughter followed by Black',size=18)\n",
    "plt.show() "
   ]
  },
  {
   "cell_type": "code",
   "execution_count": 74,
   "metadata": {},
   "outputs": [
    {
     "data": {
      "text/html": [
       "<div>\n",
       "<style scoped>\n",
       "    .dataframe tbody tr th:only-of-type {\n",
       "        vertical-align: middle;\n",
       "    }\n",
       "\n",
       "    .dataframe tbody tr th {\n",
       "        vertical-align: top;\n",
       "    }\n",
       "\n",
       "    .dataframe thead th {\n",
       "        text-align: right;\n",
       "    }\n",
       "</style>\n",
       "<table border=\"1\" class=\"dataframe\">\n",
       "  <thead>\n",
       "    <tr style=\"text-align: right;\">\n",
       "      <th>Crime Type</th>\n",
       "      <th>Manslaughter by Negligence</th>\n",
       "      <th>Murder or Manslaughter</th>\n",
       "      <th>All</th>\n",
       "    </tr>\n",
       "    <tr>\n",
       "      <th>Weapon</th>\n",
       "      <th></th>\n",
       "      <th></th>\n",
       "      <th></th>\n",
       "    </tr>\n",
       "  </thead>\n",
       "  <tbody>\n",
       "    <tr>\n",
       "      <th>Blunt Object</th>\n",
       "      <td>7.0</td>\n",
       "      <td>11.0</td>\n",
       "      <td>11.0</td>\n",
       "    </tr>\n",
       "    <tr>\n",
       "      <th>Drowning</th>\n",
       "      <td>2.0</td>\n",
       "      <td>0.0</td>\n",
       "      <td>0.0</td>\n",
       "    </tr>\n",
       "    <tr>\n",
       "      <th>Drugs</th>\n",
       "      <td>3.0</td>\n",
       "      <td>0.0</td>\n",
       "      <td>0.0</td>\n",
       "    </tr>\n",
       "    <tr>\n",
       "      <th>Explosives</th>\n",
       "      <td>0.0</td>\n",
       "      <td>0.0</td>\n",
       "      <td>0.0</td>\n",
       "    </tr>\n",
       "    <tr>\n",
       "      <th>Fall</th>\n",
       "      <td>0.0</td>\n",
       "      <td>0.0</td>\n",
       "      <td>0.0</td>\n",
       "    </tr>\n",
       "    <tr>\n",
       "      <th>Fire</th>\n",
       "      <td>2.0</td>\n",
       "      <td>1.0</td>\n",
       "      <td>1.0</td>\n",
       "    </tr>\n",
       "    <tr>\n",
       "      <th>Firearm</th>\n",
       "      <td>5.0</td>\n",
       "      <td>7.0</td>\n",
       "      <td>7.0</td>\n",
       "    </tr>\n",
       "    <tr>\n",
       "      <th>Gun</th>\n",
       "      <td>0.0</td>\n",
       "      <td>0.0</td>\n",
       "      <td>0.0</td>\n",
       "    </tr>\n",
       "    <tr>\n",
       "      <th>Handgun</th>\n",
       "      <td>40.0</td>\n",
       "      <td>50.0</td>\n",
       "      <td>50.0</td>\n",
       "    </tr>\n",
       "    <tr>\n",
       "      <th>Knife</th>\n",
       "      <td>2.0</td>\n",
       "      <td>15.0</td>\n",
       "      <td>15.0</td>\n",
       "    </tr>\n",
       "    <tr>\n",
       "      <th>Poison</th>\n",
       "      <td>0.0</td>\n",
       "      <td>0.0</td>\n",
       "      <td>0.0</td>\n",
       "    </tr>\n",
       "    <tr>\n",
       "      <th>Rifle</th>\n",
       "      <td>9.0</td>\n",
       "      <td>4.0</td>\n",
       "      <td>4.0</td>\n",
       "    </tr>\n",
       "    <tr>\n",
       "      <th>Shotgun</th>\n",
       "      <td>8.0</td>\n",
       "      <td>5.0</td>\n",
       "      <td>5.0</td>\n",
       "    </tr>\n",
       "    <tr>\n",
       "      <th>Strangulation</th>\n",
       "      <td>0.0</td>\n",
       "      <td>1.0</td>\n",
       "      <td>1.0</td>\n",
       "    </tr>\n",
       "    <tr>\n",
       "      <th>Suffocation</th>\n",
       "      <td>2.0</td>\n",
       "      <td>1.0</td>\n",
       "      <td>1.0</td>\n",
       "    </tr>\n",
       "    <tr>\n",
       "      <th>Unknown</th>\n",
       "      <td>17.0</td>\n",
       "      <td>5.0</td>\n",
       "      <td>5.0</td>\n",
       "    </tr>\n",
       "  </tbody>\n",
       "</table>\n",
       "</div>"
      ],
      "text/plain": [
       "Crime Type     Manslaughter by Negligence  Murder or Manslaughter   All\n",
       "Weapon                                                                 \n",
       "Blunt Object                          7.0                    11.0  11.0\n",
       "Drowning                              2.0                     0.0   0.0\n",
       "Drugs                                 3.0                     0.0   0.0\n",
       "Explosives                            0.0                     0.0   0.0\n",
       "Fall                                  0.0                     0.0   0.0\n",
       "Fire                                  2.0                     1.0   1.0\n",
       "Firearm                               5.0                     7.0   7.0\n",
       "Gun                                   0.0                     0.0   0.0\n",
       "Handgun                              40.0                    50.0  50.0\n",
       "Knife                                 2.0                    15.0  15.0\n",
       "Poison                                0.0                     0.0   0.0\n",
       "Rifle                                 9.0                     4.0   4.0\n",
       "Shotgun                               8.0                     5.0   5.0\n",
       "Strangulation                         0.0                     1.0   1.0\n",
       "Suffocation                           2.0                     1.0   1.0\n",
       "Unknown                              17.0                     5.0   5.0"
      ]
     },
     "execution_count": 74,
     "metadata": {},
     "output_type": "execute_result"
    }
   ],
   "source": [
    "#put with thad's\n",
    "ct4= pd.crosstab(df['Weapon'],df['Crime Type'],normalize='columns',margins=True).round(2)*100  \n",
    "ct4"
   ]
  },
  {
   "cell_type": "code",
   "execution_count": 75,
   "metadata": {},
   "outputs": [
    {
     "data": {
      "text/html": [
       "<div>\n",
       "<style scoped>\n",
       "    .dataframe tbody tr th:only-of-type {\n",
       "        vertical-align: middle;\n",
       "    }\n",
       "\n",
       "    .dataframe tbody tr th {\n",
       "        vertical-align: top;\n",
       "    }\n",
       "\n",
       "    .dataframe thead th {\n",
       "        text-align: right;\n",
       "    }\n",
       "</style>\n",
       "<table border=\"1\" class=\"dataframe\">\n",
       "  <thead>\n",
       "    <tr style=\"text-align: right;\">\n",
       "      <th>Crime Type</th>\n",
       "      <th>Manslaughter by Negligence</th>\n",
       "      <th>Murder or Manslaughter</th>\n",
       "    </tr>\n",
       "    <tr>\n",
       "      <th>Agency Type</th>\n",
       "      <th></th>\n",
       "      <th></th>\n",
       "    </tr>\n",
       "  </thead>\n",
       "  <tbody>\n",
       "    <tr>\n",
       "      <th>County Police</th>\n",
       "      <td>382</td>\n",
       "      <td>22311</td>\n",
       "    </tr>\n",
       "    <tr>\n",
       "      <th>Municipal Police</th>\n",
       "      <td>5819</td>\n",
       "      <td>487207</td>\n",
       "    </tr>\n",
       "    <tr>\n",
       "      <th>Regional Police</th>\n",
       "      <td>11</td>\n",
       "      <td>224</td>\n",
       "    </tr>\n",
       "    <tr>\n",
       "      <th>Sheriff</th>\n",
       "      <td>2475</td>\n",
       "      <td>102847</td>\n",
       "    </tr>\n",
       "    <tr>\n",
       "      <th>Special Police</th>\n",
       "      <td>73</td>\n",
       "      <td>2816</td>\n",
       "    </tr>\n",
       "    <tr>\n",
       "      <th>State Police</th>\n",
       "      <td>352</td>\n",
       "      <td>13883</td>\n",
       "    </tr>\n",
       "    <tr>\n",
       "      <th>Tribal Police</th>\n",
       "      <td>4</td>\n",
       "      <td>50</td>\n",
       "    </tr>\n",
       "  </tbody>\n",
       "</table>\n",
       "</div>"
      ],
      "text/plain": [
       "Crime Type        Manslaughter by Negligence  Murder or Manslaughter\n",
       "Agency Type                                                         \n",
       "County Police                            382                   22311\n",
       "Municipal Police                        5819                  487207\n",
       "Regional Police                           11                     224\n",
       "Sheriff                                 2475                  102847\n",
       "Special Police                            73                    2816\n",
       "State Police                             352                   13883\n",
       "Tribal Police                              4                      50"
      ]
     },
     "execution_count": 75,
     "metadata": {},
     "output_type": "execute_result"
    }
   ],
   "source": [
    "#ct5 = pd.crosstab(df['Crime Type'],df['Crime Solved'])\n",
    "\n",
    "\n",
    "ct5 = pd.crosstab(df['Agency Type'],\n",
    "                  df['Crime Type'],\n",
    "                  \n",
    "                   \n",
    "                 )  \n",
    "ct5"
   ]
  },
  {
   "cell_type": "code",
   "execution_count": 76,
   "metadata": {},
   "outputs": [
    {
     "data": {
      "image/png": "[encoded data removed]",
      "text/plain": [
       "<Figure size 576x432 with 1 Axes>"
      ]
     },
     "metadata": {},
     "output_type": "display_data"
    }
   ],
   "source": [
    "\n",
    "ct5.plot(kind='barh', \n",
    "         #stacked=True, \n",
    "         color=['#432371','red'],\n",
    "         width=0.8,  \n",
    "         figsize=(8,6) # (x-axis,y-axis)\n",
    "         )\n",
    "plt.xlabel('Total Count',size=14)\n",
    "plt.ylabel('Agency Type',size=14)\n",
    "plt.title('Murder or Manslaughter accounts for the majority of crime, \\n mostly taken cared by Municipal Police',size=18)\n",
    "plt.show() "
   ]
  },
  {
   "cell_type": "code",
   "execution_count": 77,
   "metadata": {},
   "outputs": [
    {
     "data": {
      "text/plain": [
       "<seaborn.axisgrid.FacetGrid at 0x2a0820cc988>"
      ]
     },
     "execution_count": 77,
     "metadata": {},
     "output_type": "execute_result"
    },
    {
     "data": {
      "image/png": "[encoded data removed]",
      "text/plain": [
       "<Figure size 956.925x432 with 1 Axes>"
      ]
     },
     "metadata": {},
     "output_type": "display_data"
    }
   ],
   "source": [
    "sns.catplot(x='Perpetrator Race',\n",
    "           y='Perpetrator Count',\n",
    "           kind='bar', \n",
    "           height=6,\n",
    "            aspect=2,\n",
    "            hue='Perpetrator Sex', \n",
    "           data=df.sort_values('Perpetrator Race'))"
   ]
  },
  {
   "cell_type": "code",
   "execution_count": 78,
   "metadata": {},
   "outputs": [
    {
     "data": {
      "text/html": [
       "<div>\n",
       "<style scoped>\n",
       "    .dataframe tbody tr th:only-of-type {\n",
       "        vertical-align: middle;\n",
       "    }\n",
       "\n",
       "    .dataframe tbody tr th {\n",
       "        vertical-align: top;\n",
       "    }\n",
       "\n",
       "    .dataframe thead th {\n",
       "        text-align: right;\n",
       "    }\n",
       "</style>\n",
       "<table border=\"1\" class=\"dataframe\">\n",
       "  <thead>\n",
       "    <tr style=\"text-align: right;\">\n",
       "      <th></th>\n",
       "      <th>Record ID</th>\n",
       "      <th>Agency Code</th>\n",
       "      <th>Agency Name</th>\n",
       "      <th>Agency Type</th>\n",
       "      <th>City</th>\n",
       "      <th>State</th>\n",
       "      <th>Year</th>\n",
       "      <th>Month</th>\n",
       "      <th>Incident</th>\n",
       "      <th>Crime Type</th>\n",
       "      <th>...</th>\n",
       "      <th>Victim Ethnicity</th>\n",
       "      <th>Perpetrator Sex</th>\n",
       "      <th>Perpetrator Age</th>\n",
       "      <th>Perpetrator Race</th>\n",
       "      <th>Perpetrator Ethnicity</th>\n",
       "      <th>Relationship</th>\n",
       "      <th>Weapon</th>\n",
       "      <th>Victim Count</th>\n",
       "      <th>Perpetrator Count</th>\n",
       "      <th>Record Source</th>\n",
       "    </tr>\n",
       "  </thead>\n",
       "  <tbody>\n",
       "    <tr>\n",
       "      <th>4</th>\n",
       "      <td>5</td>\n",
       "      <td>AK00101</td>\n",
       "      <td>Anchorage</td>\n",
       "      <td>Municipal Police</td>\n",
       "      <td>Anchorage</td>\n",
       "      <td>Alaska</td>\n",
       "      <td>1980</td>\n",
       "      <td>April</td>\n",
       "      <td>2</td>\n",
       "      <td>Murder or Manslaughter</td>\n",
       "      <td>...</td>\n",
       "      <td>Unknown</td>\n",
       "      <td>Unknown</td>\n",
       "      <td>27.0</td>\n",
       "      <td>Unknown</td>\n",
       "      <td>Unknown</td>\n",
       "      <td>Unknown</td>\n",
       "      <td>Unknown</td>\n",
       "      <td>0</td>\n",
       "      <td>1</td>\n",
       "      <td>FBI</td>\n",
       "    </tr>\n",
       "    <tr>\n",
       "      <th>9</th>\n",
       "      <td>10</td>\n",
       "      <td>AK00101</td>\n",
       "      <td>Anchorage</td>\n",
       "      <td>Municipal Police</td>\n",
       "      <td>Anchorage</td>\n",
       "      <td>Alaska</td>\n",
       "      <td>1980</td>\n",
       "      <td>June</td>\n",
       "      <td>3</td>\n",
       "      <td>Murder or Manslaughter</td>\n",
       "      <td>...</td>\n",
       "      <td>Unknown</td>\n",
       "      <td>Male</td>\n",
       "      <td>40.0</td>\n",
       "      <td>Unknown</td>\n",
       "      <td>Unknown</td>\n",
       "      <td>Unknown</td>\n",
       "      <td>Firearm</td>\n",
       "      <td>0</td>\n",
       "      <td>1</td>\n",
       "      <td>FBI</td>\n",
       "    </tr>\n",
       "    <tr>\n",
       "      <th>10</th>\n",
       "      <td>11</td>\n",
       "      <td>AK00101</td>\n",
       "      <td>Anchorage</td>\n",
       "      <td>Municipal Police</td>\n",
       "      <td>Anchorage</td>\n",
       "      <td>Alaska</td>\n",
       "      <td>1980</td>\n",
       "      <td>July</td>\n",
       "      <td>1</td>\n",
       "      <td>Murder or Manslaughter</td>\n",
       "      <td>...</td>\n",
       "      <td>Unknown</td>\n",
       "      <td>Unknown</td>\n",
       "      <td>27.0</td>\n",
       "      <td>Unknown</td>\n",
       "      <td>Unknown</td>\n",
       "      <td>Unknown</td>\n",
       "      <td>Unknown</td>\n",
       "      <td>0</td>\n",
       "      <td>1</td>\n",
       "      <td>FBI</td>\n",
       "    </tr>\n",
       "    <tr>\n",
       "      <th>17</th>\n",
       "      <td>18</td>\n",
       "      <td>AK00103</td>\n",
       "      <td>Juneau</td>\n",
       "      <td>Municipal Police</td>\n",
       "      <td>Juneau</td>\n",
       "      <td>Alaska</td>\n",
       "      <td>1980</td>\n",
       "      <td>November</td>\n",
       "      <td>1</td>\n",
       "      <td>Murder or Manslaughter</td>\n",
       "      <td>...</td>\n",
       "      <td>Unknown</td>\n",
       "      <td>Male</td>\n",
       "      <td>23.0</td>\n",
       "      <td>Native American/Alaska Native</td>\n",
       "      <td>Unknown</td>\n",
       "      <td>Brother</td>\n",
       "      <td>Blunt Object</td>\n",
       "      <td>0</td>\n",
       "      <td>1</td>\n",
       "      <td>FBI</td>\n",
       "    </tr>\n",
       "    <tr>\n",
       "      <th>54</th>\n",
       "      <td>55</td>\n",
       "      <td>AL00100</td>\n",
       "      <td>Jefferson</td>\n",
       "      <td>Sheriff</td>\n",
       "      <td>Jefferson</td>\n",
       "      <td>Alabama</td>\n",
       "      <td>1980</td>\n",
       "      <td>July</td>\n",
       "      <td>3</td>\n",
       "      <td>Murder or Manslaughter</td>\n",
       "      <td>...</td>\n",
       "      <td>Not Hispanic</td>\n",
       "      <td>Male</td>\n",
       "      <td>26.0</td>\n",
       "      <td>Black</td>\n",
       "      <td>Not Hispanic</td>\n",
       "      <td>Acquaintance</td>\n",
       "      <td>Handgun</td>\n",
       "      <td>0</td>\n",
       "      <td>1</td>\n",
       "      <td>FBI</td>\n",
       "    </tr>\n",
       "  </tbody>\n",
       "</table>\n",
       "<p>5 rows × 24 columns</p>\n",
       "</div>"
      ],
      "text/plain": [
       "    Record ID Agency Code Agency Name       Agency Type       City    State  \\\n",
       "4           5     AK00101   Anchorage  Municipal Police  Anchorage   Alaska   \n",
       "9          10     AK00101   Anchorage  Municipal Police  Anchorage   Alaska   \n",
       "10         11     AK00101   Anchorage  Municipal Police  Anchorage   Alaska   \n",
       "17         18     AK00103      Juneau  Municipal Police     Juneau   Alaska   \n",
       "54         55     AL00100   Jefferson           Sheriff  Jefferson  Alabama   \n",
       "\n",
       "    Year     Month  Incident              Crime Type  ... Victim Ethnicity  \\\n",
       "4   1980     April         2  Murder or Manslaughter  ...          Unknown   \n",
       "9   1980      June         3  Murder or Manslaughter  ...          Unknown   \n",
       "10  1980      July         1  Murder or Manslaughter  ...          Unknown   \n",
       "17  1980  November         1  Murder or Manslaughter  ...          Unknown   \n",
       "54  1980      July         3  Murder or Manslaughter  ...     Not Hispanic   \n",
       "\n",
       "   Perpetrator Sex  Perpetrator Age               Perpetrator Race  \\\n",
       "4          Unknown             27.0                        Unknown   \n",
       "9             Male             40.0                        Unknown   \n",
       "10         Unknown             27.0                        Unknown   \n",
       "17            Male             23.0  Native American/Alaska Native   \n",
       "54            Male             26.0                          Black   \n",
       "\n",
       "   Perpetrator Ethnicity  Relationship        Weapon Victim Count  \\\n",
       "4                Unknown       Unknown       Unknown            0   \n",
       "9                Unknown       Unknown       Firearm            0   \n",
       "10               Unknown       Unknown       Unknown            0   \n",
       "17               Unknown       Brother  Blunt Object            0   \n",
       "54          Not Hispanic  Acquaintance       Handgun            0   \n",
       "\n",
       "   Perpetrator Count Record Source  \n",
       "4                  1           FBI  \n",
       "9                  1           FBI  \n",
       "10                 1           FBI  \n",
       "17                 1           FBI  \n",
       "54                 1           FBI  \n",
       "\n",
       "[5 rows x 24 columns]"
      ]
     },
     "execution_count": 78,
     "metadata": {},
     "output_type": "execute_result"
    }
   ],
   "source": [
    "Perpetrator_Count_greater_than_zero = df[df['Perpetrator Count'] > 0 ]\n",
    "Perpetrator_Count_greater_than_zero.head() "
   ]
  },
  {
   "cell_type": "code",
   "execution_count": 79,
   "metadata": {},
   "outputs": [
    {
     "data": {
      "text/html": [
       "<div>\n",
       "<style scoped>\n",
       "    .dataframe tbody tr th:only-of-type {\n",
       "        vertical-align: middle;\n",
       "    }\n",
       "\n",
       "    .dataframe tbody tr th {\n",
       "        vertical-align: top;\n",
       "    }\n",
       "\n",
       "    .dataframe thead th {\n",
       "        text-align: right;\n",
       "    }\n",
       "</style>\n",
       "<table border=\"1\" class=\"dataframe\">\n",
       "  <thead>\n",
       "    <tr style=\"text-align: right;\">\n",
       "      <th></th>\n",
       "      <th>Perpetrator Race</th>\n",
       "      <th>Record ID</th>\n",
       "      <th>Year</th>\n",
       "      <th>Incident</th>\n",
       "      <th>Victim Age</th>\n",
       "      <th>Perpetrator Age</th>\n",
       "      <th>Victim Count</th>\n",
       "      <th>Perpetrator Count</th>\n",
       "    </tr>\n",
       "  </thead>\n",
       "  <tbody>\n",
       "    <tr>\n",
       "      <th>0</th>\n",
       "      <td>Asian/Pacific Islander</td>\n",
       "      <td>352897550</td>\n",
       "      <td>2039041</td>\n",
       "      <td>12280</td>\n",
       "      <td>28983.0</td>\n",
       "      <td>24405.0</td>\n",
       "      <td>369</td>\n",
       "      <td>1787</td>\n",
       "    </tr>\n",
       "    <tr>\n",
       "      <th>1</th>\n",
       "      <td>Black</td>\n",
       "      <td>13713485920</td>\n",
       "      <td>75721313</td>\n",
       "      <td>982465</td>\n",
       "      <td>1166576.0</td>\n",
       "      <td>901165.0</td>\n",
       "      <td>6104</td>\n",
       "      <td>58199</td>\n",
       "    </tr>\n",
       "    <tr>\n",
       "      <th>2</th>\n",
       "      <td>Native American/Alaska Native</td>\n",
       "      <td>194853495</td>\n",
       "      <td>1108594</td>\n",
       "      <td>3386</td>\n",
       "      <td>19233.0</td>\n",
       "      <td>14278.0</td>\n",
       "      <td>64</td>\n",
       "      <td>886</td>\n",
       "    </tr>\n",
       "    <tr>\n",
       "      <th>3</th>\n",
       "      <td>Unknown</td>\n",
       "      <td>1796688060</td>\n",
       "      <td>14494773</td>\n",
       "      <td>128286</td>\n",
       "      <td>252707.0</td>\n",
       "      <td>196574.0</td>\n",
       "      <td>3231</td>\n",
       "      <td>8360</td>\n",
       "    </tr>\n",
       "    <tr>\n",
       "      <th>4</th>\n",
       "      <td>White</td>\n",
       "      <td>11040973734</td>\n",
       "      <td>65623469</td>\n",
       "      <td>672997</td>\n",
       "      <td>1083144.0</td>\n",
       "      <td>858849.0</td>\n",
       "      <td>7279</td>\n",
       "      <td>49025</td>\n",
       "    </tr>\n",
       "  </tbody>\n",
       "</table>\n",
       "</div>"
      ],
      "text/plain": [
       "                Perpetrator Race    Record ID      Year  Incident  Victim Age  \\\n",
       "0         Asian/Pacific Islander    352897550   2039041     12280     28983.0   \n",
       "1                          Black  13713485920  75721313    982465   1166576.0   \n",
       "2  Native American/Alaska Native    194853495   1108594      3386     19233.0   \n",
       "3                        Unknown   1796688060  14494773    128286    252707.0   \n",
       "4                          White  11040973734  65623469    672997   1083144.0   \n",
       "\n",
       "   Perpetrator Age  Victim Count  Perpetrator Count  \n",
       "0          24405.0           369               1787  \n",
       "1         901165.0          6104              58199  \n",
       "2          14278.0            64                886  \n",
       "3         196574.0          3231               8360  \n",
       "4         858849.0          7279              49025  "
      ]
     },
     "execution_count": 79,
     "metadata": {},
     "output_type": "execute_result"
    }
   ],
   "source": [
    "gp_prace = Perpetrator_Count_greater_than_zero.groupby(by='Perpetrator Race').sum ().reset_index()  \n",
    "gp_prace"
   ]
  },
  {
   "cell_type": "code",
   "execution_count": 80,
   "metadata": {},
   "outputs": [
    {
     "data": {
      "image/png": "[encoded data removed]",
      "text/plain": [
       "<Figure size 864x504 with 1 Axes>"
      ]
     },
     "metadata": {},
     "output_type": "display_data"
    }
   ],
   "source": [
    "plt.figure(figsize=(12,7))   \n",
    "# plot barh chart with index as x values\n",
    "ax = sns.barplot(gp_prace.index,  \n",
    "                 gp_prace['Perpetrator Count'],\n",
    "                 palette=['#F4D03F',\"#FAAE7B\",'red','#3498DB','#432371'])\n",
    "\n",
    "ax.get_yaxis().set_major_formatter(plt.FuncFormatter(lambda x, loc: \"{:,}\".format(int(x))))\n",
    "    \n",
    "for i, v in enumerate(gp_prace[\"Perpetrator Count\"].iteritems()):        \n",
    "    ax.text(i ,v[1], \"{:,}\".format(v[1]), color='black',size=13) \n",
    "plt.title('Sum total of black Perpetrator were highest among other reace..',size=18)\n",
    "plt.xlabel('Perpetrator Race',size=14)\n",
    "plt.ylabel('Perpetrator Count',size=14) \n",
    "plt.show()"
   ]
  },
  {
   "cell_type": "code",
   "execution_count": 82,
   "metadata": {},
   "outputs": [
    {
     "data": {
      "text/plain": [
       "array([[<matplotlib.axes._subplots.AxesSubplot object at 0x000002A082171AC8>,\n",
       "        <matplotlib.axes._subplots.AxesSubplot object at 0x000002A08225ED88>,\n",
       "        <matplotlib.axes._subplots.AxesSubplot object at 0x000002A08253A688>],\n",
       "       [<matplotlib.axes._subplots.AxesSubplot object at 0x000002A082573548>,\n",
       "        <matplotlib.axes._subplots.AxesSubplot object at 0x000002A0825AB3C8>,\n",
       "        <matplotlib.axes._subplots.AxesSubplot object at 0x000002A0840D8288>],\n",
       "       [<matplotlib.axes._subplots.AxesSubplot object at 0x000002A08410AF08>,\n",
       "        <matplotlib.axes._subplots.AxesSubplot object at 0x000002A085354D88>,\n",
       "        <matplotlib.axes._subplots.AxesSubplot object at 0x000002A085354F88>]],\n",
       "      dtype=object)"
      ]
     },
     "execution_count": 82,
     "metadata": {},
     "output_type": "execute_result"
    },
    {
     "data": {
      "image/png": "[encoded data removed]",
      "text/plain": [
       "<Figure size 1008x1152 with 9 Axes>"
      ]
     },
     "metadata": {},
     "output_type": "display_data"
    }
   ],
   "source": [
    "df.hist(bins=10,figsize=(14,16),layout=(3,3)) "
   ]
  },
  {
   "cell_type": "code",
   "execution_count": null,
   "metadata": {},
   "outputs": [],
   "source": []
  },
  {
   "cell_type": "markdown",
   "metadata": {},
   "source": [
    "#### [15 points] EDA\n",
    "Explore relationships between attributes: Look at the attributes via scatter\n",
    "plots, correlation, cross-tabulation, group-wise averages, etc. as appropriate. Explain\n",
    "any interesting relationships."
   ]
  },
  {
   "cell_type": "code",
   "execution_count": 90,
   "metadata": {},
   "outputs": [],
   "source": [
    "# https://gist.github.com/rogerallen/1583593\n",
    "states = {\n",
    "    'Alabama': 'AL',\n",
    "    'Alaska': 'AK',\n",
    "    'American Samoa': 'AS',\n",
    "    'Arizona': 'AZ',\n",
    "    'Arkansas': 'AR',\n",
    "    'California': 'CA',\n",
    "    'Colorado': 'CO',\n",
    "    'Connecticut': 'CT',\n",
    "    'Delaware': 'DE',\n",
    "    'District of Columbia': 'DC',\n",
    "    'Florida': 'FL',\n",
    "    'Georgia': 'GA',\n",
    "    'Guam': 'GU',\n",
    "    'Hawaii': 'HI',\n",
    "    'Idaho': 'ID',\n",
    "    'Illinois': 'IL',\n",
    "    'Indiana': 'IN',\n",
    "    'Iowa': 'IA',\n",
    "    'Kansas': 'KS',\n",
    "    'Kentucky': 'KY',\n",
    "    'Louisiana': 'LA',\n",
    "    'Maine': 'ME',\n",
    "    'Maryland': 'MD',\n",
    "    'Massachusetts': 'MA',\n",
    "    'Michigan': 'MI',\n",
    "    'Minnesota': 'MN',\n",
    "    'Mississippi': 'MS',\n",
    "    'Missouri': 'MO',\n",
    "    'Montana': 'MT',\n",
    "    'Nebraska': 'NE',\n",
    "    'Nevada': 'NV',\n",
    "    'New Hampshire': 'NH',\n",
    "    'New Jersey': 'NJ',\n",
    "    'New Mexico': 'NM',\n",
    "    'New York': 'NY',\n",
    "    'North Carolina': 'NC',\n",
    "    'North Dakota': 'ND',\n",
    "    'Northern Mariana Islands':'MP',\n",
    "    'Ohio': 'OH',\n",
    "    'Oklahoma': 'OK',\n",
    "    'Oregon': 'OR',\n",
    "    'Pennsylvania': 'PA',\n",
    "    'Puerto Rico': 'PR',\n",
    "    'Rhodes Island': 'RI',\n",
    "    'South Carolina': 'SC',\n",
    "    'South Dakota': 'SD',\n",
    "    'Tennessee': 'TN',\n",
    "    'Texas': 'TX',\n",
    "    'Utah': 'UT',\n",
    "    'Vermont': 'VT',\n",
    "    'Virgin Islands': 'VI',\n",
    "    'Virginia': 'VA',\n",
    "    'Washington': 'WA',\n",
    "    'West Virginia': 'WV',\n",
    "    'Wisconsin': 'WI',\n",
    "    'Wyoming': 'WY'\n",
    "}\n",
    "\n",
    "#New York: n homicides, New Jersey: n homicides\n",
    "df_state = df.groupby('State').count().reset_index()\n",
    "\n",
    "#NY: n homicides, NJ: n homicides\n",
    "df_state['State_Abb'] = [states[full_state] for full_state in df_state['State']]"
   ]
  },
  {
   "cell_type": "code",
   "execution_count": 98,
   "metadata": {},
   "outputs": [
    {
     "data": {
      "application/vnd.plotly.v1+json": {
       "config": {
        "plotlyServerURL": "https://plot.ly"
       },
       "data": [
        {
         "coloraxis": "coloraxis",
         "geo": "geo",
         "hovertemplate": "locations=%{location}<br>color=%{z}<extra></extra>",
         "locationmode": "USA-states",
         "locations": [
          "AL",
          "AK",
          "AZ",
          "AR",
          "CA",
          "CO",
          "CT",
          "DE",
          "DC",
          "FL",
          "GA",
          "HI",
          "ID",
          "IL",
          "IN",
          "IA",
          "KS",
          "KY",
          "LA",
          "ME",
          "MD",
          "MA",
          "MI",
          "MN",
          "MS",
          "MO",
          "MT",
          "NE",
          "NV",
          "NH",
          "NJ",
          "NM",
          "NY",
          "NC",
          "ND",
          "OH",
          "OK",
          "OR",
          "PA",
          "RI",
          "SC",
          "SD",
          "TN",
          "TX",
          "UT",
          "VT",
          "VA",
          "WA",
          "WV",
          "WI",
          "WY"
         ],
         "name": "",
         "type": "choropleth",
         "z": [
          11376,
          1617,
          12871,
          6947,
          99783,
          6593,
          4896,
          1179,
          7115,
          37164,
          21088,
          1338,
          1150,
          25871,
          11463,
          1749,
          3085,
          6554,
          19629,
          869,
          17312,
          6036,
          28448,
          3975,
          6546,
          14832,
          601,
          1331,
          5553,
          655,
          14132,
          4272,
          49268,
          20390,
          308,
          19158,
          8809,
          4217,
          24236,
          1211,
          11698,
          442,
          14930,
          62095,
          2033,
          412,
          15520,
          7815,
          3061,
          6191,
          630
         ]
        }
       ],
       "layout": {
        "coloraxis": {
         "colorbar": {
          "title": {
           "text": "color"
          }
         },
         "colorscale": [
          [
           0,
           "rgb(12,51,131)"
          ],
          [
           0.25,
           "rgb(10,136,186)"
          ],
          [
           0.5,
           "rgb(242,211,56)"
          ],
          [
           0.75,
           "rgb(242,143,56)"
          ],
          [
           1,
           "rgb(217,30,30)"
          ]
         ]
        },
        "geo": {
         "center": {},
         "domain": {
          "x": [
           0,
           1
          ],
          "y": [
           0,
           1
          ]
         },
         "scope": "usa"
        },
        "legend": {
         "tracegroupgap": 0
        },
        "margin": {
         "t": 60
        },
        "template": {
         "data": {
          "bar": [
           {
            "error_x": {
             "color": "#2a3f5f"
            },
            "error_y": {
             "color": "#2a3f5f"
            },
            "marker": {
             "line": {
              "color": "#E5ECF6",
              "width": 0.5
             }
            },
            "type": "bar"
           }
          ],
          "barpolar": [
           {
            "marker": {
             "line": {
              "color": "#E5ECF6",
              "width": 0.5
             }
            },
            "type": "barpolar"
           }
          ],
          "carpet": [
           {
            "aaxis": {
             "endlinecolor": "#2a3f5f",
             "gridcolor": "white",
             "linecolor": "white",
             "minorgridcolor": "white",
             "startlinecolor": "#2a3f5f"
            },
            "baxis": {
             "endlinecolor": "#2a3f5f",
             "gridcolor": "white",
             "linecolor": "white",
             "minorgridcolor": "white",
             "startlinecolor": "#2a3f5f"
            },
            "type": "carpet"
           }
          ],
          "choropleth": [
           {
            "colorbar": {
             "outlinewidth": 0,
             "ticks": ""
            },
            "type": "choropleth"
           }
          ],
          "contour": [
           {
            "colorbar": {
             "outlinewidth": 0,
             "ticks": ""
            },
            "colorscale": [
             [
              0,
              "#0d0887"
             ],
             [
              0.1111111111111111,
              "#46039f"
             ],
             [
              0.2222222222222222,
              "#7201a8"
             ],
             [
              0.3333333333333333,
              "#9c179e"
             ],
             [
              0.4444444444444444,
              "#bd3786"
             ],
             [
              0.5555555555555556,
              "#d8576b"
             ],
             [
              0.6666666666666666,
              "#ed7953"
             ],
             [
              0.7777777777777778,
              "#fb9f3a"
             ],
             [
              0.8888888888888888,
              "#fdca26"
             ],
             [
              1,
              "#f0f921"
             ]
            ],
            "type": "contour"
           }
          ],
          "contourcarpet": [
           {
            "colorbar": {
             "outlinewidth": 0,
             "ticks": ""
            },
            "type": "contourcarpet"
           }
          ],
          "heatmap": [
           {
            "colorbar": {
             "outlinewidth": 0,
             "ticks": ""
            },
            "colorscale": [
             [
              0,
              "#0d0887"
             ],
             [
              0.1111111111111111,
              "#46039f"
             ],
             [
              0.2222222222222222,
              "#7201a8"
             ],
             [
              0.3333333333333333,
              "#9c179e"
             ],
             [
              0.4444444444444444,
              "#bd3786"
             ],
             [
              0.5555555555555556,
              "#d8576b"
             ],
             [
              0.6666666666666666,
              "#ed7953"
             ],
             [
              0.7777777777777778,
              "#fb9f3a"
             ],
             [
              0.8888888888888888,
              "#fdca26"
             ],
             [
              1,
              "#f0f921"
             ]
            ],
            "type": "heatmap"
           }
          ],
          "heatmapgl": [
           {
            "colorbar": {
             "outlinewidth": 0,
             "ticks": ""
            },
            "colorscale": [
             [
              0,
              "#0d0887"
             ],
             [
              0.1111111111111111,
              "#46039f"
             ],
             [
              0.2222222222222222,
              "#7201a8"
             ],
             [
              0.3333333333333333,
              "#9c179e"
             ],
             [
              0.4444444444444444,
              "#bd3786"
             ],
             [
              0.5555555555555556,
              "#d8576b"
             ],
             [
              0.6666666666666666,
              "#ed7953"
             ],
             [
              0.7777777777777778,
              "#fb9f3a"
             ],
             [
              0.8888888888888888,
              "#fdca26"
             ],
             [
              1,
              "#f0f921"
             ]
            ],
            "type": "heatmapgl"
           }
          ],
          "histogram": [
           {
            "marker": {
             "colorbar": {
              "outlinewidth": 0,
              "ticks": ""
             }
            },
            "type": "histogram"
           }
          ],
          "histogram2d": [
           {
            "colorbar": {
             "outlinewidth": 0,
             "ticks": ""
            },
            "colorscale": [
             [
              0,
              "#0d0887"
             ],
             [
              0.1111111111111111,
              "#46039f"
             ],
             [
              0.2222222222222222,
              "#7201a8"
             ],
             [
              0.3333333333333333,
              "#9c179e"
             ],
             [
              0.4444444444444444,
              "#bd3786"
             ],
             [
              0.5555555555555556,
              "#d8576b"
             ],
             [
              0.6666666666666666,
              "#ed7953"
             ],
             [
              0.7777777777777778,
              "#fb9f3a"
             ],
             [
              0.8888888888888888,
              "#fdca26"
             ],
             [
              1,
              "#f0f921"
             ]
            ],
            "type": "histogram2d"
           }
          ],
          "histogram2dcontour": [
           {
            "colorbar": {
             "outlinewidth": 0,
             "ticks": ""
            },
            "colorscale": [
             [
              0,
              "#0d0887"
             ],
             [
              0.1111111111111111,
              "#46039f"
             ],
             [
              0.2222222222222222,
              "#7201a8"
             ],
             [
              0.3333333333333333,
              "#9c179e"
             ],
             [
              0.4444444444444444,
              "#bd3786"
             ],
             [
              0.5555555555555556,
              "#d8576b"
             ],
             [
              0.6666666666666666,
              "#ed7953"
             ],
             [
              0.7777777777777778,
              "#fb9f3a"
             ],
             [
              0.8888888888888888,
              "#fdca26"
             ],
             [
              1,
              "#f0f921"
             ]
            ],
            "type": "histogram2dcontour"
           }
          ],
          "mesh3d": [
           {
            "colorbar": {
             "outlinewidth": 0,
             "ticks": ""
            },
            "type": "mesh3d"
           }
          ],
          "parcoords": [
           {
            "line": {
             "colorbar": {
              "outlinewidth": 0,
              "ticks": ""
             }
            },
            "type": "parcoords"
           }
          ],
          "pie": [
           {
            "automargin": true,
            "type": "pie"
           }
          ],
          "scatter": [
           {
            "marker": {
             "colorbar": {
              "outlinewidth": 0,
              "ticks": ""
             }
            },
            "type": "scatter"
           }
          ],
          "scatter3d": [
           {
            "line": {
             "colorbar": {
              "outlinewidth": 0,
              "ticks": ""
             }
            },
            "marker": {
             "colorbar": {
              "outlinewidth": 0,
              "ticks": ""
             }
            },
            "type": "scatter3d"
           }
          ],
          "scattercarpet": [
           {
            "marker": {
             "colorbar": {
              "outlinewidth": 0,
              "ticks": ""
             }
            },
            "type": "scattercarpet"
           }
          ],
          "scattergeo": [
           {
            "marker": {
             "colorbar": {
              "outlinewidth": 0,
              "ticks": ""
             }
            },
            "type": "scattergeo"
           }
          ],
          "scattergl": [
           {
            "marker": {
             "colorbar": {
              "outlinewidth": 0,
              "ticks": ""
             }
            },
            "type": "scattergl"
           }
          ],
          "scattermapbox": [
           {
            "marker": {
             "colorbar": {
              "outlinewidth": 0,
              "ticks": ""
             }
            },
            "type": "scattermapbox"
           }
          ],
          "scatterpolar": [
           {
            "marker": {
             "colorbar": {
              "outlinewidth": 0,
              "ticks": ""
             }
            },
            "type": "scatterpolar"
           }
          ],
          "scatterpolargl": [
           {
            "marker": {
             "colorbar": {
              "outlinewidth": 0,
              "ticks": ""
             }
            },
            "type": "scatterpolargl"
           }
          ],
          "scatterternary": [
           {
            "marker": {
             "colorbar": {
              "outlinewidth": 0,
              "ticks": ""
             }
            },
            "type": "scatterternary"
           }
          ],
          "surface": [
           {
            "colorbar": {
             "outlinewidth": 0,
             "ticks": ""
            },
            "colorscale": [
             [
              0,
              "#0d0887"
             ],
             [
              0.1111111111111111,
              "#46039f"
             ],
             [
              0.2222222222222222,
              "#7201a8"
             ],
             [
              0.3333333333333333,
              "#9c179e"
             ],
             [
              0.4444444444444444,
              "#bd3786"
             ],
             [
              0.5555555555555556,
              "#d8576b"
             ],
             [
              0.6666666666666666,
              "#ed7953"
             ],
             [
              0.7777777777777778,
              "#fb9f3a"
             ],
             [
              0.8888888888888888,
              "#fdca26"
             ],
             [
              1,
              "#f0f921"
             ]
            ],
            "type": "surface"
           }
          ],
          "table": [
           {
            "cells": {
             "fill": {
              "color": "#EBF0F8"
             },
             "line": {
              "color": "white"
             }
            },
            "header": {
             "fill": {
              "color": "#C8D4E3"
             },
             "line": {
              "color": "white"
             }
            },
            "type": "table"
           }
          ]
         },
         "layout": {
          "annotationdefaults": {
           "arrowcolor": "#2a3f5f",
           "arrowhead": 0,
           "arrowwidth": 1
          },
          "coloraxis": {
           "colorbar": {
            "outlinewidth": 0,
            "ticks": ""
           }
          },
          "colorscale": {
           "diverging": [
            [
             0,
             "#8e0152"
            ],
            [
             0.1,
             "#c51b7d"
            ],
            [
             0.2,
             "#de77ae"
            ],
            [
             0.3,
             "#f1b6da"
            ],
            [
             0.4,
             "#fde0ef"
            ],
            [
             0.5,
             "#f7f7f7"
            ],
            [
             0.6,
             "#e6f5d0"
            ],
            [
             0.7,
             "#b8e186"
            ],
            [
             0.8,
             "#7fbc41"
            ],
            [
             0.9,
             "#4d9221"
            ],
            [
             1,
             "#276419"
            ]
           ],
           "sequential": [
            [
             0,
             "#0d0887"
            ],
            [
             0.1111111111111111,
             "#46039f"
            ],
            [
             0.2222222222222222,
             "#7201a8"
            ],
            [
             0.3333333333333333,
             "#9c179e"
            ],
            [
             0.4444444444444444,
             "#bd3786"
            ],
            [
             0.5555555555555556,
             "#d8576b"
            ],
            [
             0.6666666666666666,
             "#ed7953"
            ],
            [
             0.7777777777777778,
             "#fb9f3a"
            ],
            [
             0.8888888888888888,
             "#fdca26"
            ],
            [
             1,
             "#f0f921"
            ]
           ],
           "sequentialminus": [
            [
             0,
             "#0d0887"
            ],
            [
             0.1111111111111111,
             "#46039f"
            ],
            [
             0.2222222222222222,
             "#7201a8"
            ],
            [
             0.3333333333333333,
             "#9c179e"
            ],
            [
             0.4444444444444444,
             "#bd3786"
            ],
            [
             0.5555555555555556,
             "#d8576b"
            ],
            [
             0.6666666666666666,
             "#ed7953"
            ],
            [
             0.7777777777777778,
             "#fb9f3a"
            ],
            [
             0.8888888888888888,
             "#fdca26"
            ],
            [
             1,
             "#f0f921"
            ]
           ]
          },
          "colorway": [
           "#636efa",
           "#EF553B",
           "#00cc96",
           "#ab63fa",
           "#FFA15A",
           "#19d3f3",
           "#FF6692",
           "#B6E880",
           "#FF97FF",
           "#FECB52"
          ],
          "font": {
           "color": "#2a3f5f"
          },
          "geo": {
           "bgcolor": "white",
           "lakecolor": "white",
           "landcolor": "#E5ECF6",
           "showlakes": true,
           "showland": true,
           "subunitcolor": "white"
          },
          "hoverlabel": {
           "align": "left"
          },
          "hovermode": "closest",
          "mapbox": {
           "style": "light"
          },
          "paper_bgcolor": "white",
          "plot_bgcolor": "#E5ECF6",
          "polar": {
           "angularaxis": {
            "gridcolor": "white",
            "linecolor": "white",
            "ticks": ""
           },
           "bgcolor": "#E5ECF6",
           "radialaxis": {
            "gridcolor": "white",
            "linecolor": "white",
            "ticks": ""
           }
          },
          "scene": {
           "xaxis": {
            "backgroundcolor": "#E5ECF6",
            "gridcolor": "white",
            "gridwidth": 2,
            "linecolor": "white",
            "showbackground": true,
            "ticks": "",
            "zerolinecolor": "white"
           },
           "yaxis": {
            "backgroundcolor": "#E5ECF6",
            "gridcolor": "white",
            "gridwidth": 2,
            "linecolor": "white",
            "showbackground": true,
            "ticks": "",
            "zerolinecolor": "white"
           },
           "zaxis": {
            "backgroundcolor": "#E5ECF6",
            "gridcolor": "white",
            "gridwidth": 2,
            "linecolor": "white",
            "showbackground": true,
            "ticks": "",
            "zerolinecolor": "white"
           }
          },
          "shapedefaults": {
           "line": {
            "color": "#2a3f5f"
           }
          },
          "ternary": {
           "aaxis": {
            "gridcolor": "white",
            "linecolor": "white",
            "ticks": ""
           },
           "baxis": {
            "gridcolor": "white",
            "linecolor": "white",
            "ticks": ""
           },
           "bgcolor": "#E5ECF6",
           "caxis": {
            "gridcolor": "white",
            "linecolor": "white",
            "ticks": ""
           }
          },
          "title": {
           "x": 0.05
          },
          "xaxis": {
           "automargin": true,
           "gridcolor": "white",
           "linecolor": "white",
           "ticks": "",
           "title": {
            "standoff": 15
           },
           "zerolinecolor": "white",
           "zerolinewidth": 2
          },
          "yaxis": {
           "automargin": true,
           "gridcolor": "white",
           "linecolor": "white",
           "ticks": "",
           "title": {
            "standoff": 15
           },
           "zerolinecolor": "white",
           "zerolinewidth": 2
          }
         }
        },
        "title": {
         "text": "Homicide Rates per State"
        }
       }
      },
      "text/html": [
       "<div>\n",
       "        \n",
       "        \n",
       "            <div id=\"bae383d1-eb61-494d-baf6-4c74e9dae778\" class=\"plotly-graph-div\" style=\"height:525px; width:100%;\"></div>\n",
       "            <script type=\"text/javascript\">\n",
       "                require([\"plotly\"], function(Plotly) {\n",
       "                    window.PLOTLYENV=window.PLOTLYENV || {};\n",
       "                    \n",
       "                if (document.getElementById(\"bae383d1-eb61-494d-baf6-4c74e9dae778\")) {\n",
       "                    Plotly.newPlot(\n",
       "                        'bae383d1-eb61-494d-baf6-4c74e9dae778',\n",
       "                        [{\"coloraxis\": \"coloraxis\", \"geo\": \"geo\", \"hovertemplate\": \"locations=%{location}<br>color=%{z}<extra></extra>\", \"locationmode\": \"USA-states\", \"locations\": [\"AL\", \"AK\", \"AZ\", \"AR\", \"CA\", \"CO\", \"CT\", \"DE\", \"DC\", \"FL\", \"GA\", \"HI\", \"ID\", \"IL\", \"IN\", \"IA\", \"KS\", \"KY\", \"LA\", \"ME\", \"MD\", \"MA\", \"MI\", \"MN\", \"MS\", \"MO\", \"MT\", \"NE\", \"NV\", \"NH\", \"NJ\", \"NM\", \"NY\", \"NC\", \"ND\", \"OH\", \"OK\", \"OR\", \"PA\", \"RI\", \"SC\", \"SD\", \"TN\", \"TX\", \"UT\", \"VT\", \"VA\", \"WA\", \"WV\", \"WI\", \"WY\"], \"name\": \"\", \"type\": \"choropleth\", \"z\": [11376, 1617, 12871, 6947, 99783, 6593, 4896, 1179, 7115, 37164, 21088, 1338, 1150, 25871, 11463, 1749, 3085, 6554, 19629, 869, 17312, 6036, 28448, 3975, 6546, 14832, 601, 1331, 5553, 655, 14132, 4272, 49268, 20390, 308, 19158, 8809, 4217, 24236, 1211, 11698, 442, 14930, 62095, 2033, 412, 15520, 7815, 3061, 6191, 630]}],\n",
       "                        {\"coloraxis\": {\"colorbar\": {\"title\": {\"text\": \"color\"}}, \"colorscale\": [[0.0, \"rgb(12,51,131)\"], [0.25, \"rgb(10,136,186)\"], [0.5, \"rgb(242,211,56)\"], [0.75, \"rgb(242,143,56)\"], [1.0, \"rgb(217,30,30)\"]]}, \"geo\": {\"center\": {}, \"domain\": {\"x\": [0.0, 1.0], \"y\": [0.0, 1.0]}, \"scope\": \"usa\"}, \"legend\": {\"tracegroupgap\": 0}, \"margin\": {\"t\": 60}, \"template\": {\"data\": {\"bar\": [{\"error_x\": {\"color\": \"#2a3f5f\"}, \"error_y\": {\"color\": \"#2a3f5f\"}, \"marker\": {\"line\": {\"color\": \"#E5ECF6\", \"width\": 0.5}}, \"type\": \"bar\"}], \"barpolar\": [{\"marker\": {\"line\": {\"color\": \"#E5ECF6\", \"width\": 0.5}}, \"type\": \"barpolar\"}], \"carpet\": [{\"aaxis\": {\"endlinecolor\": \"#2a3f5f\", \"gridcolor\": \"white\", \"linecolor\": \"white\", \"minorgridcolor\": \"white\", \"startlinecolor\": \"#2a3f5f\"}, \"baxis\": {\"endlinecolor\": \"#2a3f5f\", \"gridcolor\": \"white\", \"linecolor\": \"white\", \"minorgridcolor\": \"white\", \"startlinecolor\": \"#2a3f5f\"}, \"type\": \"carpet\"}], \"choropleth\": [{\"colorbar\": {\"outlinewidth\": 0, \"ticks\": \"\"}, \"type\": \"choropleth\"}], \"contour\": [{\"colorbar\": {\"outlinewidth\": 0, \"ticks\": \"\"}, \"colorscale\": [[0.0, \"#0d0887\"], [0.1111111111111111, \"#46039f\"], [0.2222222222222222, \"#7201a8\"], [0.3333333333333333, \"#9c179e\"], [0.4444444444444444, \"#bd3786\"], [0.5555555555555556, \"#d8576b\"], [0.6666666666666666, \"#ed7953\"], [0.7777777777777778, \"#fb9f3a\"], [0.8888888888888888, \"#fdca26\"], [1.0, \"#f0f921\"]], \"type\": \"contour\"}], \"contourcarpet\": [{\"colorbar\": {\"outlinewidth\": 0, \"ticks\": \"\"}, \"type\": \"contourcarpet\"}], \"heatmap\": [{\"colorbar\": {\"outlinewidth\": 0, \"ticks\": \"\"}, \"colorscale\": [[0.0, \"#0d0887\"], [0.1111111111111111, \"#46039f\"], [0.2222222222222222, \"#7201a8\"], [0.3333333333333333, \"#9c179e\"], [0.4444444444444444, \"#bd3786\"], [0.5555555555555556, \"#d8576b\"], [0.6666666666666666, \"#ed7953\"], [0.7777777777777778, \"#fb9f3a\"], [0.8888888888888888, \"#fdca26\"], [1.0, \"#f0f921\"]], \"type\": \"heatmap\"}], \"heatmapgl\": [{\"colorbar\": {\"outlinewidth\": 0, \"ticks\": \"\"}, \"colorscale\": [[0.0, \"#0d0887\"], [0.1111111111111111, \"#46039f\"], [0.2222222222222222, \"#7201a8\"], [0.3333333333333333, \"#9c179e\"], [0.4444444444444444, \"#bd3786\"], [0.5555555555555556, \"#d8576b\"], [0.6666666666666666, \"#ed7953\"], [0.7777777777777778, \"#fb9f3a\"], [0.8888888888888888, \"#fdca26\"], [1.0, \"#f0f921\"]], \"type\": \"heatmapgl\"}], \"histogram\": [{\"marker\": {\"colorbar\": {\"outlinewidth\": 0, \"ticks\": \"\"}}, \"type\": \"histogram\"}], \"histogram2d\": [{\"colorbar\": {\"outlinewidth\": 0, \"ticks\": \"\"}, \"colorscale\": [[0.0, \"#0d0887\"], [0.1111111111111111, \"#46039f\"], [0.2222222222222222, \"#7201a8\"], [0.3333333333333333, \"#9c179e\"], [0.4444444444444444, \"#bd3786\"], [0.5555555555555556, \"#d8576b\"], [0.6666666666666666, \"#ed7953\"], [0.7777777777777778, \"#fb9f3a\"], [0.8888888888888888, \"#fdca26\"], [1.0, \"#f0f921\"]], \"type\": \"histogram2d\"}], \"histogram2dcontour\": [{\"colorbar\": {\"outlinewidth\": 0, \"ticks\": \"\"}, \"colorscale\": [[0.0, \"#0d0887\"], [0.1111111111111111, \"#46039f\"], [0.2222222222222222, \"#7201a8\"], [0.3333333333333333, \"#9c179e\"], [0.4444444444444444, \"#bd3786\"], [0.5555555555555556, \"#d8576b\"], [0.6666666666666666, \"#ed7953\"], [0.7777777777777778, \"#fb9f3a\"], [0.8888888888888888, \"#fdca26\"], [1.0, \"#f0f921\"]], \"type\": \"histogram2dcontour\"}], \"mesh3d\": [{\"colorbar\": {\"outlinewidth\": 0, \"ticks\": \"\"}, \"type\": \"mesh3d\"}], \"parcoords\": [{\"line\": {\"colorbar\": {\"outlinewidth\": 0, \"ticks\": \"\"}}, \"type\": \"parcoords\"}], \"pie\": [{\"automargin\": true, \"type\": \"pie\"}], \"scatter\": [{\"marker\": {\"colorbar\": {\"outlinewidth\": 0, \"ticks\": \"\"}}, \"type\": \"scatter\"}], \"scatter3d\": [{\"line\": {\"colorbar\": {\"outlinewidth\": 0, \"ticks\": \"\"}}, \"marker\": {\"colorbar\": {\"outlinewidth\": 0, \"ticks\": \"\"}}, \"type\": \"scatter3d\"}], \"scattercarpet\": [{\"marker\": {\"colorbar\": {\"outlinewidth\": 0, \"ticks\": \"\"}}, \"type\": \"scattercarpet\"}], \"scattergeo\": [{\"marker\": {\"colorbar\": {\"outlinewidth\": 0, \"ticks\": \"\"}}, \"type\": \"scattergeo\"}], \"scattergl\": [{\"marker\": {\"colorbar\": {\"outlinewidth\": 0, \"ticks\": \"\"}}, \"type\": \"scattergl\"}], \"scattermapbox\": [{\"marker\": {\"colorbar\": {\"outlinewidth\": 0, \"ticks\": \"\"}}, \"type\": \"scattermapbox\"}], \"scatterpolar\": [{\"marker\": {\"colorbar\": {\"outlinewidth\": 0, \"ticks\": \"\"}}, \"type\": \"scatterpolar\"}], \"scatterpolargl\": [{\"marker\": {\"colorbar\": {\"outlinewidth\": 0, \"ticks\": \"\"}}, \"type\": \"scatterpolargl\"}], \"scatterternary\": [{\"marker\": {\"colorbar\": {\"outlinewidth\": 0, \"ticks\": \"\"}}, \"type\": \"scatterternary\"}], \"surface\": [{\"colorbar\": {\"outlinewidth\": 0, \"ticks\": \"\"}, \"colorscale\": [[0.0, \"#0d0887\"], [0.1111111111111111, \"#46039f\"], [0.2222222222222222, \"#7201a8\"], [0.3333333333333333, \"#9c179e\"], [0.4444444444444444, \"#bd3786\"], [0.5555555555555556, \"#d8576b\"], [0.6666666666666666, \"#ed7953\"], [0.7777777777777778, \"#fb9f3a\"], [0.8888888888888888, \"#fdca26\"], [1.0, \"#f0f921\"]], \"type\": \"surface\"}], \"table\": [{\"cells\": {\"fill\": {\"color\": \"#EBF0F8\"}, \"line\": {\"color\": \"white\"}}, \"header\": {\"fill\": {\"color\": \"#C8D4E3\"}, \"line\": {\"color\": \"white\"}}, \"type\": \"table\"}]}, \"layout\": {\"annotationdefaults\": {\"arrowcolor\": \"#2a3f5f\", \"arrowhead\": 0, \"arrowwidth\": 1}, \"coloraxis\": {\"colorbar\": {\"outlinewidth\": 0, \"ticks\": \"\"}}, \"colorscale\": {\"diverging\": [[0, \"#8e0152\"], [0.1, \"#c51b7d\"], [0.2, \"#de77ae\"], [0.3, \"#f1b6da\"], [0.4, \"#fde0ef\"], [0.5, \"#f7f7f7\"], [0.6, \"#e6f5d0\"], [0.7, \"#b8e186\"], [0.8, \"#7fbc41\"], [0.9, \"#4d9221\"], [1, \"#276419\"]], \"sequential\": [[0.0, \"#0d0887\"], [0.1111111111111111, \"#46039f\"], [0.2222222222222222, \"#7201a8\"], [0.3333333333333333, \"#9c179e\"], [0.4444444444444444, \"#bd3786\"], [0.5555555555555556, \"#d8576b\"], [0.6666666666666666, \"#ed7953\"], [0.7777777777777778, \"#fb9f3a\"], [0.8888888888888888, \"#fdca26\"], [1.0, \"#f0f921\"]], \"sequentialminus\": [[0.0, \"#0d0887\"], [0.1111111111111111, \"#46039f\"], [0.2222222222222222, \"#7201a8\"], [0.3333333333333333, \"#9c179e\"], [0.4444444444444444, \"#bd3786\"], [0.5555555555555556, \"#d8576b\"], [0.6666666666666666, \"#ed7953\"], [0.7777777777777778, \"#fb9f3a\"], [0.8888888888888888, \"#fdca26\"], [1.0, \"#f0f921\"]]}, \"colorway\": [\"#636efa\", \"#EF553B\", \"#00cc96\", \"#ab63fa\", \"#FFA15A\", \"#19d3f3\", \"#FF6692\", \"#B6E880\", \"#FF97FF\", \"#FECB52\"], \"font\": {\"color\": \"#2a3f5f\"}, \"geo\": {\"bgcolor\": \"white\", \"lakecolor\": \"white\", \"landcolor\": \"#E5ECF6\", \"showlakes\": true, \"showland\": true, \"subunitcolor\": \"white\"}, \"hoverlabel\": {\"align\": \"left\"}, \"hovermode\": \"closest\", \"mapbox\": {\"style\": \"light\"}, \"paper_bgcolor\": \"white\", \"plot_bgcolor\": \"#E5ECF6\", \"polar\": {\"angularaxis\": {\"gridcolor\": \"white\", \"linecolor\": \"white\", \"ticks\": \"\"}, \"bgcolor\": \"#E5ECF6\", \"radialaxis\": {\"gridcolor\": \"white\", \"linecolor\": \"white\", \"ticks\": \"\"}}, \"scene\": {\"xaxis\": {\"backgroundcolor\": \"#E5ECF6\", \"gridcolor\": \"white\", \"gridwidth\": 2, \"linecolor\": \"white\", \"showbackground\": true, \"ticks\": \"\", \"zerolinecolor\": \"white\"}, \"yaxis\": {\"backgroundcolor\": \"#E5ECF6\", \"gridcolor\": \"white\", \"gridwidth\": 2, \"linecolor\": \"white\", \"showbackground\": true, \"ticks\": \"\", \"zerolinecolor\": \"white\"}, \"zaxis\": {\"backgroundcolor\": \"#E5ECF6\", \"gridcolor\": \"white\", \"gridwidth\": 2, \"linecolor\": \"white\", \"showbackground\": true, \"ticks\": \"\", \"zerolinecolor\": \"white\"}}, \"shapedefaults\": {\"line\": {\"color\": \"#2a3f5f\"}}, \"ternary\": {\"aaxis\": {\"gridcolor\": \"white\", \"linecolor\": \"white\", \"ticks\": \"\"}, \"baxis\": {\"gridcolor\": \"white\", \"linecolor\": \"white\", \"ticks\": \"\"}, \"bgcolor\": \"#E5ECF6\", \"caxis\": {\"gridcolor\": \"white\", \"linecolor\": \"white\", \"ticks\": \"\"}}, \"title\": {\"x\": 0.05}, \"xaxis\": {\"automargin\": true, \"gridcolor\": \"white\", \"linecolor\": \"white\", \"ticks\": \"\", \"title\": {\"standoff\": 15}, \"zerolinecolor\": \"white\", \"zerolinewidth\": 2}, \"yaxis\": {\"automargin\": true, \"gridcolor\": \"white\", \"linecolor\": \"white\", \"ticks\": \"\", \"title\": {\"standoff\": 15}, \"zerolinecolor\": \"white\", \"zerolinewidth\": 2}}}, \"title\": {\"text\": \"Homicide Rates per State\"}},\n",
       "                        {\"responsive\": true}\n",
       "                    ).then(function(){\n",
       "                            \n",
       "var gd = document.getElementById('bae383d1-eb61-494d-baf6-4c74e9dae778');\n",
       "var x = new MutationObserver(function (mutations, observer) {{\n",
       "        var display = window.getComputedStyle(gd).display;\n",
       "        if (!display || display === 'none') {{\n",
       "            console.log([gd, 'removed!']);\n",
       "            Plotly.purge(gd);\n",
       "            observer.disconnect();\n",
       "        }}\n",
       "}});\n",
       "\n",
       "// Listen for the removal of the full notebook cells\n",
       "var notebookContainer = gd.closest('#notebook-container');\n",
       "if (notebookContainer) {{\n",
       "    x.observe(notebookContainer, {childList: true});\n",
       "}}\n",
       "\n",
       "// Listen for the clearing of the current output cell\n",
       "var outputEl = gd.closest('.output');\n",
       "if (outputEl) {{\n",
       "    x.observe(outputEl, {childList: true});\n",
       "}}\n",
       "\n",
       "                        })\n",
       "                };\n",
       "                });\n",
       "            </script>\n",
       "        </div>"
      ]
     },
     "metadata": {},
     "output_type": "display_data"
    }
   ],
   "source": [
    "# heat map of states \n",
    "\n",
    "fig = px.choropleth(locations=df_state['State_Abb'], \n",
    "                    locationmode=\"USA-states\", \n",
    "                    color=df_state['Record ID'], \n",
    "                    color_continuous_scale='portland',\n",
    "                    scope=\"usa\")\n",
    "fig.update_layout(\n",
    "    title_text = 'Homicide Rates per State',\n",
    "    geo_scope='usa', # limite map scope to USA\n",
    ")\n",
    "fig.show()"
   ]
  },
  {
   "cell_type": "code",
   "execution_count": 114,
   "metadata": {},
   "outputs": [
    {
     "data": {
      "text/html": [
       "<div>\n",
       "<style scoped>\n",
       "    .dataframe tbody tr th:only-of-type {\n",
       "        vertical-align: middle;\n",
       "    }\n",
       "\n",
       "    .dataframe tbody tr th {\n",
       "        vertical-align: top;\n",
       "    }\n",
       "\n",
       "    .dataframe thead th {\n",
       "        text-align: right;\n",
       "    }\n",
       "</style>\n",
       "<table border=\"1\" class=\"dataframe\">\n",
       "  <thead>\n",
       "    <tr style=\"text-align: right;\">\n",
       "      <th></th>\n",
       "      <th>Year</th>\n",
       "      <th>Crime Solved</th>\n",
       "      <th>Record ID</th>\n",
       "      <th>Agency Code</th>\n",
       "      <th>Agency Name</th>\n",
       "      <th>Agency Type</th>\n",
       "      <th>City</th>\n",
       "      <th>State</th>\n",
       "      <th>Month</th>\n",
       "      <th>Incident</th>\n",
       "      <th>...</th>\n",
       "      <th>Victim Ethnicity</th>\n",
       "      <th>Perpetrator Sex</th>\n",
       "      <th>Perpetrator Age</th>\n",
       "      <th>Perpetrator Race</th>\n",
       "      <th>Perpetrator Ethnicity</th>\n",
       "      <th>Relationship</th>\n",
       "      <th>Weapon</th>\n",
       "      <th>Victim Count</th>\n",
       "      <th>Perpetrator Count</th>\n",
       "      <th>Record Source</th>\n",
       "    </tr>\n",
       "  </thead>\n",
       "  <tbody>\n",
       "    <tr>\n",
       "      <th>1</th>\n",
       "      <td>1980</td>\n",
       "      <td>Yes</td>\n",
       "      <td>16729</td>\n",
       "      <td>16729</td>\n",
       "      <td>16729</td>\n",
       "      <td>16729</td>\n",
       "      <td>16729</td>\n",
       "      <td>16729</td>\n",
       "      <td>16729</td>\n",
       "      <td>16729</td>\n",
       "      <td>...</td>\n",
       "      <td>16729</td>\n",
       "      <td>16729</td>\n",
       "      <td>16729</td>\n",
       "      <td>16729</td>\n",
       "      <td>16729</td>\n",
       "      <td>16729</td>\n",
       "      <td>16729</td>\n",
       "      <td>16729</td>\n",
       "      <td>16729</td>\n",
       "      <td>16729</td>\n",
       "    </tr>\n",
       "    <tr>\n",
       "      <th>3</th>\n",
       "      <td>1981</td>\n",
       "      <td>Yes</td>\n",
       "      <td>15788</td>\n",
       "      <td>15788</td>\n",
       "      <td>15788</td>\n",
       "      <td>15788</td>\n",
       "      <td>15788</td>\n",
       "      <td>15788</td>\n",
       "      <td>15788</td>\n",
       "      <td>15788</td>\n",
       "      <td>...</td>\n",
       "      <td>15788</td>\n",
       "      <td>15788</td>\n",
       "      <td>15788</td>\n",
       "      <td>15788</td>\n",
       "      <td>15788</td>\n",
       "      <td>15788</td>\n",
       "      <td>15788</td>\n",
       "      <td>15788</td>\n",
       "      <td>15788</td>\n",
       "      <td>15788</td>\n",
       "    </tr>\n",
       "    <tr>\n",
       "      <th>5</th>\n",
       "      <td>1982</td>\n",
       "      <td>Yes</td>\n",
       "      <td>15060</td>\n",
       "      <td>15060</td>\n",
       "      <td>15060</td>\n",
       "      <td>15060</td>\n",
       "      <td>15060</td>\n",
       "      <td>15060</td>\n",
       "      <td>15060</td>\n",
       "      <td>15060</td>\n",
       "      <td>...</td>\n",
       "      <td>15060</td>\n",
       "      <td>15060</td>\n",
       "      <td>15060</td>\n",
       "      <td>15060</td>\n",
       "      <td>15060</td>\n",
       "      <td>15060</td>\n",
       "      <td>15060</td>\n",
       "      <td>15060</td>\n",
       "      <td>15060</td>\n",
       "      <td>15060</td>\n",
       "    </tr>\n",
       "    <tr>\n",
       "      <th>7</th>\n",
       "      <td>1983</td>\n",
       "      <td>Yes</td>\n",
       "      <td>14515</td>\n",
       "      <td>14515</td>\n",
       "      <td>14515</td>\n",
       "      <td>14515</td>\n",
       "      <td>14515</td>\n",
       "      <td>14515</td>\n",
       "      <td>14515</td>\n",
       "      <td>14515</td>\n",
       "      <td>...</td>\n",
       "      <td>14515</td>\n",
       "      <td>14515</td>\n",
       "      <td>14515</td>\n",
       "      <td>14515</td>\n",
       "      <td>14515</td>\n",
       "      <td>14515</td>\n",
       "      <td>14515</td>\n",
       "      <td>14515</td>\n",
       "      <td>14515</td>\n",
       "      <td>14515</td>\n",
       "    </tr>\n",
       "    <tr>\n",
       "      <th>9</th>\n",
       "      <td>1984</td>\n",
       "      <td>Yes</td>\n",
       "      <td>13245</td>\n",
       "      <td>13245</td>\n",
       "      <td>13245</td>\n",
       "      <td>13245</td>\n",
       "      <td>13245</td>\n",
       "      <td>13245</td>\n",
       "      <td>13245</td>\n",
       "      <td>13245</td>\n",
       "      <td>...</td>\n",
       "      <td>13245</td>\n",
       "      <td>13245</td>\n",
       "      <td>13245</td>\n",
       "      <td>13245</td>\n",
       "      <td>13245</td>\n",
       "      <td>13245</td>\n",
       "      <td>13245</td>\n",
       "      <td>13245</td>\n",
       "      <td>13245</td>\n",
       "      <td>13245</td>\n",
       "    </tr>\n",
       "    <tr>\n",
       "      <th>11</th>\n",
       "      <td>1985</td>\n",
       "      <td>Yes</td>\n",
       "      <td>13623</td>\n",
       "      <td>13623</td>\n",
       "      <td>13623</td>\n",
       "      <td>13623</td>\n",
       "      <td>13623</td>\n",
       "      <td>13623</td>\n",
       "      <td>13623</td>\n",
       "      <td>13623</td>\n",
       "      <td>...</td>\n",
       "      <td>13623</td>\n",
       "      <td>13623</td>\n",
       "      <td>13623</td>\n",
       "      <td>13623</td>\n",
       "      <td>13623</td>\n",
       "      <td>13623</td>\n",
       "      <td>13623</td>\n",
       "      <td>13623</td>\n",
       "      <td>13623</td>\n",
       "      <td>13623</td>\n",
       "    </tr>\n",
       "    <tr>\n",
       "      <th>13</th>\n",
       "      <td>1986</td>\n",
       "      <td>Yes</td>\n",
       "      <td>14820</td>\n",
       "      <td>14820</td>\n",
       "      <td>14820</td>\n",
       "      <td>14820</td>\n",
       "      <td>14820</td>\n",
       "      <td>14820</td>\n",
       "      <td>14820</td>\n",
       "      <td>14820</td>\n",
       "      <td>...</td>\n",
       "      <td>14820</td>\n",
       "      <td>14820</td>\n",
       "      <td>14820</td>\n",
       "      <td>14820</td>\n",
       "      <td>14820</td>\n",
       "      <td>14820</td>\n",
       "      <td>14820</td>\n",
       "      <td>14820</td>\n",
       "      <td>14820</td>\n",
       "      <td>14820</td>\n",
       "    </tr>\n",
       "    <tr>\n",
       "      <th>15</th>\n",
       "      <td>1987</td>\n",
       "      <td>Yes</td>\n",
       "      <td>13473</td>\n",
       "      <td>13473</td>\n",
       "      <td>13473</td>\n",
       "      <td>13473</td>\n",
       "      <td>13473</td>\n",
       "      <td>13473</td>\n",
       "      <td>13473</td>\n",
       "      <td>13473</td>\n",
       "      <td>...</td>\n",
       "      <td>13473</td>\n",
       "      <td>13473</td>\n",
       "      <td>13473</td>\n",
       "      <td>13473</td>\n",
       "      <td>13473</td>\n",
       "      <td>13473</td>\n",
       "      <td>13473</td>\n",
       "      <td>13473</td>\n",
       "      <td>13473</td>\n",
       "      <td>13473</td>\n",
       "    </tr>\n",
       "    <tr>\n",
       "      <th>17</th>\n",
       "      <td>1988</td>\n",
       "      <td>Yes</td>\n",
       "      <td>13391</td>\n",
       "      <td>13391</td>\n",
       "      <td>13391</td>\n",
       "      <td>13391</td>\n",
       "      <td>13391</td>\n",
       "      <td>13391</td>\n",
       "      <td>13391</td>\n",
       "      <td>13391</td>\n",
       "      <td>...</td>\n",
       "      <td>13391</td>\n",
       "      <td>13391</td>\n",
       "      <td>13391</td>\n",
       "      <td>13391</td>\n",
       "      <td>13391</td>\n",
       "      <td>13391</td>\n",
       "      <td>13391</td>\n",
       "      <td>13391</td>\n",
       "      <td>13391</td>\n",
       "      <td>13391</td>\n",
       "    </tr>\n",
       "    <tr>\n",
       "      <th>19</th>\n",
       "      <td>1989</td>\n",
       "      <td>Yes</td>\n",
       "      <td>14179</td>\n",
       "      <td>14179</td>\n",
       "      <td>14179</td>\n",
       "      <td>14179</td>\n",
       "      <td>14179</td>\n",
       "      <td>14179</td>\n",
       "      <td>14179</td>\n",
       "      <td>14179</td>\n",
       "      <td>...</td>\n",
       "      <td>14179</td>\n",
       "      <td>14179</td>\n",
       "      <td>14179</td>\n",
       "      <td>14179</td>\n",
       "      <td>14179</td>\n",
       "      <td>14179</td>\n",
       "      <td>14179</td>\n",
       "      <td>14179</td>\n",
       "      <td>14179</td>\n",
       "      <td>14179</td>\n",
       "    </tr>\n",
       "    <tr>\n",
       "      <th>21</th>\n",
       "      <td>1990</td>\n",
       "      <td>Yes</td>\n",
       "      <td>15001</td>\n",
       "      <td>15001</td>\n",
       "      <td>15001</td>\n",
       "      <td>15001</td>\n",
       "      <td>15001</td>\n",
       "      <td>15001</td>\n",
       "      <td>15001</td>\n",
       "      <td>15001</td>\n",
       "      <td>...</td>\n",
       "      <td>15001</td>\n",
       "      <td>15001</td>\n",
       "      <td>15001</td>\n",
       "      <td>15001</td>\n",
       "      <td>15001</td>\n",
       "      <td>15001</td>\n",
       "      <td>15001</td>\n",
       "      <td>15001</td>\n",
       "      <td>15001</td>\n",
       "      <td>15001</td>\n",
       "    </tr>\n",
       "    <tr>\n",
       "      <th>23</th>\n",
       "      <td>1991</td>\n",
       "      <td>Yes</td>\n",
       "      <td>15321</td>\n",
       "      <td>15321</td>\n",
       "      <td>15321</td>\n",
       "      <td>15321</td>\n",
       "      <td>15321</td>\n",
       "      <td>15321</td>\n",
       "      <td>15321</td>\n",
       "      <td>15321</td>\n",
       "      <td>...</td>\n",
       "      <td>15321</td>\n",
       "      <td>15321</td>\n",
       "      <td>15321</td>\n",
       "      <td>15321</td>\n",
       "      <td>15321</td>\n",
       "      <td>15321</td>\n",
       "      <td>15321</td>\n",
       "      <td>15321</td>\n",
       "      <td>15321</td>\n",
       "      <td>15321</td>\n",
       "    </tr>\n",
       "    <tr>\n",
       "      <th>25</th>\n",
       "      <td>1992</td>\n",
       "      <td>Yes</td>\n",
       "      <td>15881</td>\n",
       "      <td>15881</td>\n",
       "      <td>15881</td>\n",
       "      <td>15881</td>\n",
       "      <td>15881</td>\n",
       "      <td>15881</td>\n",
       "      <td>15881</td>\n",
       "      <td>15881</td>\n",
       "      <td>...</td>\n",
       "      <td>15881</td>\n",
       "      <td>15881</td>\n",
       "      <td>15881</td>\n",
       "      <td>15881</td>\n",
       "      <td>15881</td>\n",
       "      <td>15881</td>\n",
       "      <td>15881</td>\n",
       "      <td>15881</td>\n",
       "      <td>15881</td>\n",
       "      <td>15881</td>\n",
       "    </tr>\n",
       "    <tr>\n",
       "      <th>27</th>\n",
       "      <td>1993</td>\n",
       "      <td>Yes</td>\n",
       "      <td>16435</td>\n",
       "      <td>16435</td>\n",
       "      <td>16435</td>\n",
       "      <td>16435</td>\n",
       "      <td>16435</td>\n",
       "      <td>16435</td>\n",
       "      <td>16435</td>\n",
       "      <td>16435</td>\n",
       "      <td>...</td>\n",
       "      <td>16435</td>\n",
       "      <td>16435</td>\n",
       "      <td>16435</td>\n",
       "      <td>16435</td>\n",
       "      <td>16435</td>\n",
       "      <td>16435</td>\n",
       "      <td>16435</td>\n",
       "      <td>16435</td>\n",
       "      <td>16435</td>\n",
       "      <td>16435</td>\n",
       "    </tr>\n",
       "    <tr>\n",
       "      <th>29</th>\n",
       "      <td>1994</td>\n",
       "      <td>Yes</td>\n",
       "      <td>15881</td>\n",
       "      <td>15881</td>\n",
       "      <td>15881</td>\n",
       "      <td>15881</td>\n",
       "      <td>15881</td>\n",
       "      <td>15881</td>\n",
       "      <td>15881</td>\n",
       "      <td>15881</td>\n",
       "      <td>...</td>\n",
       "      <td>15881</td>\n",
       "      <td>15881</td>\n",
       "      <td>15881</td>\n",
       "      <td>15881</td>\n",
       "      <td>15881</td>\n",
       "      <td>15881</td>\n",
       "      <td>15881</td>\n",
       "      <td>15881</td>\n",
       "      <td>15881</td>\n",
       "      <td>15881</td>\n",
       "    </tr>\n",
       "    <tr>\n",
       "      <th>31</th>\n",
       "      <td>1995</td>\n",
       "      <td>Yes</td>\n",
       "      <td>14370</td>\n",
       "      <td>14370</td>\n",
       "      <td>14370</td>\n",
       "      <td>14370</td>\n",
       "      <td>14370</td>\n",
       "      <td>14370</td>\n",
       "      <td>14370</td>\n",
       "      <td>14370</td>\n",
       "      <td>...</td>\n",
       "      <td>14370</td>\n",
       "      <td>14370</td>\n",
       "      <td>14370</td>\n",
       "      <td>14370</td>\n",
       "      <td>14370</td>\n",
       "      <td>14370</td>\n",
       "      <td>14370</td>\n",
       "      <td>14370</td>\n",
       "      <td>14370</td>\n",
       "      <td>14370</td>\n",
       "    </tr>\n",
       "    <tr>\n",
       "      <th>33</th>\n",
       "      <td>1996</td>\n",
       "      <td>Yes</td>\n",
       "      <td>13088</td>\n",
       "      <td>13088</td>\n",
       "      <td>13088</td>\n",
       "      <td>13088</td>\n",
       "      <td>13088</td>\n",
       "      <td>13088</td>\n",
       "      <td>13088</td>\n",
       "      <td>13088</td>\n",
       "      <td>...</td>\n",
       "      <td>13088</td>\n",
       "      <td>13088</td>\n",
       "      <td>13088</td>\n",
       "      <td>13088</td>\n",
       "      <td>13088</td>\n",
       "      <td>13088</td>\n",
       "      <td>13088</td>\n",
       "      <td>13088</td>\n",
       "      <td>13088</td>\n",
       "      <td>13088</td>\n",
       "    </tr>\n",
       "    <tr>\n",
       "      <th>35</th>\n",
       "      <td>1997</td>\n",
       "      <td>Yes</td>\n",
       "      <td>12127</td>\n",
       "      <td>12127</td>\n",
       "      <td>12127</td>\n",
       "      <td>12127</td>\n",
       "      <td>12127</td>\n",
       "      <td>12127</td>\n",
       "      <td>12127</td>\n",
       "      <td>12127</td>\n",
       "      <td>...</td>\n",
       "      <td>12127</td>\n",
       "      <td>12127</td>\n",
       "      <td>12127</td>\n",
       "      <td>12127</td>\n",
       "      <td>12127</td>\n",
       "      <td>12127</td>\n",
       "      <td>12127</td>\n",
       "      <td>12127</td>\n",
       "      <td>12127</td>\n",
       "      <td>12127</td>\n",
       "    </tr>\n",
       "    <tr>\n",
       "      <th>37</th>\n",
       "      <td>1998</td>\n",
       "      <td>Yes</td>\n",
       "      <td>11291</td>\n",
       "      <td>11291</td>\n",
       "      <td>11291</td>\n",
       "      <td>11291</td>\n",
       "      <td>11291</td>\n",
       "      <td>11291</td>\n",
       "      <td>11291</td>\n",
       "      <td>11291</td>\n",
       "      <td>...</td>\n",
       "      <td>11291</td>\n",
       "      <td>11291</td>\n",
       "      <td>11291</td>\n",
       "      <td>11291</td>\n",
       "      <td>11291</td>\n",
       "      <td>11291</td>\n",
       "      <td>11291</td>\n",
       "      <td>11291</td>\n",
       "      <td>11291</td>\n",
       "      <td>11291</td>\n",
       "    </tr>\n",
       "    <tr>\n",
       "      <th>39</th>\n",
       "      <td>1999</td>\n",
       "      <td>Yes</td>\n",
       "      <td>10226</td>\n",
       "      <td>10226</td>\n",
       "      <td>10226</td>\n",
       "      <td>10226</td>\n",
       "      <td>10226</td>\n",
       "      <td>10226</td>\n",
       "      <td>10226</td>\n",
       "      <td>10226</td>\n",
       "      <td>...</td>\n",
       "      <td>10226</td>\n",
       "      <td>10226</td>\n",
       "      <td>10226</td>\n",
       "      <td>10226</td>\n",
       "      <td>10226</td>\n",
       "      <td>10226</td>\n",
       "      <td>10226</td>\n",
       "      <td>10226</td>\n",
       "      <td>10226</td>\n",
       "      <td>10226</td>\n",
       "    </tr>\n",
       "    <tr>\n",
       "      <th>41</th>\n",
       "      <td>2000</td>\n",
       "      <td>Yes</td>\n",
       "      <td>10207</td>\n",
       "      <td>10207</td>\n",
       "      <td>10207</td>\n",
       "      <td>10207</td>\n",
       "      <td>10207</td>\n",
       "      <td>10207</td>\n",
       "      <td>10207</td>\n",
       "      <td>10207</td>\n",
       "      <td>...</td>\n",
       "      <td>10207</td>\n",
       "      <td>10207</td>\n",
       "      <td>10207</td>\n",
       "      <td>10207</td>\n",
       "      <td>10207</td>\n",
       "      <td>10207</td>\n",
       "      <td>10207</td>\n",
       "      <td>10207</td>\n",
       "      <td>10207</td>\n",
       "      <td>10207</td>\n",
       "    </tr>\n",
       "    <tr>\n",
       "      <th>43</th>\n",
       "      <td>2001</td>\n",
       "      <td>Yes</td>\n",
       "      <td>11046</td>\n",
       "      <td>11046</td>\n",
       "      <td>11046</td>\n",
       "      <td>11046</td>\n",
       "      <td>11046</td>\n",
       "      <td>11046</td>\n",
       "      <td>11046</td>\n",
       "      <td>11046</td>\n",
       "      <td>...</td>\n",
       "      <td>11046</td>\n",
       "      <td>11046</td>\n",
       "      <td>11046</td>\n",
       "      <td>11046</td>\n",
       "      <td>11046</td>\n",
       "      <td>11046</td>\n",
       "      <td>11046</td>\n",
       "      <td>11046</td>\n",
       "      <td>11046</td>\n",
       "      <td>11046</td>\n",
       "    </tr>\n",
       "    <tr>\n",
       "      <th>45</th>\n",
       "      <td>2002</td>\n",
       "      <td>Yes</td>\n",
       "      <td>11284</td>\n",
       "      <td>11284</td>\n",
       "      <td>11284</td>\n",
       "      <td>11284</td>\n",
       "      <td>11284</td>\n",
       "      <td>11284</td>\n",
       "      <td>11284</td>\n",
       "      <td>11284</td>\n",
       "      <td>...</td>\n",
       "      <td>11284</td>\n",
       "      <td>11284</td>\n",
       "      <td>11284</td>\n",
       "      <td>11284</td>\n",
       "      <td>11284</td>\n",
       "      <td>11284</td>\n",
       "      <td>11284</td>\n",
       "      <td>11284</td>\n",
       "      <td>11284</td>\n",
       "      <td>11284</td>\n",
       "    </tr>\n",
       "    <tr>\n",
       "      <th>47</th>\n",
       "      <td>2003</td>\n",
       "      <td>Yes</td>\n",
       "      <td>11232</td>\n",
       "      <td>11232</td>\n",
       "      <td>11232</td>\n",
       "      <td>11232</td>\n",
       "      <td>11232</td>\n",
       "      <td>11232</td>\n",
       "      <td>11232</td>\n",
       "      <td>11232</td>\n",
       "      <td>...</td>\n",
       "      <td>11232</td>\n",
       "      <td>11232</td>\n",
       "      <td>11232</td>\n",
       "      <td>11232</td>\n",
       "      <td>11232</td>\n",
       "      <td>11232</td>\n",
       "      <td>11232</td>\n",
       "      <td>11232</td>\n",
       "      <td>11232</td>\n",
       "      <td>11232</td>\n",
       "    </tr>\n",
       "    <tr>\n",
       "      <th>49</th>\n",
       "      <td>2004</td>\n",
       "      <td>Yes</td>\n",
       "      <td>11155</td>\n",
       "      <td>11155</td>\n",
       "      <td>11155</td>\n",
       "      <td>11155</td>\n",
       "      <td>11155</td>\n",
       "      <td>11155</td>\n",
       "      <td>11155</td>\n",
       "      <td>11155</td>\n",
       "      <td>...</td>\n",
       "      <td>11155</td>\n",
       "      <td>11155</td>\n",
       "      <td>11155</td>\n",
       "      <td>11155</td>\n",
       "      <td>11155</td>\n",
       "      <td>11155</td>\n",
       "      <td>11155</td>\n",
       "      <td>11155</td>\n",
       "      <td>11155</td>\n",
       "      <td>11155</td>\n",
       "    </tr>\n",
       "    <tr>\n",
       "      <th>51</th>\n",
       "      <td>2005</td>\n",
       "      <td>Yes</td>\n",
       "      <td>11607</td>\n",
       "      <td>11607</td>\n",
       "      <td>11607</td>\n",
       "      <td>11607</td>\n",
       "      <td>11607</td>\n",
       "      <td>11607</td>\n",
       "      <td>11607</td>\n",
       "      <td>11607</td>\n",
       "      <td>...</td>\n",
       "      <td>11607</td>\n",
       "      <td>11607</td>\n",
       "      <td>11607</td>\n",
       "      <td>11607</td>\n",
       "      <td>11607</td>\n",
       "      <td>11607</td>\n",
       "      <td>11607</td>\n",
       "      <td>11607</td>\n",
       "      <td>11607</td>\n",
       "      <td>11607</td>\n",
       "    </tr>\n",
       "    <tr>\n",
       "      <th>53</th>\n",
       "      <td>2006</td>\n",
       "      <td>Yes</td>\n",
       "      <td>11926</td>\n",
       "      <td>11926</td>\n",
       "      <td>11926</td>\n",
       "      <td>11926</td>\n",
       "      <td>11926</td>\n",
       "      <td>11926</td>\n",
       "      <td>11926</td>\n",
       "      <td>11926</td>\n",
       "      <td>...</td>\n",
       "      <td>11926</td>\n",
       "      <td>11926</td>\n",
       "      <td>11926</td>\n",
       "      <td>11926</td>\n",
       "      <td>11926</td>\n",
       "      <td>11926</td>\n",
       "      <td>11926</td>\n",
       "      <td>11926</td>\n",
       "      <td>11926</td>\n",
       "      <td>11926</td>\n",
       "    </tr>\n",
       "    <tr>\n",
       "      <th>55</th>\n",
       "      <td>2007</td>\n",
       "      <td>Yes</td>\n",
       "      <td>11789</td>\n",
       "      <td>11789</td>\n",
       "      <td>11789</td>\n",
       "      <td>11789</td>\n",
       "      <td>11789</td>\n",
       "      <td>11789</td>\n",
       "      <td>11789</td>\n",
       "      <td>11789</td>\n",
       "      <td>...</td>\n",
       "      <td>11789</td>\n",
       "      <td>11789</td>\n",
       "      <td>11789</td>\n",
       "      <td>11789</td>\n",
       "      <td>11789</td>\n",
       "      <td>11789</td>\n",
       "      <td>11789</td>\n",
       "      <td>11789</td>\n",
       "      <td>11789</td>\n",
       "      <td>11789</td>\n",
       "    </tr>\n",
       "    <tr>\n",
       "      <th>57</th>\n",
       "      <td>2008</td>\n",
       "      <td>Yes</td>\n",
       "      <td>10538</td>\n",
       "      <td>10538</td>\n",
       "      <td>10538</td>\n",
       "      <td>10538</td>\n",
       "      <td>10538</td>\n",
       "      <td>10538</td>\n",
       "      <td>10538</td>\n",
       "      <td>10538</td>\n",
       "      <td>...</td>\n",
       "      <td>10538</td>\n",
       "      <td>10538</td>\n",
       "      <td>10538</td>\n",
       "      <td>10538</td>\n",
       "      <td>10538</td>\n",
       "      <td>10538</td>\n",
       "      <td>10538</td>\n",
       "      <td>10538</td>\n",
       "      <td>10538</td>\n",
       "      <td>10538</td>\n",
       "    </tr>\n",
       "    <tr>\n",
       "      <th>59</th>\n",
       "      <td>2009</td>\n",
       "      <td>Yes</td>\n",
       "      <td>11215</td>\n",
       "      <td>11215</td>\n",
       "      <td>11215</td>\n",
       "      <td>11215</td>\n",
       "      <td>11215</td>\n",
       "      <td>11215</td>\n",
       "      <td>11215</td>\n",
       "      <td>11215</td>\n",
       "      <td>...</td>\n",
       "      <td>11215</td>\n",
       "      <td>11215</td>\n",
       "      <td>11215</td>\n",
       "      <td>11215</td>\n",
       "      <td>11215</td>\n",
       "      <td>11215</td>\n",
       "      <td>11215</td>\n",
       "      <td>11215</td>\n",
       "      <td>11215</td>\n",
       "      <td>11215</td>\n",
       "    </tr>\n",
       "    <tr>\n",
       "      <th>61</th>\n",
       "      <td>2010</td>\n",
       "      <td>Yes</td>\n",
       "      <td>10706</td>\n",
       "      <td>10706</td>\n",
       "      <td>10706</td>\n",
       "      <td>10706</td>\n",
       "      <td>10706</td>\n",
       "      <td>10706</td>\n",
       "      <td>10706</td>\n",
       "      <td>10706</td>\n",
       "      <td>...</td>\n",
       "      <td>10706</td>\n",
       "      <td>10706</td>\n",
       "      <td>10706</td>\n",
       "      <td>10706</td>\n",
       "      <td>10706</td>\n",
       "      <td>10706</td>\n",
       "      <td>10706</td>\n",
       "      <td>10706</td>\n",
       "      <td>10706</td>\n",
       "      <td>10706</td>\n",
       "    </tr>\n",
       "    <tr>\n",
       "      <th>63</th>\n",
       "      <td>2011</td>\n",
       "      <td>Yes</td>\n",
       "      <td>10443</td>\n",
       "      <td>10443</td>\n",
       "      <td>10443</td>\n",
       "      <td>10443</td>\n",
       "      <td>10443</td>\n",
       "      <td>10443</td>\n",
       "      <td>10443</td>\n",
       "      <td>10443</td>\n",
       "      <td>...</td>\n",
       "      <td>10443</td>\n",
       "      <td>10443</td>\n",
       "      <td>10443</td>\n",
       "      <td>10443</td>\n",
       "      <td>10443</td>\n",
       "      <td>10443</td>\n",
       "      <td>10443</td>\n",
       "      <td>10443</td>\n",
       "      <td>10443</td>\n",
       "      <td>10443</td>\n",
       "    </tr>\n",
       "    <tr>\n",
       "      <th>65</th>\n",
       "      <td>2012</td>\n",
       "      <td>Yes</td>\n",
       "      <td>10575</td>\n",
       "      <td>10575</td>\n",
       "      <td>10575</td>\n",
       "      <td>10575</td>\n",
       "      <td>10575</td>\n",
       "      <td>10575</td>\n",
       "      <td>10575</td>\n",
       "      <td>10575</td>\n",
       "      <td>...</td>\n",
       "      <td>10575</td>\n",
       "      <td>10575</td>\n",
       "      <td>10575</td>\n",
       "      <td>10575</td>\n",
       "      <td>10575</td>\n",
       "      <td>10575</td>\n",
       "      <td>10575</td>\n",
       "      <td>10575</td>\n",
       "      <td>10575</td>\n",
       "      <td>10575</td>\n",
       "    </tr>\n",
       "    <tr>\n",
       "      <th>67</th>\n",
       "      <td>2013</td>\n",
       "      <td>Yes</td>\n",
       "      <td>10055</td>\n",
       "      <td>10055</td>\n",
       "      <td>10055</td>\n",
       "      <td>10055</td>\n",
       "      <td>10055</td>\n",
       "      <td>10055</td>\n",
       "      <td>10055</td>\n",
       "      <td>10055</td>\n",
       "      <td>...</td>\n",
       "      <td>10055</td>\n",
       "      <td>10055</td>\n",
       "      <td>10055</td>\n",
       "      <td>10055</td>\n",
       "      <td>10055</td>\n",
       "      <td>10055</td>\n",
       "      <td>10055</td>\n",
       "      <td>10055</td>\n",
       "      <td>10055</td>\n",
       "      <td>10055</td>\n",
       "    </tr>\n",
       "    <tr>\n",
       "      <th>69</th>\n",
       "      <td>2014</td>\n",
       "      <td>Yes</td>\n",
       "      <td>9950</td>\n",
       "      <td>9950</td>\n",
       "      <td>9950</td>\n",
       "      <td>9950</td>\n",
       "      <td>9950</td>\n",
       "      <td>9950</td>\n",
       "      <td>9950</td>\n",
       "      <td>9950</td>\n",
       "      <td>...</td>\n",
       "      <td>9950</td>\n",
       "      <td>9950</td>\n",
       "      <td>9950</td>\n",
       "      <td>9950</td>\n",
       "      <td>9950</td>\n",
       "      <td>9950</td>\n",
       "      <td>9950</td>\n",
       "      <td>9950</td>\n",
       "      <td>9950</td>\n",
       "      <td>9950</td>\n",
       "    </tr>\n",
       "  </tbody>\n",
       "</table>\n",
       "<p>35 rows × 24 columns</p>\n",
       "</div>"
      ],
      "text/plain": [
       "    Year Crime Solved  Record ID  Agency Code  Agency Name  Agency Type  \\\n",
       "1   1980          Yes      16729        16729        16729        16729   \n",
       "3   1981          Yes      15788        15788        15788        15788   \n",
       "5   1982          Yes      15060        15060        15060        15060   \n",
       "7   1983          Yes      14515        14515        14515        14515   \n",
       "9   1984          Yes      13245        13245        13245        13245   \n",
       "11  1985          Yes      13623        13623        13623        13623   \n",
       "13  1986          Yes      14820        14820        14820        14820   \n",
       "15  1987          Yes      13473        13473        13473        13473   \n",
       "17  1988          Yes      13391        13391        13391        13391   \n",
       "19  1989          Yes      14179        14179        14179        14179   \n",
       "21  1990          Yes      15001        15001        15001        15001   \n",
       "23  1991          Yes      15321        15321        15321        15321   \n",
       "25  1992          Yes      15881        15881        15881        15881   \n",
       "27  1993          Yes      16435        16435        16435        16435   \n",
       "29  1994          Yes      15881        15881        15881        15881   \n",
       "31  1995          Yes      14370        14370        14370        14370   \n",
       "33  1996          Yes      13088        13088        13088        13088   \n",
       "35  1997          Yes      12127        12127        12127        12127   \n",
       "37  1998          Yes      11291        11291        11291        11291   \n",
       "39  1999          Yes      10226        10226        10226        10226   \n",
       "41  2000          Yes      10207        10207        10207        10207   \n",
       "43  2001          Yes      11046        11046        11046        11046   \n",
       "45  2002          Yes      11284        11284        11284        11284   \n",
       "47  2003          Yes      11232        11232        11232        11232   \n",
       "49  2004          Yes      11155        11155        11155        11155   \n",
       "51  2005          Yes      11607        11607        11607        11607   \n",
       "53  2006          Yes      11926        11926        11926        11926   \n",
       "55  2007          Yes      11789        11789        11789        11789   \n",
       "57  2008          Yes      10538        10538        10538        10538   \n",
       "59  2009          Yes      11215        11215        11215        11215   \n",
       "61  2010          Yes      10706        10706        10706        10706   \n",
       "63  2011          Yes      10443        10443        10443        10443   \n",
       "65  2012          Yes      10575        10575        10575        10575   \n",
       "67  2013          Yes      10055        10055        10055        10055   \n",
       "69  2014          Yes       9950         9950         9950         9950   \n",
       "\n",
       "     City  State  Month  Incident  ...  Victim Ethnicity  Perpetrator Sex  \\\n",
       "1   16729  16729  16729     16729  ...             16729            16729   \n",
       "3   15788  15788  15788     15788  ...             15788            15788   \n",
       "5   15060  15060  15060     15060  ...             15060            15060   \n",
       "7   14515  14515  14515     14515  ...             14515            14515   \n",
       "9   13245  13245  13245     13245  ...             13245            13245   \n",
       "11  13623  13623  13623     13623  ...             13623            13623   \n",
       "13  14820  14820  14820     14820  ...             14820            14820   \n",
       "15  13473  13473  13473     13473  ...             13473            13473   \n",
       "17  13391  13391  13391     13391  ...             13391            13391   \n",
       "19  14179  14179  14179     14179  ...             14179            14179   \n",
       "21  15001  15001  15001     15001  ...             15001            15001   \n",
       "23  15321  15321  15321     15321  ...             15321            15321   \n",
       "25  15881  15881  15881     15881  ...             15881            15881   \n",
       "27  16435  16435  16435     16435  ...             16435            16435   \n",
       "29  15881  15881  15881     15881  ...             15881            15881   \n",
       "31  14370  14370  14370     14370  ...             14370            14370   \n",
       "33  13088  13088  13088     13088  ...             13088            13088   \n",
       "35  12127  12127  12127     12127  ...             12127            12127   \n",
       "37  11291  11291  11291     11291  ...             11291            11291   \n",
       "39  10226  10226  10226     10226  ...             10226            10226   \n",
       "41  10207  10207  10207     10207  ...             10207            10207   \n",
       "43  11046  11046  11046     11046  ...             11046            11046   \n",
       "45  11284  11284  11284     11284  ...             11284            11284   \n",
       "47  11232  11232  11232     11232  ...             11232            11232   \n",
       "49  11155  11155  11155     11155  ...             11155            11155   \n",
       "51  11607  11607  11607     11607  ...             11607            11607   \n",
       "53  11926  11926  11926     11926  ...             11926            11926   \n",
       "55  11789  11789  11789     11789  ...             11789            11789   \n",
       "57  10538  10538  10538     10538  ...             10538            10538   \n",
       "59  11215  11215  11215     11215  ...             11215            11215   \n",
       "61  10706  10706  10706     10706  ...             10706            10706   \n",
       "63  10443  10443  10443     10443  ...             10443            10443   \n",
       "65  10575  10575  10575     10575  ...             10575            10575   \n",
       "67  10055  10055  10055     10055  ...             10055            10055   \n",
       "69   9950   9950   9950      9950  ...              9950             9950   \n",
       "\n",
       "    Perpetrator Age  Perpetrator Race  Perpetrator Ethnicity  Relationship  \\\n",
       "1             16729             16729                  16729         16729   \n",
       "3             15788             15788                  15788         15788   \n",
       "5             15060             15060                  15060         15060   \n",
       "7             14515             14515                  14515         14515   \n",
       "9             13245             13245                  13245         13245   \n",
       "11            13623             13623                  13623         13623   \n",
       "13            14820             14820                  14820         14820   \n",
       "15            13473             13473                  13473         13473   \n",
       "17            13391             13391                  13391         13391   \n",
       "19            14179             14179                  14179         14179   \n",
       "21            15001             15001                  15001         15001   \n",
       "23            15321             15321                  15321         15321   \n",
       "25            15881             15881                  15881         15881   \n",
       "27            16435             16435                  16435         16435   \n",
       "29            15881             15881                  15881         15881   \n",
       "31            14370             14370                  14370         14370   \n",
       "33            13088             13088                  13088         13088   \n",
       "35            12127             12127                  12127         12127   \n",
       "37            11291             11291                  11291         11291   \n",
       "39            10226             10226                  10226         10226   \n",
       "41            10207             10207                  10207         10207   \n",
       "43            11046             11046                  11046         11046   \n",
       "45            11284             11284                  11284         11284   \n",
       "47            11232             11232                  11232         11232   \n",
       "49            11155             11155                  11155         11155   \n",
       "51            11607             11607                  11607         11607   \n",
       "53            11926             11926                  11926         11926   \n",
       "55            11789             11789                  11789         11789   \n",
       "57            10538             10538                  10538         10538   \n",
       "59            11215             11215                  11215         11215   \n",
       "61            10706             10706                  10706         10706   \n",
       "63            10443             10443                  10443         10443   \n",
       "65            10575             10575                  10575         10575   \n",
       "67            10055             10055                  10055         10055   \n",
       "69             9950              9950                   9950          9950   \n",
       "\n",
       "    Weapon  Victim Count  Perpetrator Count  Record Source  \n",
       "1    16729         16729              16729          16729  \n",
       "3    15788         15788              15788          15788  \n",
       "5    15060         15060              15060          15060  \n",
       "7    14515         14515              14515          14515  \n",
       "9    13245         13245              13245          13245  \n",
       "11   13623         13623              13623          13623  \n",
       "13   14820         14820              14820          14820  \n",
       "15   13473         13473              13473          13473  \n",
       "17   13391         13391              13391          13391  \n",
       "19   14179         14179              14179          14179  \n",
       "21   15001         15001              15001          15001  \n",
       "23   15321         15321              15321          15321  \n",
       "25   15881         15881              15881          15881  \n",
       "27   16435         16435              16435          16435  \n",
       "29   15881         15881              15881          15881  \n",
       "31   14370         14370              14370          14370  \n",
       "33   13088         13088              13088          13088  \n",
       "35   12127         12127              12127          12127  \n",
       "37   11291         11291              11291          11291  \n",
       "39   10226         10226              10226          10226  \n",
       "41   10207         10207              10207          10207  \n",
       "43   11046         11046              11046          11046  \n",
       "45   11284         11284              11284          11284  \n",
       "47   11232         11232              11232          11232  \n",
       "49   11155         11155              11155          11155  \n",
       "51   11607         11607              11607          11607  \n",
       "53   11926         11926              11926          11926  \n",
       "55   11789         11789              11789          11789  \n",
       "57   10538         10538              10538          10538  \n",
       "59   11215         11215              11215          11215  \n",
       "61   10706         10706              10706          10706  \n",
       "63   10443         10443              10443          10443  \n",
       "65   10575         10575              10575          10575  \n",
       "67   10055         10055              10055          10055  \n",
       "69    9950          9950               9950           9950  \n",
       "\n",
       "[35 rows x 24 columns]"
      ]
     },
     "execution_count": 114,
     "metadata": {},
     "output_type": "execute_result"
    }
   ],
   "source": [
    "solved_y"
   ]
  },
  {
   "cell_type": "code",
   "execution_count": 117,
   "metadata": {},
   "outputs": [
    {
     "data": {
      "image/png": "[encoded data removed]",
      "text/plain": [
       "<Figure size 864x432 with 1 Axes>"
      ]
     },
     "metadata": {},
     "output_type": "display_data"
    }
   ],
   "source": [
    "sns.set(style='whitegrid')\n",
    "sns.catplot(x='Victim Race',\n",
    "            y='Incident',\n",
    "            kind='bar',\n",
    "            height=6, # makes the height 6 units high\n",
    "            aspect=2, # height should be 2 times width\n",
    "            data=df,\n",
    "            hue='Crime Solved',\n",
    "            legend=False, # remove default legend\n",
    "           palette=['#432371',\"#FAAE7B\",'red'])\n",
    "plt.xlabel('Victim Race',size=14)\n",
    "plt.ylabel('Total Number of Incidents',size=14)\n",
    "plt.title('On average black inidividual of unknown race experience \\n the highest incident of crime ',size=18)\n",
    "plt.legend(loc='upper left')\n",
    "plt.show() "
   ]
  },
  {
   "cell_type": "code",
   "execution_count": 119,
   "metadata": {},
   "outputs": [
    {
     "data": {
      "image/png": "[encoded data removed]",
      "text/plain": [
       "<Figure size 576x432 with 1 Axes>"
      ]
     },
     "metadata": {},
     "output_type": "display_data"
    }
   ],
   "source": [
    "\n",
    "ct5 = pd.crosstab(df['Agency Type'],\n",
    "                  df['Crime Solved'],\n",
    "                  \n",
    "                   \n",
    "                 )  \n",
    "ct5.plot(kind='barh', \n",
    "         #stacked=True, \n",
    "         color=['#432371','red'],\n",
    "         width=0.8,  \n",
    "         figsize=(8,6) # (x-axis,y-axis)\n",
    "         )\n",
    "plt.xlabel('Total Count',size=14)\n",
    "plt.ylabel('Agency Type',size=14)\n",
    "plt.title('the majority of crime, \\n mostly taken cared by Municipal Police',size=18)\n",
    "plt.show() "
   ]
  },
  {
   "cell_type": "markdown",
   "metadata": {},
   "source": [
    "#### [10 points] Discoveries\n",
    "Identify and explain interesting relationships between features and the class\n",
    "you are trying to predict (i.e., relationships with variables and the target classification)."
   ]
  },
  {
   "cell_type": "code",
   "execution_count": 195,
   "metadata": {},
   "outputs": [],
   "source": [
    "\n",
    "#solved_series=df.groupby(['Victim Sex','Crime Solved'])['Record ID'].count()/df.groupby(['Victim Sex'])['Record ID'].count()\n",
    "\n",
    "#df_categorical.columns\n",
    "\n",
    "crime_solved_df = pd.DataFrame()\n",
    "crime_solved_df['Attribute']=df_categorical.columns[df_categorical.columns!='Crime Solved']\n",
    "crime_solved_df['Response_Yes']=''\n",
    "\n",
    "for index, row in crime_solved_df.iterrows():\n",
    "  attribute=row['Attribute'] \n",
    "  solved_series=df.groupby([attribute,'Crime Solved'])['Record ID'].count()/df.groupby([attribute])['Record ID'].count()\n",
    "  solved_df=solved_series.reset_index()\n",
    "  crime_solved_df.at[index,'Response_Yes']= solved_df[solved_df['Crime Solved']=='Yes'][[attribute,'Record ID']]"
   ]
  },
  {
   "cell_type": "code",
   "execution_count": 200,
   "metadata": {},
   "outputs": [
    {
     "data": {
      "text/html": [
       "<div>\n",
       "<style scoped>\n",
       "    .dataframe tbody tr th:only-of-type {\n",
       "        vertical-align: middle;\n",
       "    }\n",
       "\n",
       "    .dataframe tbody tr th {\n",
       "        vertical-align: top;\n",
       "    }\n",
       "\n",
       "    .dataframe thead th {\n",
       "        text-align: right;\n",
       "    }\n",
       "</style>\n",
       "<table border=\"1\" class=\"dataframe\">\n",
       "  <thead>\n",
       "    <tr style=\"text-align: right;\">\n",
       "      <th></th>\n",
       "      <th>Agency Code</th>\n",
       "      <th>Record ID</th>\n",
       "    </tr>\n",
       "  </thead>\n",
       "  <tbody>\n",
       "    <tr>\n",
       "      <th>1</th>\n",
       "      <td>AK00101</td>\n",
       "      <td>0.790769</td>\n",
       "    </tr>\n",
       "    <tr>\n",
       "      <th>3</th>\n",
       "      <td>AK00102</td>\n",
       "      <td>0.772277</td>\n",
       "    </tr>\n",
       "    <tr>\n",
       "      <th>5</th>\n",
       "      <td>AK00103</td>\n",
       "      <td>0.736842</td>\n",
       "    </tr>\n",
       "    <tr>\n",
       "      <th>7</th>\n",
       "      <td>AK00104</td>\n",
       "      <td>0.941176</td>\n",
       "    </tr>\n",
       "    <tr>\n",
       "      <th>9</th>\n",
       "      <td>AK00105</td>\n",
       "      <td>0.571429</td>\n",
       "    </tr>\n",
       "    <tr>\n",
       "      <th>...</th>\n",
       "      <td>...</td>\n",
       "      <td>...</td>\n",
       "    </tr>\n",
       "    <tr>\n",
       "      <th>18324</th>\n",
       "      <td>WY02103</td>\n",
       "      <td>1.000000</td>\n",
       "    </tr>\n",
       "    <tr>\n",
       "      <th>18325</th>\n",
       "      <td>WY02200</td>\n",
       "      <td>1.000000</td>\n",
       "    </tr>\n",
       "    <tr>\n",
       "      <th>18326</th>\n",
       "      <td>WY02201</td>\n",
       "      <td>1.000000</td>\n",
       "    </tr>\n",
       "    <tr>\n",
       "      <th>18327</th>\n",
       "      <td>WY02300</td>\n",
       "      <td>1.000000</td>\n",
       "    </tr>\n",
       "    <tr>\n",
       "      <th>18329</th>\n",
       "      <td>WY02301</td>\n",
       "      <td>0.500000</td>\n",
       "    </tr>\n",
       "  </tbody>\n",
       "</table>\n",
       "<p>11637 rows × 2 columns</p>\n",
       "</div>"
      ],
      "text/plain": [
       "      Agency Code  Record ID\n",
       "1         AK00101   0.790769\n",
       "3         AK00102   0.772277\n",
       "5         AK00103   0.736842\n",
       "7         AK00104   0.941176\n",
       "9         AK00105   0.571429\n",
       "...           ...        ...\n",
       "18324     WY02103   1.000000\n",
       "18325     WY02200   1.000000\n",
       "18326     WY02201   1.000000\n",
       "18327     WY02300   1.000000\n",
       "18329     WY02301   0.500000\n",
       "\n",
       "[11637 rows x 2 columns]"
      ]
     },
     "execution_count": 200,
     "metadata": {},
     "output_type": "execute_result"
    }
   ],
   "source": [
    "solved_series=df.groupby(['Victim Sex','Crime Solved'])['Record ID'].count()/df.groupby(['Victim Sex'])['Record ID'].count()\n",
    "ss=solved_series.reset_index()\n",
    "ss[ss['Crime Solved']=='Yes'][['Victim Sex','Record ID']]\n",
    "crime_solved_df=crime_solved_df.set_index('Attribute')\n",
    "crime_solved_df.loc['Agency Code','Response_Yes']"
   ]
  },
  {
   "cell_type": "code",
   "execution_count": null,
   "metadata": {},
   "outputs": [],
   "source": [
    "test_df=crime_solved_df.loc['Victim Sex','Response_Yes']\n",
    "sns.catplot(kind='bar',x='Victim Sex',y='Record ID',data=test_df)"
   ]
  },
  {
   "cell_type": "markdown",
   "metadata": {},
   "source": [
    "#### [5 points] New Feature Creation\n",
    "Are there other features that could be added to the data or created from\n",
    "existing features? Which ones?"
   ]
  },
  {
   "cell_type": "code",
   "execution_count": 83,
   "metadata": {},
   "outputs": [],
   "source": [
    "# Function to create dummy variables\n",
    "def dummy_code(col, df): # input the column names and dataframe\n",
    "    df_dummy = pd.DataFrame()\n",
    "    for val in col:\n",
    "        df_dummy_temp = pd.get_dummies(df[val], prefix=val)\n",
    "        df_dummy = pd.concat([df_dummy, df_dummy_temp], axis=1, sort=False)\n",
    "    return df_dummy"
   ]
  },
  {
   "cell_type": "code",
   "execution_count": 84,
   "metadata": {},
   "outputs": [],
   "source": [
    "# select columns for cummy coding\n",
    "cat_col = df_categorical.columns.values\n",
    "categorical = np.delete(cat_col, [0,1])"
   ]
  },
  {
   "cell_type": "code",
   "execution_count": 85,
   "metadata": {},
   "outputs": [],
   "source": [
    "df_dummy = dummy_code(categorical, df)"
   ]
  },
  {
   "cell_type": "code",
   "execution_count": 92,
   "metadata": {},
   "outputs": [],
   "source": [
    "# export to csv\n",
    "df_full = pd.concat([df_dummy, df[df.describe().columns]], axis=1, sort=False)\n",
    "df_full = pd.concat([df_dummy, df[['Agency Name', 'Agency Code']]], axis=1, sort=False)\n",
    "df_full.to_csv('../Data/Dummy_coded_database.csv')"
   ]
  },
  {
   "cell_type": "markdown",
   "metadata": {},
   "source": [
    "#### Exceptional Work (10 points total)\n",
    "• You have free reign to provide additional analyses.\n",
    "• One idea: implement dimensionality reduction, then visualize and interpret the results."
   ]
  },
  {
   "cell_type": "code",
   "execution_count": 93,
   "metadata": {},
   "outputs": [],
   "source": [
    "# scale the data\n",
    "df_full = pd.read_csv('../Data/Dummy_coded_database.csv')"
   ]
  },
  {
   "cell_type": "code",
   "execution_count": 94,
   "metadata": {},
   "outputs": [
    {
     "data": {
      "text/html": [
       "<div>\n",
       "<style scoped>\n",
       "    .dataframe tbody tr th:only-of-type {\n",
       "        vertical-align: middle;\n",
       "    }\n",
       "\n",
       "    .dataframe tbody tr th {\n",
       "        vertical-align: top;\n",
       "    }\n",
       "\n",
       "    .dataframe thead th {\n",
       "        text-align: right;\n",
       "    }\n",
       "</style>\n",
       "<table border=\"1\" class=\"dataframe\">\n",
       "  <thead>\n",
       "    <tr style=\"text-align: right;\">\n",
       "      <th></th>\n",
       "      <th>Unnamed: 0</th>\n",
       "      <th>Agency Type_County Police</th>\n",
       "      <th>Agency Type_Municipal Police</th>\n",
       "      <th>Agency Type_Regional Police</th>\n",
       "      <th>Agency Type_Sheriff</th>\n",
       "      <th>Agency Type_Special Police</th>\n",
       "      <th>Agency Type_State Police</th>\n",
       "      <th>Agency Type_Tribal Police</th>\n",
       "      <th>City_Abbeville</th>\n",
       "      <th>City_Acadia</th>\n",
       "      <th>...</th>\n",
       "      <th>Weapon_Poison</th>\n",
       "      <th>Weapon_Rifle</th>\n",
       "      <th>Weapon_Shotgun</th>\n",
       "      <th>Weapon_Strangulation</th>\n",
       "      <th>Weapon_Suffocation</th>\n",
       "      <th>Weapon_Unknown</th>\n",
       "      <th>Record Source_FBI</th>\n",
       "      <th>Record Source_FOIA</th>\n",
       "      <th>Agency Name</th>\n",
       "      <th>Agency Code</th>\n",
       "    </tr>\n",
       "  </thead>\n",
       "  <tbody>\n",
       "    <tr>\n",
       "      <th>0</th>\n",
       "      <td>0</td>\n",
       "      <td>0</td>\n",
       "      <td>1</td>\n",
       "      <td>0</td>\n",
       "      <td>0</td>\n",
       "      <td>0</td>\n",
       "      <td>0</td>\n",
       "      <td>0</td>\n",
       "      <td>0</td>\n",
       "      <td>0</td>\n",
       "      <td>...</td>\n",
       "      <td>0</td>\n",
       "      <td>0</td>\n",
       "      <td>0</td>\n",
       "      <td>0</td>\n",
       "      <td>0</td>\n",
       "      <td>0</td>\n",
       "      <td>1</td>\n",
       "      <td>0</td>\n",
       "      <td>Anchorage</td>\n",
       "      <td>AK00101</td>\n",
       "    </tr>\n",
       "    <tr>\n",
       "      <th>1</th>\n",
       "      <td>1</td>\n",
       "      <td>0</td>\n",
       "      <td>1</td>\n",
       "      <td>0</td>\n",
       "      <td>0</td>\n",
       "      <td>0</td>\n",
       "      <td>0</td>\n",
       "      <td>0</td>\n",
       "      <td>0</td>\n",
       "      <td>0</td>\n",
       "      <td>...</td>\n",
       "      <td>0</td>\n",
       "      <td>0</td>\n",
       "      <td>0</td>\n",
       "      <td>1</td>\n",
       "      <td>0</td>\n",
       "      <td>0</td>\n",
       "      <td>1</td>\n",
       "      <td>0</td>\n",
       "      <td>Anchorage</td>\n",
       "      <td>AK00101</td>\n",
       "    </tr>\n",
       "    <tr>\n",
       "      <th>2</th>\n",
       "      <td>2</td>\n",
       "      <td>0</td>\n",
       "      <td>1</td>\n",
       "      <td>0</td>\n",
       "      <td>0</td>\n",
       "      <td>0</td>\n",
       "      <td>0</td>\n",
       "      <td>0</td>\n",
       "      <td>0</td>\n",
       "      <td>0</td>\n",
       "      <td>...</td>\n",
       "      <td>0</td>\n",
       "      <td>0</td>\n",
       "      <td>0</td>\n",
       "      <td>0</td>\n",
       "      <td>0</td>\n",
       "      <td>1</td>\n",
       "      <td>1</td>\n",
       "      <td>0</td>\n",
       "      <td>Anchorage</td>\n",
       "      <td>AK00101</td>\n",
       "    </tr>\n",
       "    <tr>\n",
       "      <th>3</th>\n",
       "      <td>3</td>\n",
       "      <td>0</td>\n",
       "      <td>1</td>\n",
       "      <td>0</td>\n",
       "      <td>0</td>\n",
       "      <td>0</td>\n",
       "      <td>0</td>\n",
       "      <td>0</td>\n",
       "      <td>0</td>\n",
       "      <td>0</td>\n",
       "      <td>...</td>\n",
       "      <td>0</td>\n",
       "      <td>0</td>\n",
       "      <td>0</td>\n",
       "      <td>1</td>\n",
       "      <td>0</td>\n",
       "      <td>0</td>\n",
       "      <td>1</td>\n",
       "      <td>0</td>\n",
       "      <td>Anchorage</td>\n",
       "      <td>AK00101</td>\n",
       "    </tr>\n",
       "    <tr>\n",
       "      <th>4</th>\n",
       "      <td>4</td>\n",
       "      <td>0</td>\n",
       "      <td>1</td>\n",
       "      <td>0</td>\n",
       "      <td>0</td>\n",
       "      <td>0</td>\n",
       "      <td>0</td>\n",
       "      <td>0</td>\n",
       "      <td>0</td>\n",
       "      <td>0</td>\n",
       "      <td>...</td>\n",
       "      <td>0</td>\n",
       "      <td>0</td>\n",
       "      <td>0</td>\n",
       "      <td>0</td>\n",
       "      <td>0</td>\n",
       "      <td>1</td>\n",
       "      <td>1</td>\n",
       "      <td>0</td>\n",
       "      <td>Anchorage</td>\n",
       "      <td>AK00101</td>\n",
       "    </tr>\n",
       "  </tbody>\n",
       "</table>\n",
       "<p>5 rows × 1927 columns</p>\n",
       "</div>"
      ],
      "text/plain": [
       "   Unnamed: 0  Agency Type_County Police  Agency Type_Municipal Police  \\\n",
       "0           0                          0                             1   \n",
       "1           1                          0                             1   \n",
       "2           2                          0                             1   \n",
       "3           3                          0                             1   \n",
       "4           4                          0                             1   \n",
       "\n",
       "   Agency Type_Regional Police  Agency Type_Sheriff  \\\n",
       "0                            0                    0   \n",
       "1                            0                    0   \n",
       "2                            0                    0   \n",
       "3                            0                    0   \n",
       "4                            0                    0   \n",
       "\n",
       "   Agency Type_Special Police  Agency Type_State Police  \\\n",
       "0                           0                         0   \n",
       "1                           0                         0   \n",
       "2                           0                         0   \n",
       "3                           0                         0   \n",
       "4                           0                         0   \n",
       "\n",
       "   Agency Type_Tribal Police  City_Abbeville  City_Acadia  ...  Weapon_Poison  \\\n",
       "0                          0               0            0  ...              0   \n",
       "1                          0               0            0  ...              0   \n",
       "2                          0               0            0  ...              0   \n",
       "3                          0               0            0  ...              0   \n",
       "4                          0               0            0  ...              0   \n",
       "\n",
       "   Weapon_Rifle  Weapon_Shotgun  Weapon_Strangulation  Weapon_Suffocation  \\\n",
       "0             0               0                     0                   0   \n",
       "1             0               0                     1                   0   \n",
       "2             0               0                     0                   0   \n",
       "3             0               0                     1                   0   \n",
       "4             0               0                     0                   0   \n",
       "\n",
       "   Weapon_Unknown  Record Source_FBI  Record Source_FOIA  Agency Name  \\\n",
       "0               0                  1                   0    Anchorage   \n",
       "1               0                  1                   0    Anchorage   \n",
       "2               1                  1                   0    Anchorage   \n",
       "3               0                  1                   0    Anchorage   \n",
       "4               1                  1                   0    Anchorage   \n",
       "\n",
       "   Agency Code  \n",
       "0      AK00101  \n",
       "1      AK00101  \n",
       "2      AK00101  \n",
       "3      AK00101  \n",
       "4      AK00101  \n",
       "\n",
       "[5 rows x 1927 columns]"
      ]
     },
     "execution_count": 94,
     "metadata": {},
     "output_type": "execute_result"
    }
   ],
   "source": [
    "df_full.head()"
   ]
  },
  {
   "cell_type": "code",
   "execution_count": 95,
   "metadata": {},
   "outputs": [],
   "source": [
    "df_full = df_full.drop('Unnamed: 0', axis=1)"
   ]
  },
  {
   "cell_type": "code",
   "execution_count": null,
   "metadata": {},
   "outputs": [],
   "source": [
    "# set seed\n",
    "random.seed(1234)\n",
    "df_pca = df_full.drop(['Agency Name', 'Agency Code'], axis=1)\n",
    "# split into train/test\n",
    "y = df_pca['Crime Solved_Yes']\n",
    "x = df_pca.drop(['Crime Solved_Yes', 'Crime Solved_No'], axis = 1)"
   ]
  },
  {
   "cell_type": "code",
   "execution_count": null,
   "metadata": {},
   "outputs": [],
   "source": [
    "x_train,x_test,y_train,y_test=train_test_split(x,y,test_size=0.8)"
   ]
  },
  {
   "cell_type": "code",
   "execution_count": null,
   "metadata": {},
   "outputs": [],
   "source": [
    "# Standardizing the features\n",
    "x = StandardScaler().fit_transform(x_train)"
   ]
  },
  {
   "cell_type": "code",
   "execution_count": null,
   "metadata": {},
   "outputs": [],
   "source": [
    "from sklearn.decomposition import PCA\n",
    "pca = PCA(n_components=10)\n",
    "principalComponents = pca.fit_transform(x)\n",
    "principalDf = pd.DataFrame(data = principalComponents, columns=['PCA_'+ str(x) for x in range(10)])"
   ]
  },
  {
   "cell_type": "code",
   "execution_count": null,
   "metadata": {},
   "outputs": [],
   "source": [
    "df_PCA = pd.concat([principalDf, y], axis=1)"
   ]
  },
  {
   "cell_type": "code",
   "execution_count": null,
   "metadata": {},
   "outputs": [],
   "source": [
    "fig = px.scatter(principalComponents, x=df_PCA['PCA_0'], y=df_PCA['PCA_1'], color=df_PCA['Crime Solved_Yes'])\n",
    "fig.update_layout(title='PCA 1 vs. PCA 2',\n",
    "                  yaxis_zeroline=False, xaxis_zeroline=False)\n",
    "fig.update_xaxes(title_text='PCA 1')\n",
    "fig.update_yaxes(title_text='PCA 2')\n",
    "fig.show()"
   ]
  },
  {
   "cell_type": "code",
   "execution_count": null,
   "metadata": {},
   "outputs": [],
   "source": [
    "# check for a balanced dataset\n",
    "df_crime = df_full[['Crime Solved_Yes', 'Crime Solved_No']].groupby('Crime Solved_Yes').count().reset_index().rename(columns={'Crime Solved_No':'Count'})\n",
    "df_crime['Solved'] = ['No', 'Yes']\n",
    "df_crime = df_crime.drop('Crime Solved_Yes', axis=1)\n",
    "total = df_crime['Count'].sum()\n",
    "df_crime['Percentage'] = [x/total for x in df_crime['Count']]\n",
    "df_crime"
   ]
  }
 ],
 "metadata": {
  "kernelspec": {
   "display_name": "Python 3",
   "language": "python",
   "name": "python3"
  },
  "language_info": {
   "codemirror_mode": {
    "name": "ipython",
    "version": 3
   },
   "file_extension": ".py",
   "mimetype": "text/x-python",
   "name": "python",
   "nbconvert_exporter": "python",
   "pygments_lexer": "ipython3",
   "version": "3.7.7"
  }
 },
 "nbformat": 4,
 "nbformat_minor": 2
}
