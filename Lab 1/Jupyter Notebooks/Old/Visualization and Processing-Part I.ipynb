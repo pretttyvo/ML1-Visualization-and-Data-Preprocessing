{
 "cells": [
  {
   "cell_type": "markdown",
   "metadata": {},
   "source": [
    "# Data Visualization and Processing\n",
    "---\n",
    "By: Kris Ghimire, Thad Schwebke, Walter Lai, and Jamie Vo\n",
    "<img src=\"Images/broken-1391025_1280.JPG\" alt=\"Crime\" style=\"width: 80%;\"/>\n",
    "Photo Cred.: Photo by kat wilcox from Pexels"
   ]
  },
  {
   "cell_type": "code",
   "execution_count": 4,
   "metadata": {},
   "outputs": [],
   "source": [
    "# Load in libraries\n",
    "import pandas as pd\n",
    "import numpy as np\n",
    "import os\n",
    "\n",
    "import warnings\n",
    "warnings.filterwarnings('ignore')"
   ]
  },
  {
   "cell_type": "markdown",
   "metadata": {},
   "source": [
    "### Business Understanding (10 pts)\n",
    "---\n",
    "\n",
    "#### Purpose of the dataset.\n",
    "[Homocide Data](https://www.kaggle.com/murderaccountability/homicide-reports)\n",
    "\n",
    "(i.e., why was this data collected in\n",
    "the first place?). \n",
    "\n",
    "The Murder Accountability Project is a nonprofit organization that discovers discrepancies between the reported homicides between medical examiners and the FBI voluntary crime report. The database is considered to be one of the most exhaustive record collection of homicides that is currently avaiable for the US. Additional information about the organization can be found at [Murder Accountability Project](http://www.murderdata.org/).\n",
    "\n",
    "The dataset dates back to 1967 and includes demographic information such as gender, age, and ethnicity. A more in depth description of the attributes may be found in the [Data Description](#Data_Description) section."
   ]
  },
  {
   "cell_type": "code",
   "execution_count": 14,
   "metadata": {},
   "outputs": [],
   "source": [
    "# read in the data\n",
    "df = pd.read_csv('../Data/database.csv')"
   ]
  },
  {
   "cell_type": "code",
   "execution_count": 13,
   "metadata": {},
   "outputs": [
    {
     "name": "stdout",
     "output_type": "stream",
     "text": [
      "No. of Records: 638454 \n",
      "No. of Attributes: 24\n"
     ]
    }
   ],
   "source": [
    "# print the number of records and columns\n",
    "records = len(df)\n",
    "attributes = df.columns\n",
    "\n",
    "print(f'No. of Records: {records} \\nNo. of Attributes: {len(attributes)}')"
   ]
  },
  {
   "cell_type": "markdown",
   "metadata": {},
   "source": [
    "#### Define and measure the dataset outcomes.\n",
    "That is, why is this data important and how do you know if you have mined\n",
    "useful knowledge from the dataset? "
   ]
  },
  {
   "cell_type": "code",
   "execution_count": null,
   "metadata": {},
   "outputs": [],
   "source": []
  },
  {
   "cell_type": "markdown",
   "metadata": {},
   "source": [
    "#### Model Statistics\n",
    "How would you measure the effectiveness of a\n",
    "good prediction algorithm? Be specific."
   ]
  },
  {
   "cell_type": "code",
   "execution_count": null,
   "metadata": {},
   "outputs": [],
   "source": []
  },
  {
   "cell_type": "markdown",
   "metadata": {},
   "source": [
    "### Data Understanding (80 pts total)\n",
    "---\n",
    "<a id=\"Data_Description\"></a>\n",
    "#### [10 points]  Data Description:\n",
    "Describe the meaning and type of data (scale, values, etc.) for each\n",
    "attribute in the data file."
   ]
  },
  {
   "cell_type": "code",
   "execution_count": null,
   "metadata": {},
   "outputs": [],
   "source": []
  },
  {
   "cell_type": "markdown",
   "metadata": {},
   "source": [
    "#### [15 points] Verify data quality: \n",
    "Explain any missing values, duplicate data, and outliers.\n",
    "Are those mistakes? How do you deal with these problems? Be specific."
   ]
  },
  {
   "cell_type": "code",
   "execution_count": null,
   "metadata": {},
   "outputs": [],
   "source": []
  },
  {
   "cell_type": "markdown",
   "metadata": {},
   "source": [
    "#### [10 points] Statistics:\n",
    "Give simple, appropriate statistics (range, mode, mean, median, variance,\n",
    "counts, etc.) for the most important attributes and describe what they mean or if you\n",
    "found something interesting. Note: You can also use data from other sources for\n",
    "comparison. Explain the significance of the statistics run and why they are meaningful."
   ]
  },
  {
   "cell_type": "code",
   "execution_count": null,
   "metadata": {},
   "outputs": [],
   "source": []
  },
  {
   "cell_type": "markdown",
   "metadata": {},
   "source": [
    "#### [15 points] Visualization\n",
    "Visualize the most important attributes appropriately (at least 5 attributes).\n",
    "Important: Provide an interpretation for each chart. Explain for each attribute why the\n",
    "chosen visualization is appropriate."
   ]
  },
  {
   "cell_type": "code",
   "execution_count": null,
   "metadata": {},
   "outputs": [],
   "source": []
  },
  {
   "cell_type": "markdown",
   "metadata": {},
   "source": [
    "#### [15 points] EDA\n",
    "Explore relationships between attributes: Look at the attributes via scatter\n",
    "plots, correlation, cross-tabulation, group-wise averages, etc. as appropriate. Explain\n",
    "any interesting relationships."
   ]
  },
  {
   "cell_type": "code",
   "execution_count": null,
   "metadata": {},
   "outputs": [],
   "source": []
  },
  {
   "cell_type": "markdown",
   "metadata": {},
   "source": [
    "#### [10 points] Discoveries\n",
    "Identify and explain interesting relationships between features and the class\n",
    "you are trying to predict (i.e., relationships with variables and the target classification)."
   ]
  },
  {
   "cell_type": "code",
   "execution_count": null,
   "metadata": {},
   "outputs": [],
   "source": []
  },
  {
   "cell_type": "markdown",
   "metadata": {},
   "source": [
    "#### [5 points] New Feature Creation\n",
    "Are there other features that could be added to the data or created from\n",
    "existing features? Which ones?"
   ]
  },
  {
   "cell_type": "code",
   "execution_count": null,
   "metadata": {},
   "outputs": [],
   "source": []
  },
  {
   "cell_type": "markdown",
   "metadata": {},
   "source": [
    "#### Exceptional Work (10 points total)\n",
    "• You have free reign to provide additional analyses.\n",
    "• One idea: implement dimensionality reduction, then visualize and interpret the results."
   ]
  },
  {
   "cell_type": "code",
   "execution_count": null,
   "metadata": {},
   "outputs": [],
   "source": []
  }
 ],
 "metadata": {
  "kernelspec": {
   "display_name": "MSDS ML I",
   "language": "python",
   "name": "ml_i_msds"
  },
  "language_info": {
   "codemirror_mode": {
    "name": "ipython",
    "version": 3
   },
   "file_extension": ".py",
   "mimetype": "text/x-python",
   "name": "python",
   "nbconvert_exporter": "python",
   "pygments_lexer": "ipython3",
   "version": "3.7.7"
  }
 },
 "nbformat": 4,
 "nbformat_minor": 2
}
