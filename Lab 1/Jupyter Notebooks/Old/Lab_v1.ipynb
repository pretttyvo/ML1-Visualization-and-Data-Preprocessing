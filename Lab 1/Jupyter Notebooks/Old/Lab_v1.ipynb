{
 "cells": [
  {
   "attachments": {
    "image.png": {
     "image/png": "[encoded data removed]"
    }
   },
   "cell_type": "markdown",
   "metadata": {},
   "source": [
    "## Business Understanding\n",
    "\n",
    "Describe the purpose of the data set you selected (i.e., why was this data collected in\n",
    "the first place?). Describe how you would define and measure the outcomes from the\n",
    "dataset. That is, why is this data important and how do you know if you have mined\n",
    "useful knowledge from the dataset? How would you measure the effectiveness of a\n",
    "good prediction algorithm? Be specific.\n",
    "\n",
    "![image.png](attachment:image.png)\n",
    "\n",
    "The Murder Accountability Project is the most complete database of homicides in the United States currently available. This dataset includes murders from the FBI's Supplementary Homicide Report from 1976 to the present and Freedom of Information Act data on more than 22,000 homicides that were not reported to the Justice Department. This dataset includes the age, race, sex, ethnicity of victims and perpetrators, in addition to the relationship between the victim and perpetrator and weapon used.\n",
    "\n",
    "1980 to 2014\n",
    "\n",
    "America does a poor job tracking and accounting for its unsolved homicides. Every year, at least 5,000 killers get away with murder. The rate at which police clear homicides through arrest has declines year over year. About a third of all murders go unsolved.\n",
    "\n",
    "No one knows all the names of the murder victims because no law enforcement agency in America is assigned to monitor failed homicide investigations by local police departments. Even the official national statistics on murder are actually estimates and projections based upon incomplete reports by police departments that voluntarily choose (or refuse) to participate in federal crime reporting programs.\n",
    "\n",
    "The Murder Accountability Project is a nonprofit group organized in 2015 and dedicated to educate Americans on the importance of accurately accounting for unsolved homicides within the United States. We seek to obtain information from federal, state and local governments about unsolved homicides and to publish this information. The Project’s Board of Directors is composed of retired law enforcement investigators, investigative journalists, criminologists and other experts on various aspects of homicide. \n",
    "\n",
    "\n",
    "Acknowledgements\n",
    "The data was compiled and made available by the Murder Accountability Project, founded by Thomas Hargrove.\n",
    "https://www.murderdata.org/\n",
    "\n",
    "* If categorical (classification) - accuracy, precision, recall, f1 score, ROC curve\n",
    "* If continuous (regression) - root mean sq error, mean absolute sq error, mean absolute percentage error, r-squared (not really good for accuracy)"
   ]
  },
  {
   "cell_type": "code",
   "execution_count": null,
   "metadata": {},
   "outputs": [],
   "source": [
    "# import libraries used\n",
    "import pandas as pd\n",
    "import numpy as np\n",
    "import copy\n",
    "import matplotlib.pyplot as plt\n",
    "%matplotlib inline \n",
    "#plt.figure(figsize=(22,10),facecolor='#ffffff')\n",
    "\n",
    "import plotly.graph_objects as go\n",
    "import plotly.express as px\n",
    "import sweetviz as sv\n",
    "import autoviz\n",
    "import xgboost\n",
    "import seaborn as sns\n",
    "\n",
    "# set color scheme and style for seaborn\n",
    "sns.set(color_codes=True)\n",
    "sns.set_style('whitegrid')"
   ]
  },
  {
   "cell_type": "code",
   "execution_count": null,
   "metadata": {},
   "outputs": [],
   "source": [
    "from pandas_profiling import ProfileReport\n",
    "from mpl_toolkits.mplot3d import Axes3D\n",
    "from autoviz.AutoViz_Class import AutoViz_Class\n",
    "AV = AutoViz_Class()\n",
    "from funpymodeling.exploratory import corr_pair\n",
    "from autoplotter import run_app \n",
    "from ExploriPy import EDA"
   ]
  },
  {
   "cell_type": "markdown",
   "metadata": {},
   "source": [
    "## Data Meaning Type\n",
    "\n",
    "Describe the meaning and type of data (scale, values, etc.) for each attribute in the data file.\n",
    "\n",
    "\n",
    "\n",
    "Record ID - unique identifier 1-638,454\n",
    "continuous\n",
    "id\n",
    "high correlation\n",
    "\n",
    "Agency Code - unique id that represents agency name, angency type, city, and state\n",
    "categorical\n",
    "12,003 distinct agency codes\n",
    "high cardinality\n",
    "\n",
    "Agency Name - name of the agency that investigated the case\n",
    "categorical\n",
    "9,216 distinct agencies\n",
    "high cardinality\n",
    "\n",
    "Agency Type - the type of agency (municipal, county, state, sheriff, special, regional, tribal)\n",
    "categorical\n",
    "7 distinct types\n",
    "\n",
    "City - city name where case was investigated\n",
    "categorical\n",
    "1782 distinct cities\n",
    "high cardinality\n",
    "\n",
    "State - state name where case was investigated\n",
    "Categorical\n",
    "all 50 states and DC\n",
    "high cardinality\n",
    "\n",
    "Year - year when the case was initially investigated\n",
    "continuous\n",
    "1980-2014\n",
    "\n",
    "Month - month when the case was initially investigated\n",
    "Categorical\n",
    "all 12 months\n",
    "\n",
    "\n",
    "Incident - incidents investigated\n",
    "continuous\n",
    "0-999\n",
    "\n",
    "# validate if there are really 999 incidents\n",
    "# convert 0's to mean?\n",
    "\n",
    "Crime Type - type of crime committed\n",
    "Categorical\n",
    "Murder or Manslaughter 629,338\n",
    "Manslaughter by Negligence 9,116\n",
    "\n",
    "Crime Solved - was the crime solved yes or no\n",
    "Boolean\n",
    "Yes 448,172\n",
    "No 190,282\n",
    "changed yes=1 and no=0\n",
    "\n",
    "Victim Sex - victims sex\n",
    "Categorical\n",
    "male 494,125\n",
    "female 143,345\n",
    "unknown 984\n",
    "\n",
    "Victim Age - victims age\n",
    "Categorical\n",
    "0-998\n",
    "8,444 are zero's\n",
    "removed ages > 98\n",
    "converted 0's to median\n",
    "\n",
    "Victim Race - victims race\n",
    "Categorical\n",
    "White\t317422\n",
    "Black\t299899\n",
    "Asian/Pacific Islander\t 9890\n",
    "Unknown\t 6676\n",
    "Native American/Alaska Native\t 4567\n",
    "\n",
    "Victim Ethnicity - victims ethnicity\n",
    "Categorical\n",
    "Unknown\t368303\n",
    "Not Hispanic\t197499\n",
    "Hispanic\t 72652\n",
    "\n",
    "Perpetrator Sex - perpetrators sex\n",
    "Categorical\n",
    "Male\t399541\n",
    "Unknown\t190365\n",
    "Female\t 48548\n",
    "\n",
    "Perpetrator Age - perpetrators age\n",
    "Categorical\n",
    "0-99\n",
    "high cardinality\n",
    "converted \" \" to 0\n",
    "removed ages > 98\n",
    "converted 0's to median\n",
    "\n",
    "Perpetrator Race - perpetrators race\n",
    "Categorical\n",
    "White\t218243\n",
    "Black\t214516\n",
    "Unknown\t196047\n",
    "Asian/Pacific Islander\t 6046\n",
    "Native American/Alaska Native\t 3602\n",
    "\n",
    "Perpetrator Ethnicity - perpetrators ethnicity\n",
    "Categorical\n",
    "Unknown\t446410\n",
    "Not Hispanic\t145172\n",
    "Hispanic\t 46872\n",
    "\n",
    "Relationship - relationship to the victim\n",
    "Categorical\n",
    "28 distinct relationships\n",
    "\n",
    "Weapon - weapon used in the murder\n",
    "Categorical\n",
    "16 distinct weapons\n",
    "\n",
    "Victim Count - number of victims murdered\n",
    "continuous\n",
    "0-10\n",
    "\n",
    "Perpetrator Count - number of perpetrators involved in the murder\n",
    "continuous\n",
    "0-10\n",
    "\n",
    "Record Source - the source of the murder data\n",
    "Categorical\n",
    "FBI\t(Federal Bureau of Investigation) 616647\n",
    "FOIA (Freedom of Information Act)\t 21807"
   ]
  },
  {
   "cell_type": "code",
   "execution_count": null,
   "metadata": {},
   "outputs": [],
   "source": [
    "# read the homicide data file that was downloaded from Kaggle\n",
    "# https://www.kaggle.com/murderaccountability/homicide-reports\n",
    "homicide_df = pd.read_csv('../Data/database.csv', low_memory=False)\n",
    "\n",
    "# Return the first five observation from the data set\n",
    "homicide_df.head()"
   ]
  },
  {
   "cell_type": "code",
   "execution_count": null,
   "metadata": {},
   "outputs": [],
   "source": [
    "# concise summary of the dataframe\n",
    "homicide_df.loc[:, homicide_df.dtypes == 'object'] =\\\n",
    "    homicide_df.select_dtypes(['object'])\\\n",
    "    .apply(lambda x: x.astype('category'))\n",
    "homicide_df.info()"
   ]
  },
  {
   "cell_type": "code",
   "execution_count": null,
   "metadata": {},
   "outputs": [],
   "source": [
    "homicide_df['Crime Solved']=homicide_df['Crime Solved'].replace(to_replace='No',value=0)\n",
    "homicide_df['Crime Solved']=homicide_df['Crime Solved'].replace(to_replace='Yes',value=1)\n",
    "\n",
    "homicide_df['Perpetrator Age']=homicide_df['Perpetrator Age'].replace(to_replace=\" \",value=0)\n",
    "homicide_df['Perpetrator Age'] = homicide_df['Perpetrator Age'].astype(int)\n",
    "#homicide_df['Perpetrator Age']=pd.to_numeric(homicide_df['Perpetrator Age'])\n",
    "index=homicide_df[homicide_df['Perpetrator Age'] > 98].index\n",
    "homicide_df.drop(index, inplace=True)\n",
    "homicide_df['Perpetrator Age']=homicide_df['Perpetrator Age'].replace(to_replace=0,value=homicide_df['Perpetrator Age'].median())\n",
    "\n",
    "homicide_df['Victim Age']=homicide_df['Victim Age'].replace(to_replace=998,value=homicide_df['Victim Age'].median())"
   ]
  },
  {
   "cell_type": "markdown",
   "metadata": {},
   "source": [
    "The dataset consists of 24 variables and 638,454 observations\n",
    "17 categorical\n",
    "6 continuous\n",
    "1 boolean \n"
   ]
  },
  {
   "cell_type": "code",
   "execution_count": null,
   "metadata": {},
   "outputs": [],
   "source": [
    "# Displays unique values and their counts\n",
    "homicide_df['Agency Code'].value_counts()"
   ]
  },
  {
   "cell_type": "code",
   "execution_count": null,
   "metadata": {},
   "outputs": [],
   "source": [
    "homicide_df['Agency Name'].value_counts()"
   ]
  },
  {
   "cell_type": "code",
   "execution_count": null,
   "metadata": {},
   "outputs": [],
   "source": [
    "homicide_df['Agency Type'].value_counts()"
   ]
  },
  {
   "cell_type": "code",
   "execution_count": null,
   "metadata": {},
   "outputs": [],
   "source": [
    "homicide_df['City'].value_counts()"
   ]
  },
  {
   "cell_type": "code",
   "execution_count": null,
   "metadata": {},
   "outputs": [],
   "source": [
    "homicide_df['State'].value_counts()"
   ]
  },
  {
   "cell_type": "code",
   "execution_count": null,
   "metadata": {},
   "outputs": [],
   "source": [
    "homicide_df['Crime Type'].value_counts()"
   ]
  },
  {
   "cell_type": "code",
   "execution_count": null,
   "metadata": {},
   "outputs": [],
   "source": [
    "homicide_df['Crime Solved'].value_counts()"
   ]
  },
  {
   "cell_type": "code",
   "execution_count": null,
   "metadata": {},
   "outputs": [],
   "source": [
    "homicide_df['Victim Sex'].value_counts()"
   ]
  },
  {
   "cell_type": "code",
   "execution_count": null,
   "metadata": {},
   "outputs": [],
   "source": [
    "homicide_df['Victim Age'].value_counts()"
   ]
  },
  {
   "cell_type": "code",
   "execution_count": null,
   "metadata": {},
   "outputs": [],
   "source": [
    "homicide_df['Victim Race'].value_counts()"
   ]
  },
  {
   "cell_type": "code",
   "execution_count": null,
   "metadata": {},
   "outputs": [],
   "source": [
    "homicide_df['Victim Ethnicity'].value_counts()"
   ]
  },
  {
   "cell_type": "code",
   "execution_count": null,
   "metadata": {},
   "outputs": [],
   "source": [
    "homicide_df['Perpetrator Sex'].value_counts()"
   ]
  },
  {
   "cell_type": "code",
   "execution_count": null,
   "metadata": {},
   "outputs": [],
   "source": [
    "homicide_df['Perpetrator Age'].value_counts()"
   ]
  },
  {
   "cell_type": "code",
   "execution_count": null,
   "metadata": {},
   "outputs": [],
   "source": [
    "homicide_df['Perpetrator Race'].value_counts()"
   ]
  },
  {
   "cell_type": "code",
   "execution_count": null,
   "metadata": {},
   "outputs": [],
   "source": [
    "homicide_df['Perpetrator Ethnicity'].value_counts()"
   ]
  },
  {
   "cell_type": "code",
   "execution_count": null,
   "metadata": {},
   "outputs": [],
   "source": [
    "homicide_df['Relationship'].value_counts()"
   ]
  },
  {
   "cell_type": "code",
   "execution_count": null,
   "metadata": {},
   "outputs": [],
   "source": [
    "homicide_df['Weapon'].value_counts()"
   ]
  },
  {
   "cell_type": "code",
   "execution_count": null,
   "metadata": {},
   "outputs": [],
   "source": [
    "homicide_df['Record Source'].value_counts()"
   ]
  },
  {
   "cell_type": "code",
   "execution_count": null,
   "metadata": {},
   "outputs": [],
   "source": [
    "homicide_df['Victim Count'].value_counts()"
   ]
  },
  {
   "cell_type": "code",
   "execution_count": null,
   "metadata": {},
   "outputs": [],
   "source": [
    "homicide_df['Perpetrator Count'].value_counts()"
   ]
  },
  {
   "cell_type": "markdown",
   "metadata": {},
   "source": [
    "## Data Quality\n",
    "\n",
    " Explain any missing values, duplicate data, and outliers. Are those mistakes? How do you deal with these problems? Be specific.\n"
   ]
  },
  {
   "cell_type": "code",
   "execution_count": null,
   "metadata": {},
   "outputs": [],
   "source": [
    "# check for null values\n",
    "homicide_df.isnull().sum()"
   ]
  },
  {
   "cell_type": "code",
   "execution_count": null,
   "metadata": {},
   "outputs": [],
   "source": [
    "# Rows containing duplicate data\n",
    "duplicate_rows_df = homicide_df[homicide_df.duplicated()]\n",
    "print(\"Duplicate rows: \", duplicate_rows_df)"
   ]
  },
  {
   "cell_type": "code",
   "execution_count": null,
   "metadata": {},
   "outputs": [],
   "source": [
    "homicide_df.nunique()"
   ]
  },
  {
   "cell_type": "code",
   "execution_count": null,
   "metadata": {},
   "outputs": [],
   "source": [
    "Q1 = homicide_df.quantile(0.25)\n",
    "Q3 = homicide_df.quantile(0.75)\n",
    "IQR = Q3 - Q1\n",
    "print(IQR)"
   ]
  },
  {
   "cell_type": "code",
   "execution_count": null,
   "metadata": {},
   "outputs": [],
   "source": [
    "fig, axes = plt.subplots(nrows=5,ncols=1)\n",
    "fig.set_size_inches(10, 30)\n",
    "sns.boxplot(data=homicide_df,x=\"Incident\",orient=\"h\",ax=axes[0])\n",
    "sns.boxplot(data=homicide_df,x=\"Victim Age\",orient=\"h\",ax=axes[1])\n",
    "sns.boxplot(data=homicide_df,x=\"Victim Count\",orient=\"h\",ax=axes[2])\n",
    "sns.boxplot(data=homicide_df,x=\"Perpetrator Count\",orient=\"h\",ax=axes[3])\n",
    "sns.boxplot(data=homicide_df,x=\"Perpetrator Age\",orient=\"h\",ax=axes[4])"
   ]
  },
  {
   "cell_type": "code",
   "execution_count": null,
   "metadata": {},
   "outputs": [],
   "source": [
    "fig, axes = plt.subplots(nrows=5,ncols=1)\n",
    "fig.set_size_inches(10, 30)\n",
    "sns.distplot(homicide_df['Incident'],ax=axes[0], bins=15)\n",
    "sns.distplot(homicide_df['Victim Age'],ax=axes[1], bins=10)\n",
    "sns.distplot(homicide_df['Victim Count'],ax=axes[2])\n",
    "sns.distplot(homicide_df['Perpetrator Count'],ax=axes[3])\n",
    "sns.distplot(homicide_df['Perpetrator Age'],ax=axes[4], bins=10)"
   ]
  },
  {
   "cell_type": "code",
   "execution_count": null,
   "metadata": {},
   "outputs": [],
   "source": [
    "sns.set()\n",
    "cols = ['Perpetrator Age', 'Perpetrator Count', 'Victim Age', 'Victim Count', 'Year']\n",
    "\n",
    "# Create a pairplot for the selected columns \n",
    "sns.pairplot(homicide_df[cols], height = 2.5)\n",
    "\n",
    "# show the plot\n",
    "plt.show();"
   ]
  },
  {
   "cell_type": "code",
   "execution_count": null,
   "metadata": {},
   "outputs": [],
   "source": [
    "from scipy import stats\n",
    "z=np.abs(stats.zscore(homicide_df['Incident']))\n",
    "threshold=3\n",
    "print(z)\n",
    "print(np.where(z>3))"
   ]
  },
  {
   "cell_type": "code",
   "execution_count": null,
   "metadata": {},
   "outputs": [],
   "source": [
    "print(np.where(z<3))"
   ]
  },
  {
   "cell_type": "markdown",
   "metadata": {},
   "source": [
    "## Simple Statistics\n",
    "\n",
    "Give simple, appropriate statistics (range, mode, mean, median, variance, counts, etc.) for the most important attributes and describe what they mean or if you found something interesting. Note: You can also use data from other sources for comparison. Explain the significance of the statistics run and why they are meaningful.\n"
   ]
  },
  {
   "cell_type": "code",
   "execution_count": null,
   "metadata": {},
   "outputs": [],
   "source": [
    "# count, mean, standard deviation, minimum and maximum values and the quantities of the data\n",
    "homicide_df.describe().T"
   ]
  },
  {
   "cell_type": "markdown",
   "metadata": {},
   "source": [
    "## Visualize Attributes\n",
    "\n",
    "Visualize the most important attributes appropriately (at least 5 attributes). Important: Provide an interpretation for each chart. Explain for each attribute why the chosen visualization is appropriate.\n",
    "\n",
    "Visualize attributes is just individual attributes"
   ]
  },
  {
   "cell_type": "code",
   "execution_count": null,
   "metadata": {},
   "outputs": [],
   "source": [
    "states_vis=sns.countplot(data=homicide_df, x='State', order=homicide_df['State'].value_counts().index);\n",
    "\n",
    "for item in states_vis.get_xticklabels():\n",
    "    item.set_rotation(90)"
   ]
  },
  {
   "cell_type": "code",
   "execution_count": null,
   "metadata": {},
   "outputs": [],
   "source": [
    "# Tops states,cities and solve rate with the highest homicide numbers\n",
    "fig, axes = plt.subplots(nrows=3,ncols=1)\n",
    "fig.set_size_inches(20, 45)\n",
    "\n",
    "homicide_df.groupby(\"State\").count()['Record ID'].sort_values(ascending=False).head(10).plot.bar(ax=axes[0])\n",
    "homicide_df.groupby([\"State\",\"City\"])['Record ID'].agg('count').sort_values(ascending=False).groupby(\"State\").head(3).iloc[:15].plot.bar(ax=axes[1])\n",
    "homicide_df.groupby(\"Crime Solved\").count()['Record ID'].sort_values(ascending=False).plot.bar(ax=axes[2])"
   ]
  },
  {
   "cell_type": "code",
   "execution_count": null,
   "metadata": {},
   "outputs": [],
   "source": [
    "# Tops agency names & types and solve rate with the highest homicide numbers\n",
    "fig, axes = plt.subplots(nrows=2,ncols=1)\n",
    "fig.set_size_inches(20, 45)\n",
    "homicide_df.groupby(\"Agency Code\").count()['Record ID'].sort_values(ascending=False).head(10).plot.bar(ax=axes[0])\n",
    "homicide_df.groupby(\"Agency Type\").count()['Record ID'].sort_values(ascending=False).plot.bar(ax=axes[1])"
   ]
  },
  {
   "cell_type": "code",
   "execution_count": null,
   "metadata": {},
   "outputs": [],
   "source": [
    "# Victim demographic variables\n",
    "fig, axes = plt.subplots(nrows=3,ncols=1)\n",
    "fig.set_size_inches(15, 25)\n",
    "                         \n",
    "homicide_df.groupby(['Victim Sex','Crime Solved'])['Record ID'].count().sort_values(ascending=False).unstack().plot.bar(ax=axes[0])\n",
    "homicide_df.groupby(['Victim Race','Crime Solved'])['Record ID'].count().sort_values(ascending=False).unstack().plot.bar(ax=axes[1])\n",
    "homicide_df.groupby(['Victim Ethnicity','Crime Solved'])['Record ID'].count().sort_values(ascending=False).unstack().plot.bar(ax=axes[2])\n"
   ]
  },
  {
   "cell_type": "code",
   "execution_count": null,
   "metadata": {},
   "outputs": [],
   "source": [
    "# Perpetrator demographic variables\n",
    "fig, axes = plt.subplots(nrows=3,ncols=1)\n",
    "fig.set_size_inches(15, 25)\n",
    "                         \n",
    "homicide_df.groupby(['Perpetrator Sex','Crime Solved'])['Record ID'].count().sort_values(ascending=False).unstack().plot.bar(ax=axes[0])\n",
    "homicide_df.groupby(['Perpetrator Race','Crime Solved'])['Record ID'].count().sort_values(ascending=False).unstack().plot.bar(ax=axes[1])\n",
    "homicide_df.groupby(['Perpetrator Ethnicity','Crime Solved'])['Record ID'].count().sort_values(ascending=False).unstack().plot.bar(ax=axes[2])"
   ]
  },
  {
   "cell_type": "code",
   "execution_count": null,
   "metadata": {},
   "outputs": [],
   "source": [
    "# Homicides by year and month\n",
    "fig, axes = plt.subplots(nrows=2,ncols=1)\n",
    "fig.set_size_inches(15, 15)\n",
    "\n",
    "homicide_df.groupby('Year')['Record ID'].count().sort_index(ascending = True).plot.line(ax=axes[0])\n",
    "homicide_df.groupby(['Year','Month'])['Record ID'].count().sort_index(ascending = True).unstack().plot.line(ax=axes[1])"
   ]
  },
  {
   "cell_type": "code",
   "execution_count": null,
   "metadata": {},
   "outputs": [],
   "source": [
    "sns.heatmap(homicide_df[['Year','Month']])"
   ]
  },
  {
   "cell_type": "markdown",
   "metadata": {},
   "source": [
    "## Explore Joint Attributes\n",
    "\n",
    "Explore relationships between attributes: Look at the attributes via scatter plots, correlation, cross-tabulation, group-wise averages, etc. as appropriate. Explain any interesting relationships.\n",
    "\n",
    "Explore joint attributes is the comparing of multiple attributes (pairwise and correlation are good options)"
   ]
  },
  {
   "cell_type": "code",
   "execution_count": null,
   "metadata": {},
   "outputs": [],
   "source": [
    "fig, axes = plt.subplots(nrows=2,ncols=1)\n",
    "fig.set_size_inches(50, 30)\n",
    "sns.boxplot(x=\"Perpetrator Sex\", y=\"Perpetrator Age\", data=homicide_df, hue=\"Weapon\", ax=axes[0])\n",
    "sns.boxplot(x=\"Perpetrator Race\", y=\"Perpetrator Ethnicity\", data=homicide_df, hue=\"Weapon\", ax=axes[1])"
   ]
  },
  {
   "cell_type": "code",
   "execution_count": null,
   "metadata": {},
   "outputs": [],
   "source": [
    "fig, axes = plt.subplots(nrows=2,ncols=1)\n",
    "fig.set_size_inches(50, 30)\n",
    "sns.boxplot(x=\"Crime Solved\", y=\"Victim Age\", data=homicide_df, hue=\"Relationship\", ax=axes[0])\n",
    "sns.boxplot(x=\"Victim Sex\", y=\"Victim Age\", data=homicide_df, hue=\"Relationship\", ax=axes[1])"
   ]
  },
  {
   "cell_type": "code",
   "execution_count": null,
   "metadata": {},
   "outputs": [],
   "source": [
    "plt.figure(figsize=(20,10))\n",
    "sns.set()\n",
    "cmap = sns.cubehelix_palette(start=0, light=1, as_cmap=True)\n",
    "sns.heatmap(pd.crosstab(homicide_df['Relationship'],homicide_df['Weapon']), annot=True, fmt=\"d\", linewidths=.5,cmap='Blues')\n",
    "plt.title('Relationship and Weapon\\n',fontsize=26)"
   ]
  },
  {
   "cell_type": "code",
   "execution_count": null,
   "metadata": {},
   "outputs": [],
   "source": [
    "plt.figure(figsize=(20,10))\n",
    "sns.set()\n",
    "cmap = sns.cubehelix_palette(start=0, light=1, as_cmap=True)\n",
    "sns.heatmap(pd.crosstab(homicide_df['Perpetrator Race'],homicide_df['Weapon']), annot=True, fmt=\"d\", linewidths=.5,cmap='Blues')\n",
    "plt.title('Perpetrator Race and Weapon\\n',fontsize=26)"
   ]
  },
  {
   "cell_type": "code",
   "execution_count": null,
   "metadata": {},
   "outputs": [],
   "source": [
    "plt.figure(figsize=(20,10))\n",
    "sns.set()\n",
    "cmap = sns.cubehelix_palette(start=0, light=1, as_cmap=True)\n",
    "sns.heatmap(pd.crosstab(homicide_df['Perpetrator Ethnicity'],homicide_df['Weapon']), annot=True, fmt=\"d\", linewidths=.5,cmap='Blues')\n",
    "plt.title('Perpetrator Ethnicity and Weapon\\n',fontsize=26)"
   ]
  },
  {
   "cell_type": "code",
   "execution_count": null,
   "metadata": {},
   "outputs": [],
   "source": [
    "homicide_df.groupby(['Weapon','State','Year','Crime Solved'])['Crime Solved'].agg(['sum'])"
   ]
  },
  {
   "cell_type": "code",
   "execution_count": null,
   "metadata": {},
   "outputs": [],
   "source": [
    "px.scatter(homicide_df, x=\"State\",y='Weapon', color=\"Crime Solved\",\n",
    "                 hover_name=\"Weapon\",template=\"plotly_dark\",\n",
    "                 animation_frame='Year',animation_group='State')"
   ]
  },
  {
   "cell_type": "markdown",
   "metadata": {},
   "source": [
    "## Explore Attributes and Class\n",
    "\n",
    "Identify and explain interesting relationships between features and the class you are trying to predict (i.e., relationships with variables and the target classification).\n",
    "\n",
    "Prediction can include 1 or more attributes (i.e. Perpetrator age and race to predict the profile of a murder based on other attributes"
   ]
  },
  {
   "cell_type": "code",
   "execution_count": null,
   "metadata": {},
   "outputs": [],
   "source": [
    "# check correlation\n",
    "plt.figure(figsize=(8,4))\n",
    "sns.heatmap(homicide_df.corr())"
   ]
  },
  {
   "cell_type": "code",
   "execution_count": null,
   "metadata": {},
   "outputs": [],
   "source": [
    "corr_pair(homicide_df)"
   ]
  },
  {
   "cell_type": "markdown",
   "metadata": {},
   "source": [
    "## New Features\n",
    "\n",
    "Are there other features that could be added to the data or created from existing features? Which ones?\n",
    "\n",
    "New features - can we do something to clean up city, state, and agency? (qcut in pandas)"
   ]
  },
  {
   "cell_type": "code",
   "execution_count": null,
   "metadata": {},
   "outputs": [],
   "source": [
    "homicide.loc[(homicide['Relationship'] == 'Wife') | (homicide['Relationship'] == 'Ex-Wife') |\n",
    "             (homicide['Relationship'] == 'Girlfriend') |\n",
    "             (homicide['Relationship'] == 'Common-Law Wife'), 'Rel_Category'] = 'Partner-F'\n",
    "\n",
    "homicide.loc[(homicide['Relationship'] == 'Husband') | (homicide['Relationship'] == 'Ex-Husband') |\n",
    "             (homicide['Relationship'] == 'Boyfriend') | \n",
    "             (homicide['Relationship'] == 'Common-Law Husband'), 'Rel_Category'] = 'Partner-M'\n",
    "\n",
    "homicide.loc[(homicide['Relationship'] == 'Father') | (homicide['Relationship'] == 'In-Law') |\n",
    "             (homicide['Relationship'] == 'Mother') | (homicide['Relationship'] == 'Stepfather') |\n",
    "             (homicide['Relationship'] == 'Stepmother'), 'Rel_Category'] = 'Parent'\n",
    "\n",
    "homicide.loc[(homicide['Relationship'] == 'Daughter') | (homicide['Relationship'] == 'Son') |\n",
    "             (homicide['Relationship'] == 'Stepdaughter') | \n",
    "             (homicide['Relationship'] == 'Stepson'), 'Rel_Category'] = 'Children'\n",
    "\n",
    "homicide.loc[(homicide['Relationship'] == 'Brother') | (homicide['Relationship'] == 'Sister'),\n",
    "             'Rel_Category'] = 'Sibling'\n",
    "\n",
    "homicide.loc[(homicide['Relationship'] == 'Employee') | (homicide['Relationship'] == 'Employer') ,\n",
    "             'Rel_Category'] = 'Work'\n",
    "\n",
    "homicide.loc[(homicide['Relationship'] == 'Boyfriend/Girlfriend') & (homicide['Victim_Sex'] == 'Female'),\n",
    "             'Rel_Category'] = 'Partner-F'\n",
    "\n",
    "homicide.loc[(homicide['Relationship'] == 'Boyfriend/Girlfriend') & ((homicide['Victim_Sex'] == 'Male') |\n",
    "            (homicide['Victim_Sex'] == 'Unknown')) , 'Rel_Category'] = 'Partner-M'"
   ]
  },
  {
   "cell_type": "markdown",
   "metadata": {},
   "source": [
    "## Exceptional\n",
    "\n",
    "Include PCA and fit a model for exceptional points"
   ]
  },
  {
   "cell_type": "markdown",
   "metadata": {},
   "source": [
    "Initial view of the dataset shows that headers are descriptive enough and won't require any changes. However, we need to look at the equivalent of a N/A in the Perpetrator and Victim Age columns. The N/A equivalent is 0."
   ]
  },
  {
   "cell_type": "code",
   "execution_count": null,
   "metadata": {
    "scrolled": true
   },
   "outputs": [],
   "source": [
    "profile = ProfileReport(homicide_df, title=\"Pandas Profiling Report\")\n",
    "profile.to_file(\"pandas_report.html\")"
   ]
  },
  {
   "cell_type": "code",
   "execution_count": null,
   "metadata": {},
   "outputs": [],
   "source": [
    "#https://www.analyticsvidhya.com/blog/2020/08/exploratory-data-analysiseda-from-scratch-in-python/\n",
    "#https://analyticsindiamag.com/beginners-guide-to-pyjanitor-a-python-tool-for-data-cleaning/\n",
    "# for normalizing, scaling, and encoding categorical values"
   ]
  },
  {
   "cell_type": "code",
   "execution_count": null,
   "metadata": {},
   "outputs": [],
   "source": [
    "# sample EDA\n",
    "#https://github.com/Dongee-W/EDA-python-spark/blob/master/seaborn.ipynb\n",
    "#https://www.geeksforgeeks.org/exploratory-data-analysis-in-python/"
   ]
  }
 ],
 "metadata": {
  "kernelspec": {
   "display_name": "Python 3",
   "language": "python",
   "name": "python3"
  },
  "language_info": {
   "codemirror_mode": {
    "name": "ipython",
    "version": 3
   },
   "file_extension": ".py",
   "mimetype": "text/x-python",
   "name": "python",
   "nbconvert_exporter": "python",
   "pygments_lexer": "ipython3",
   "version": "3.8.5"
  }
 },
 "nbformat": 4,
 "nbformat_minor": 4
}
