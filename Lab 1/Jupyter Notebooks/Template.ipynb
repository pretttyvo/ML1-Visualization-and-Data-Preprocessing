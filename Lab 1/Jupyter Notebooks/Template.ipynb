{
 "cells": [
  {
   "cell_type": "markdown",
   "metadata": {},
   "source": [
    "# Data Visualization and Processing"
   ]
  },
  {
   "cell_type": "markdown",
   "metadata": {},
   "source": [
    "By: Kris Ghimire, Thad Schwebke, Walter Lai, and Jamie Vo"
   ]
  },
  {
   "cell_type": "code",
   "execution_count": 1,
   "metadata": {},
   "outputs": [
    {
     "output_type": "execute_result",
     "data": {
      "text/html": "<script>\ncode_show=true; \nfunction code_toggle() {\n if (code_show){\n $('div.input').hide();\n } else {\n $('div.input').show();\n }\n code_show = !code_show\n} \n$( document ).ready(code_toggle);\n</script>\n<form action=\"javascript:code_toggle()\"><input type=\"submit\" value=\"Click here to toggle on/off the raw code.\"></form>",
      "text/plain": "<IPython.core.display.HTML object>"
     },
     "metadata": {},
     "execution_count": 1
    }
   ],
   "source": [
    "from IPython.display import HTML\n",
    "\n",
    "HTML('''<script>\n",
    "code_show=true; \n",
    "function code_toggle() {\n",
    " if (code_show){\n",
    " $('div.input').hide();\n",
    " } else {\n",
    " $('div.input').show();\n",
    " }\n",
    " code_show = !code_show\n",
    "} \n",
    "$( document ).ready(code_toggle);\n",
    "</script>\n",
    "<form action=\"javascript:code_toggle()\"><input type=\"submit\" value=\"Click here to toggle on/off the raw code.\"></form>''')"
   ]
  },
  {
   "cell_type": "markdown",
   "metadata": {},
   "source": [
    "## Contents"
   ]
  },
  {
   "cell_type": "code",
   "execution_count": null,
   "metadata": {},
   "outputs": [],
   "source": [
    "# Insert the code from Kris to build the index with links to each section"
   ]
  },
  {
   "cell_type": "markdown",
   "metadata": {},
   "source": [
    "# Business Understanding\n",
    "\n",
    "Describe the purpose of the data set you selected (i.e., why was this data collected in the first place?). Describe how you would define and measure the outcomes from the dataset. That is, why is this data important and how do you know if you have mined useful knowledge from the dataset? How would you measure the effectiveness of a good prediction algorithm? Be specific."
   ]
  },
  {
   "cell_type": "markdown",
   "metadata": {},
   "source": [
    "We have been hearing many news about homicide  lately in the mids of already existing Covid-19 pandemic. Violent crime and homicide have been rising saliently across the US. The number of homicide has almost increase by double digits in many bigger cities such has Chicago, New York, Philadelphia just to name few. To have better understanding about criminal and victim profile , to visualize some interesting relation and to make prediction on if the kind of homicide has been solved or unsolved we decided to pick homicide as a topic for our project.\n",
    "\n",
    "Just to define simply, homicide is the killing of one person by another. Homicide might or might not be illegal. Legal homicide could be such as person killing intruders without committing crime or solders killing enemies in battle, while the illegal homicide is an intentional murder of one individual by another or if someone involves in the activities. Our data set has two types of crime: Murder or Manslaughter and Manslaughter by Negligence. Murder occurs when one human being unlawfully kills another human being. Murder are broken into degrees, First degree which is willful, deliberate and premeditated murder. Second-degree murder- which do not carry the death penalty. Manslaughter is the act of killing another human being in a way that is less accountable than murder. In other words manslaughter is not as sever crime as murder. Manslaughter is categorized into voluntary and involuntary manslaughter. Voluntary manslaughter is defined as killing of another human being under extreme provocation which typically does not require an intent to kill. For example an individual who kills another individual in self-defense may be charged with voluntary manslaughter if he was the original attacker in the situation.\n",
    "\n",
    "While involuntary manslaughter is defined as death of another human being due to act of negligence or recklessness of the defendant.For example, a person who drives under the influence of alcohol may hit and kill a pedestrian, although killing him was not his intention.\n",
    "\n",
    "United States does a poor job in tracking and accounting for its unsolved homicides. According to Scripps Howard News Service study of the FBI’s Uniform Crime Report, across U.S. nearly 185,000 cases of homicides and non-negligent manslaughter were unsolved from 1980 to 2008. The rate at which police clear homicides through arrest has declines year over year. About 4 of every 10 homicides go unsolved each year.As per FBI Uniform Crime Report, currently on average, 40 percent of homicides are unsolved. These rising number of unsolved homicides also known as cold case is a major problem to our society as well as law enforcement as its leaving a growing number of killers out on the streets, undermining the safety in urban neighborhoods and also crumbling the confidence in the criminal justice system.\n",
    "\n",
    "No one knows all the names of the murder victims because no law enforcement agency in America is assigned to monitor failed homicide investigations by local police departments. Even the official national statistics on murder are actually estimates and projections based upon incomplete reports by police departments that voluntarily choose (or refuse) to participate in federal crime reporting programs.\n",
    "\n",
    "Keeping all these in mind our primary key in this project is to help classify the cases solved or unsolved based on the data we have.\n",
    "\n",
    "Our dataset come from the Murder Accountability Project which is a nonprofit group organized in 2015 to educate American on the important of accurately accounting for unsolved homicides. Their projects board of directory is composed of retired law enforcement investigators, investigative journalists, criminologists and other experts on various aspects of homicide.\n",
    "\n",
    "--There are two predictions we're working towards--\n",
    "1. Based on attributes of a case (i.e. Year, Month, City, State, Agency, Weapon, Victim attributes, Perpetrator attributes, and Relationship), we can predict if the case will be solved or not.\n",
    "2. Based on attributes in a case (i.e. Year, Month, City, State, Weapon, and Victim attributes), we can profile the Perpetrator (Age, Race, Ethnicity, and Sex)."
   ]
  },
  {
   "cell_type": "code",
   "execution_count": null,
   "metadata": {},
   "outputs": [],
   "source": [
    "# all imported libraries used for analysis\n",
    "import numpy as np\n",
    "import pandas as pd \n",
    "import os \n",
    "import urllib\n",
    "import copy\n",
    "import matplotlib.pyplot as plt\n",
    "%matplotlib inline \n",
    "import seaborn as sns \n",
    "import plotly.graph_objects as go\n",
    "import plotly.express as px\n",
    "\n",
    "# set color scheme and style for seaborn\n",
    "sns.set(color_codes=True)\n",
    "sns.set_style('whitegrid')"
   ]
  },
  {
   "cell_type": "markdown",
   "metadata": {},
   "source": [
    "Imports various libraries used in the analysis of the homicide data"
   ]
  },
  {
   "cell_type": "code",
   "execution_count": null,
   "metadata": {},
   "outputs": [],
   "source": [
    "states = {\n",
    "    'Alabama': 'AL',\n",
    "    'Alaska': 'AK',\n",
    "    'American Samoa': 'AS',\n",
    "    'Arizona': 'AZ',\n",
    "    'Arkansas': 'AR',\n",
    "    'California': 'CA',\n",
    "    'Colorado': 'CO',\n",
    "    'Connecticut': 'CT',\n",
    "    'Delaware': 'DE',\n",
    "    'District of Columbia': 'DC',\n",
    "    'Florida': 'FL',\n",
    "    'Georgia': 'GA',\n",
    "    'Guam': 'GU',\n",
    "    'Hawaii': 'HI',\n",
    "    'Idaho': 'ID',\n",
    "    'Illinois': 'IL',\n",
    "    'Indiana': 'IN',\n",
    "    'Iowa': 'IA',\n",
    "    'Kansas': 'KS',\n",
    "    'Kentucky': 'KY',\n",
    "    'Louisiana': 'LA',\n",
    "    'Maine': 'ME',\n",
    "    'Maryland': 'MD',\n",
    "    'Massachusetts': 'MA',\n",
    "    'Michigan': 'MI',\n",
    "    'Minnesota': 'MN',\n",
    "    'Mississippi': 'MS',\n",
    "    'Missouri': 'MO',\n",
    "    'Montana': 'MT',\n",
    "    'Nebraska': 'NE',\n",
    "    'Nevada': 'NV',\n",
    "    'New Hampshire': 'NH',\n",
    "    'New Jersey': 'NJ',\n",
    "    'New Mexico': 'NM',\n",
    "    'New York': 'NY',\n",
    "    'North Carolina': 'NC',\n",
    "    'North Dakota': 'ND',\n",
    "    'Northern Mariana Islands':'MP',\n",
    "    'Ohio': 'OH',\n",
    "    'Oklahoma': 'OK',\n",
    "    'Oregon': 'OR',\n",
    "    'Pennsylvania': 'PA',\n",
    "    'Puerto Rico': 'PR',\n",
    "    'Rhodes Island': 'RI',\n",
    "    'South Carolina': 'SC',\n",
    "    'South Dakota': 'SD',\n",
    "    'Tennessee': 'TN',\n",
    "    'Texas': 'TX',\n",
    "    'Utah': 'UT',\n",
    "    'Vermont': 'VT',\n",
    "    'Virgin Islands': 'VI',\n",
    "    'Virginia': 'VA',\n",
    "    'Washington': 'WA',\n",
    "    'West Virginia': 'WV',\n",
    "    'Wisconsin': 'WI',\n",
    "    'Wyoming': 'WY'\n",
    "}\n",
    "df_state = df.groupby('State').count().reset_index()\n",
    "\n",
    "df_state['State_Abb'] = [states[full_state] for full_state in df_state['State']]"
   ]
  },
  {
   "cell_type": "markdown",
   "metadata": {},
   "source": [
    "Summarized what was completed in this step."
   ]
  },
  {
   "cell_type": "markdown",
   "metadata": {},
   "source": [
    "# Data Meaning Type\n",
    "\n",
    "Describe the meaning and type of data (scale, values, etc.) for each attribute in the data file."
   ]
  },
  {
   "cell_type": "markdown",
   "metadata": {},
   "source": [
    "--Data Meaning Type Full Write-up--\n",
    "\n",
    "--Insert a table with all the features--\n",
    "\n",
    "--Jamie has a really nice table view based on an Excel file--\n",
    "\n",
    "--Align data description and sttribute types information from Kris--\n"
   ]
  },
  {
   "cell_type": "code",
   "execution_count": null,
   "metadata": {},
   "outputs": [],
   "source": [
    "df_description = pd.read_excel('../Data/data_description.xlsx')\n",
    "pd.set_option('display.max_colwidth', 0)\n",
    "df_description"
   ]
  },
  {
   "cell_type": "code",
   "execution_count": null,
   "metadata": {},
   "outputs": [],
   "source": [
    "# read the data file"
   ]
  },
  {
   "cell_type": "markdown",
   "metadata": {},
   "source": [
    "The [Homicide Report dataset](https://www.kaggle.com/murderaccountability/homicide-reports) from Kaggle is read into a dataframe"
   ]
  },
  {
   "cell_type": "code",
   "execution_count": null,
   "metadata": {},
   "outputs": [],
   "source": [
    "# data wrangling, clean-up, rename headers, drop columns, change data types, and transforms\n",
    "# change crime solved values - Yes = 1 and No = 0 \n",
    "homicide_df['Crime Solved']=homicide_df['Crime Solved'].replace(to_replace='No',value=0)\n",
    "homicide_df['Crime Solved']=homicide_df['Crime Solved'].replace(to_replace='Yes',value=1)\n",
    "\n",
    "# cleanse the Perpetrator Age\n",
    "print('Max age of Perpetrator before:', df['Perpetrator Age'].max())\n",
    "print('Max age of Perpetrator before:', df['Perpetrator Age'].min())\n",
    "homicide_df['Perpetrator Age']=homicide_df['Perpetrator Age'].replace(to_replace=\" \",value=0)\n",
    "homicide_df['Perpetrator Age'] = homicide_df['Perpetrator Age'].astype(int)\n",
    "#homicide_df['Perpetrator Age']=pd.to_numeric(homicide_df['Perpetrator Age'])\n",
    "index=homicide_df[homicide_df['Perpetrator Age'] > 98].index\n",
    "homicide_df.drop(index, inplace=True)\n",
    "homicide_df['Perpetrator Age']=homicide_df['Perpetrator Age'].replace(to_replace=0,value=homicide_df['Perpetrator Age'].median())\n",
    "print('Max age of Perpetrator after:', df['Perpetrator Age'].max())\n",
    "print('Max age of Perpetrator after:', df['Perpetrator Age'].min())\n",
    "\n",
    "# cleanse the Victim Age\n",
    "print('Max age of Victim before:', df['Victim Age'].max())\n",
    "print('Max age of Victim before:', df['Victim Age'].min())\n",
    "homicide_df['Victim Age']=homicide_df['Victim Age'].replace(to_replace=998,value=homicide_df['Victim Age'].median())\n",
    "print('Max age of Victim after:', df['Victim Age'].max())\n",
    "print('Max age of Victim after:', df['Victim Age'].min())\n",
    "\n",
    "# remove records where Relationship, Weapon, Victim & Perpetrator Sex, Race, \n",
    "# and Ethinicity are Unknown and Victim & Perpetrator Age is 0\n",
    "\n",
    "\n",
    "# combine Victim and Perpetrator Race & Ethnicity into new features - Victim_Race_Ethnicity and Perpetrator_Race_Ethnicity\n",
    "\n",
    "\n",
    "# create bins for Victim and Perpetrator Age in a new feature - Victim_Age_Group and Perpetrator_Age_Group\n",
    "\n",
    "\n",
    "# group Relationship into logical bins - Relationship_Group\n",
    "df.loc[(df['Relationship'] == 'Wife') | (df['Relationship'] == 'Ex-Wife') |\n",
    "             (df['Relationship'] == 'Girlfriend') |\n",
    "             (df['Relationship'] == 'Common-Law Wife'), 'Relationship_Group'] = 'Female Partner'\n",
    "\n",
    "df.loc[(df['Relationship'] == 'Husband') | (df['Relationship'] == 'Ex-Husband') |\n",
    "             (df['Relationship'] == 'Boyfriend') | \n",
    "             (df['Relationship'] == 'Common-Law Husband'), 'Relationship_Group'] = 'Male Partner'\n",
    "\n",
    "df.loc[(homicide['Relationship'] == 'Boyfriend/Girlfriend') & (df['Victim_Sex'] == 'Female'),\n",
    "             'Relationship_Group'] = 'Female Partner'\n",
    "\n",
    "df.loc[(homicide['Relationship'] == 'Boyfriend/Girlfriend') & ((df['Victim_Sex'] == 'Male') |\n",
    "            (df['Victim_Sex'] == 'Unknown')) , 'Relationship_Group'] = 'Male Partner'\n",
    "\n",
    "df.loc[(df['Relationship'] == 'Father') | (df['Relationship'] == 'In-Law') |\n",
    "             (df['Relationship'] == 'Mother') | (df['Relationship'] == 'Stepfather') |\n",
    "             (df['Relationship'] == 'Stepmother'), 'Relationship_Group'] = 'Parent'\n",
    "\n",
    "df.loc[(df['Relationship'] == 'Daughter') | (df['Relationship'] == 'Son') |\n",
    "             (df['Relationship'] == 'Stepdaughter') | \n",
    "             (df['Relationship'] == 'Stepson'), 'Relationship_Group'] = 'Children'\n",
    "\n",
    "df.loc[(df['Relationship'] == 'Brother') | (df['Relationship'] == 'Sister'),\n",
    "             'Relationship_Group'] = 'Sibling'\n",
    "\n",
    "df.loc[(df['Relationship'] == 'Employee') | (df['Relationship'] == 'Employer') ,\n",
    "             'Relationship_Group'] = 'Work'\n",
    "\n",
    "df.loc[(df['Relationship'] == 'Family') , 'Relationship_Group'] = 'Other Family'\n",
    "\n",
    "df.loc[(df['Relationship'] == 'Friend') , 'Relationship_Group'] = 'Friend'\n",
    "\n",
    "df.loc[(df['Relationship'] == 'Neighbor') , 'Relationship_Group'] = 'Neighbor'\n",
    "\n",
    "df.loc[(df['Relationship'] == 'Stranger') , 'Relationship_Group'] = 'Stranger'\n",
    "\n",
    "df.loc[(df['Relationship'] == 'Acquaintance') , 'Relationship_Group'] = 'Acquaintance'\n",
    "\n",
    "# combine City and State into a new feature - City_State\n",
    "\n",
    "\n",
    "# combine Month and Year into a new feature - Month_Year\n",
    "\n",
    "\n",
    "# drop Incident feature\n",
    "if 'Incident' in df:\n",
    "    del df['Incident']"
   ]
  },
  {
   "cell_type": "markdown",
   "metadata": {},
   "source": [
    "Summarized what was completed in this step."
   ]
  },
  {
   "cell_type": "code",
   "execution_count": null,
   "metadata": {},
   "outputs": [],
   "source": [
    "# display head of the cleansed data"
   ]
  },
  {
   "cell_type": "markdown",
   "metadata": {},
   "source": [
    "Summarized what was completed in this step."
   ]
  },
  {
   "cell_type": "code",
   "execution_count": null,
   "metadata": {},
   "outputs": [],
   "source": [
    "# display info which includes shape, columns, non-null count, and datatype\n",
    "# print the number of records and columns\n",
    "records = len(df)\n",
    "attributes = df.columns\n",
    "\n",
    "print(f'No. of Records: {records} \\nNo. of Attributes: {len(attributes)}')\n",
    "\n",
    "# use df.info()"
   ]
  },
  {
   "cell_type": "markdown",
   "metadata": {},
   "source": [
    "Summarized what was completed in this step."
   ]
  },
  {
   "cell_type": "code",
   "execution_count": null,
   "metadata": {},
   "outputs": [],
   "source": [
    "# displays unique values and their counts using .value_counts() and nunique() for each feature\n",
    "# use df.nunique()\n",
    "\n",
    "# use df.value_counts() for each feature\n",
    "homicide_df['Agency Code'].value_counts()\n",
    "homicide_df['Agency Name'].value_counts()\n",
    "homicide_df['Agency Type'].value_counts()\n",
    "homicide_df['City'].value_counts()\n",
    "homicide_df['State'].value_counts()\n",
    "homicide_df['City_State'].value_counts()\n",
    "\n",
    "homicide_df['Month'].value_counts()\n",
    "homicide_df['Year'].value_counts()\n",
    "homicide_df['Month_Year'].value_counts()\n",
    "\n",
    "homicide_df['Crime Type'].value_counts()\n",
    "homicide_df['Crime Solved'].value_counts()\n",
    "\n",
    "homicide_df['Victim Sex'].value_counts()\n",
    "homicide_df['Victim Age'].value_counts()\n",
    "homicide_df['Victim_Age_Group'].value_counts()\n",
    "homicide_df['Victim Race'].value_counts()\n",
    "homicide_df['Victim Ethnicity'].value_counts()\n",
    "homicide_df['Victim_Race_Ethnicity'].value_counts()\n",
    "\n",
    "homicide_df['Perpetrator Sex'].value_counts()\n",
    "homicide_df['Perpetrator Age'].value_counts()\n",
    "homicide_df['Perpetrator_Age_Group'].value_counts()\n",
    "homicide_df['Perpetrator Race'].value_counts()\n",
    "homicide_df['Perpetrator Ethnicity'].value_counts()\n",
    "homicide_df['Perpetrator_Race_Ethnicity'].value_counts()\n",
    "\n",
    "homicide_df['Relationship'].value_counts()\n",
    "homicide_df['Relationship_Group'].value_counts()\n",
    "\n",
    "homicide_df['Weapon'].value_counts()\n",
    "homicide_df['Record Source'].value_counts()\n",
    "homicide_df['Victim Count'].value_counts()\n",
    "homicide_df['Perpetrator Count'].value_counts()"
   ]
  },
  {
   "cell_type": "code",
   "execution_count": null,
   "metadata": {},
   "outputs": [],
   "source": [
    "homicide_df.nunique()"
   ]
  },
  {
   "cell_type": "markdown",
   "metadata": {},
   "source": [
    "Summarized what was completed in this step."
   ]
  },
  {
   "cell_type": "markdown",
   "metadata": {},
   "source": [
    "## Data Quality\n",
    "\n",
    " Explain any missing values, duplicate data, and outliers. Are those mistakes? How do you deal with these problems? Be specific.\n"
   ]
  },
  {
   "cell_type": "markdown",
   "metadata": {},
   "source": [
    "--Data Quality Full Write-up--"
   ]
  },
  {
   "cell_type": "code",
   "execution_count": null,
   "metadata": {},
   "outputs": [],
   "source": [
    "# check for null values using isnull().sum() and clean-up null values\n",
    "# check for null values\n",
    "homicide_df.isnull().sum()"
   ]
  },
  {
   "cell_type": "markdown",
   "metadata": {},
   "source": [
    "Summarized what was completed in this step."
   ]
  },
  {
   "cell_type": "code",
   "execution_count": null,
   "metadata": {},
   "outputs": [],
   "source": [
    "# check for rows containing duplicate data and clean-up duplicate rows\n",
    "df_duplicates = df.groupby(df.columns.tolist(),as_index=False).size()\n",
    "df_duplicates.loc[df_duplicates['size'] > 1]"
   ]
  },
  {
   "cell_type": "markdown",
   "metadata": {},
   "source": [
    "Summarized what was completed in this step."
   ]
  },
  {
   "cell_type": "code",
   "execution_count": null,
   "metadata": {},
   "outputs": [],
   "source": [
    "# check for outliers using box plots\n",
    "fig, axes = plt.subplots(nrows=5,ncols=1)\n",
    "fig.set_size_inches(10, 30)\n",
    "sns.boxplot(data=homicide_df,x=\"Incident\",orient=\"h\",ax=axes[0])\n",
    "sns.boxplot(data=homicide_df,x=\"Victim Age\",orient=\"h\",ax=axes[1])\n",
    "sns.boxplot(data=homicide_df,x=\"Victim Count\",orient=\"h\",ax=axes[2])\n",
    "sns.boxplot(data=homicide_df,x=\"Perpetrator Count\",orient=\"h\",ax=axes[3])\n",
    "sns.boxplot(data=homicide_df,x=\"Perpetrator Age\",orient=\"h\",ax=axes[4])"
   ]
  },
  {
   "cell_type": "markdown",
   "metadata": {},
   "source": [
    "Summarized what was completed in this step."
   ]
  },
  {
   "cell_type": "code",
   "execution_count": null,
   "metadata": {},
   "outputs": [],
   "source": [
    "# histograms to look at the distributions\n",
    "fig, axes = plt.subplots(nrows=5,ncols=1)\n",
    "fig.set_size_inches(10, 30)\n",
    "sns.distplot(homicide_df['Incident'],ax=axes[0], bins=15)\n",
    "sns.distplot(homicide_df['Victim Age'],ax=axes[1], bins=10)\n",
    "sns.distplot(homicide_df['Victim Count'],ax=axes[2])\n",
    "sns.distplot(homicide_df['Perpetrator Count'],ax=axes[3])\n",
    "sns.distplot(homicide_df['Perpetrator Age'],ax=axes[4], bins=10)"
   ]
  },
  {
   "cell_type": "markdown",
   "metadata": {},
   "source": [
    "Summarized what was completed in this step."
   ]
  },
  {
   "cell_type": "code",
   "execution_count": null,
   "metadata": {},
   "outputs": [],
   "source": [
    "# check for outliers using quantiles and IQR"
   ]
  },
  {
   "cell_type": "markdown",
   "metadata": {},
   "source": [
    "Summarized what was completed in this step."
   ]
  },
  {
   "cell_type": "code",
   "execution_count": null,
   "metadata": {},
   "outputs": [],
   "source": [
    "# create a pairplot for continuous variables looking for outliers "
   ]
  },
  {
   "cell_type": "markdown",
   "metadata": {},
   "source": [
    "Summarized what was completed in this step."
   ]
  },
  {
   "cell_type": "code",
   "execution_count": null,
   "metadata": {},
   "outputs": [],
   "source": [
    "# Violin plots to compare distributions between groups"
   ]
  },
  {
   "cell_type": "markdown",
   "metadata": {},
   "source": [
    "Summarized what was completed in this step."
   ]
  },
  {
   "cell_type": "code",
   "execution_count": null,
   "metadata": {},
   "outputs": [],
   "source": [
    "# Pair plots and matrix are also viable options\n",
    "fig = px.scatter_matrix(df[['Year', 'Incident', 'Victim Age', 'Victim Count','Perpetrator Count']])\n",
    "fig.show()"
   ]
  },
  {
   "cell_type": "code",
   "execution_count": null,
   "metadata": {},
   "outputs": [],
   "source": [
    "sns.set()\n",
    "cols = ['Perpetrator Age', 'Perpetrator Count', 'Victim Age', 'Victim Count', 'Year']\n",
    "\n",
    "# Create a pairplot for the selected columns \n",
    "sns.pairplot(homicide_df[cols], height = 2.5)\n",
    "\n",
    "# show the plot\n",
    "plt.show();"
   ]
  },
  {
   "cell_type": "markdown",
   "metadata": {},
   "source": [
    "Summarized what was completed in this step."
   ]
  },
  {
   "cell_type": "markdown",
   "metadata": {},
   "source": [
    "## Simple Statistics\n",
    "\n",
    "Give simple, appropriate statistics (range, mode, mean, median, variance, counts, etc.) for the most important attributes and describe what they mean or if you found something interesting. Note: You can also use data from other sources for comparison. Explain the significance of the statistics run and why they are meaningful.\n"
   ]
  },
  {
   "cell_type": "markdown",
   "metadata": {},
   "source": [
    "--Simple Statistics Full Write-up--"
   ]
  },
  {
   "cell_type": "code",
   "execution_count": null,
   "metadata": {},
   "outputs": [],
   "source": [
    "# count, mean, standard deviation, minimum and maximum values and the quantities for continuous variables\n",
    "homicide_df.describe().T"
   ]
  },
  {
   "cell_type": "markdown",
   "metadata": {},
   "source": [
    "Summarized what was completed in this step."
   ]
  },
  {
   "cell_type": "code",
   "execution_count": null,
   "metadata": {},
   "outputs": [],
   "source": [
    "# total number of victim count\n",
    "print('Total number victims=',df['Victim Count'].sum())"
   ]
  },
  {
   "cell_type": "markdown",
   "metadata": {},
   "source": [
    "Summarized what was completed in this step."
   ]
  },
  {
   "cell_type": "code",
   "execution_count": null,
   "metadata": {},
   "outputs": [],
   "source": [
    "# basic statistics for categorical features\n",
    "df_categorical = df.select_dtypes(include='object')\n",
    "df_categorical.describe()"
   ]
  },
  {
   "cell_type": "markdown",
   "metadata": {},
   "source": [
    "Summarized what was completed in this step."
   ]
  },
  {
   "cell_type": "code",
   "execution_count": null,
   "metadata": {},
   "outputs": [],
   "source": [
    "# get all levels per categorical attribute\n",
    "df_categorical_levels = pd.DataFrame()\n",
    "df_categorical_levels['Attribute'] = df_categorical.columns\n",
    "df_categorical_levels['Levels'] = ''\n",
    "df_categorical_levels['Levels_Count'] = ''\n",
    "df_categorical_levels['Unknown_Count'] = ''\n",
    "\n",
    "# populate the dataframe with categorical levels and count of each category\n",
    "for i, row in df_categorical_levels.iterrows():\n",
    "    attribute = row['Attribute']\n",
    "    df_categorical_levels.at[i,'Levels'] = df[attribute].unique()\n",
    "    df_categorical_levels.at[i,'Levels_Count'] = len(df[attribute].unique())\n",
    "    try:\n",
    "        df_categorical_levels.at[i,'Unknown_Count'] = df.groupby(attribute).count().loc['Unknown'][0]\n",
    "    except: \n",
    "        df_categorical_levels.at[i,'Unknown_Count'] = 0"
   ]
  },
  {
   "cell_type": "code",
   "execution_count": null,
   "metadata": {},
   "outputs": [],
   "source": [
    "# show the dataframe\n",
    "df_categorical_levels.sort_values(by='Unknown_Count', ascending = False)"
   ]
  },
  {
   "cell_type": "markdown",
   "metadata": {},
   "source": [
    "Summarized what was completed in this step."
   ]
  },
  {
   "cell_type": "code",
   "execution_count": null,
   "metadata": {},
   "outputs": [],
   "source": [
    "# include any pertinant crosstabs with percentages"
   ]
  },
  {
   "cell_type": "code",
   "execution_count": null,
   "metadata": {},
   "outputs": [],
   "source": [
    "pd.pivot_table(known,index=[\"Victim Race\",\"Perpetrator Race\"],values=[\"Victim Count\"],aggfunc=[np.sum])"
   ]
  },
  {
   "cell_type": "code",
   "execution_count": null,
   "metadata": {},
   "outputs": [],
   "source": [
    "pv_weapons = df.pivot_table(columns='Crime Solved', index='Weapon',values='Record ID',aggfunc='count')\n",
    "pv_weapons.sort_values(by='No', ascending=0)"
   ]
  },
  {
   "cell_type": "markdown",
   "metadata": {},
   "source": [
    "Summarized what was completed in this step."
   ]
  },
  {
   "cell_type": "markdown",
   "metadata": {},
   "source": [
    "## Visualize Attributes\n",
    "\n",
    "Visualize the most important attributes appropriately (at least 5 attributes). Important: Provide an interpretation for each chart. Explain for each attribute why the chosen visualization is appropriate.\n",
    "\n",
    "Visualize attributes is just individual attributes"
   ]
  },
  {
   "cell_type": "markdown",
   "metadata": {},
   "source": [
    "--Visualize Attributes Full Write-up--"
   ]
  },
  {
   "cell_type": "markdown",
   "metadata": {},
   "source": [
    "Checklist of important attributes to visualize (use count of Record ID)\n",
    "* Victim (Sex, Age, Race_Ethnicity) - bar plot\n",
    "* Crime Type - pie chart\n",
    "* Weapons - horizontal bar plot\n",
    "* Perpetrator (Sex, Age, Race_Ethnicity) - bar plot\n",
    "* State - map plot\n",
    "* City_State - map plot\n",
    "* Crime Solved - pie chart\n",
    "* Month_Year - line plot\n",
    "\n",
    "Perpetrator and Victim Count\n",
    "- Are there more perpetrators than victims?\n",
    "\n",
    "Weapon\n",
    "- What weapons are most and least commonly used for murder over the time period?\n",
    "\n",
    "Time series for homicede incidences \n",
    "- Has the homocide rates decrease from 1980-2014?\n",
    "- What states have the highest and lowest number of incidences from 1980-2014?\n",
    "- What states had the highest and lowest murder rate in 2014?\n",
    "\n",
    "Age distribution\n",
    "- What age group is the most predominent for perpetrators and victims?\n",
    "- Has the age distribution change over the years?\n",
    "- What ages encompass the most perpetrators? \n",
    "        \n",
    "Race and sex \n",
    "- Perpetrator and victim sex distribution for each race?\n",
    "- What is the age group distribution for each race?\n",
    "- What perpetrator and victim race has the highest homicide incidences?\n",
    "        \n",
    "Relationship\n",
    "- What relationship result in most murders from 1980-2014?\n",
    "- What victim relationship result in most murders from 1980-2014?\n",
    "- What relationship group has the most homicides?"
   ]
  },
  {
   "cell_type": "code",
   "execution_count": null,
   "metadata": {},
   "outputs": [],
   "source": [
    "# Victim (Sex, Age, Race_Ethnicity) - bar plot\n",
    "# Victims sex\n",
    "v_sex = df['Victim Sex'].value_counts()\n",
    "v_sex.plot.pie(autopct='%1.0f%%',figsize=(6, 6), title = 'Victims sex')"
   ]
  },
  {
   "cell_type": "markdown",
   "metadata": {},
   "source": [
    "Summarized what was completed in this step."
   ]
  },
  {
   "cell_type": "code",
   "execution_count": null,
   "metadata": {},
   "outputs": [],
   "source": [
    "# Crime Type - pie chart\n",
    "ct = df['Crime Type'].value_counts()\n",
    "ct.plot.pie(autopct='%1.0f%%', figsize=(6, 6), title = 'Crime Types')"
   ]
  },
  {
   "cell_type": "markdown",
   "metadata": {},
   "source": [
    "Summarized what was completed in this step."
   ]
  },
  {
   "cell_type": "code",
   "execution_count": null,
   "metadata": {},
   "outputs": [],
   "source": [
    "# Weapons - horizontal bar plot"
   ]
  },
  {
   "cell_type": "markdown",
   "metadata": {},
   "source": [
    "Summarized what was completed in this step."
   ]
  },
  {
   "cell_type": "code",
   "execution_count": null,
   "metadata": {},
   "outputs": [],
   "source": [
    "# Perpetrator (Sex, Age, Race_Ethnicity) - bar plot\n",
    "# Perpetrator sex\n",
    "p_sex = df['Perpetrator Sex'].value_counts()\n",
    "p_sex.plot.pie(autopct='%1.0f%%', figsize=(6, 6), title = 'Perpetrators sex')"
   ]
  },
  {
   "cell_type": "markdown",
   "metadata": {},
   "source": [
    "Summarized what was completed in this step."
   ]
  },
  {
   "cell_type": "code",
   "execution_count": null,
   "metadata": {},
   "outputs": [],
   "source": [
    "# State - map plot\n",
    "# heat map of states \n",
    "fig = px.choropleth(locations=df_state['State_Abb'], \n",
    "                    locationmode=\"USA-states\", \n",
    "                    color=df_state['Record ID'], \n",
    "                    color_continuous_scale='portland',\n",
    "                    scope=\"usa\")\n",
    "fig.update_layout(\n",
    "    title_text = 'Homicide Rates per State',\n",
    "    geo_scope='usa', # limite map scope to USA\n",
    ")\n",
    "fig.show()"
   ]
  },
  {
   "cell_type": "markdown",
   "metadata": {},
   "source": [
    "California, Texas, New York, and Florida are the leading states with homocide rates.\n",
    "\n",
    "Summarized what was completed in this step."
   ]
  },
  {
   "cell_type": "code",
   "execution_count": null,
   "metadata": {},
   "outputs": [],
   "source": [
    "# City_State - map plot"
   ]
  },
  {
   "cell_type": "markdown",
   "metadata": {},
   "source": [
    "Summarized what was completed in this step."
   ]
  },
  {
   "cell_type": "code",
   "execution_count": null,
   "metadata": {},
   "outputs": [],
   "source": [
    "# Crime Solved - pie chart"
   ]
  },
  {
   "cell_type": "markdown",
   "metadata": {},
   "source": [
    "Summarized what was completed in this step."
   ]
  },
  {
   "cell_type": "code",
   "execution_count": null,
   "metadata": {},
   "outputs": [],
   "source": [
    "df_homicides_per_year = df.groupby('Year').count().reset_index()\n",
    "df_homicides_per_year_solved = df.groupby(['Year', 'Crime Solved']).count().reset_index()"
   ]
  },
  {
   "cell_type": "code",
   "execution_count": null,
   "metadata": {},
   "outputs": [],
   "source": [
    "# Create traces\n",
    "solved_y = df_homicides_per_year_solved.loc[df_homicides_per_year_solved['Crime Solved'] == 'Yes']\n",
    "unsolved_y = df_homicides_per_year_solved.loc[df_homicides_per_year_solved['Crime Solved'] == 'No']\n",
    "fig = go.Figure()\n",
    "fig.add_trace(go.Scatter(x=df_homicides_per_year['Year'], y=df_homicides_per_year['Record ID'],\n",
    "                    mode='lines+markers',\n",
    "                    name='Homicide Rates'))\n",
    "fig.add_trace(go.Scatter(x=solved_y['Year'], y=solved_y['Record ID'],\n",
    "                    mode='lines+markers',\n",
    "                    name='Solved Homicides'))\n",
    "fig.add_trace(go.Scatter(x=unsolved_y['Year'], y=unsolved_y['Record ID'],\n",
    "                    mode='lines+markers',\n",
    "                    name='Unsolved Homicides'))\n",
    "fig.update_layout(\n",
    "    title={\n",
    "        'text': \"Homicides Per Year\",\n",
    "        'y':0.9,\n",
    "        'x':0.5,\n",
    "        'xanchor': 'center',\n",
    "        'yanchor': 'top'},\n",
    "    xaxis_title=\"Year\",\n",
    "    yaxis_title=\" Number of Homicides\")\n",
    "\n",
    "fig.show()"
   ]
  },
  {
   "cell_type": "markdown",
   "metadata": {},
   "source": [
    "Summarized what was completed in this step."
   ]
  },
  {
   "cell_type": "code",
   "execution_count": null,
   "metadata": {},
   "outputs": [],
   "source": [
    "# Month_Year - line plot"
   ]
  },
  {
   "cell_type": "markdown",
   "metadata": {},
   "source": [
    "Summarized what was completed in this step."
   ]
  },
  {
   "cell_type": "markdown",
   "metadata": {},
   "source": [
    "## Explore Joint Attributes\n",
    "\n",
    "Explore relationships between attributes: Look at the attributes via scatter plots, correlation, cross-tabulation, group-wise averages, etc. as appropriate. Explain any interesting relationships.\n",
    "\n",
    "Explore joint attributes is the comparing of multiple attributes (pairwise and correlation are good options)"
   ]
  },
  {
   "cell_type": "markdown",
   "metadata": {},
   "source": [
    "--Explorer Joint Attributes Full Write-up--\n",
    "Use scatter plots for 2 variable comparison\n",
    "Use bubble plots for 3 variable comparison\n",
    "Use line plots for time lines\n",
    "Use geo map plots for locations\n",
    "\n",
    "Correlation\n",
    "- How is the homicide data correlated"
   ]
  },
  {
   "cell_type": "code",
   "execution_count": null,
   "metadata": {},
   "outputs": [],
   "source": [
    "# Correclation plot\n",
    "plt.figure(figsize=(8,4))\n",
    "sns.heatmap(homicide_df.corr())"
   ]
  },
  {
   "cell_type": "code",
   "execution_count": null,
   "metadata": {},
   "outputs": [],
   "source": [
    "corr_pair(homicide_df)"
   ]
  },
  {
   "cell_type": "markdown",
   "metadata": {},
   "source": [
    "Summarized what was completed in this step."
   ]
  },
  {
   "cell_type": "code",
   "execution_count": null,
   "metadata": {},
   "outputs": [],
   "source": [
    "# Pairwise plot"
   ]
  },
  {
   "cell_type": "markdown",
   "metadata": {},
   "source": [
    "Summarized what was completed in this step."
   ]
  },
  {
   "cell_type": "code",
   "execution_count": null,
   "metadata": {},
   "outputs": [],
   "source": [
    "# Create a plot to compare actual crime rate numbers to the homicide numbers to see if they follow the same pattern\n",
    "# Need crime data from https://www.macrotrends.net/states/louisiana/murder-homicide-rate-statistics"
   ]
  },
  {
   "cell_type": "markdown",
   "metadata": {},
   "source": [
    "Summarized what was completed in this step."
   ]
  },
  {
   "cell_type": "code",
   "execution_count": null,
   "metadata": {},
   "outputs": [],
   "source": [
    "plt.figure(figsize=(10,6))\n",
    "sns.countplot(data=df,\n",
    "              x='Victim Race',\n",
    "              #y='Crime Type',\n",
    "              hue='Crime Type',\n",
    "              palette=['#432371',\"#FAAE7B\"] \n",
    "             )\n",
    "plt.xlabel('Victim Race',size=14)\n",
    "plt.ylabel('Total Count',size=14)\n",
    "plt.title('Majority of white individual were victim of \\n Murder or Manslaughter followed by Black',size=18)\n",
    "plt.show()"
   ]
  },
  {
   "cell_type": "markdown",
   "metadata": {},
   "source": [
    "Summarized what was completed in this step."
   ]
  },
  {
   "cell_type": "code",
   "execution_count": null,
   "metadata": {},
   "outputs": [],
   "source": [
    "sns.catplot(x='Perpetrator Race',\n",
    "           y='Perpetrator Count',\n",
    "           kind='bar', \n",
    "           height=6,\n",
    "            aspect=2,\n",
    "            hue='Perpetrator Sex', \n",
    "           data=df.sort_values('Perpetrator Race'))"
   ]
  },
  {
   "cell_type": "markdown",
   "metadata": {},
   "source": [
    "Summarized what was completed in this step."
   ]
  },
  {
   "cell_type": "markdown",
   "metadata": {},
   "source": [
    "## Explore Attributes and Class\n",
    "\n",
    "Identify and explain interesting relationships between features and the class you are trying to predict (i.e., relationships with variables and the target classification).\n",
    "\n",
    "Prediction can include 1 or more attributes (i.e. Perpetrator age and race to predict the profile of a murder based on other attributes"
   ]
  },
  {
   "cell_type": "markdown",
   "metadata": {},
   "source": [
    "--Explore Attributes and Class Full Write-up--"
   ]
  },
  {
   "cell_type": "markdown",
   "metadata": {},
   "source": [
    "Checklist of important attributes to visualize (use count of Record ID)\n",
    "* Victim (Sex, Age, Race_Ethnicity) vs Crime Solved\n",
    "* Weapons vs Crime Solved\n",
    "* Perpetrator (Sex, Age, Race_Ethnicity) vs Crime Solved\n",
    "* Perpetrator (Sex, Age, Race_Ethnicity) vs Crime Type\n",
    "* State vs Crime Solved\n",
    "* State vs Crime Type\n",
    "* City_State vs Crime Type\n",
    "* City_State vs Crime Solved\n",
    "* Agency Type vs Crime Solved"
   ]
  },
  {
   "cell_type": "code",
   "execution_count": null,
   "metadata": {},
   "outputs": [],
   "source": [
    "# Victim (Sex, Age, Race_Ethnicity) vs Crime Solved\n",
    "df_victime_gender = df.groupby(['Victim Age', 'Victim Sex', 'Year']).count().reset_index()\n",
    "px.scatter(df_victime_gender, x=\"Victim Age\", y=\"Record ID\", animation_frame=\"Year\", animation_group=\"Victim Age\",\n",
    "           size=\"Record ID\", color=\"Victim Sex\", hover_name=\"Record ID\",\n",
    "           log_x=False, size_max=20, range_x=[0,100], range_y=[0,1200])"
   ]
  },
  {
   "cell_type": "markdown",
   "metadata": {},
   "source": [
    "Summarized what was completed in this step."
   ]
  },
  {
   "cell_type": "code",
   "execution_count": null,
   "metadata": {},
   "outputs": [],
   "source": [
    "# Weapons vs Crime Solved"
   ]
  },
  {
   "cell_type": "markdown",
   "metadata": {},
   "source": [
    "Summarized what was completed in this step."
   ]
  },
  {
   "cell_type": "code",
   "execution_count": null,
   "metadata": {},
   "outputs": [],
   "source": [
    "# Perpetrator (Sex, Age, Race_Ethnicity) vs Crime Solved\n",
    "df_gender = df.groupby(['Perpetrator Sex', 'Victim Sex', 'Year']).count().reset_index()\n",
    "df_gender['Perp_Vict'] = df['Perpetrator Sex'].str.cat(df['Victim Sex'],sep=\" \")\n",
    "df_gender['Perp_Vict'].unique()\n",
    "\n",
    "df_hom = pd.DataFrame()\n",
    "df_hom['Year'] = ''\n",
    "df_hom['Perp_Vict'] = ''\n",
    "years = df['Year'].unique()\n",
    "combo = df_gender['Perp_Vict'].unique()\n",
    "for val in combo:\n",
    "    for i in years:\n",
    "        df_hom = df_hom.append({'Year': i, 'Perp_Vict': val}, ignore_index=True)"
   ]
  },
  {
   "cell_type": "code",
   "execution_count": null,
   "metadata": {},
   "outputs": [],
   "source": [
    "df_hom_perp = df_hom.merge(df_gender, on=['Year', 'Perp_Vict'], how='outer')"
   ]
  },
  {
   "cell_type": "code",
   "execution_count": null,
   "metadata": {},
   "outputs": [],
   "source": [
    "fig_gender = px.bar(df_hom_perp, x=\"Perp_Vict\", y=\"Record ID\", color=\"Perp_Vict\",\n",
    "             animation_frame=\"Year\", animation_group=\"Perp_Vict\", range_y=[0,10000],\n",
    "             opacity = 0.5)"
   ]
  },
  {
   "cell_type": "code",
   "execution_count": null,
   "metadata": {},
   "outputs": [],
   "source": [
    "fig_gender.show()"
   ]
  },
  {
   "cell_type": "markdown",
   "metadata": {},
   "source": [
    "Summarized what was completed in this step."
   ]
  },
  {
   "cell_type": "code",
   "execution_count": null,
   "metadata": {},
   "outputs": [],
   "source": [
    "# Perpetrator (Sex, Age, Race_Ethnicity) vs Crime Type"
   ]
  },
  {
   "cell_type": "markdown",
   "metadata": {},
   "source": [
    "Summarized what was completed in this step."
   ]
  },
  {
   "cell_type": "code",
   "execution_count": null,
   "metadata": {},
   "outputs": [],
   "source": [
    "# State vs Crime Solved\n",
    "# One example of what we can do here\n",
    "fig = px.scatter(database_df, x=\"State\",y='Weapon', color=\"Crime Solved\",\n",
    "                 hover_name=\"Weapon\",template=\"plotly_dark\",\n",
    "                 animation_frame='Year',animation_group='State')\n",
    "fig.show()"
   ]
  },
  {
   "cell_type": "markdown",
   "metadata": {},
   "source": [
    "Summarized what was completed in this step."
   ]
  },
  {
   "cell_type": "code",
   "execution_count": null,
   "metadata": {},
   "outputs": [],
   "source": [
    "# State vs Crime Type"
   ]
  },
  {
   "cell_type": "markdown",
   "metadata": {},
   "source": [
    "Summarized what was completed in this step."
   ]
  },
  {
   "cell_type": "code",
   "execution_count": null,
   "metadata": {},
   "outputs": [],
   "source": [
    "# City_State vs Crime Type"
   ]
  },
  {
   "cell_type": "markdown",
   "metadata": {},
   "source": [
    "Summarized what was completed in this step."
   ]
  },
  {
   "cell_type": "code",
   "execution_count": null,
   "metadata": {},
   "outputs": [],
   "source": [
    "# City_State vs Crime Solved"
   ]
  },
  {
   "cell_type": "markdown",
   "metadata": {},
   "source": [
    "Summarized what was completed in this step."
   ]
  },
  {
   "cell_type": "code",
   "execution_count": null,
   "metadata": {},
   "outputs": [],
   "source": [
    "# Agency Type vs Crime Solved"
   ]
  },
  {
   "cell_type": "markdown",
   "metadata": {},
   "source": [
    "Summarized what was completed in this step."
   ]
  },
  {
   "cell_type": "code",
   "execution_count": null,
   "metadata": {},
   "outputs": [],
   "source": [
    "ct5.plot(kind='barh', \n",
    "         #stacked=True, \n",
    "         color=['#432371','red'],\n",
    "         width=0.8,  \n",
    "         figsize=(8,6) # (x-axis,y-axis)\n",
    "         )\n",
    "plt.xlabel('Total Count',size=14)\n",
    "plt.ylabel('Agency Type',size=14)\n",
    "plt.title('Murder or Manslaughter accounts for the majority of crime, \\n mostly taken cared by Municipal Police',size=18)\n",
    "plt.show()"
   ]
  },
  {
   "cell_type": "markdown",
   "metadata": {},
   "source": [
    "Summarized what was completed in this step."
   ]
  },
  {
   "cell_type": "code",
   "execution_count": null,
   "metadata": {},
   "outputs": [],
   "source": [
    "df_homicides_solved = pd.DataFrame()\n",
    "df_homicides_solved['Year'] = df_homicides_per_year['Year']\n",
    "df_homicides_solved['Unsolved'] = unsolved_y['Record ID'].values\n",
    "df_homicides_solved['Solved'] = solved_y['Record ID'].values\n",
    "df_homicides_solved['Total Homicides'] = df_homicides_per_year['Record ID']"
   ]
  },
  {
   "cell_type": "code",
   "execution_count": null,
   "metadata": {},
   "outputs": [],
   "source": [
    "# new variable creations\n",
    "df_homicides_solved['Unsolved_Solved_Diff'] = df_homicides_solved['Solved'] - df_homicides_solved['Unsolved']\n",
    "df_homicides_solved['Diff_Percentage'] = round((df_homicides_solved['Unsolved_Solved_Diff']/df_homicides_solved['Total Homicides'])*100,2)"
   ]
  },
  {
   "cell_type": "code",
   "execution_count": null,
   "metadata": {},
   "outputs": [],
   "source": [
    "fig = px.line(df_homicides_solved, x=\"Year\", y=\"Diff_Percentage\", title='Percentage of Difference of Solved vs. Unsolved Homicides')\n",
    "fig.show()"
   ]
  },
  {
   "cell_type": "markdown",
   "metadata": {},
   "source": [
    "Summarized what was completed in this step."
   ]
  },
  {
   "cell_type": "markdown",
   "metadata": {},
   "source": [
    "Decision Tree\n",
    "- Can we predict whether the crime will be solved or unsolved for victims?"
   ]
  },
  {
   "cell_type": "markdown",
   "metadata": {},
   "source": [
    "## New Features\n",
    "\n",
    "Are there other features that could be added to the data or created from existing features? Which ones?\n",
    "\n",
    "New features - can we do something to clean up city, state, and agency? (qcut in pandas)"
   ]
  },
  {
   "cell_type": "markdown",
   "metadata": {},
   "source": [
    "--New Features Full Write-up--\n",
    "\n",
    "--New features were created in the Data Meaning Type section we ust need to do the write=up for them--\n",
    "Victim_Race_Ethnicity\n",
    "Perpetrator_Race_Ethnicity\n",
    "Victim_Age_Group\n",
    "Perpetrator_Age_Group\n",
    "Relationship_Group\n",
    "City_State\n",
    "Month_Year"
   ]
  },
  {
   "cell_type": "markdown",
   "metadata": {},
   "source": [
    "## Exceptional\n",
    "\n",
    "Include PCA and fit a model for exceptional points"
   ]
  },
  {
   "cell_type": "markdown",
   "metadata": {},
   "source": [
    "Initial view of the dataset shows that headers are descriptive enough and won't require any changes. However, we need to look at the equivalent of a N/A in the Perpetrator and Victim Age columns. The N/A equivalent is 0."
   ]
  },
  {
   "cell_type": "code",
   "execution_count": null,
   "metadata": {},
   "outputs": [],
   "source": [
    "# Function to create dummy variables\n",
    "def dummy_code(col, df): # input the column names and dataframe\n",
    "    df_dummy = pd.DataFrame()\n",
    "    for val in col:\n",
    "        df_dummy_temp = pd.get_dummies(df[val], prefix=val)\n",
    "        df_dummy = pd.concat([df_dummy, df_dummy_temp], axis=1, sort=False)\n",
    "    return df_dummy"
   ]
  },
  {
   "cell_type": "code",
   "execution_count": null,
   "metadata": {},
   "outputs": [],
   "source": [
    "# select columns for cummy coding\n",
    "cat_col = df_categorical.columns.values\n",
    "categorical = np.delete(cat_col, [0,1])"
   ]
  },
  {
   "cell_type": "code",
   "execution_count": null,
   "metadata": {},
   "outputs": [],
   "source": [
    "# call function for dummy coding variables\n",
    "df_dummy = dummy_code(categorical, df)"
   ]
  },
  {
   "cell_type": "markdown",
   "metadata": {},
   "source": [
    "Summarized what was completed in this step."
   ]
  },
  {
   "cell_type": "code",
   "execution_count": null,
   "metadata": {},
   "outputs": [],
   "source": [
    "# Train/Test split due to the large data size and for data validation\n",
    "# set seed\n",
    "random.seed(1234)\n",
    "df_pca = df_full.drop(['Agency Name', 'Agency Code'], axis=1)\n"
   ]
  },
  {
   "cell_type": "code",
   "execution_count": null,
   "metadata": {},
   "outputs": [],
   "source": [
    "# split into train/test\n",
    "y = df_pca['Crime Solved_Yes']\n",
    "x = df_pca.drop(['Crime Solved_Yes', 'Crime Solved_No'], axis = 1)"
   ]
  },
  {
   "cell_type": "code",
   "execution_count": null,
   "metadata": {},
   "outputs": [],
   "source": [
    "x_train,x_test,y_train,y_test=train_test_split(x,y,test_size=0.8)"
   ]
  },
  {
   "cell_type": "markdown",
   "metadata": {},
   "source": [
    "Summarized what was completed in this step."
   ]
  },
  {
   "cell_type": "code",
   "execution_count": null,
   "metadata": {},
   "outputs": [],
   "source": [
    "# PCA\n",
    "# Standardizing the features\n",
    "x = StandardScaler().fit_transform(x_train)"
   ]
  },
  {
   "cell_type": "code",
   "execution_count": null,
   "metadata": {},
   "outputs": [],
   "source": [
    "from sklearn.decomposition import PCA\n",
    "pca = PCA(n_components=10)\n",
    "principalComponents = pca.fit_transform(x)\n",
    "principalDf = pd.DataFrame(data = principalComponents, columns=['PCA_'+ str(x) for x in range(10)])"
   ]
  },
  {
   "cell_type": "code",
   "execution_count": null,
   "metadata": {},
   "outputs": [],
   "source": [
    "df_PCA = pd.concat([principalDf, y], axis=1)"
   ]
  },
  {
   "cell_type": "code",
   "execution_count": null,
   "metadata": {},
   "outputs": [],
   "source": [
    "fig = px.scatter(principalComponents, x=df_PCA['PCA_0'], y=df_PCA['PCA_1'], color=df_PCA['Crime Solved_Yes'],\n",
    "                width=600, height=300)\n",
    "fig.update_layout(title='PCA 1 vs. PCA 2',\n",
    "                  yaxis_zeroline=False, xaxis_zeroline=False)\n",
    "fig.update_xaxes(title_text='PCA 1')\n",
    "fig.update_yaxes(title_text='PCA 2')\n",
    "fig.show()"
   ]
  },
  {
   "cell_type": "markdown",
   "metadata": {},
   "source": [
    "Summarized what was completed in this step."
   ]
  },
  {
   "cell_type": "code",
   "execution_count": null,
   "metadata": {},
   "outputs": [],
   "source": [
    "# Linear Regresiion\n",
    "# check for a balanced dataset\n",
    "df_crime = df_full[['Crime Solved_Yes', 'Crime Solved_No']].groupby('Crime Solved_Yes').count().reset_index().rename(columns={'Crime Solved_No':'Count'})\n",
    "df_crime['Solved'] = ['No', 'Yes']\n",
    "df_crime = df_crime.drop('Crime Solved_Yes', axis=1)\n",
    "total = df_crime['Count'].sum()\n",
    "df_crime['Percentage'] = [x/total for x in df_crime['Count']]\n",
    "df_crime"
   ]
  },
  {
   "cell_type": "markdown",
   "metadata": {},
   "source": [
    "Summarized what was completed in this step."
   ]
  },
  {
   "cell_type": "markdown",
   "metadata": {},
   "source": [
    "# Archive\n",
    "\n",
    "Delete before turning in"
   ]
  },
  {
   "cell_type": "code",
   "execution_count": null,
   "metadata": {
    "scrolled": true
   },
   "outputs": [],
   "source": [
    "profile = ProfileReport(homicide_df, title=\"Pandas Profiling Report\")\n",
    "profile.to_file(\"pandas_report.html\")"
   ]
  },
  {
   "cell_type": "code",
   "execution_count": null,
   "metadata": {},
   "outputs": [],
   "source": [
    "#https://www.analyticsvidhya.com/blog/2020/08/exploratory-data-analysiseda-from-scratch-in-python/\n",
    "#https://analyticsindiamag.com/beginners-guide-to-pyjanitor-a-python-tool-for-data-cleaning/\n",
    "# for normalizing, scaling, and encoding categorical values"
   ]
  },
  {
   "cell_type": "code",
   "execution_count": null,
   "metadata": {},
   "outputs": [],
   "source": [
    "# sample EDA\n",
    "#https://github.com/Dongee-W/EDA-python-spark/blob/master/seaborn.ipynb\n",
    "#https://www.geeksforgeeks.org/exploratory-data-analysis-in-python/"
   ]
  }
 ],
 "metadata": {
  "kernelspec": {
   "display_name": "Python 3.8.5 64-bit ('MSDS7331': conda)",
   "language": "python",
   "name": "python_defaultSpec_1599489632349"
  },
  "language_info": {
   "codemirror_mode": {
    "name": "ipython",
    "version": 3
   },
   "file_extension": ".py",
   "mimetype": "text/x-python",
   "name": "python",
   "nbconvert_exporter": "python",
   "pygments_lexer": "ipython3",
   "version": "3.8.5-final"
  }
 },
 "nbformat": 4,
 "nbformat_minor": 4
}