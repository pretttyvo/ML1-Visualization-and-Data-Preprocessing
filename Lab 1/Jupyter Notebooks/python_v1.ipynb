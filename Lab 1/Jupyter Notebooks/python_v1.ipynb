{
 "cells": [
  {
   "attachments": {
    "image.png": {
     "image/png": "[encoded data removed]"
    }
   },
   "cell_type": "markdown",
   "metadata": {},
   "source": [
    "## Business Understanding\n",
    "\n",
    "Describe the purpose of the data set you selected (i.e., why was this data collected in\n",
    "the first place?). Describe how you would define and measure the outcomes from the\n",
    "dataset. That is, why is this data important and how do you know if you have mined\n",
    "useful knowledge from the dataset? How would you measure the effectiveness of a\n",
    "good prediction algorithm? Be specific.\n",
    "\n",
    "![image.png](attachment:image.png)\n",
    "\n",
    "\n",
    "### Content\n",
    "The Murder Accountability Project is the most complete database of homicides in the United States currently available. This dataset includes murders from the FBI's Supplementary Homicide Report from 1976 to the present and Freedom of Information Act data on more than 22,000 homicides that were not reported to the Justice Department. This dataset includes the age, race, sex, ethnicity of victims and perpetrators, in addition to the relationship between the victim and perpetrator and weapon used.\n",
    "\n",
    "1980 to 2014\n",
    "\n",
    "America does a poor job tracking and accounting for its unsolved homicides. Every year, at least 5,000 killers get away with murder. The rate at which police clear homicides through arrest has declines year over year. About a third of all murders go unsolved.\n",
    "\n",
    "No one knows all the names of the murder victims because no law enforcement agency in America is assigned to monitor failed homicide investigations by local police departments. Even the official national statistics on murder are actually estimates and projections based upon incomplete reports by police departments that voluntarily choose (or refuse) to participate in federal crime reporting programs.\n",
    "\n",
    "The Murder Accountability Project is a nonprofit group organized in 2015 and dedicated to educate Americans on the importance of accurately accounting for unsolved homicides within the United States. We seek to obtain information from federal, state and local governments about unsolved homicides and to publish this information. The Project’s Board of Directors is composed of retired law enforcement investigators, investigative journalists, criminologists and other experts on various aspects of homicide. \n",
    "\n",
    "\n",
    "Acknowledgements\n",
    "The data was compiled and made available by the Murder Accountability Project, founded by Thomas Hargrove.\n",
    "https://www.murderdata.org/"
   ]
  },
  {
   "cell_type": "code",
   "execution_count": null,
   "metadata": {
    "scrolled": true
   },
   "outputs": [],
   "source": [
    "import pandas as pd\n",
    "import numpy as np\n",
    "import sweetviz as sv\n",
    "import autoviz\n",
    "import xgboost\n",
    "import plotly.express as px\n",
    "import matplotlib.pyplot as plt\n",
    "%matplotlib inline \n",
    "import plotly.graph_objects as go\n",
    "sns.set(color_codes=True)\n",
    "import seaborn as sns\n",
    "sns.set_style('whitegrid')\n",
    "plt.figure(figsize=(22,10),facecolor='#ffffff')"
   ]
  },
  {
   "cell_type": "code",
   "execution_count": null,
   "metadata": {},
   "outputs": [],
   "source": [
    "from pandas_profiling import ProfileReport\n",
    "from mpl_toolkits.mplot3d import Axes3D\n",
    "from autoviz.AutoViz_Class import AutoViz_Class\n",
    "AV = AutoViz_Class()\n",
    "from funpymodeling.exploratory import corr_pair\n",
    "from autoplotter import run_app \n",
    "from ExploriPy import EDA"
   ]
  },
  {
   "cell_type": "code",
   "execution_count": null,
   "metadata": {},
   "outputs": [],
   "source": [
    "homicide_df = pd.read_csv('../Data/database.csv', low_memory=False)"
   ]
  },
  {
   "cell_type": "code",
   "execution_count": null,
   "metadata": {},
   "outputs": [],
   "source": [
    "# Return the first five observation from the data set\n",
    "homicide_df.head()"
   ]
  },
  {
   "cell_type": "code",
   "execution_count": null,
   "metadata": {
    "scrolled": true
   },
   "outputs": [],
   "source": [
    "profile = ProfileReport(homicide_df, title=\"Pandas Profiling Report\")\n",
    "profile"
   ]
  },
  {
   "cell_type": "markdown",
   "metadata": {},
   "source": []
  },
  {
   "cell_type": "code",
   "execution_count": null,
   "metadata": {
    "scrolled": true
   },
   "outputs": [],
   "source": [
    "# Return the last five observation from the data set\n",
    "homicide_df.tail()"
   ]
  },
  {
   "cell_type": "code",
   "execution_count": null,
   "metadata": {},
   "outputs": [],
   "source": [
    "# Column contents and data types\n",
    "homicide_df.info()"
   ]
  },
  {
   "cell_type": "code",
   "execution_count": null,
   "metadata": {
    "scrolled": true
   },
   "outputs": [],
   "source": [
    "# Total number of rows and columns\n",
    "homicide_df.shape"
   ]
  },
  {
   "cell_type": "code",
   "execution_count": null,
   "metadata": {
    "scrolled": true
   },
   "outputs": [],
   "source": [
    "# check for null values\n",
    "homicide_df.isnull().sum()"
   ]
  },
  {
   "cell_type": "code",
   "execution_count": null,
   "metadata": {},
   "outputs": [],
   "source": [
    "# homicide_df.<column>.unique()"
   ]
  },
  {
   "cell_type": "code",
   "execution_count": null,
   "metadata": {},
   "outputs": [],
   "source": [
    "# homicide_df.<column>.value_counts()"
   ]
  },
  {
   "cell_type": "code",
   "execution_count": null,
   "metadata": {
    "scrolled": true
   },
   "outputs": [],
   "source": [
    "homicide_df.columns"
   ]
  },
  {
   "cell_type": "code",
   "execution_count": null,
   "metadata": {
    "scrolled": true
   },
   "outputs": [],
   "source": [
    "# Checking the data type\n",
    "homicide_df.dtypes"
   ]
  },
  {
   "cell_type": "code",
   "execution_count": null,
   "metadata": {
    "scrolled": true
   },
   "outputs": [],
   "source": [
    "homicide_df.values"
   ]
  },
  {
   "cell_type": "code",
   "execution_count": null,
   "metadata": {},
   "outputs": [],
   "source": [
    "# Rows containing duplicate data\n",
    "duplicate_rows_df = homicide_df[homicide_df.duplicated()]\n",
    "print(\"number of duplicate rows: \", duplicate_rows_df.shape)\n",
    "\n",
    "# to drop duplicates\n",
    "# df = df.drop_duplicates()"
   ]
  },
  {
   "cell_type": "code",
   "execution_count": null,
   "metadata": {
    "scrolled": true
   },
   "outputs": [],
   "source": [
    "homicide_df.describe"
   ]
  },
  {
   "cell_type": "code",
   "execution_count": null,
   "metadata": {
    "scrolled": true
   },
   "outputs": [],
   "source": [
    "# count, mean, standard deviation, minimum and maximum values and the quantities of the data\n",
    "homicide_df.describe().T"
   ]
  },
  {
   "cell_type": "code",
   "execution_count": null,
   "metadata": {
    "scrolled": true
   },
   "outputs": [],
   "source": [
    "homicide_df[['City']].describe"
   ]
  },
  {
   "cell_type": "code",
   "execution_count": null,
   "metadata": {
    "scrolled": true
   },
   "outputs": [],
   "source": [
    "homicide_df[['State']].describe"
   ]
  },
  {
   "cell_type": "code",
   "execution_count": null,
   "metadata": {
    "scrolled": true
   },
   "outputs": [],
   "source": [
    "homicide_df[['Weapon']].describe"
   ]
  },
  {
   "cell_type": "code",
   "execution_count": null,
   "metadata": {
    "scrolled": true
   },
   "outputs": [],
   "source": [
    "# check for null/missing values\n",
    "sns.set()\n",
    "sns.heatmap(homicide_df.isnull(), cbar=False, yticklabels=False, cmap='viridis')"
   ]
  },
  {
   "cell_type": "code",
   "execution_count": null,
   "metadata": {},
   "outputs": [],
   "source": [
    "# check correlation\n",
    "plt.figure(figsize=(8,4))\n",
    "sns.heatmap(homicide_df.corr(),cmap='Greens',annot=False)"
   ]
  },
  {
   "cell_type": "code",
   "execution_count": null,
   "metadata": {},
   "outputs": [],
   "source": [
    "plt.figure(figsize = (18,8))\n",
    "homicide_df[\"State\"].value_counts().plot.bar();\n",
    "\n",
    "states_vis = sns.countplot(x='State', order=df['State'].value_counts().index, data=homicide_df);\n",
    "\n",
    "for item in states_vis.get_xticklabels():\n",
    "    item.set_rotation(90)"
   ]
  },
  {
   "cell_type": "code",
   "execution_count": null,
   "metadata": {},
   "outputs": [],
   "source": [
    "homicide_pv = homicide_df.pivot_table(index=[\"Year\"], columns=[\"Month\"],aggfunc=(lambda x : x.count()))[\"Incident\"]\n",
    "homicide_pv = homicide_pv.reindex(columns=[\"January\",\"February\",\"March\",\"April\",\"May\",\"June\",\"July\",\"August\",\"September\",\"October\",\"November\",\"December\"])\n",
    "\n",
    "homicide_pv.plot();"
   ]
  },
  {
   "cell_type": "code",
   "execution_count": null,
   "metadata": {},
   "outputs": [],
   "source": [
    "sns.heatmap(homicide_pv);"
   ]
  },
  {
   "cell_type": "code",
   "execution_count": null,
   "metadata": {},
   "outputs": [],
   "source": [
    "homicide_year = homicide_df.groupby(\"Year\")[\"Incident\"].sum()\n",
    "homicide_year = pd.DataFrame(homicide_year)\n",
    "\n",
    "plt.title(\"Number of Homicide by Years\");\n",
    "sns.lineplot(x=homicide_year.index, y= \"Incident\", data=homicide_year);"
   ]
  },
  {
   "cell_type": "code",
   "execution_count": null,
   "metadata": {},
   "outputs": [],
   "source": [
    "# Detect outliers\n",
    "sns.boxplot(x=homicide_df['Incident'])"
   ]
  },
  {
   "cell_type": "code",
   "execution_count": null,
   "metadata": {},
   "outputs": [],
   "source": [
    "# Detect outliers\n",
    "homicide_df.boxplot(column=['Incident'])\n",
    "plt.show()"
   ]
  },
  {
   "cell_type": "code",
   "execution_count": null,
   "metadata": {},
   "outputs": [],
   "source": [
    "Q1 = homicide_df.quantile(0.25)\n",
    "Q3 = homicide_df.quantile(0.75)\n",
    "IQR = Q3 - Q1\n",
    "print(IQR)"
   ]
  },
  {
   "cell_type": "code",
   "execution_count": null,
   "metadata": {},
   "outputs": [],
   "source": [
    "df = homicide_df[~((homicide_df < (Q1-1.5 * IQR)) |(homicide_df > (Q3 + 1.5 * IQR))).any(axis=1)]\n",
    "homicide_df.shape"
   ]
  },
  {
   "cell_type": "code",
   "execution_count": null,
   "metadata": {},
   "outputs": [],
   "source": [
    "# Plotting a Histogram\n",
    "homicide_df.Month.value_counts().nlargest(40).plot(kind='bar', figsize=(10,5))\n",
    "plt.title(\"Incidents\")\n",
    "plt.ylabel('Incident')\n",
    "plt.xlabel('Month');"
   ]
  },
  {
   "cell_type": "code",
   "execution_count": null,
   "metadata": {},
   "outputs": [],
   "source": [
    "# Plotting a scatter plot\n",
    "fig, ax = plt.subplots(figsize=(10,6))\n",
    "ax.scatter(homicide_df['Month'], homicide_df['Incident'])\n",
    "ax.set_xlabel('Month')\n",
    "ax.set_ylabel('Incident')\n",
    "plt.show()"
   ]
  },
  {
   "cell_type": "code",
   "execution_count": null,
   "metadata": {},
   "outputs": [],
   "source": [
    "ax = sns.boxplot(x=\"Victim Sex\", y=\"Victim Age\", data=homicide_df,hue=\"Weapon\",color='#666666', palette=\"tab20\")\n",
    "\n",
    "# Add transparency to colors\n",
    "for patch in ax.artists:\n",
    "    r, g, b, a = patch.get_facecolor()\n",
    "    patch.set_facecolor((r, g, b, .9))\n",
    "    \n",
    "ax = sns.stripplot(x='Victim Sex', y='Victim Age', data=homicide_df, color=\"orange\", jitter=0.5, size=5,alpha=0.02)\n",
    "\n",
    "plt.title(\"Victims Age , Weapon \\n\", loc=\"center\",size=24,color='#ff0000',alpha=0.6,weight='bold')\n",
    "plt.xlabel('',color='#34495E',fontsize=20) \n",
    "plt.ylabel('Victims Age',color='#34495E',fontsize=20)\n",
    "plt.xticks(size=18,color='#008abc',rotation='horizontal', wrap=True)\n",
    "plt.yticks(size=15,color='#006600')\n",
    "plt.ylim(0,100)\n",
    "plt.legend(loc=\"upper right\",fontsize=13,ncol=4,title='Crime Weapon',title_fontsize=18,facecolor='#ffffcc',framealpha=0.99)\n",
    "plt.show()"
   ]
  },
  {
   "cell_type": "code",
   "execution_count": null,
   "metadata": {},
   "outputs": [],
   "source": [
    "ax = sns.boxplot(x=\"Crime Solved\", y=\"Victim Age\", data=homicide_df,hue=\"Weapon\",color='#666666', palette=\"tab20\")\n",
    "\n",
    "# Add transparency to colors\n",
    "for patch in ax.artists:\n",
    "    r, g, b, a = patch.get_facecolor()\n",
    "    patch.set_facecolor((r, g, b, .9))\n",
    "    \n",
    "ax = sns.stripplot(x='Crime Solved', y='Victim Age', data=homicide_df, color=\"orange\", jitter=0.5, size=5,alpha=0.02)\n",
    "\n",
    "plt.title(\"Victim Age , Weapon and if Crime Solved \\n\", loc=\"center\",size=24,color='#ff0000',alpha=0.6,weight='bold')\n",
    "plt.xlabel('',color='#34495E',fontsize=20) \n",
    "plt.ylabel('Victims Age',color='#34495E',fontsize=20)\n",
    "plt.xticks(size=18,color='#008abc',rotation='horizontal', wrap=True)\n",
    "plt.yticks(size=15,color='#006600')\n",
    "plt.ylim(0,100)\n",
    "plt.legend(loc=\"upper right\",fontsize=13,ncol=4,title='Crime Weapon',title_fontsize=18,facecolor='#ffffcc',framealpha=0.99)\n",
    "plt.show()"
   ]
  },
  {
   "cell_type": "code",
   "execution_count": null,
   "metadata": {},
   "outputs": [],
   "source": [
    "ax = sns.boxplot(x=\"Relationship\", y=\"Victim Age\", data=homicide_df,color='#666666', palette=\"tab20\")\n",
    "\n",
    "# Add transparency to colors\n",
    "for patch in ax.artists:\n",
    "    r, g, b, a = patch.get_facecolor()\n",
    "    patch.set_facecolor((r, g, b, .9))\n",
    "    \n",
    "ax = sns.stripplot(x='Relationship', y='Victim Age', data=homicide_df, hue='Victim Sex', cmap='Dark2', jitter=0.5, size=5,alpha=0.02)\n",
    "\n",
    "plt.title(\"Victim Age and Relationship \\n\", loc=\"center\",size=24,color='#ff0000',alpha=0.6,weight='bold')\n",
    "plt.xlabel('',color='#34495E',fontsize=20) \n",
    "plt.ylabel('Victims Age',color='#34495E',fontsize=20)\n",
    "plt.xticks(size=18,color='#ff3333',rotation='vertical',wrap=True,weight='bold')\n",
    "plt.yticks(size=15,color='#006600')\n",
    "plt.ylim(0,100)\n",
    "plt.legend(loc=\"upper right\",fontsize=16,ncol=4,title='Victim Sex',title_fontsize=20,facecolor='#ffffcc',framealpha=0.99)\n",
    "plt.show()"
   ]
  },
  {
   "cell_type": "code",
   "execution_count": null,
   "metadata": {},
   "outputs": [],
   "source": [
    "ax = sns.boxplot(x=\"Year\", y=\"Victim Age\", data=homicide_df,color='#666666', palette=\"Purples\")\n",
    "\n",
    "# Add transparency to colors\n",
    "for patch in ax.artists:\n",
    "    r, g, b, a = patch.get_facecolor()\n",
    "    patch.set_facecolor((r, g, b, .9))\n",
    "    \n",
    "ax = sns.stripplot(x='Year', y='Victim Age', data=homicide_df, color=\"orange\", jitter=0.5, size=5,alpha=0.02)\n",
    "\n",
    "plt.title(\"Victim Age and Trend \\n\", loc=\"center\",size=24,color='#ff0000',alpha=0.6,weight='bold')\n",
    "plt.xlabel('',color='#34495E',fontsize=20) \n",
    "plt.ylabel('Victims Age',color='#34495E',fontsize=20)\n",
    "plt.xticks(size=16,color='#008abc',rotation='vertical',wrap=True)\n",
    "plt.yticks(size=15,color='#006600')\n",
    "plt.ylim(0,100)\n",
    "plt.legend(loc=\"upper right\",fontsize=13,ncol=4,title='Year',title_fontsize=18,facecolor='#ffffcc',framealpha=0.99)\n",
    "plt.show()"
   ]
  },
  {
   "cell_type": "code",
   "execution_count": null,
   "metadata": {},
   "outputs": [],
   "source": [
    "homicide_df = (homicide_df.drop(['Record ID', 'Agency Code','Victim Ethnicity','Perpetrator Ethnicity',\n",
    "                                 'Record Source'],axis=1))\n",
    "\n",
    "#print(homicide_df.head())\n",
    "Victim_Sex = homicide_df['Victim Sex'].values\n",
    "Victim_Age = homicide_df['Victim Age'].values\n",
    "#Victim_Age = Victim_Age.astype('int16')\n",
    "Perpetrator_Sex = homicide_df['Perpetrator Sex'].values\n",
    "Perpetrator_Age = homicide_df['Perpetrator Age'].values\n",
    "#Perpetrator_Age = Perpetrator_Age.astype('int16')\n",
    "Relationship = homicide_df['Relationship'].values\n",
    "Weapon = homicide_df['Weapon'].values\n",
    "Solved = homicide_df['Crime Solved'].values\n",
    "V_Race = homicide_df['Victim Race'].values\n",
    "P_Race = homicide_df['Perpetrator Race'].values\n",
    "Crime_Type = homicide_df['Crime Type'].values\n",
    "Agency_Name = homicide_df['Agency Name'].values\n",
    "Agency_Type = homicide_df['Agency Type'].values\n",
    "P_Count =  homicide_df['Perpetrator Count'].values\n",
    "City =  homicide_df['City'].values\n",
    "State =  homicide_df['State'].values\n",
    "Year =  homicide_df['Year'].values\n",
    "Month =  homicide_df['Month'].values\n",
    "Rel_Category = homicide_df['Relationship'].values\n",
    "W_Category = homicide_df['Weapon'].values\n",
    "\n",
    "homicide = pd.DataFrame(np.column_stack((Victim_Sex,Victim_Age,Perpetrator_Sex,Perpetrator_Age,\n",
    "                    Relationship,Weapon,Solved,V_Race,P_Race,Crime_Type,Agency_Name,Agency_Type,\n",
    "                    Rel_Category,P_Count,City,State,Year,Month,W_Category)))\n",
    "homicide.columns = ['Victim_Sex','Victim_Age','Perpetrator_Sex','Perpetrator_Age','Relationship',\n",
    "                    'Weapon','Solved','V_Race','P_Race','Crime_Type','Agency_Name','Agency_Type',\n",
    "                    'Rel_Category','P_Count','City','State','Year','Month','W_Category']\n",
    "\n",
    "homicide.loc[(homicide['Relationship'] == 'Wife') | (homicide['Relationship'] == 'Ex-Wife') |\n",
    "             (homicide['Relationship'] == 'Girlfriend') |\n",
    "             (homicide['Relationship'] == 'Common-Law Wife'), 'Rel_Category'] = 'Partner-F'\n",
    "\n",
    "homicide.loc[(homicide['Relationship'] == 'Husband') | (homicide['Relationship'] == 'Ex-Husband') |\n",
    "             (homicide['Relationship'] == 'Boyfriend') | \n",
    "             (homicide['Relationship'] == 'Common-Law Husband'), 'Rel_Category'] = 'Partner-M'\n",
    "\n",
    "homicide.loc[(homicide['Relationship'] == 'Father') | (homicide['Relationship'] == 'In-Law') |\n",
    "             (homicide['Relationship'] == 'Mother') | (homicide['Relationship'] == 'Stepfather') |\n",
    "             (homicide['Relationship'] == 'Stepmother'), 'Rel_Category'] = 'Parent'\n",
    "\n",
    "homicide.loc[(homicide['Relationship'] == 'Daughter') | (homicide['Relationship'] == 'Son') |\n",
    "             (homicide['Relationship'] == 'Stepdaughter') | \n",
    "             (homicide['Relationship'] == 'Stepson'), 'Rel_Category'] = 'Children'\n",
    "\n",
    "homicide.loc[(homicide['Relationship'] == 'Brother') | (homicide['Relationship'] == 'Sister'),\n",
    "             'Rel_Category'] = 'Sibling'\n",
    "\n",
    "homicide.loc[(homicide['Relationship'] == 'Employee') | (homicide['Relationship'] == 'Employer') ,\n",
    "             'Rel_Category'] = 'Work'\n",
    "\n",
    "homicide.loc[(homicide['Relationship'] == 'Boyfriend/Girlfriend') & (homicide['Victim_Sex'] == 'Female'),\n",
    "             'Rel_Category'] = 'Partner-F'\n",
    "\n",
    "homicide.loc[(homicide['Relationship'] == 'Boyfriend/Girlfriend') & ((homicide['Victim_Sex'] == 'Male') |\n",
    "            (homicide['Victim_Sex'] == 'Unknown')) , 'Rel_Category'] = 'Partner-M'\n",
    "\n",
    "FV_MP = homicide[(homicide.Victim_Sex == 'Female') & (homicide.Perpetrator_Sex == 'Male')]\n",
    "FV_FP = homicide[(homicide.Victim_Sex == 'Female') & (homicide.Perpetrator_Sex == 'Female')]\n",
    "MV_MP = homicide[(homicide.Victim_Sex == 'Male') & (homicide.Perpetrator_Sex == 'Male')]\n",
    "MV_FP = homicide[(homicide.Victim_Sex == 'Male') & (homicide.Perpetrator_Sex == 'Female')]\n",
    "FV_UP = homicide[(homicide.Victim_Sex == 'Female') & (homicide.Perpetrator_Sex == 'Unknown')]\n",
    "MV_UP = homicide[(homicide.Victim_Sex == 'Male') & (homicide.Perpetrator_Sex == 'Unknown')]\n",
    "UV_UP = homicide[(homicide.Victim_Sex == 'Unknown') & (homicide.Perpetrator_Sex == 'Unknown')]\n",
    "\n",
    "homicide.head(2)"
   ]
  },
  {
   "cell_type": "code",
   "execution_count": null,
   "metadata": {},
   "outputs": [],
   "source": [
    "pd.crosstab(homicide.Victim_Sex,homicide.Perpetrator_Sex)"
   ]
  },
  {
   "cell_type": "code",
   "execution_count": null,
   "metadata": {},
   "outputs": [],
   "source": [
    "plt.figure(figsize=(10,20),facecolor='#eeeeee')\n",
    "plt.subplots_adjust(bottom=0, left=.05, right=1.5, top=0.9, hspace=.6,wspace=.5)\n",
    "\n",
    "plt.subplot(12, 12, (1,5))\n",
    "plt.xlim([0,100])\n",
    "sns.distplot(FV_MP.Perpetrator_Age,color='blue',hist=False,kde=True)\n",
    "plt.xlabel('')\n",
    "plt.xticks([])\n",
    "plt.yticks([])\n",
    "\n",
    "plt.subplot(12, 12, (13,41))\n",
    "plt.title('Female Victim, Male Perpetrator',fontsize=18,fontweight='bold',color='mediumorchid')\n",
    "plt.ylim([0,100])\n",
    "plt.xlim([0,100])\n",
    "plt.scatter(FV_MP.Perpetrator_Age,FV_MP.Victim_Age, s=20, c='mediumorchid', alpha=0.08)\n",
    "plt.ylabel('Victim Age')\n",
    "plt.xlabel('Perpetrator Age')\n",
    "\n",
    "plt.subplot(12, 12, (18,42))\n",
    "plt.ylim([0,100])\n",
    "sns.distplot(FV_MP.Victim_Age,color='hotpink',vertical=True,hist=False,kde=True)\n",
    "plt.ylabel('')\n",
    "plt.xticks([])\n",
    "plt.yticks([])\n",
    "\n",
    "plt.subplot(12, 12, (7,11))\n",
    "plt.xlim([0,100])\n",
    "sns.distplot(MV_FP.Perpetrator_Age,color='hotpink',hist=False,kde=True)\n",
    "plt.xlabel('')\n",
    "plt.xticks([])\n",
    "plt.yticks([])\n",
    "\n",
    "plt.subplot(12, 12, (19,47))\n",
    "plt.title('Male Victim, Female Perpetrator',fontsize=18,fontweight='bold',color='mediumpurple')\n",
    "plt.ylim([0,100])\n",
    "plt.xlim([0,100])\n",
    "plt.scatter(MV_FP.Perpetrator_Age,MV_FP.Victim_Age, s=20, c='mediumpurple', alpha=0.08)\n",
    "plt.xlabel('Perpetrator Age')\n",
    "\n",
    "\n",
    "plt.subplot(12, 12, (24,48))\n",
    "plt.ylim([0,100])\n",
    "sns.distplot(MV_FP.Victim_Age,color='blue',vertical=True,hist=False,kde=True)\n",
    "plt.ylabel('')\n",
    "plt.xticks([])\n",
    "plt.yticks([])\n",
    "\n",
    "plt.subplot(12, 12, (49,53))\n",
    "plt.xlim([0,100])\n",
    "sns.distplot(FV_FP.Perpetrator_Age,color='hotpink',hist=False,kde=True)\n",
    "plt.xlabel('')\n",
    "plt.xticks([])\n",
    "plt.yticks([])\n",
    "\n",
    "plt.subplot(12, 12, (61,89))\n",
    "plt.title('Female Victim, Female Perpetrator',fontsize=18,fontweight='bold',color='hotpink')\n",
    "plt.ylim([0,100])\n",
    "plt.xlim([0,100])\n",
    "plt.scatter(FV_FP.Perpetrator_Age,FV_FP.Victim_Age, s=20, c='hotpink', alpha=0.08)\n",
    "plt.ylabel('Victim Age')\n",
    "plt.xlabel('Perpetrator Age')\n",
    "\n",
    "plt.subplot(12, 12, (66,90))\n",
    "plt.ylim([0,100])\n",
    "sns.distplot(FV_FP.Victim_Age,color='hotpink',vertical=True,hist=False,kde=True)\n",
    "plt.ylabel('')\n",
    "plt.xticks([])\n",
    "plt.yticks([])\n",
    "\n",
    "\n",
    "plt.subplot(12, 12, (55,59))\n",
    "plt.xlim([0,100])\n",
    "sns.distplot(MV_MP.Perpetrator_Age,color='blue',hist=False,kde=True)\n",
    "plt.xlabel('')\n",
    "plt.xticks([])\n",
    "plt.yticks([])\n",
    "\n",
    "plt.subplot(12, 12, (67,95))\n",
    "plt.title('Male Victim, Male Perpetrator',fontsize=18,fontweight='bold',color='blue')\n",
    "plt.ylim([0,100])\n",
    "plt.xlim([0,100])\n",
    "plt.scatter(MV_MP.Perpetrator_Age,MV_MP.Victim_Age, s=20, c='blue', alpha=0.08)\n",
    "plt.xlabel('Perpetrator Age')\n",
    "\n",
    "plt.subplot(12, 12, (72,96))\n",
    "plt.ylim([0,100])\n",
    "sns.distplot(MV_MP.Victim_Age,color='blue',vertical=True,hist=False,kde=True)\n",
    "plt.ylabel('')\n",
    "plt.xticks([])\n",
    "plt.yticks([])\n",
    "\n",
    "plt.subplot(12, 12, (97,101))\n",
    "plt.xlim([0,100])\n",
    "plt.xlabel('')\n",
    "plt.xticks([])\n",
    "plt.yticks([])\n",
    "\n",
    "MV_UP_j = np.random.random(len(MV_UP)) * 12\n",
    "FV_UP_j = np.random.random(len(FV_UP)) * 12\n",
    "UV_UP_j = np.random.random(len(UV_UP)) * 12\n",
    "\n",
    "plt.subplot(12, 12, (109,137))\n",
    "plt.title('Unknown Perpetrator',fontsize=18,fontweight='bold',color='dimgrey')\n",
    "plt.ylim([0,100])\n",
    "plt.xlim([0,100])\n",
    "plt.scatter((MV_UP.Victim_Age*0+20+MV_UP_j),MV_UP.Victim_Age, s=20, c='blue', alpha=0.08)\n",
    "plt.scatter((FV_UP.Victim_Age*0+50+FV_UP_j),FV_UP.Victim_Age, s=20, c='hotpink', alpha=0.08)\n",
    "plt.scatter((UV_UP.Victim_Age*0+80+UV_UP_j),UV_UP.Victim_Age, s=20, c='darkgrey', alpha=0.08)\n",
    "plt.ylabel('Victim Age')\n",
    "plt.xlabel('Perpetrator Age Unknown')\n",
    "plt.xticks([])\n",
    "\n",
    "plt.subplot(12, 12, (114,138))\n",
    "plt.ylim([0,100])\n",
    "sns.distplot(FV_UP.Victim_Age,color='hotpink',vertical=True,hist=False,kde=True)\n",
    "sns.distplot(MV_UP.Victim_Age,color='blue',vertical=True,hist=False,kde=True)\n",
    "sns.distplot(UV_UP.Victim_Age,color='darkgrey',vertical=True,hist=False,kde=True)\n",
    "plt.ylabel('')\n",
    "plt.xticks([])\n",
    "plt.yticks([])\n",
    "\n",
    "plt.show()"
   ]
  },
  {
   "cell_type": "code",
   "execution_count": null,
   "metadata": {},
   "outputs": [],
   "source": [
    "f, axes = plt.subplots(2, 2, figsize=(10, 8), sharex=True, sharey=True)\n",
    "\n",
    "s = np.linspace(0, 3, 10)\n",
    "\n",
    "cmap = sns.cubehelix_palette(start=0, light=1, as_cmap=True)\n",
    "sns.kdeplot(FV_MP.Perpetrator_Age, FV_MP.Victim_Age, cmap=cmap, shade=True, ax=axes[0,0])\n",
    "axes[0,0].set(xlim=(0, 100), ylim=(0, 100),  title = 'Female Victim, Male Perpetrator')\n",
    "\n",
    "cmap = sns.cubehelix_palette(start=.5, light=1, as_cmap=True)\n",
    "sns.kdeplot(FV_FP.Perpetrator_Age, FV_FP.Victim_Age, cmap=cmap, shade=True, ax=axes[0,1])\n",
    "axes[0,1].set(xlim=(0, 100), ylim=(0, 100),  title = 'Female Victim, Female Perpetrator')\n",
    "\n",
    "cmap = sns.cubehelix_palette(start=1, light=1, as_cmap=True)\n",
    "sns.kdeplot(MV_FP.Perpetrator_Age, MV_FP.Victim_Age, cmap=cmap, shade=True, ax=axes[1,0])\n",
    "axes[1,0].set(xlim=(0, 100), ylim=(0, 100),  title = 'Male Victim, Female Perpetrator')\n",
    "\n",
    "cmap = sns.cubehelix_palette(start=1.5, light=1, as_cmap=True)\n",
    "sns.kdeplot(MV_MP.Perpetrator_Age, MV_MP.Victim_Age, cmap=cmap, shade=True, ax=axes[1,1])\n",
    "axes[1,1].set(xlim=(0, 100), ylim=(0, 100),  title = 'Male Victim, Male Perpetrator')\n",
    "\n",
    "f.tight_layout()"
   ]
  },
  {
   "cell_type": "code",
   "execution_count": null,
   "metadata": {},
   "outputs": [],
   "source": [
    "pd.crosstab(homicide.Rel_Category,homicide.Weapon)"
   ]
  },
  {
   "cell_type": "code",
   "execution_count": null,
   "metadata": {},
   "outputs": [],
   "source": [
    "plt.subplots_adjust(bottom=0, left=.05, right=1.5, top=0.9, hspace=.35,wspace=.35)\n",
    "homicide = homicide[(homicide.Victim_Age != ' ') & (homicide.Perpetrator_Age != ' ')]\n",
    "R = ['Partner-F', 'Partner-M', 'Parent', 'Children', 'Sibling','Family','Friend','Work','Neighbor','Acquaintance','Stranger','Unknown']\n",
    "W = ['Handgun', 'Firearm', 'Shotgun', 'Rifle', 'Gun','Knife','Blunt Object','Unknown','Strangulation','Suffocation','Fire','Explosives','Drugs','Poison','Drowning','Fall']\n",
    "homicide.loc[(homicide['Weapon'] == 'Handgun') | (homicide['Weapon'] == 'Firearm') |\n",
    "             (homicide['Weapon'] == 'Shotgun') | (homicide['Weapon'] == 'Rifle')   |\n",
    "             (homicide['Weapon'] == 'Gun'), 'W_Category'] = 'yellow'\n",
    "homicide.loc[(homicide['Weapon'] == 'Strangulation') | (homicide['Weapon'] == 'Suffocation') , 'W_Category'] = 'steelblue'\n",
    "homicide.loc[(homicide['Weapon'] == 'Drowning') | (homicide['Weapon'] == 'Fall') , 'W_Category'] = 'olive'\n",
    "homicide.loc[(homicide['Weapon'] == 'Fire') | (homicide['Weapon'] == 'Explosives') , 'W_Category'] = 'palegreen'\n",
    "homicide.loc[(homicide['Weapon'] == 'Drugs') | (homicide['Weapon'] == 'Poison') , 'W_Category'] = 'mediumblue'\n",
    "homicide.loc[(homicide['Weapon'] == 'Knife') , 'W_Category'] = 'red'\n",
    "homicide.loc[(homicide['Weapon'] == 'Blunt Object') , 'W_Category'] = 'purple'\n",
    "homicide.loc[(homicide['Weapon'] == 'Unknown') , 'W_Category'] = 'silver'\n",
    "\n",
    "for i in range(12):\n",
    "    plt.subplot(3, 4, i+1)\n",
    "    plt.title(R[i],fontsize=14,fontweight='bold',color='brown')\n",
    "    plt.ylim([0,100])\n",
    "    plt.xlim([0,100])\n",
    "    #plt.scatter(homicide[homicide.Rel_Category == R[i]].Perpetrator_Age,homicide[homicide.Rel_Category == R[i]].Victim_Age, marker='o',s=10, c=homicide.W_Category, alpha=0.08)\n",
    "    plt.scatter(homicide[homicide.Rel_Category == R[i]].Perpetrator_Age,homicide[homicide.Rel_Category == R[i]].Victim_Age, marker='o',s=10, color='orange', alpha=0.08)\n",
    "    plt.ylabel('Victim Age')\n",
    "    plt.xlabel('Perpetrator Age')\n",
    "    \n",
    "plt.show()"
   ]
  },
  {
   "cell_type": "code",
   "execution_count": null,
   "metadata": {},
   "outputs": [],
   "source": [
    "plt.figure(figsize=(12,8),facecolor='#efefef')\n",
    "sns.set()\n",
    "cmap = sns.cubehelix_palette(start=0, light=1, as_cmap=True)\n",
    "sns.heatmap(pd.crosstab(homicide.Rel_Category,homicide.Weapon), annot=True, fmt=\"d\", linewidths=.5,cmap='Reds')\n",
    "plt.title('Relationship and Weapon\\n',fontsize=26,color='brown')"
   ]
  },
  {
   "cell_type": "code",
   "execution_count": null,
   "metadata": {},
   "outputs": [],
   "source": [
    "plt.figure(figsize=(12,5),facecolor='#efefef')\n",
    "sns.set()\n",
    "cmap = sns.cubehelix_palette(start=0, light=1, as_cmap=True)\n",
    "sns.heatmap(pd.crosstab(homicide.P_Race,homicide.Weapon), annot=True, fmt=\"d\", linewidths=.5,cmap='Reds')\n",
    "plt.title('Perpetrator Race and Weapon\\n',fontsize=26,color='brown')"
   ]
  },
  {
   "cell_type": "code",
   "execution_count": null,
   "metadata": {},
   "outputs": [],
   "source": [
    "plt.figure(figsize=(12,18),facecolor='#efefef')\n",
    "sns.set()\n",
    "cmap = sns.cubehelix_palette(start=0, light=1, as_cmap=True)\n",
    "sns.heatmap(pd.crosstab(homicide.Year,homicide.Weapon), annot=True, fmt=\"d\", linewidths=.5,cmap='Reds')\n",
    "plt.title('Crime Year and Weapon\\n',fontsize=26,color='brown')"
   ]
  },
  {
   "cell_type": "code",
   "execution_count": null,
   "metadata": {},
   "outputs": [],
   "source": [
    "plt.figure(figsize=(12,20),facecolor='#efefef')\n",
    "sns.set()\n",
    "cmap = sns.cubehelix_palette(start=0, light=1, as_cmap=True)\n",
    "sns.heatmap(pd.crosstab(homicide.State,homicide.Weapon), annot=True, fmt=\"d\", linewidths=.5,cmap='Reds')\n",
    "plt.title('Crime State and Weapon\\n',fontsize=26,color='brown')"
   ]
  },
  {
   "cell_type": "code",
   "execution_count": null,
   "metadata": {},
   "outputs": [],
   "source": [
    "plt.figure(figsize=(24,18),facecolor='#efefef')\n",
    "sns.set()\n",
    "cmap = sns.cubehelix_palette(start=0, light=1, as_cmap=True)\n",
    "sns.heatmap(pd.crosstab(homicide.Year,homicide.Month), annot=True, fmt=\"d\", linewidths=.5,cmap='Reds')\n",
    "plt.title('Crime Year and Month\\n',fontsize=26,color='brown')"
   ]
  },
  {
   "cell_type": "code",
   "execution_count": null,
   "metadata": {},
   "outputs": [],
   "source": [
    "plt.figure(figsize=(12,12),facecolor='#eeeeee')\n",
    "plt.subplots_adjust(bottom=0, left=.05, right=1.5, top=0.9, hspace=.35,wspace=.35)\n",
    "homicide = homicide[(homicide.Victim_Age != ' ') & (homicide.Perpetrator_Age != ' ')]\n",
    "W = ['Handgun', 'Firearm', 'Shotgun', 'Rifle', 'Gun','Knife','Blunt Object','Unknown','Strangulation','Suffocation','Fire','Explosives','Drugs','Poison','Drowning','Fall']\n",
    "for i in range(16):\n",
    "    plt.subplot(4, 4, i+1)\n",
    "    plt.title(W[i],fontsize=14,fontweight='bold',color='brown')\n",
    "    plt.ylim([0,100])\n",
    "    plt.xlim([0,100])\n",
    "    plt.scatter(homicide[homicide.Weapon == W[i]].Perpetrator_Age,homicide[homicide.Weapon == W[i]].Victim_Age, marker='o',s=10, c='red', alpha=0.08)\n",
    "    plt.ylabel('Victim Age')\n",
    "    plt.xlabel('Perpetrator Age')\n",
    "\n",
    "plt.show()"
   ]
  },
  {
   "cell_type": "code",
   "execution_count": null,
   "metadata": {},
   "outputs": [],
   "source": [
    "sns.set_style('whitegrid')\n",
    "plt.figure(figsize=(12,10),facecolor='#eeeeee')\n",
    "plt.subplots_adjust(bottom=0, left=.05, right=1.5, top=0.9, hspace=.35,wspace=.35)\n",
    "homicide = homicide[(homicide.Victim_Age != ' ') & (homicide.Perpetrator_Age != ' ')]\n",
    "R = ['Partner-F', 'Partner-M', 'Parent', 'Children', 'Sibling','Family','Friend','Work','Neighbor','Acquaintance','Stranger','Unknown']\n",
    "for i in range(12):\n",
    "    plt.subplot(3, 4, i+1)\n",
    "    plt.title(R[i],fontsize=14,fontweight='bold',color='brown')\n",
    "    plt.ylim([0,100])\n",
    "    plt.xlim([0,100])\n",
    "    plt.scatter(homicide[homicide.Rel_Category == R[i]].Perpetrator_Age,homicide[homicide.Rel_Category == R[i]].Victim_Age, marker='o',s=10, c='red', alpha=0.08)\n",
    "    plt.ylabel('Victim Age')\n",
    "    plt.xlabel('Perpetrator Age')\n",
    "\n",
    "plt.show()"
   ]
  },
  {
   "cell_type": "code",
   "execution_count": null,
   "metadata": {},
   "outputs": [],
   "source": [
    "plt.figure(figsize=(6,12),facecolor='#efefef')\n",
    "sns.set()\n",
    "cmap = sns.cubehelix_palette(start=0, light=1, as_cmap=True)\n",
    "sns.heatmap(pd.crosstab([database_df['Year']],database_df['Crime Solved']), annot=True, fmt=\"d\", linewidths=.5,cmap='Reds')\n",
    "plt.title('If Crime Solved - Trend\\n',fontsize=26,color='brown')"
   ]
  },
  {
   "cell_type": "code",
   "execution_count": null,
   "metadata": {},
   "outputs": [],
   "source": [
    "pivot = homicide_df.groupby(['Weapon','State','Year','Crime Solved'])['Incident'].agg(['sum'])\n",
    "pivot"
   ]
  },
  {
   "cell_type": "code",
   "execution_count": null,
   "metadata": {},
   "outputs": [],
   "source": [
    "fig = px.scatter(homicide_df, x=\"State\",y='Weapon', color=\"Crime Solved\",\n",
    "                 hover_name=\"Weapon\",template=\"plotly_dark\",\n",
    "                 animation_frame='Year',animation_group='State')\n",
    "fig.show()"
   ]
  },
  {
   "cell_type": "code",
   "execution_count": null,
   "metadata": {},
   "outputs": [],
   "source": [
    "pd.pivot_table(homicide,columns = ['Solved'],index = ['P_Race'],aggfunc='count',fill_value='')"
   ]
  },
  {
   "cell_type": "code",
   "execution_count": null,
   "metadata": {},
   "outputs": [],
   "source": [
    "k = 12\n",
    "cols = homicide_df.corr().nlargest(k, 'Incident')['Incident'].index\n",
    "cm = homicide_df[cols].corr()\n",
    "plt.figure(figsize=(8,6))\n",
    "sns.heatmap(cm, annot=True, cmap = 'viridis')"
   ]
  },
  {
   "cell_type": "code",
   "execution_count": null,
   "metadata": {},
   "outputs": [],
   "source": [
    "sweet_report = sv.analyze(homicide_df)\n",
    "sweet_report.show_html('sweet_report.html')"
   ]
  },
  {
   "cell_type": "code",
   "execution_count": null,
   "metadata": {},
   "outputs": [],
   "source": [
    "df1 = sv.compare(homicide_df[102:], homicide_df[:102])\n",
    "df1.show_html('Compare.html')"
   ]
  },
  {
   "cell_type": "code",
   "execution_count": null,
   "metadata": {},
   "outputs": [],
   "source": [
    "df = AV.AutoViz('../Data/database.csv')\n",
    "df"
   ]
  },
  {
   "cell_type": "code",
   "execution_count": null,
   "metadata": {},
   "outputs": [],
   "source": [
    "#https://www.analyticsvidhya.com/blog/2020/08/exploratory-data-analysiseda-from-scratch-in-python/\n",
    "#https://analyticsindiamag.com/beginners-guide-to-pyjanitor-a-python-tool-for-data-cleaning/\n",
    "# for normalizing, scaling, and encoding categorical values"
   ]
  },
  {
   "cell_type": "code",
   "execution_count": null,
   "metadata": {},
   "outputs": [],
   "source": [
    "#Pairwaise correlation analysis\n",
    "res=corr_pair(homicide_df)\n",
    "res"
   ]
  },
  {
   "cell_type": "code",
   "execution_count": null,
   "metadata": {},
   "outputs": [],
   "source": [
    "run_app(homicide_df)"
   ]
  },
  {
   "cell_type": "code",
   "execution_count": null,
   "metadata": {},
   "outputs": [],
   "source": [
    "CategoricalFeatures = ['City','State']\n",
    "eda = EDA(homicide_df,CategoricalFeatures,OtherFeatures=['Year'],title='Exploratory Data Analysis')\n"
   ]
  },
  {
   "cell_type": "code",
   "execution_count": null,
   "metadata": {},
   "outputs": [],
   "source": [
    "eda.TargetAnalysis('Incident') # For Target Specific Analysis"
   ]
  },
  {
   "cell_type": "code",
   "execution_count": null,
   "metadata": {},
   "outputs": [],
   "source": [
    "# sample EDA\n",
    "#https://github.com/Dongee-W/EDA-python-spark/blob/master/seaborn.ipynb"
   ]
  },
  {
   "cell_type": "code",
   "execution_count": null,
   "metadata": {},
   "outputs": [],
   "source": []
  }
 ],
 "metadata": {
  "kernelspec": {
   "display_name": "Python 3",
   "language": "python",
   "name": "python3"
  },
  "language_info": {
   "codemirror_mode": {
    "name": "ipython",
    "version": 3
   },
   "file_extension": ".py",
   "mimetype": "text/x-python",
   "name": "python",
   "nbconvert_exporter": "python",
   "pygments_lexer": "ipython3",
   "version": "3.8.5"
  }
 },
 "nbformat": 4,
 "nbformat_minor": 4
}
