version https://git-lfs.github.com/spec/v1
oid sha256:0f6879e7d34b801faa895151ea308ecb63ff8fd6f7ec1843705283acd2377f04
size 293
