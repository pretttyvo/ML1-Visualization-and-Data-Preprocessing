version https://git-lfs.github.com/spec/v1
oid sha256:cd8600d4bc3a49d3dbba516d29ae688ddd1608614f3775f49a12788a8fa20e78
size 67021806
