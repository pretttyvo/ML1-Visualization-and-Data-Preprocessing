version https://git-lfs.github.com/spec/v1
oid sha256:2c0314ea85d6546d2cc6a53eee92f0a594466e73ae4e111609288a957f84a204
size 107047616
