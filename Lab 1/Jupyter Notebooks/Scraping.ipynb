{
 "cells": [
  {
   "cell_type": "markdown",
   "metadata": {},
   "source": [
    "## Scraping State Crime Rates"
   ]
  },
  {
   "cell_type": "code",
   "execution_count": 1,
   "metadata": {},
   "outputs": [],
   "source": [
    "# Import libraries\n",
    "\n",
    "import os\n",
    "import pandas as pd\n",
    "from bs4 import BeautifulSoup\n",
    "from splinter import Browser\n",
    "import datetime"
   ]
  },
  {
   "cell_type": "markdown",
   "metadata": {},
   "source": [
    "#### Scrape the data\n",
    "---"
   ]
  },
  {
   "cell_type": "code",
   "execution_count": 7,
   "metadata": {},
   "outputs": [],
   "source": [
    "# launch chrome driver\n",
    "executable_path = {'executable_path': '/Users/prettyvo/Desktop/chromedriver'}\n",
    "browser = Browser('chrome', **executable_path, headless=False)"
   ]
  },
  {
   "cell_type": "code",
   "execution_count": 36,
   "metadata": {},
   "outputs": [],
   "source": [
    "# creating all links for each state\n",
    "states = ['Alaska', 'Alabama', 'Arkansas', 'Arizona', 'California', 'Colorado', 'Connecticut', 'District of Columbia', 'Delaware', 'Florida', 'Georgia', 'Hawaii', 'Iowa', 'Idaho', 'Illinois', 'Indiana', 'Kansas', 'Kentucky', 'Louisiana', 'Massachusetts', 'Maryland', 'Maine', 'Michigan', 'Minnesota', 'Missouri', 'Mississippi', 'Montana', 'Nebraska', 'North Carolina', 'North Dakota', 'New Hampshire', 'New Jersey', 'New Mexico', 'Nevada', 'New York', 'Ohio', 'Oklahoma', 'Oregon', 'Pennsylvania', 'Rhodes Island', 'South Carolina', 'South Dakota', 'Tennessee', 'Texas', 'Utah', 'Virginia', 'Vermont', 'Washington', 'Wisconsin', 'West Virginia', 'Wyoming']\n",
    "scrape_links = []\n",
    "for state in states:\n",
    "    try:\n",
    "        state = state.replace(' ', '-')\n",
    "        link = f'https://www.macrotrends.net/states/{state}/murder-homicide-rate-statistics'\n",
    "    except:\n",
    "        link = f'https://www.macrotrends.net/states/{state}/murder-homicide-rate-statistics'\n",
    "    scrape_links.append(link)"
   ]
  },
  {
   "cell_type": "code",
   "execution_count": 39,
   "metadata": {},
   "outputs": [],
   "source": [
    "# function to scrape the data\n",
    "def scrape(link):\n",
    "    browser.visit(link)\n",
    "    html = browser.html\n",
    "    state_html = BeautifulSoup(html, 'html.parser')\n",
    "    browser.click_link_by_id('dataDownload')"
   ]
  },
  {
   "cell_type": "code",
   "execution_count": 40,
   "metadata": {},
   "outputs": [],
   "source": [
    "run = [scrape(link) for link in scrape_links] # scrape for all csv"
   ]
  },
  {
   "cell_type": "code",
   "execution_count": 42,
   "metadata": {},
   "outputs": [],
   "source": [
    "browser.quit() # close chrome driver"
   ]
  },
  {
   "cell_type": "markdown",
   "metadata": {},
   "source": [
    "#### Merge all the Data\n",
    "---"
   ]
  },
  {
   "cell_type": "code",
   "execution_count": 2,
   "metadata": {},
   "outputs": [],
   "source": [
    "# get all the files\n",
    "state_csv = []\n",
    "for file in os.listdir(\"../Data/state_crime_rate\"):\n",
    "    if file.endswith(\".csv\"):\n",
    "        state_csv.append(file)"
   ]
  },
  {
   "cell_type": "code",
   "execution_count": 30,
   "metadata": {},
   "outputs": [],
   "source": [
    "\n",
    "def clean_data(path):\n",
    "    df = pd.read_csv('../Data/state_crime_rate/' + path, skiprows=15)\n",
    "    col = df.columns.values\n",
    "    df = df.drop(' US', axis=1)\n",
    "    try:\n",
    "        df = df.rename(columns={col[2]:col[3], col[1]:col[2]}).head()\n",
    "        try:\n",
    "            df['year'] = [datetime.datetime.strptime(x, '%m/%d/%y').year for x in df['date']]\n",
    "        except:\n",
    "            df['year'] = [datetime.datetime.strptime(x, '%Y-%m-%d').year for x in df['date']]\n",
    "    except: \n",
    "        pass\n",
    "    return df\n",
    "\n",
    "def merge_df(df1, df2):\n",
    "    try:\n",
    "        df2 = df2.drop([' US', 'date'], axis=1)\n",
    "        df = df1.merge(df2, on ='year', how = 'outer')\n",
    "    except:\n",
    "        df = df2\n",
    "    return df"
   ]
  },
  {
   "cell_type": "code",
   "execution_count": 31,
   "metadata": {},
   "outputs": [],
   "source": [
    "df_main = pd.DataFrame()\n",
    "for csv in state_csv:\n",
    "    df_single = clean_data(csv)\n",
    "    df_main = merge_df(df_main, df_single)"
   ]
  },
  {
   "cell_type": "code",
   "execution_count": 33,
   "metadata": {},
   "outputs": [],
   "source": [
    "df_main.to_csv('../Data/state_crime_rate.csv')"
   ]
  },
  {
   "cell_type": "code",
   "execution_count": null,
   "metadata": {},
   "outputs": [],
   "source": []
  }
 ],
 "metadata": {
  "kernelspec": {
   "display_name": "MSDS ML I",
   "language": "python",
   "name": "ml_i_msds"
  },
  "language_info": {
   "codemirror_mode": {
    "name": "ipython",
    "version": 3
   },
   "file_extension": ".py",
   "mimetype": "text/x-python",
   "name": "python",
   "nbconvert_exporter": "python",
   "pygments_lexer": "ipython3",
   "version": "3.7.7"
  }
 },
 "nbformat": 4,
 "nbformat_minor": 2
}
